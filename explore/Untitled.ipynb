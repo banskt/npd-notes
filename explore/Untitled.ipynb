{
 "cells": [
  {
   "cell_type": "code",
   "execution_count": 1,
   "id": "d23e8441-50e3-4708-a08f-2d1ab617aa62",
   "metadata": {},
   "outputs": [],
   "source": [
    "import numpy as np\n",
    "import pandas as pd\n",
    "\n",
    "import matplotlib.pyplot as plt\n",
    "from pymir import mpl_stylesheet\n",
    "from pymir import mpl_utils\n",
    "\n",
    "mpl_stylesheet.banskt_presentation(splinecolor = 'black', dpi = 120, colors = 'kelly')"
   ]
  },
  {
   "cell_type": "code",
   "execution_count": 2,
   "id": "1b6dc960-4994-46cc-b312-943f053217eb",
   "metadata": {},
   "outputs": [],
   "source": [
    "ntrait = 10\n",
    "ngwas  = 100\n",
    "nsnp   = 10000"
   ]
  },
  {
   "cell_type": "code",
   "execution_count": 3,
   "id": "e9b43336-37e0-4d4e-a231-993150f6be73",
   "metadata": {},
   "outputs": [],
   "source": [
    "def get_sample_indices(ntrait, ngwas):\n",
    "    rs = 0.6 * np.random.rand(ntrait) + 0.2 # random sample from [0.2, 0.8)\n",
    "    z = np.array(np.round((rs / np.sum(rs)) * ngwas), dtype = int)\n",
    "    z[-1] = ngwas - np.sum(z[:-1])\n",
    "    tidx = np.arange(ngwas)\n",
    "    np.random.shuffle(tidx)\n",
    "    bins = np.zeros(ntrait + 1, dtype = int)\n",
    "    bins[1:] = np.cumsum(z)\n",
    "    sdict = {i : np.sort(tidx[bins[i]:bins[i+1]]) for i in range(ntrait)}\n",
    "    return sdict"
   ]
  },
  {
   "cell_type": "code",
   "execution_count": 8,
   "id": "344f6146-0ecf-4f24-b9be-45cc983cd801",
   "metadata": {},
   "outputs": [
    {
     "data": {
      "text/plain": [
       "{0: array([ 0, 11, 19, 21, 22, 32, 33, 38, 41, 42, 64, 75, 77, 80, 83, 92, 97]),\n",
       " 1: array([ 2, 24, 31, 56, 57, 74, 81]),\n",
       " 2: array([ 8, 54, 85, 96]),\n",
       " 3: array([ 5, 15, 25, 35, 50, 52, 65, 73, 90, 95, 98]),\n",
       " 4: array([ 1,  7, 10, 12, 13, 34, 36, 40, 44, 46, 61, 69, 82, 89]),\n",
       " 5: array([ 6, 14, 23, 28, 43, 45, 47, 48, 49, 53, 59, 62, 63, 76, 86, 91, 94]),\n",
       " 6: array([ 3, 29, 37, 70, 71, 72]),\n",
       " 7: array([26, 60, 87, 93, 99]),\n",
       " 8: array([ 4, 17, 18, 20, 27, 30, 39, 51, 78, 79, 88]),\n",
       " 9: array([ 9, 16, 55, 58, 66, 67, 68, 84])}"
      ]
     },
     "execution_count": 8,
     "metadata": {},
     "output_type": "execute_result"
    }
   ],
   "source": [
    "sample_dict = get_sample_indices(ntrait, ngwas)\n",
    "sample_dict"
   ]
  },
  {
   "cell_type": "code",
   "execution_count": null,
   "id": "2fb98a8d-65bd-4eed-9964-5f11ad58a117",
   "metadata": {},
   "outputs": [],
   "source": []
  }
 ],
 "metadata": {
  "kernelspec": {
   "display_name": "Python 3 (ipykernel)",
   "language": "python",
   "name": "python3"
  },
  "language_info": {
   "codemirror_mode": {
    "name": "ipython",
    "version": 3
   },
   "file_extension": ".py",
   "mimetype": "text/x-python",
   "name": "python",
   "nbconvert_exporter": "python",
   "pygments_lexer": "ipython3",
   "version": "3.11.3"
  }
 },
 "nbformat": 4,
 "nbformat_minor": 5
}
