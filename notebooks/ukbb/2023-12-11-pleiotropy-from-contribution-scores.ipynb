{
 "cells": [
  {
   "cell_type": "markdown",
   "id": "d320aaf6-870b-444f-891c-f6d9a45febdd",
   "metadata": {},
   "source": [
    "---\n",
    "title: \"Pan-UKB Pleitropy of Diseases v01\"\n",
    "author: \"Saikat Banerjee\"\n",
    "format:\n",
    "  html: default\n",
    "date: \"2023-12-11\"\n",
    "file-modified: \"2023-12-08\"\n",
    "abstract: \"We look at the pleiotropy of some common diseases from the Pan-UKB data.\"\n",
    "website:\n",
    "  sidebar:\n",
    "    collapse-level: 3\n",
    "    \n",
    "---"
   ]
  },
  {
   "cell_type": "markdown",
   "id": "089505f1-c092-4745-94cf-3f2dbd4fa2cc",
   "metadata": {},
   "source": [
    "# Getting Setup"
   ]
  },
  {
   "cell_type": "code",
   "execution_count": 1,
   "id": "a5623879-20b6-4919-a7bc-e37cf0f70fcb",
   "metadata": {},
   "outputs": [],
   "source": [
    "import numpy as np\n",
    "import pandas as pd\n",
    "import pickle\n",
    "\n",
    "import matplotlib.pyplot as plt\n",
    "from pymir import mpl_stylesheet\n",
    "from pymir import mpl_utils\n",
    "mpl_stylesheet.banskt_presentation(splinecolor = 'black', dpi = 120, colors = 'kelly')\n",
    "from matplotlib.gridspec import GridSpec\n",
    "\n",
    "from nnwmf.optimize import IALM\n",
    "from nnwmf.optimize import FrankWolfe, FrankWolfe_CV\n",
    "from nnwmf.utils import model_errors as merr\n",
    "\n",
    "import sys\n",
    "sys.path.append(\"../utils/\")\n",
    "import simulate as mpy_simulate"
   ]
  },
  {
   "cell_type": "markdown",
   "id": "199dd555-ba12-4ead-a305-59e47a9009dc",
   "metadata": {},
   "source": [
    "# Load data and results"
   ]
  },
  {
   "cell_type": "code",
   "execution_count": 2,
   "id": "3fcf38df-5c48-4969-a37d-43dcad063a88",
   "metadata": {},
   "outputs": [],
   "source": [
    "data_dir = \"/gpfs/commons/home/sbanerjee/work/npd/PanUKB/data\"\n",
    "result_dir = \"/gpfs/commons/home/sbanerjee/work/npd/PanUKB/nnwmf\"\n",
    "zscore_filename = f\"{data_dir}/GWAS_Zscore.tsv\"\n",
    "trait_filename = f\"{data_dir}/trait_manifest_TableS6_no_readme.tsv\"\n",
    "zscore_df = pd.read_csv(zscore_filename, sep = '\\t')\n",
    "trait_df = pd.read_csv(trait_filename, sep = '\\t')\n",
    "\n",
    "# remove extra columns from trait_df\n",
    "\n",
    "colnames = trait_df.columns.tolist()\n",
    "colnames[0] = \"zindex\"\n",
    "trait_df.columns = colnames\n",
    "trait_df_mod = trait_df.drop(labels = ['coding', 'modifier', 'coding_description', 'filename', 'aws_link'], axis=1)\n",
    "trait_df_mod['trait_name'] = trait_df_mod['description']\n",
    "trait_df_mod['trait_name'] = trait_df_mod['trait_name'].fillna(trait_df_mod['phenocode'])"
   ]
  },
  {
   "cell_type": "code",
   "execution_count": 3,
   "id": "873ac85a-4843-4414-8090-4302bf021648",
   "metadata": {},
   "outputs": [
    {
     "name": "stdout",
     "output_type": "stream",
     "text": [
      "We have 2483 samples (phenotypes) and 51399 features (variants)\n",
      "Fraction of Nan entries: 0.000\n"
     ]
    }
   ],
   "source": [
    "X_nan = np.array(zscore_df.loc[:, zscore_df.columns!='rsid']).T\n",
    "X_nan_cent = X_nan - np.nanmean(X_nan, axis = 0, keepdims = True)\n",
    "X_nan_mask = np.isnan(X_nan)\n",
    "X_cent = np.nan_to_num(X_nan_cent, copy = True, nan = 0.0)\n",
    "\n",
    "print (f\"We have {X_cent.shape[0]} samples (phenotypes) and {X_cent.shape[1]} features (variants)\")\n",
    "print (f\"Fraction of Nan entries: {np.sum(X_nan_mask) / np.prod(X_cent.shape):.3f}\")"
   ]
  },
  {
   "cell_type": "code",
   "execution_count": 4,
   "id": "eb76361d-645d-45c8-834e-29d6b74f529c",
   "metadata": {},
   "outputs": [],
   "source": [
    "mf_methods = ['ialm', 'nnm_sparse', 'tsvd']\n",
    "\n",
    "method_prefix = {\n",
    "    'ialm' : 'ialm_maxiter10000_admm',\n",
    "    'nnm_sparse' : 'nnm_sparse_maxiter1000'\n",
    "}\n",
    "\n",
    "method_names = {\n",
    "    'tsvd' : 'Raw Data',\n",
    "    'ialm' : 'RPCA-IALM',\n",
    "    'nnm'  : 'NNM-FW',\n",
    "    'nnm_weighted' : 'NNM-Weighted',\n",
    "    'nnm_sparse' : 'NNM-Sparse-FW',\n",
    "}\n",
    "\n",
    "with open (f\"{result_dir}/{method_prefix['ialm']}_progress.pkl\", 'rb') as handle:\n",
    "    ialm = pickle.load(handle)\n",
    "    \n",
    "with open (f\"{result_dir}/{method_prefix['nnm_sparse']}_progress.pkl\", 'rb') as handle:\n",
    "    nnm_sparse = pickle.load(handle)"
   ]
  },
  {
   "cell_type": "code",
   "execution_count": 5,
   "id": "810495f0-a013-410a-91a2-fe0ade3d87bc",
   "metadata": {},
   "outputs": [],
   "source": [
    "def get_principal_components(X):\n",
    "    X_cent = mpy_simulate.do_standardize(X, scale = False)\n",
    "    X_cent /= np.sqrt(np.prod(X_cent.shape))\n",
    "    U, S, Vt = np.linalg.svd(X_cent, full_matrices = False)\n",
    "    pcomps = U @ np.diag(S)\n",
    "    loadings = Vt.T @ np.diag(S)\n",
    "    return loadings, pcomps, S\n",
    "\n",
    "lowrank_X = dict()\n",
    "loadings  = dict()\n",
    "pcomps    = dict()\n",
    "eigenvals = dict()\n",
    "\n",
    "for m in mf_methods:\n",
    "    if m != 'tsvd':\n",
    "        with open (f\"{result_dir}/{method_prefix[m]}_lowrank_X.pkl\", 'rb') as handle:\n",
    "            lowrank_X[m] = pickle.load(handle)\n",
    "lowrank_X['tsvd'] = X_cent.copy()\n",
    "for m in mf_methods:\n",
    "    loadings[m], pcomps[m], eigenvals[m] = get_principal_components(lowrank_X[m])"
   ]
  },
  {
   "cell_type": "code",
   "execution_count": 6,
   "id": "cfe92aed-d99d-473c-995b-86618d38adeb",
   "metadata": {},
   "outputs": [],
   "source": [
    "def get_cos2_scores(pcomps):\n",
    "    ntrait, npcomp = pcomps.shape\n",
    "    x = np.zeros((ntrait, npcomp))\n",
    "    std_pcomps = pcomps / np.sqrt(np.var(pcomps[:,:], axis = 0))\n",
    "    for i in range(ntrait):\n",
    "        cos2_trait = np.array([np.square(std_pcomps[i, pcidx]) for pcidx in range(npcomp)])\n",
    "        x[i, :] = cos2_trait / np.sum(cos2_trait)\n",
    "    return x\n",
    "\n",
    "def get_contribution_scores(pcomps):\n",
    "    ntrait, npcomp = pcomps.shape\n",
    "    x = np.zeros((ntrait, npcomp))\n",
    "    std_pcomps = pcomps / np.sqrt(np.var(pcomps[:,:], axis = 0)).reshape(1, -1)\n",
    "    for i in range(npcomp):\n",
    "        trait_contr = np.array([np.square(std_pcomps[j, i]) for j in range(ntrait)])\n",
    "        x[:, i] = trait_contr / np.sum(trait_contr)\n",
    "    return x\n",
    "\n",
    "npcomp = 100\n",
    "cos2_scores = dict()\n",
    "for m in mf_methods:\n",
    "    cos2_scores[m] = get_cos2_scores(pcomps[m][:,:npcomp])\n",
    "\n",
    "trait_contributions = dict()\n",
    "for m in mf_methods:\n",
    "    trait_contributions[m] = get_contribution_scores(pcomps[m][:,:npcomp])"
   ]
  },
  {
   "cell_type": "markdown",
   "id": "76abdf16-f893-4b6e-b1f0-f05def79ea4c",
   "metadata": {},
   "source": [
    "# Pleiotropy\n",
    "\n",
    "In the following, we look at the pleiotropy of different diseases reported in the UKB project.\n",
    "Given a phenotype (focal trait), we find the hidden factor with the highest contribution to the focal trait. \n",
    "We then report the other phenotypes which contribute to that hidden factor. \n",
    "\n",
    "*Function* `pan_ukb_pleiotropy(trait_index)`\n",
    "\n",
    "**Input**: \n",
    "  - Index of the focal trait as found in the [manifest file](https://docs.google.com/spreadsheets/d/16OqNQf8cSk2szlmQWYlNOj30NHMjojyf).\n",
    "  - Number of pleiotropic traits to be reported (optional, default 15).\n",
    "\n",
    "**Output**: \n",
    "  - Index of the top hidden factor.\n",
    "  - Contribution of the hidden factor on the focal trait.\n",
    "  - List of pleiotropic traits, and their contributions to the hidden factor.\n",
    "  \n",
    "**Global Variables**: `trait_df_mod`, `mf_methods`, `cos2_scores`, `trait_contributions`, `method_names`"
   ]
  },
  {
   "cell_type": "code",
   "execution_count": 95,
   "id": "95a4e2f1-e5f3-4175-af69-7caeee43c0f6",
   "metadata": {},
   "outputs": [],
   "source": [
    "from IPython.display import Markdown, display\n",
    "from IPython.core.display import HTML\n",
    "\n",
    "import re\n",
    "def titlecase(s):\n",
    "    return re.sub(r\"[A-Za-z]+('[A-Za-z]+)?\", lambda mo: mo.group(0).capitalize(),s)\n",
    "\n",
    "def print_markdown(string, color = None):\n",
    "    colorstr = \"<span style='color:{}'>{}</span>\".format(color, string)\n",
    "    display(Markdown(colorstr))\n",
    "    \n",
    "def print_header(string):\n",
    "    headerstr=f\"<h2>{string}</h2>\"\n",
    "    display(Markdown(headerstr))\n",
    "    \n",
    "def print_table(list1, list2):\n",
    "    #table_css = 'table {align:left;display:block}'\n",
    "    tablestr = \"<table style={float:left; align:left;}>\"\n",
    "    for l1, l2 in zip(list1, list2):\n",
    "        tablestr += f\"<tr><td>{l1:.4f}</td><td>{l2}</td></tr>\"\n",
    "    tablestr +=\"</table>\"\n",
    "    display(Markdown(tablestr))\n",
    "            \n",
    "def pan_ukb_pleiotropy(znum, num_trait = 15):\n",
    "    zindex = znum - 1\n",
    "    focal_trait_name = trait_df_mod.loc[zindex, 'trait_name']\n",
    "    print_header(titlecase(focal_trait_name))\n",
    "    for m in mf_methods:\n",
    "        print_markdown (f\"**{method_names[m]}**\", color = \"#c8635a\")\n",
    "        top_factor = np.argsort(cos2_scores[m][zindex,:])[::-1][0]\n",
    "        print_markdown (f\"Top Factor: {top_factor + 1} (Contribution: {cos2_scores[m][zindex,top_factor]:.4f})\")\n",
    "        top_traits = np.argsort(trait_contributions[m][:,top_factor])[::-1][:num_trait]\n",
    "        trait_names = trait_df_mod.loc[top_traits]['trait_name'].tolist()\n",
    "        print_table(trait_contributions[m][top_traits, top_factor], trait_names)\n",
    "\n",
    "def pan_ukb_pleiotropy_(znum, num_trait = 15):\n",
    "    zindex = znum - 1\n",
    "    focal_trait_name = trait_df_mod.loc[zindex, 'trait_name']\n",
    "    printheader(titlecase(focal_trait_name))\n",
    "    for m in mf_methods:\n",
    "        printmd (f\"**{method_names[m]}**\", color = \"#c8635a\")\n",
    "        top_factor = np.argsort(cos2_scores[m][zindex,:])[::-1][0]\n",
    "        printmd(f\"Top Factor: {top_factor + 1} (Contribution: {cos2_scores[m][zindex,top_factor]:.4f})\")\n",
    "        top_traits = np.argsort(trait_contributions[m][:,top_factor])[::-1][:num_trait]\n",
    "        trait_names = trait_df_mod.loc[top_traits]['trait_name'].tolist()\n",
    "        for i, x in zip(top_traits, trait_names):\n",
    "            print(f\"    {trait_contributions[m][i, top_factor]:.4f}   {x}\")\n",
    "        print(f\"\")"
   ]
  },
  {
   "cell_type": "markdown",
   "id": "333762b7-bf87-4902-b001-2966600a0719",
   "metadata": {},
   "source": [
    "# Common Diseases"
   ]
  },
  {
   "cell_type": "code",
   "execution_count": 96,
   "id": "a9709dc3-9ad2-4324-a45e-e9da1e0cc1f0",
   "metadata": {},
   "outputs": [
    {
     "data": {
      "text/markdown": [
       "<h2>Rheumatoid Arthritis</h2>"
      ],
      "text/plain": [
       "<IPython.core.display.Markdown object>"
      ]
     },
     "metadata": {},
     "output_type": "display_data"
    },
    {
     "data": {
      "text/markdown": [
       "<span style='color:#c8635a'>**RPCA-IALM**</span>"
      ],
      "text/plain": [
       "<IPython.core.display.Markdown object>"
      ]
     },
     "metadata": {},
     "output_type": "display_data"
    },
    {
     "data": {
      "text/markdown": [
       "<span style='color:None'>Top Factor: 47 (Contribution: 0.1697)</span>"
      ],
      "text/plain": [
       "<IPython.core.display.Markdown object>"
      ]
     },
     "metadata": {},
     "output_type": "display_data"
    },
    {
     "data": {
      "text/markdown": [
       "<table style={float:left; align:left;}><tr><td>0.0236</td><td>methotrexate</td></tr><tr><td>0.0236</td><td>anti-metabolite</td></tr><tr><td>0.0167</td><td>folic acid supplement|Food Supplement</td></tr><tr><td>0.0167</td><td>folic acid</td></tr><tr><td>0.0146</td><td>Forced expiratory volume in 1-second (FEV1), Best measure</td></tr><tr><td>0.0141</td><td>Forced expiratory volume in 1-second (FEV1)</td></tr><tr><td>0.0131</td><td>Forced vital capacity (FVC), Best measure</td></tr><tr><td>0.0126</td><td>Forced vital capacity (FVC)</td></tr><tr><td>0.0113</td><td>anti-inflammatory</td></tr><tr><td>0.0113</td><td>sulfasalazine</td></tr><tr><td>0.0104</td><td>Rheumatoid arthritis</td></tr><tr><td>0.0097</td><td>Neutrophill percentage</td></tr><tr><td>0.0097</td><td>Rheumatoid arthritis and other inflammatory polyarthropathies</td></tr><tr><td>0.0095</td><td>Corneal resistance factor (left)</td></tr><tr><td>0.0093</td><td>Corneal resistance factor (right)</td></tr></table>"
      ],
      "text/plain": [
       "<IPython.core.display.Markdown object>"
      ]
     },
     "metadata": {},
     "output_type": "display_data"
    },
    {
     "data": {
      "text/markdown": [
       "<span style='color:#c8635a'>**NNM-Sparse-FW**</span>"
      ],
      "text/plain": [
       "<IPython.core.display.Markdown object>"
      ]
     },
     "metadata": {},
     "output_type": "display_data"
    },
    {
     "data": {
      "text/markdown": [
       "<span style='color:None'>Top Factor: 88 (Contribution: 0.0664)</span>"
      ],
      "text/plain": [
       "<IPython.core.display.Markdown object>"
      ]
     },
     "metadata": {},
     "output_type": "display_data"
    },
    {
     "data": {
      "text/markdown": [
       "<table style={float:left; align:left;}><tr><td>0.0319</td><td>Whole body fat-free mass</td></tr><tr><td>0.0251</td><td>Leg fat percentage (right)</td></tr><tr><td>0.0194</td><td>Hand grip strength (left)</td></tr><tr><td>0.0120</td><td>Leg predicted mass (right)</td></tr><tr><td>0.0118</td><td>Forced vital capacity (FVC), Best measure</td></tr><tr><td>0.0110</td><td>codine/paracetamol</td></tr><tr><td>0.0103</td><td>Arm fat-free mass (right)</td></tr><tr><td>0.0099</td><td>Mean arterial pressure, automated reading</td></tr><tr><td>0.0096</td><td>Trunk fat-free mass</td></tr><tr><td>0.0096</td><td>Peak expiratory flow (PEF)</td></tr><tr><td>0.0092</td><td>Trunk predicted mass</td></tr><tr><td>0.0090</td><td>Basal metabolic rate</td></tr><tr><td>0.0089</td><td>Diastolic blood pressure, combined automated + manual reading, adjusted by medication</td></tr><tr><td>0.0071</td><td>Arm fat mass (left)</td></tr><tr><td>0.0069</td><td>Age completed full time education</td></tr></table>"
      ],
      "text/plain": [
       "<IPython.core.display.Markdown object>"
      ]
     },
     "metadata": {},
     "output_type": "display_data"
    },
    {
     "data": {
      "text/markdown": [
       "<span style='color:#c8635a'>**Raw Data**</span>"
      ],
      "text/plain": [
       "<IPython.core.display.Markdown object>"
      ]
     },
     "metadata": {},
     "output_type": "display_data"
    },
    {
     "data": {
      "text/markdown": [
       "<span style='color:None'>Top Factor: 73 (Contribution: 0.1319)</span>"
      ],
      "text/plain": [
       "<IPython.core.display.Markdown object>"
      ]
     },
     "metadata": {},
     "output_type": "display_data"
    },
    {
     "data": {
      "text/markdown": [
       "<table style={float:left; align:left;}><tr><td>0.0213</td><td>I35 Nonrheumatic aortic valve disorders</td></tr><tr><td>0.0211</td><td>Nonrheumatic aortic valve disorders</td></tr><tr><td>0.0173</td><td>Congenital anomalies of great vessels</td></tr><tr><td>0.0157</td><td>Cardiac congenital anomalies</td></tr><tr><td>0.0147</td><td>Cardiac and circulatory congenital anomalies</td></tr><tr><td>0.0137</td><td>Albumin</td></tr><tr><td>0.0128</td><td>anti-metabolite</td></tr><tr><td>0.0128</td><td>methotrexate</td></tr><tr><td>0.0126</td><td>Heart valve disorders</td></tr><tr><td>0.0094</td><td>Aortic valve disease</td></tr><tr><td>0.0093</td><td>Rheumatoid arthritis</td></tr><tr><td>0.0090</td><td>Rheumatoid arthritis and other inflammatory polyarthropathies</td></tr><tr><td>0.0080</td><td>Osteoporosis</td></tr><tr><td>0.0080</td><td>Osteoporosis NOS</td></tr><tr><td>0.0080</td><td>Treatment/medication code</td></tr></table>"
      ],
      "text/plain": [
       "<IPython.core.display.Markdown object>"
      ]
     },
     "metadata": {},
     "output_type": "display_data"
    }
   ],
   "source": [
    "pan_ukb_pleiotropy(930)"
   ]
  },
  {
   "cell_type": "code",
   "execution_count": 97,
   "id": "982ed7f2-d32b-49f5-bfb4-6b7438a21131",
   "metadata": {},
   "outputs": [
    {
     "data": {
      "text/markdown": [
       "<h2>Cancer Of Prostate</h2>"
      ],
      "text/plain": [
       "<IPython.core.display.Markdown object>"
      ]
     },
     "metadata": {},
     "output_type": "display_data"
    },
    {
     "data": {
      "text/markdown": [
       "<span style='color:#c8635a'>**RPCA-IALM**</span>"
      ],
      "text/plain": [
       "<IPython.core.display.Markdown object>"
      ]
     },
     "metadata": {},
     "output_type": "display_data"
    },
    {
     "data": {
      "text/markdown": [
       "<span style='color:None'>Top Factor: 78 (Contribution: 0.0875)</span>"
      ],
      "text/plain": [
       "<IPython.core.display.Markdown object>"
      ]
     },
     "metadata": {},
     "output_type": "display_data"
    },
    {
     "data": {
      "text/markdown": [
       "<table style={float:left; align:left;}><tr><td>0.0272</td><td>Contracture of palmar fascia [Dupuytren's disease]</td></tr><tr><td>0.0262</td><td>Disorders of muscle, ligament, and fascia</td></tr><tr><td>0.0243</td><td>Fasciitis</td></tr><tr><td>0.0186</td><td>Malignant neoplasm of bladder</td></tr><tr><td>0.0182</td><td>C67 Malignant neoplasm of bladder</td></tr><tr><td>0.0157</td><td>Cancer of bladder</td></tr><tr><td>0.0156</td><td>M72 Fibroblastic disorders</td></tr><tr><td>0.0131</td><td>K76 Other diseases of liver</td></tr><tr><td>0.0130</td><td>Other disorders of liver</td></tr><tr><td>0.0127</td><td>Sebaceous cyst</td></tr><tr><td>0.0125</td><td>Diseases of sebaceous glands</td></tr><tr><td>0.0114</td><td>Prostatitis</td></tr><tr><td>0.0112</td><td>Chronic liver disease and cirrhosis</td></tr><tr><td>0.0110</td><td>L72 Follicular cysts of skin and subcutaneous tissue</td></tr><tr><td>0.0107</td><td>Cancer of urinary organs (incl. kidney and bladder)</td></tr></table>"
      ],
      "text/plain": [
       "<IPython.core.display.Markdown object>"
      ]
     },
     "metadata": {},
     "output_type": "display_data"
    },
    {
     "data": {
      "text/markdown": [
       "<span style='color:#c8635a'>**NNM-Sparse-FW**</span>"
      ],
      "text/plain": [
       "<IPython.core.display.Markdown object>"
      ]
     },
     "metadata": {},
     "output_type": "display_data"
    },
    {
     "data": {
      "text/markdown": [
       "<span style='color:None'>Top Factor: 48 (Contribution: 0.0815)</span>"
      ],
      "text/plain": [
       "<IPython.core.display.Markdown object>"
      ]
     },
     "metadata": {},
     "output_type": "display_data"
    },
    {
     "data": {
      "text/markdown": [
       "<table style={float:left; align:left;}><tr><td>0.0247</td><td>Weight</td></tr><tr><td>0.0190</td><td>Whole body water mass</td></tr><tr><td>0.0134</td><td>Trunk fat mass</td></tr><tr><td>0.0132</td><td>Age at first live birth</td></tr><tr><td>0.0128</td><td>Weight</td></tr><tr><td>0.0123</td><td>Arm fat-free mass (left)</td></tr><tr><td>0.0119</td><td>Overweight, obesity and other hyperalimentation</td></tr><tr><td>0.0112</td><td>Body mass index (BMI)</td></tr><tr><td>0.0108</td><td>Leg fat percentage (right)</td></tr><tr><td>0.0089</td><td>Hip circumference</td></tr><tr><td>0.0088</td><td>Leg fat-free mass (right)</td></tr><tr><td>0.0081</td><td>Trunk predicted mass</td></tr><tr><td>0.0064</td><td>aspirin</td></tr><tr><td>0.0064</td><td>Leg fat-free mass (left)</td></tr><tr><td>0.0063</td><td>sodium alginate / potassium bicarbonate</td></tr></table>"
      ],
      "text/plain": [
       "<IPython.core.display.Markdown object>"
      ]
     },
     "metadata": {},
     "output_type": "display_data"
    },
    {
     "data": {
      "text/markdown": [
       "<span style='color:#c8635a'>**Raw Data**</span>"
      ],
      "text/plain": [
       "<IPython.core.display.Markdown object>"
      ]
     },
     "metadata": {},
     "output_type": "display_data"
    },
    {
     "data": {
      "text/markdown": [
       "<span style='color:None'>Top Factor: 54 (Contribution: 0.0663)</span>"
      ],
      "text/plain": [
       "<IPython.core.display.Markdown object>"
      ]
     },
     "metadata": {},
     "output_type": "display_data"
    },
    {
     "data": {
      "text/markdown": [
       "<table style={float:left; align:left;}><tr><td>0.0277</td><td>Albumin</td></tr><tr><td>0.0221</td><td>IGF-1</td></tr><tr><td>0.0168</td><td>Calcium</td></tr><tr><td>0.0163</td><td>Alkaline phosphatase</td></tr><tr><td>0.0114</td><td>Corneal resistance factor (left)</td></tr><tr><td>0.0106</td><td>Corneal resistance factor (right)</td></tr><tr><td>0.0098</td><td>Total protein</td></tr><tr><td>0.0089</td><td>Corneal hysteresis (left)</td></tr><tr><td>0.0079</td><td>Corneal hysteresis (right)</td></tr><tr><td>0.0065</td><td>Phosphate</td></tr><tr><td>0.0065</td><td>Home location - east co-ordinate (rounded)</td></tr><tr><td>0.0063</td><td>Urate</td></tr><tr><td>0.0062</td><td>Home location at assessment - east co-ordinate (rounded)</td></tr><tr><td>0.0060</td><td>Other disorders of bladder</td></tr><tr><td>0.0056</td><td>Albumin/Globulin ratio</td></tr></table>"
      ],
      "text/plain": [
       "<IPython.core.display.Markdown object>"
      ]
     },
     "metadata": {},
     "output_type": "display_data"
    }
   ],
   "source": [
    "pan_ukb_pleiotropy(420)"
   ]
  },
  {
   "cell_type": "code",
   "execution_count": 98,
   "id": "b257a0c8-c154-4592-a809-ee148e8b913f",
   "metadata": {},
   "outputs": [
    {
     "data": {
      "text/markdown": [
       "<h2>Breast Cancer</h2>"
      ],
      "text/plain": [
       "<IPython.core.display.Markdown object>"
      ]
     },
     "metadata": {},
     "output_type": "display_data"
    },
    {
     "data": {
      "text/markdown": [
       "<span style='color:#c8635a'>**RPCA-IALM**</span>"
      ],
      "text/plain": [
       "<IPython.core.display.Markdown object>"
      ]
     },
     "metadata": {},
     "output_type": "display_data"
    },
    {
     "data": {
      "text/markdown": [
       "<span style='color:None'>Top Factor: 25 (Contribution: 0.1298)</span>"
      ],
      "text/plain": [
       "<IPython.core.display.Markdown object>"
      ]
     },
     "metadata": {},
     "output_type": "display_data"
    },
    {
     "data": {
      "text/markdown": [
       "<table style={float:left; align:left;}><tr><td>0.0221</td><td>Breast cancer [female]</td></tr><tr><td>0.0215</td><td>Breast cancer</td></tr><tr><td>0.0210</td><td>Malignant neoplasm of female breast</td></tr><tr><td>0.0200</td><td>C50 Malignant neoplasm of breast</td></tr><tr><td>0.0167</td><td>Arthropathy NOS</td></tr><tr><td>0.0167</td><td>Other arthropathies</td></tr><tr><td>0.0129</td><td>M17 Gonarthrosis [arthrosis of knee]</td></tr><tr><td>0.0110</td><td>Osteoarthrosis</td></tr><tr><td>0.0108</td><td>Unspecified monoarthritis</td></tr><tr><td>0.0098</td><td>Diseases of esophagus</td></tr><tr><td>0.0095</td><td>Diaphragmatic hernia</td></tr><tr><td>0.0093</td><td>Osteoarthritis; localized</td></tr><tr><td>0.0091</td><td>K44 Diaphragmatic hernia</td></tr><tr><td>0.0090</td><td>Esophagitis, GERD and related diseases</td></tr><tr><td>0.0088</td><td>Malignant neoplasm, other</td></tr></table>"
      ],
      "text/plain": [
       "<IPython.core.display.Markdown object>"
      ]
     },
     "metadata": {},
     "output_type": "display_data"
    },
    {
     "data": {
      "text/markdown": [
       "<span style='color:#c8635a'>**NNM-Sparse-FW**</span>"
      ],
      "text/plain": [
       "<IPython.core.display.Markdown object>"
      ]
     },
     "metadata": {},
     "output_type": "display_data"
    },
    {
     "data": {
      "text/markdown": [
       "<span style='color:None'>Top Factor: 66 (Contribution: 0.0840)</span>"
      ],
      "text/plain": [
       "<IPython.core.display.Markdown object>"
      ]
     },
     "metadata": {},
     "output_type": "display_data"
    },
    {
     "data": {
      "text/markdown": [
       "<table style={float:left; align:left;}><tr><td>0.0300</td><td>Leg fat-free mass (right)</td></tr><tr><td>0.0273</td><td>Whole body fat-free mass</td></tr><tr><td>0.0264</td><td>Sitting height</td></tr><tr><td>0.0208</td><td>Arm fat-free mass (left)</td></tr><tr><td>0.0128</td><td>Impedance of leg (left)</td></tr><tr><td>0.0128</td><td>Body mass index (BMI)</td></tr><tr><td>0.0120</td><td>Arm predicted mass (right)</td></tr><tr><td>0.0109</td><td>Whole body water mass</td></tr><tr><td>0.0098</td><td>Type 2 diabetes</td></tr><tr><td>0.0097</td><td>Waist circumference</td></tr><tr><td>0.0097</td><td>Arm predicted mass (left)</td></tr><tr><td>0.0085</td><td>Arm fat-free mass (right)</td></tr><tr><td>0.0081</td><td>E66 Obesity</td></tr><tr><td>0.0078</td><td>Impedance of leg (right)</td></tr><tr><td>0.0074</td><td>lansoprazole</td></tr></table>"
      ],
      "text/plain": [
       "<IPython.core.display.Markdown object>"
      ]
     },
     "metadata": {},
     "output_type": "display_data"
    },
    {
     "data": {
      "text/markdown": [
       "<span style='color:#c8635a'>**Raw Data**</span>"
      ],
      "text/plain": [
       "<IPython.core.display.Markdown object>"
      ]
     },
     "metadata": {},
     "output_type": "display_data"
    },
    {
     "data": {
      "text/markdown": [
       "<span style='color:None'>Top Factor: 48 (Contribution: 0.0812)</span>"
      ],
      "text/plain": [
       "<IPython.core.display.Markdown object>"
      ]
     },
     "metadata": {},
     "output_type": "display_data"
    },
    {
     "data": {
      "text/markdown": [
       "<table style={float:left; align:left;}><tr><td>0.0133</td><td>Urate</td></tr><tr><td>0.0109</td><td>Past tobacco smoking</td></tr><tr><td>0.0108</td><td>Breast cancer</td></tr><tr><td>0.0108</td><td>Breast cancer [female]</td></tr><tr><td>0.0101</td><td>Malignant neoplasm of female breast</td></tr><tr><td>0.0099</td><td>C50 Malignant neoplasm of breast</td></tr><tr><td>0.0099</td><td>Smoking status, ever vs never</td></tr><tr><td>0.0090</td><td>Age first had sexual intercourse</td></tr><tr><td>0.0086</td><td>Alkaline phosphatase</td></tr><tr><td>0.0075</td><td>Diseases of esophagus</td></tr><tr><td>0.0072</td><td>Gamma glutamyltransferase</td></tr><tr><td>0.0071</td><td>Aspartate aminotransferase</td></tr><tr><td>0.0070</td><td>Esophagitis, GERD and related diseases</td></tr><tr><td>0.0067</td><td>Duration to first press of snap-button in each round</td></tr><tr><td>0.0062</td><td>Estimated glomerular filtration rate, serum creatinine + cystain C</td></tr></table>"
      ],
      "text/plain": [
       "<IPython.core.display.Markdown object>"
      ]
     },
     "metadata": {},
     "output_type": "display_data"
    }
   ],
   "source": [
    "pan_ukb_pleiotropy(410)"
   ]
  },
  {
   "cell_type": "code",
   "execution_count": 99,
   "id": "b6cb0ec0-5779-4a5d-a1f1-e9cca4001b16",
   "metadata": {},
   "outputs": [
    {
     "data": {
      "text/markdown": [
       "<h2>Diabetes Mellitus</h2>"
      ],
      "text/plain": [
       "<IPython.core.display.Markdown object>"
      ]
     },
     "metadata": {},
     "output_type": "display_data"
    },
    {
     "data": {
      "text/markdown": [
       "<span style='color:#c8635a'>**RPCA-IALM**</span>"
      ],
      "text/plain": [
       "<IPython.core.display.Markdown object>"
      ]
     },
     "metadata": {},
     "output_type": "display_data"
    },
    {
     "data": {
      "text/markdown": [
       "<span style='color:None'>Top Factor: 19 (Contribution: 0.1403)</span>"
      ],
      "text/plain": [
       "<IPython.core.display.Markdown object>"
      ]
     },
     "metadata": {},
     "output_type": "display_data"
    },
    {
     "data": {
      "text/markdown": [
       "<table style={float:left; align:left;}><tr><td>0.0364</td><td>Red blood cell (erythrocyte) count</td></tr><tr><td>0.0189</td><td>Glycated haemoglobin (HbA1c)</td></tr><tr><td>0.0178</td><td>Mean corpuscular volume</td></tr><tr><td>0.0159</td><td>Lymphocyte count</td></tr><tr><td>0.0150</td><td>Mean sphered cell volume</td></tr><tr><td>0.0146</td><td>Haemoglobin concentration</td></tr><tr><td>0.0137</td><td>Platelet count</td></tr><tr><td>0.0136</td><td>Haematocrit percentage</td></tr><tr><td>0.0132</td><td>Mean corpuscular haemoglobin</td></tr><tr><td>0.0128</td><td>Type 2 diabetes</td></tr><tr><td>0.0127</td><td>Non-albumin protein</td></tr><tr><td>0.0124</td><td>E11 Non-insulin-dependent diabetes mellitus</td></tr><tr><td>0.0119</td><td>Diabetes mellitus</td></tr><tr><td>0.0108</td><td>Platelet crit</td></tr><tr><td>0.0106</td><td>Neutrophill percentage</td></tr></table>"
      ],
      "text/plain": [
       "<IPython.core.display.Markdown object>"
      ]
     },
     "metadata": {},
     "output_type": "display_data"
    },
    {
     "data": {
      "text/markdown": [
       "<span style='color:#c8635a'>**NNM-Sparse-FW**</span>"
      ],
      "text/plain": [
       "<IPython.core.display.Markdown object>"
      ]
     },
     "metadata": {},
     "output_type": "display_data"
    },
    {
     "data": {
      "text/markdown": [
       "<span style='color:None'>Top Factor: 57 (Contribution: 0.0559)</span>"
      ],
      "text/plain": [
       "<IPython.core.display.Markdown object>"
      ]
     },
     "metadata": {},
     "output_type": "display_data"
    },
    {
     "data": {
      "text/markdown": [
       "<table style={float:left; align:left;}><tr><td>0.0178</td><td>Arm fat-free mass (left)</td></tr><tr><td>0.0162</td><td>Trunk fat mass</td></tr><tr><td>0.0144</td><td>Body mass index (BMI)</td></tr><tr><td>0.0140</td><td>codine/paracetamol</td></tr><tr><td>0.0135</td><td>Type 2 diabetes</td></tr><tr><td>0.0131</td><td>Comparative height size at age 10</td></tr><tr><td>0.0107</td><td>tetracycline antibiotic|antibiotic</td></tr><tr><td>0.0095</td><td>Impedance of arm (right)</td></tr><tr><td>0.0092</td><td>Hip circumference</td></tr><tr><td>0.0092</td><td>Diabetes mellitus</td></tr><tr><td>0.0089</td><td>Forced expiratory volume in 1-second (FEV1), Best measure</td></tr><tr><td>0.0082</td><td>ACE inhibitor|anti-hypertensive</td></tr><tr><td>0.0077</td><td>Trunk fat-free mass</td></tr><tr><td>0.0069</td><td>trimethoprim</td></tr><tr><td>0.0069</td><td>Weight</td></tr></table>"
      ],
      "text/plain": [
       "<IPython.core.display.Markdown object>"
      ]
     },
     "metadata": {},
     "output_type": "display_data"
    },
    {
     "data": {
      "text/markdown": [
       "<span style='color:#c8635a'>**Raw Data**</span>"
      ],
      "text/plain": [
       "<IPython.core.display.Markdown object>"
      ]
     },
     "metadata": {},
     "output_type": "display_data"
    },
    {
     "data": {
      "text/markdown": [
       "<span style='color:None'>Top Factor: 26 (Contribution: 0.1503)</span>"
      ],
      "text/plain": [
       "<IPython.core.display.Markdown object>"
      ]
     },
     "metadata": {},
     "output_type": "display_data"
    },
    {
     "data": {
      "text/markdown": [
       "<table style={float:left; align:left;}><tr><td>0.1042</td><td>HDL cholesterol</td></tr><tr><td>0.0898</td><td>Apolipoprotein A</td></tr><tr><td>0.0473</td><td>Glycated haemoglobin (HbA1c)</td></tr><tr><td>0.0273</td><td>Albumin/Globulin ratio</td></tr><tr><td>0.0231</td><td>Non-albumin protein</td></tr><tr><td>0.0208</td><td>Platelet crit</td></tr><tr><td>0.0192</td><td>Neutrophill percentage</td></tr><tr><td>0.0175</td><td>Neutrophill count</td></tr><tr><td>0.0154</td><td>Lymphocyte percentage</td></tr><tr><td>0.0138</td><td>IGF-1</td></tr><tr><td>0.0131</td><td>Gamma glutamyltransferase</td></tr><tr><td>0.0112</td><td>Type 2 diabetes</td></tr><tr><td>0.0111</td><td>Diabetes mellitus</td></tr><tr><td>0.0111</td><td>E11 Non-insulin-dependent diabetes mellitus</td></tr><tr><td>0.0109</td><td>Mean platelet (thrombocyte) volume</td></tr></table>"
      ],
      "text/plain": [
       "<IPython.core.display.Markdown object>"
      ]
     },
     "metadata": {},
     "output_type": "display_data"
    }
   ],
   "source": [
    "pan_ukb_pleiotropy(458)"
   ]
  },
  {
   "cell_type": "code",
   "execution_count": 100,
   "id": "8d6febf7-c709-4bef-a74d-39aa26a7e435",
   "metadata": {},
   "outputs": [
    {
     "data": {
      "text/markdown": [
       "<h2>Parkinson's Disease</h2>"
      ],
      "text/plain": [
       "<IPython.core.display.Markdown object>"
      ]
     },
     "metadata": {},
     "output_type": "display_data"
    },
    {
     "data": {
      "text/markdown": [
       "<span style='color:#c8635a'>**RPCA-IALM**</span>"
      ],
      "text/plain": [
       "<IPython.core.display.Markdown object>"
      ]
     },
     "metadata": {},
     "output_type": "display_data"
    },
    {
     "data": {
      "text/markdown": [
       "<span style='color:None'>Top Factor: 97 (Contribution: 0.0888)</span>"
      ],
      "text/plain": [
       "<IPython.core.display.Markdown object>"
      ]
     },
     "metadata": {},
     "output_type": "display_data"
    },
    {
     "data": {
      "text/markdown": [
       "<table style={float:left; align:left;}><tr><td>0.0441</td><td>Psoriasis</td></tr><tr><td>0.0425</td><td>L40 Psoriasis</td></tr><tr><td>0.0403</td><td>Psoriasis and related disorders</td></tr><tr><td>0.0187</td><td>Cardiac arrest</td></tr><tr><td>0.0184</td><td>Cardiac arrest and ventricular fibrillation</td></tr><tr><td>0.0181</td><td>I46 Cardiac arrest</td></tr><tr><td>0.0117</td><td>K90 Intestinal malabsorption</td></tr><tr><td>0.0114</td><td>Intestinal malabsorption (non-celiac)</td></tr><tr><td>0.0109</td><td>Obesity</td></tr><tr><td>0.0108</td><td>E66 Obesity</td></tr><tr><td>0.0097</td><td>Overweight, obesity and other hyperalimentation</td></tr><tr><td>0.0095</td><td>Aortic aneurysm</td></tr><tr><td>0.0094</td><td>I71 Aortic aneurysm and dissection</td></tr><tr><td>0.0090</td><td>Celiac disease</td></tr><tr><td>0.0085</td><td>Noninflammatory disorders of ovary, fallopian tube, and broad ligament</td></tr></table>"
      ],
      "text/plain": [
       "<IPython.core.display.Markdown object>"
      ]
     },
     "metadata": {},
     "output_type": "display_data"
    },
    {
     "data": {
      "text/markdown": [
       "<span style='color:#c8635a'>**NNM-Sparse-FW**</span>"
      ],
      "text/plain": [
       "<IPython.core.display.Markdown object>"
      ]
     },
     "metadata": {},
     "output_type": "display_data"
    },
    {
     "data": {
      "text/markdown": [
       "<span style='color:None'>Top Factor: 70 (Contribution: 0.0852)</span>"
      ],
      "text/plain": [
       "<IPython.core.display.Markdown object>"
      ]
     },
     "metadata": {},
     "output_type": "display_data"
    },
    {
     "data": {
      "text/markdown": [
       "<table style={float:left; align:left;}><tr><td>0.0262</td><td>Trunk fat percentage</td></tr><tr><td>0.0240</td><td>Whole body fat-free mass</td></tr><tr><td>0.0207</td><td>Leg predicted mass (left)</td></tr><tr><td>0.0201</td><td>Arm fat-free mass (left)</td></tr><tr><td>0.0172</td><td>Leg fat percentage (left)</td></tr><tr><td>0.0147</td><td>Leg fat mass (right)</td></tr><tr><td>0.0105</td><td>Leg fat mass (left)</td></tr><tr><td>0.0083</td><td>NSAID|non-steroidal anti-inflammatory drug</td></tr><tr><td>0.0079</td><td>Usual walking pace</td></tr><tr><td>0.0078</td><td>proton pump inhibitor|PPI</td></tr><tr><td>0.0073</td><td>Impedance of leg (left)</td></tr><tr><td>0.0071</td><td>Estimated glomerular filtration rate, serum creatinine + cystain C</td></tr><tr><td>0.0065</td><td>Arm fat mass (right)</td></tr><tr><td>0.0061</td><td>Diastolic blood pressure, combined automated + manual reading, adjusted by medication</td></tr><tr><td>0.0059</td><td>codine/paracetamol</td></tr></table>"
      ],
      "text/plain": [
       "<IPython.core.display.Markdown object>"
      ]
     },
     "metadata": {},
     "output_type": "display_data"
    },
    {
     "data": {
      "text/markdown": [
       "<span style='color:#c8635a'>**Raw Data**</span>"
      ],
      "text/plain": [
       "<IPython.core.display.Markdown object>"
      ]
     },
     "metadata": {},
     "output_type": "display_data"
    },
    {
     "data": {
      "text/markdown": [
       "<span style='color:None'>Top Factor: 92 (Contribution: 0.1208)</span>"
      ],
      "text/plain": [
       "<IPython.core.display.Markdown object>"
      ]
     },
     "metadata": {},
     "output_type": "display_data"
    },
    {
     "data": {
      "text/markdown": [
       "<table style={float:left; align:left;}><tr><td>0.0149</td><td>Urinary calculus</td></tr><tr><td>0.0149</td><td>N20 Calculus of kidney and ureter</td></tr><tr><td>0.0147</td><td>Maximum heart rate during fitness test</td></tr><tr><td>0.0146</td><td>ECG, load</td></tr><tr><td>0.0146</td><td>Maximum workload during fitness test</td></tr><tr><td>0.0139</td><td>Pulse rate, automated reading</td></tr><tr><td>0.0138</td><td>ECG, heart rate</td></tr><tr><td>0.0130</td><td>ECG, number of stages in a phase</td></tr><tr><td>0.0126</td><td>Number of trend entries</td></tr><tr><td>0.0117</td><td>ECG, phase time</td></tr><tr><td>0.0110</td><td>Calculus of ureter</td></tr><tr><td>0.0102</td><td>Processed meat intake</td></tr><tr><td>0.0101</td><td>Calculus of kidney</td></tr><tr><td>0.0088</td><td>Beef intake</td></tr><tr><td>0.0080</td><td>Lamb/mutton intake</td></tr></table>"
      ],
      "text/plain": [
       "<IPython.core.display.Markdown object>"
      ]
     },
     "metadata": {},
     "output_type": "display_data"
    }
   ],
   "source": [
    "pan_ukb_pleiotropy(529)"
   ]
  },
  {
   "cell_type": "code",
   "execution_count": 101,
   "id": "d448099f-1118-41b3-85b2-05f5091a2c98",
   "metadata": {},
   "outputs": [
    {
     "data": {
      "text/markdown": [
       "<h2>Dementias</h2>"
      ],
      "text/plain": [
       "<IPython.core.display.Markdown object>"
      ]
     },
     "metadata": {},
     "output_type": "display_data"
    },
    {
     "data": {
      "text/markdown": [
       "<span style='color:#c8635a'>**RPCA-IALM**</span>"
      ],
      "text/plain": [
       "<IPython.core.display.Markdown object>"
      ]
     },
     "metadata": {},
     "output_type": "display_data"
    },
    {
     "data": {
      "text/markdown": [
       "<span style='color:None'>Top Factor: 99 (Contribution: 0.1643)</span>"
      ],
      "text/plain": [
       "<IPython.core.display.Markdown object>"
      ]
     },
     "metadata": {},
     "output_type": "display_data"
    },
    {
     "data": {
      "text/markdown": [
       "<table style={float:left; align:left;}><tr><td>0.0148</td><td>Cardiac arrest</td></tr><tr><td>0.0146</td><td>Cardiac arrest and ventricular fibrillation</td></tr><tr><td>0.0144</td><td>I46 Cardiac arrest</td></tr><tr><td>0.0130</td><td>Other disorders of pancreatic internal secretion</td></tr><tr><td>0.0125</td><td>Hypoglycemia</td></tr><tr><td>0.0122</td><td>E16 Other disorders of pancreatic internal secretion</td></tr><tr><td>0.0112</td><td>Obesity</td></tr><tr><td>0.0111</td><td>E66 Obesity</td></tr><tr><td>0.0104</td><td>E21 Hyperparathyroidism and other disorders of parathyroid gland</td></tr><tr><td>0.0104</td><td>G47 Sleep disorders</td></tr><tr><td>0.0103</td><td>Hyperparathyroidism</td></tr><tr><td>0.0101</td><td>Sleep disorders</td></tr><tr><td>0.0101</td><td>Overweight, obesity and other hyperalimentation</td></tr><tr><td>0.0090</td><td>Varicose veins of lower extremity</td></tr><tr><td>0.0088</td><td>Disorders of parathyroid gland</td></tr></table>"
      ],
      "text/plain": [
       "<IPython.core.display.Markdown object>"
      ]
     },
     "metadata": {},
     "output_type": "display_data"
    },
    {
     "data": {
      "text/markdown": [
       "<span style='color:#c8635a'>**NNM-Sparse-FW**</span>"
      ],
      "text/plain": [
       "<IPython.core.display.Markdown object>"
      ]
     },
     "metadata": {},
     "output_type": "display_data"
    },
    {
     "data": {
      "text/markdown": [
       "<span style='color:None'>Top Factor: 74 (Contribution: 0.0601)</span>"
      ],
      "text/plain": [
       "<IPython.core.display.Markdown object>"
      ]
     },
     "metadata": {},
     "output_type": "display_data"
    },
    {
     "data": {
      "text/markdown": [
       "<table style={float:left; align:left;}><tr><td>0.0203</td><td>Number of self-reported non-cancer illnesses</td></tr><tr><td>0.0169</td><td>Leg predicted mass (left)</td></tr><tr><td>0.0162</td><td>Waist circumference</td></tr><tr><td>0.0160</td><td>Hip circumference</td></tr><tr><td>0.0139</td><td>Mean arterial pressure, combined automated + manual reading</td></tr><tr><td>0.0136</td><td>Arm fat mass (left)</td></tr><tr><td>0.0130</td><td>Diastolic blood pressure, combined automated + manual reading</td></tr><tr><td>0.0129</td><td>NSAID|non-steroidal anti-inflammatory drug</td></tr><tr><td>0.0129</td><td>Arm fat-free mass (left)</td></tr><tr><td>0.0128</td><td>Systolic blood pressure, combined automated + manual reading, adjusted by medication</td></tr><tr><td>0.0128</td><td>Impedance of arm (left)</td></tr><tr><td>0.0109</td><td>Essential hypertension</td></tr><tr><td>0.0106</td><td>Body mass index (BMI)</td></tr><tr><td>0.0098</td><td>Diastolic blood pressure, combined automated + manual reading, adjusted by medication</td></tr><tr><td>0.0092</td><td>Peak expiratory flow (PEF)</td></tr></table>"
      ],
      "text/plain": [
       "<IPython.core.display.Markdown object>"
      ]
     },
     "metadata": {},
     "output_type": "display_data"
    },
    {
     "data": {
      "text/markdown": [
       "<span style='color:#c8635a'>**Raw Data**</span>"
      ],
      "text/plain": [
       "<IPython.core.display.Markdown object>"
      ]
     },
     "metadata": {},
     "output_type": "display_data"
    },
    {
     "data": {
      "text/markdown": [
       "<span style='color:None'>Top Factor: 61 (Contribution: 0.0862)</span>"
      ],
      "text/plain": [
       "<IPython.core.display.Markdown object>"
      ]
     },
     "metadata": {},
     "output_type": "display_data"
    },
    {
     "data": {
      "text/markdown": [
       "<table style={float:left; align:left;}><tr><td>0.0324</td><td>Heel bone mineral density (BMD)</td></tr><tr><td>0.0322</td><td>Heel bone mineral density (BMD) T-score, automated</td></tr><tr><td>0.0322</td><td>Heel quantitative ultrasound index (QUI), direct entry</td></tr><tr><td>0.0258</td><td>Heel Broadband ultrasound attenuation, direct entry</td></tr><tr><td>0.0139</td><td>Urate</td></tr><tr><td>0.0119</td><td>Heel bone mineral density (BMD) T-score, automated (left)</td></tr><tr><td>0.0119</td><td>Heel quantitative ultrasound index (QUI), direct entry (left)</td></tr><tr><td>0.0119</td><td>Heel broadband ultrasound attenuation (left)</td></tr><tr><td>0.0116</td><td>Heel bone mineral density (BMD) (left)</td></tr><tr><td>0.0115</td><td>Heel bone mineral density (BMD) T-score, automated (right)</td></tr><tr><td>0.0115</td><td>Heel quantitative ultrasound index (QUI), direct entry (right)</td></tr><tr><td>0.0115</td><td>Heel broadband ultrasound attenuation (right)</td></tr><tr><td>0.0114</td><td>Heel bone mineral density (BMD) (right)</td></tr><tr><td>0.0103</td><td>Cerebrovascular disease</td></tr><tr><td>0.0102</td><td>Creatinine</td></tr></table>"
      ],
      "text/plain": [
       "<IPython.core.display.Markdown object>"
      ]
     },
     "metadata": {},
     "output_type": "display_data"
    }
   ],
   "source": [
    "pan_ukb_pleiotropy(504)"
   ]
  },
  {
   "cell_type": "code",
   "execution_count": 102,
   "id": "3c08d42a-59ad-41e9-83fc-046468500042",
   "metadata": {},
   "outputs": [
    {
     "data": {
      "text/markdown": [
       "<h2>G47 Sleep Disorders</h2>"
      ],
      "text/plain": [
       "<IPython.core.display.Markdown object>"
      ]
     },
     "metadata": {},
     "output_type": "display_data"
    },
    {
     "data": {
      "text/markdown": [
       "<span style='color:#c8635a'>**RPCA-IALM**</span>"
      ],
      "text/plain": [
       "<IPython.core.display.Markdown object>"
      ]
     },
     "metadata": {},
     "output_type": "display_data"
    },
    {
     "data": {
      "text/markdown": [
       "<span style='color:None'>Top Factor: 86 (Contribution: 0.1228)</span>"
      ],
      "text/plain": [
       "<IPython.core.display.Markdown object>"
      ]
     },
     "metadata": {},
     "output_type": "display_data"
    },
    {
     "data": {
      "text/markdown": [
       "<table style={float:left; align:left;}><tr><td>0.0469</td><td>Acquired foot deformities</td></tr><tr><td>0.0468</td><td>M20 Acquired deformities of fingers and toes</td></tr><tr><td>0.0290</td><td>Hemoptysis</td></tr><tr><td>0.0286</td><td>R04 Haemorrhage from respiratory passages</td></tr><tr><td>0.0275</td><td>Obesity</td></tr><tr><td>0.0272</td><td>E66 Obesity</td></tr><tr><td>0.0272</td><td>Hallux valgus (Bunion)</td></tr><tr><td>0.0253</td><td>Acquired toe deformities</td></tr><tr><td>0.0248</td><td>Abnormal sputum</td></tr><tr><td>0.0247</td><td>Overweight, obesity and other hyperalimentation</td></tr><tr><td>0.0123</td><td>G47 Sleep disorders</td></tr><tr><td>0.0119</td><td>Sleep disorders</td></tr><tr><td>0.0111</td><td>Hammer toe (acquired)</td></tr><tr><td>0.0110</td><td>Epistaxis or throat hemorrhage</td></tr><tr><td>0.0095</td><td>Prostatitis</td></tr></table>"
      ],
      "text/plain": [
       "<IPython.core.display.Markdown object>"
      ]
     },
     "metadata": {},
     "output_type": "display_data"
    },
    {
     "data": {
      "text/markdown": [
       "<span style='color:#c8635a'>**NNM-Sparse-FW**</span>"
      ],
      "text/plain": [
       "<IPython.core.display.Markdown object>"
      ]
     },
     "metadata": {},
     "output_type": "display_data"
    },
    {
     "data": {
      "text/markdown": [
       "<span style='color:None'>Top Factor: 43 (Contribution: 0.0683)</span>"
      ],
      "text/plain": [
       "<IPython.core.display.Markdown object>"
      ]
     },
     "metadata": {},
     "output_type": "display_data"
    },
    {
     "data": {
      "text/markdown": [
       "<table style={float:left; align:left;}><tr><td>0.0234</td><td>ACE inhibitor|anti-hypertensive</td></tr><tr><td>0.0141</td><td>High light scatter reticulocyte count</td></tr><tr><td>0.0133</td><td>Usual walking pace</td></tr><tr><td>0.0121</td><td>Weight</td></tr><tr><td>0.0119</td><td>Leg predicted mass (left)</td></tr><tr><td>0.0109</td><td>Trunk fat-free mass</td></tr><tr><td>0.0104</td><td>Estimated glomerular filtration rate, serum creatinine + cystain C</td></tr><tr><td>0.0100</td><td>Reticulocyte count</td></tr><tr><td>0.0092</td><td>Trunk fat percentage</td></tr><tr><td>0.0091</td><td>Waist circumference</td></tr><tr><td>0.0081</td><td>Age first had sexual intercourse</td></tr><tr><td>0.0077</td><td>Seated height</td></tr><tr><td>0.0066</td><td>Treatment/medication code</td></tr><tr><td>0.0064</td><td>Other arthropathies</td></tr><tr><td>0.0061</td><td>Ankle spacing width (right)</td></tr></table>"
      ],
      "text/plain": [
       "<IPython.core.display.Markdown object>"
      ]
     },
     "metadata": {},
     "output_type": "display_data"
    },
    {
     "data": {
      "text/markdown": [
       "<span style='color:#c8635a'>**Raw Data**</span>"
      ],
      "text/plain": [
       "<IPython.core.display.Markdown object>"
      ]
     },
     "metadata": {},
     "output_type": "display_data"
    },
    {
     "data": {
      "text/markdown": [
       "<span style='color:None'>Top Factor: 91 (Contribution: 0.1037)</span>"
      ],
      "text/plain": [
       "<IPython.core.display.Markdown object>"
      ]
     },
     "metadata": {},
     "output_type": "display_data"
    },
    {
     "data": {
      "text/markdown": [
       "<table style={float:left; align:left;}><tr><td>0.0136</td><td>Aspartate aminotransferase</td></tr><tr><td>0.0125</td><td>Platelet distribution width</td></tr><tr><td>0.0112</td><td>Alanine aminotransferase</td></tr><tr><td>0.0084</td><td>Inflammatory bowel disease and other gastroenteritis and colitis</td></tr><tr><td>0.0074</td><td>Spherical power (right)</td></tr><tr><td>0.0070</td><td>Genital prolapse</td></tr><tr><td>0.0070</td><td>Prolapse of vaginal walls</td></tr><tr><td>0.0069</td><td>Spherical power (left)</td></tr><tr><td>0.0068</td><td>N81 Female genital prolapse</td></tr><tr><td>0.0068</td><td>Open wounds of head; neck; and trunk</td></tr><tr><td>0.0063</td><td>C79 Secondary malignant neoplasm of other sites</td></tr><tr><td>0.0061</td><td>E87 Other disorders of fluid, electrolyte and acid-base balance</td></tr><tr><td>0.0061</td><td>Ulcerative colitis</td></tr><tr><td>0.0061</td><td>Electrolyte imbalance</td></tr><tr><td>0.0061</td><td>I77 Other disorders of arteries and arterioles</td></tr></table>"
      ],
      "text/plain": [
       "<IPython.core.display.Markdown object>"
      ]
     },
     "metadata": {},
     "output_type": "display_data"
    }
   ],
   "source": [
    "pan_ukb_pleiotropy(61)"
   ]
  },
  {
   "cell_type": "code",
   "execution_count": 103,
   "id": "2c5a64bb-69e1-43cd-85c6-fde0e4fa7179",
   "metadata": {},
   "outputs": [
    {
     "data": {
      "text/markdown": [
       "<h2>G43 Migraine</h2>"
      ],
      "text/plain": [
       "<IPython.core.display.Markdown object>"
      ]
     },
     "metadata": {},
     "output_type": "display_data"
    },
    {
     "data": {
      "text/markdown": [
       "<span style='color:#c8635a'>**RPCA-IALM**</span>"
      ],
      "text/plain": [
       "<IPython.core.display.Markdown object>"
      ]
     },
     "metadata": {},
     "output_type": "display_data"
    },
    {
     "data": {
      "text/markdown": [
       "<span style='color:None'>Top Factor: 80 (Contribution: 0.0792)</span>"
      ],
      "text/plain": [
       "<IPython.core.display.Markdown object>"
      ]
     },
     "metadata": {},
     "output_type": "display_data"
    },
    {
     "data": {
      "text/markdown": [
       "<table style={float:left; align:left;}><tr><td>0.0312</td><td>Appendicitis</td></tr><tr><td>0.0307</td><td>Acute appendicitis</td></tr><tr><td>0.0287</td><td>Appendiceal conditions</td></tr><tr><td>0.0284</td><td>K35 Acute appendicitis</td></tr><tr><td>0.0208</td><td>Sebaceous cyst</td></tr><tr><td>0.0203</td><td>Diseases of sebaceous glands</td></tr><tr><td>0.0186</td><td>L72 Follicular cysts of skin and subcutaneous tissue</td></tr><tr><td>0.0140</td><td>Contracture of palmar fascia [Dupuytren's disease]</td></tr><tr><td>0.0134</td><td>Disorders of muscle, ligament, and fascia</td></tr><tr><td>0.0133</td><td>Iron deficiency anemias, unspecified or not due to blood loss</td></tr><tr><td>0.0133</td><td>Iron deficiency anemias</td></tr><tr><td>0.0121</td><td>Fasciitis</td></tr><tr><td>0.0118</td><td>D50 Iron deficiency anaemia</td></tr><tr><td>0.0115</td><td>Home location - north co-ordinate (rounded)</td></tr><tr><td>0.0113</td><td>Home location at assessment - north co-ordinate (rounded)</td></tr></table>"
      ],
      "text/plain": [
       "<IPython.core.display.Markdown object>"
      ]
     },
     "metadata": {},
     "output_type": "display_data"
    },
    {
     "data": {
      "text/markdown": [
       "<span style='color:#c8635a'>**NNM-Sparse-FW**</span>"
      ],
      "text/plain": [
       "<IPython.core.display.Markdown object>"
      ]
     },
     "metadata": {},
     "output_type": "display_data"
    },
    {
     "data": {
      "text/markdown": [
       "<span style='color:None'>Top Factor: 46 (Contribution: 0.0576)</span>"
      ],
      "text/plain": [
       "<IPython.core.display.Markdown object>"
      ]
     },
     "metadata": {},
     "output_type": "display_data"
    },
    {
     "data": {
      "text/markdown": [
       "<table style={float:left; align:left;}><tr><td>0.0320</td><td>Leg predicted mass (right)</td></tr><tr><td>0.0257</td><td>Whole body fat-free mass</td></tr><tr><td>0.0243</td><td>Leg fat-free mass (right)</td></tr><tr><td>0.0192</td><td>Body mass index (BMI)</td></tr><tr><td>0.0167</td><td>Leg fat mass (left)</td></tr><tr><td>0.0144</td><td>NSAID|non-steroidal anti-inflammatory drug</td></tr><tr><td>0.0120</td><td>simvastatin</td></tr><tr><td>0.0112</td><td>thiazide diuretic|diuretic</td></tr><tr><td>0.0109</td><td>aspirin</td></tr><tr><td>0.0092</td><td>lansoprazole</td></tr><tr><td>0.0091</td><td>ACE inhibitor|anti-hypertensive</td></tr><tr><td>0.0089</td><td>Diastolic blood pressure, automated reading</td></tr><tr><td>0.0085</td><td>Non-cancer illness code, self-reported</td></tr><tr><td>0.0070</td><td>bendroflumethiazide</td></tr><tr><td>0.0070</td><td>amoxicillin</td></tr></table>"
      ],
      "text/plain": [
       "<IPython.core.display.Markdown object>"
      ]
     },
     "metadata": {},
     "output_type": "display_data"
    },
    {
     "data": {
      "text/markdown": [
       "<span style='color:#c8635a'>**Raw Data**</span>"
      ],
      "text/plain": [
       "<IPython.core.display.Markdown object>"
      ]
     },
     "metadata": {},
     "output_type": "display_data"
    },
    {
     "data": {
      "text/markdown": [
       "<span style='color:None'>Top Factor: 56 (Contribution: 0.0733)</span>"
      ],
      "text/plain": [
       "<IPython.core.display.Markdown object>"
      ]
     },
     "metadata": {},
     "output_type": "display_data"
    },
    {
     "data": {
      "text/markdown": [
       "<table style={float:left; align:left;}><tr><td>0.0227</td><td>Alkaline phosphatase</td></tr><tr><td>0.0134</td><td>Red blood cell (erythrocyte) distribution width</td></tr><tr><td>0.0104</td><td>Albumin</td></tr><tr><td>0.0079</td><td>Alanine aminotransferase</td></tr><tr><td>0.0077</td><td>Estimated glomerular filtration rate, serum creatinine + cystain C</td></tr><tr><td>0.0072</td><td>Other disorders of bladder</td></tr><tr><td>0.0071</td><td>Aspartate aminotransferase</td></tr><tr><td>0.0071</td><td>Other retinal disorders</td></tr><tr><td>0.0065</td><td>Cystatin C</td></tr><tr><td>0.0064</td><td>N32 Other disorders of bladder</td></tr><tr><td>0.0062</td><td>Calcium</td></tr><tr><td>0.0061</td><td>Gamma glutamyltransferase</td></tr><tr><td>0.0057</td><td>Diabetic retinopathy</td></tr><tr><td>0.0057</td><td>Hereditary retinal dystrophies</td></tr><tr><td>0.0057</td><td>H36 Retinal disorders in diseases classified elsewhere</td></tr></table>"
      ],
      "text/plain": [
       "<IPython.core.display.Markdown object>"
      ]
     },
     "metadata": {},
     "output_type": "display_data"
    }
   ],
   "source": [
    "pan_ukb_pleiotropy(59)"
   ]
  },
  {
   "cell_type": "code",
   "execution_count": 104,
   "id": "1cec6509-23b7-4ba2-9549-7dccb41aafa0",
   "metadata": {},
   "outputs": [
    {
     "data": {
      "text/markdown": [
       "<h2>Hypertension</h2>"
      ],
      "text/plain": [
       "<IPython.core.display.Markdown object>"
      ]
     },
     "metadata": {},
     "output_type": "display_data"
    },
    {
     "data": {
      "text/markdown": [
       "<span style='color:#c8635a'>**RPCA-IALM**</span>"
      ],
      "text/plain": [
       "<IPython.core.display.Markdown object>"
      ]
     },
     "metadata": {},
     "output_type": "display_data"
    },
    {
     "data": {
      "text/markdown": [
       "<span style='color:None'>Top Factor: 2 (Contribution: 0.0982)</span>"
      ],
      "text/plain": [
       "<IPython.core.display.Markdown object>"
      ]
     },
     "metadata": {},
     "output_type": "display_data"
    },
    {
     "data": {
      "text/markdown": [
       "<table style={float:left; align:left;}><tr><td>0.0595</td><td>Standing height</td></tr><tr><td>0.0290</td><td>Sitting height</td></tr><tr><td>0.0227</td><td>Seated height</td></tr><tr><td>0.0197</td><td>Forced vital capacity (FVC)</td></tr><tr><td>0.0193</td><td>Forced vital capacity (FVC), Best measure</td></tr><tr><td>0.0169</td><td>Mean arterial pressure, combined automated + manual reading, adjusted by medication</td></tr><tr><td>0.0163</td><td>Systolic blood pressure, combined automated + manual reading, adjusted by medication</td></tr><tr><td>0.0157</td><td>Comparative height size at age 10</td></tr><tr><td>0.0157</td><td>Forced expiratory volume in 1-second (FEV1)</td></tr><tr><td>0.0156</td><td>Mean arterial pressure, automated reading, adjusted by medication</td></tr><tr><td>0.0152</td><td>Forced expiratory volume in 1-second (FEV1), predicted</td></tr><tr><td>0.0150</td><td>Forced expiratory volume in 1-second (FEV1), Best measure</td></tr><tr><td>0.0149</td><td>Systolic blood pressure, automated reading, adjusted by medication</td></tr><tr><td>0.0138</td><td>Trunk fat-free mass</td></tr><tr><td>0.0138</td><td>Trunk predicted mass</td></tr></table>"
      ],
      "text/plain": [
       "<IPython.core.display.Markdown object>"
      ]
     },
     "metadata": {},
     "output_type": "display_data"
    },
    {
     "data": {
      "text/markdown": [
       "<span style='color:#c8635a'>**NNM-Sparse-FW**</span>"
      ],
      "text/plain": [
       "<IPython.core.display.Markdown object>"
      ]
     },
     "metadata": {},
     "output_type": "display_data"
    },
    {
     "data": {
      "text/markdown": [
       "<span style='color:None'>Top Factor: 15 (Contribution: 0.1904)</span>"
      ],
      "text/plain": [
       "<IPython.core.display.Markdown object>"
      ]
     },
     "metadata": {},
     "output_type": "display_data"
    },
    {
     "data": {
      "text/markdown": [
       "<table style={float:left; align:left;}><tr><td>0.0670</td><td>Essential hypertension</td></tr><tr><td>0.0596</td><td>Hypertension</td></tr><tr><td>0.0278</td><td>E78 Disorders of lipoprotein metabolism and other lipidaemias</td></tr><tr><td>0.0271</td><td>Disorders of lipoid metabolism</td></tr><tr><td>0.0265</td><td>Hypercholesterolemia</td></tr><tr><td>0.0256</td><td>Hyperlipidemia</td></tr><tr><td>0.0252</td><td>Ischemic Heart Disease</td></tr><tr><td>0.0197</td><td>Other chronic ischemic heart disease, unspecified</td></tr><tr><td>0.0174</td><td>I25 Chronic ischaemic heart disease</td></tr><tr><td>0.0138</td><td>antipyretic</td></tr><tr><td>0.0138</td><td>paracetamol</td></tr><tr><td>0.0134</td><td>opioid analgesic|antipyretic</td></tr><tr><td>0.0130</td><td>Angina pectoris</td></tr><tr><td>0.0111</td><td>E11 Non-insulin-dependent diabetes mellitus</td></tr><tr><td>0.0100</td><td>Leg fat mass (left)</td></tr></table>"
      ],
      "text/plain": [
       "<IPython.core.display.Markdown object>"
      ]
     },
     "metadata": {},
     "output_type": "display_data"
    },
    {
     "data": {
      "text/markdown": [
       "<span style='color:#c8635a'>**Raw Data**</span>"
      ],
      "text/plain": [
       "<IPython.core.display.Markdown object>"
      ]
     },
     "metadata": {},
     "output_type": "display_data"
    },
    {
     "data": {
      "text/markdown": [
       "<span style='color:None'>Top Factor: 3 (Contribution: 0.1210)</span>"
      ],
      "text/plain": [
       "<IPython.core.display.Markdown object>"
      ]
     },
     "metadata": {},
     "output_type": "display_data"
    },
    {
     "data": {
      "text/markdown": [
       "<table style={float:left; align:left;}><tr><td>0.0461</td><td>Systolic blood pressure, combined automated + manual reading, adjusted by medication</td></tr><tr><td>0.0425</td><td>Systolic blood pressure, automated reading, adjusted by medication</td></tr><tr><td>0.0405</td><td>Mean arterial pressure, combined automated + manual reading, adjusted by medication</td></tr><tr><td>0.0373</td><td>Mean arterial pressure, automated reading, adjusted by medication</td></tr><tr><td>0.0353</td><td>Systolic blood pressure, combined automated + manual reading</td></tr><tr><td>0.0334</td><td>Systolic blood pressure, automated reading</td></tr><tr><td>0.0304</td><td>Pulse pressure, combined automated + manual reading, adjusted by medication</td></tr><tr><td>0.0288</td><td>Mean arterial pressure, combined automated + manual reading</td></tr><tr><td>0.0282</td><td>Pulse pressure, automated reading, adjusted by medication</td></tr><tr><td>0.0277</td><td>Diastolic blood pressure, combined automated + manual reading, adjusted by medication</td></tr><tr><td>0.0274</td><td>Mean arterial pressure, automated reading</td></tr><tr><td>0.0261</td><td>Diastolic blood pressure, automated reading, adjusted by medication</td></tr><tr><td>0.0246</td><td>Pulse pressure, combined automated + manual reading</td></tr><tr><td>0.0235</td><td>Pulse pressure, automated reading</td></tr><tr><td>0.0180</td><td>Diastolic blood pressure, combined automated + manual reading</td></tr></table>"
      ],
      "text/plain": [
       "<IPython.core.display.Markdown object>"
      ]
     },
     "metadata": {},
     "output_type": "display_data"
    }
   ],
   "source": [
    "pan_ukb_pleiotropy(591)"
   ]
  },
  {
   "cell_type": "code",
   "execution_count": 105,
   "id": "c71d71b7-bf9e-4e89-9cfc-51e14bef33f1",
   "metadata": {},
   "outputs": [
    {
     "data": {
      "text/markdown": [
       "<h2>Standing Height</h2>"
      ],
      "text/plain": [
       "<IPython.core.display.Markdown object>"
      ]
     },
     "metadata": {},
     "output_type": "display_data"
    },
    {
     "data": {
      "text/markdown": [
       "<span style='color:#c8635a'>**RPCA-IALM**</span>"
      ],
      "text/plain": [
       "<IPython.core.display.Markdown object>"
      ]
     },
     "metadata": {},
     "output_type": "display_data"
    },
    {
     "data": {
      "text/markdown": [
       "<span style='color:None'>Top Factor: 7 (Contribution: 0.2952)</span>"
      ],
      "text/plain": [
       "<IPython.core.display.Markdown object>"
      ]
     },
     "metadata": {},
     "output_type": "display_data"
    },
    {
     "data": {
      "text/markdown": [
       "<table style={float:left; align:left;}><tr><td>0.0748</td><td>Impedance of whole body</td></tr><tr><td>0.0676</td><td>Standing height</td></tr><tr><td>0.0580</td><td>Impedance of arm (left)</td></tr><tr><td>0.0572</td><td>Impedance of arm (right)</td></tr><tr><td>0.0569</td><td>Impedance of leg (left)</td></tr><tr><td>0.0559</td><td>Impedance of leg (right)</td></tr><tr><td>0.0233</td><td>Sitting height</td></tr><tr><td>0.0217</td><td>Seated height</td></tr><tr><td>0.0181</td><td>Comparative height size at age 10</td></tr><tr><td>0.0144</td><td>Forced expiratory volume in 1-second (FEV1), predicted</td></tr><tr><td>0.0132</td><td>Trunk fat percentage</td></tr><tr><td>0.0101</td><td>Body mass index (BMI)</td></tr><tr><td>0.0098</td><td>Body mass index (BMI)</td></tr><tr><td>0.0095</td><td>Reticulocyte count</td></tr><tr><td>0.0094</td><td>Heel quantitative ultrasound index (QUI), direct entry (right)</td></tr></table>"
      ],
      "text/plain": [
       "<IPython.core.display.Markdown object>"
      ]
     },
     "metadata": {},
     "output_type": "display_data"
    },
    {
     "data": {
      "text/markdown": [
       "<span style='color:#c8635a'>**NNM-Sparse-FW**</span>"
      ],
      "text/plain": [
       "<IPython.core.display.Markdown object>"
      ]
     },
     "metadata": {},
     "output_type": "display_data"
    },
    {
     "data": {
      "text/markdown": [
       "<span style='color:None'>Top Factor: 4 (Contribution: 0.1740)</span>"
      ],
      "text/plain": [
       "<IPython.core.display.Markdown object>"
      ]
     },
     "metadata": {},
     "output_type": "display_data"
    },
    {
     "data": {
      "text/markdown": [
       "<table style={float:left; align:left;}><tr><td>0.1274</td><td>Standing height</td></tr><tr><td>0.0721</td><td>Sitting height</td></tr><tr><td>0.0263</td><td>Seated height</td></tr><tr><td>0.0192</td><td>Comparative height size at age 10</td></tr><tr><td>0.0190</td><td>Trunk fat-free mass</td></tr><tr><td>0.0189</td><td>Trunk predicted mass</td></tr><tr><td>0.0134</td><td>Whole body fat-free mass</td></tr><tr><td>0.0117</td><td>Whole body water mass</td></tr><tr><td>0.0114</td><td>Waist circumference</td></tr><tr><td>0.0112</td><td>Leg fat mass (left)</td></tr><tr><td>0.0112</td><td>Arm fat mass (right)</td></tr><tr><td>0.0107</td><td>Leg fat mass (right)</td></tr><tr><td>0.0101</td><td>Arm fat mass (left)</td></tr><tr><td>0.0099</td><td>E66 Obesity</td></tr><tr><td>0.0099</td><td>Obesity</td></tr></table>"
      ],
      "text/plain": [
       "<IPython.core.display.Markdown object>"
      ]
     },
     "metadata": {},
     "output_type": "display_data"
    },
    {
     "data": {
      "text/markdown": [
       "<span style='color:#c8635a'>**Raw Data**</span>"
      ],
      "text/plain": [
       "<IPython.core.display.Markdown object>"
      ]
     },
     "metadata": {},
     "output_type": "display_data"
    },
    {
     "data": {
      "text/markdown": [
       "<span style='color:None'>Top Factor: 2 (Contribution: 0.2623)</span>"
      ],
      "text/plain": [
       "<IPython.core.display.Markdown object>"
      ]
     },
     "metadata": {},
     "output_type": "display_data"
    },
    {
     "data": {
      "text/markdown": [
       "<table style={float:left; align:left;}><tr><td>0.0640</td><td>Standing height</td></tr><tr><td>0.0351</td><td>Sitting height</td></tr><tr><td>0.0250</td><td>Seated height</td></tr><tr><td>0.0206</td><td>Forced vital capacity (FVC)</td></tr><tr><td>0.0197</td><td>Forced vital capacity (FVC), Best measure</td></tr><tr><td>0.0186</td><td>Comparative height size at age 10</td></tr><tr><td>0.0170</td><td>Forced expiratory volume in 1-second (FEV1), predicted</td></tr><tr><td>0.0161</td><td>Forced expiratory volume in 1-second (FEV1)</td></tr><tr><td>0.0152</td><td>Forced expiratory volume in 1-second (FEV1), Best measure</td></tr><tr><td>0.0132</td><td>Mean arterial pressure, combined automated + manual reading, adjusted by medication</td></tr><tr><td>0.0126</td><td>Systolic blood pressure, combined automated + manual reading, adjusted by medication</td></tr><tr><td>0.0121</td><td>Mean arterial pressure, automated reading, adjusted by medication</td></tr><tr><td>0.0120</td><td>Leg fat percentage (left)</td></tr><tr><td>0.0120</td><td>Leg fat percentage (right)</td></tr><tr><td>0.0118</td><td>Trunk fat-free mass</td></tr></table>"
      ],
      "text/plain": [
       "<IPython.core.display.Markdown object>"
      ]
     },
     "metadata": {},
     "output_type": "display_data"
    }
   ],
   "source": [
    "pan_ukb_pleiotropy(2350)"
   ]
  },
  {
   "cell_type": "code",
   "execution_count": 106,
   "id": "f7b59d73-4a1e-41df-95f0-93d3da9da340",
   "metadata": {},
   "outputs": [
    {
     "data": {
      "text/markdown": [
       "<h2>Intake Of Sugar Added To Coffee</h2>"
      ],
      "text/plain": [
       "<IPython.core.display.Markdown object>"
      ]
     },
     "metadata": {},
     "output_type": "display_data"
    },
    {
     "data": {
      "text/markdown": [
       "<span style='color:#c8635a'>**RPCA-IALM**</span>"
      ],
      "text/plain": [
       "<IPython.core.display.Markdown object>"
      ]
     },
     "metadata": {},
     "output_type": "display_data"
    },
    {
     "data": {
      "text/markdown": [
       "<span style='color:None'>Top Factor: 52 (Contribution: 0.1127)</span>"
      ],
      "text/plain": [
       "<IPython.core.display.Markdown object>"
      ]
     },
     "metadata": {},
     "output_type": "display_data"
    },
    {
     "data": {
      "text/markdown": [
       "<table style={float:left; align:left;}><tr><td>0.0152</td><td>Saturated fat</td></tr><tr><td>0.0138</td><td>Albumin</td></tr><tr><td>0.0124</td><td>Fat</td></tr><tr><td>0.0108</td><td>Osteoporosis</td></tr><tr><td>0.0108</td><td>Osteoporosis NOS</td></tr><tr><td>0.0093</td><td>Vitamin C</td></tr><tr><td>0.0086</td><td>Home location - north co-ordinate (rounded)</td></tr><tr><td>0.0084</td><td>methotrexate</td></tr><tr><td>0.0084</td><td>anti-metabolite</td></tr><tr><td>0.0081</td><td>Retinol</td></tr><tr><td>0.0079</td><td>Home location at assessment - north co-ordinate (rounded)</td></tr><tr><td>0.0072</td><td>Carotene</td></tr><tr><td>0.0071</td><td>Osteoporosis, osteopenia and pathological fracture</td></tr><tr><td>0.0069</td><td>xanthine oxidase inhibitor|anti-gout agent</td></tr><tr><td>0.0069</td><td>allopurinol</td></tr></table>"
      ],
      "text/plain": [
       "<IPython.core.display.Markdown object>"
      ]
     },
     "metadata": {},
     "output_type": "display_data"
    },
    {
     "data": {
      "text/markdown": [
       "<span style='color:#c8635a'>**NNM-Sparse-FW**</span>"
      ],
      "text/plain": [
       "<IPython.core.display.Markdown object>"
      ]
     },
     "metadata": {},
     "output_type": "display_data"
    },
    {
     "data": {
      "text/markdown": [
       "<span style='color:None'>Top Factor: 54 (Contribution: 0.0723)</span>"
      ],
      "text/plain": [
       "<IPython.core.display.Markdown object>"
      ]
     },
     "metadata": {},
     "output_type": "display_data"
    },
    {
     "data": {
      "text/markdown": [
       "<table style={float:left; align:left;}><tr><td>0.0427</td><td>Whole body fat-free mass</td></tr><tr><td>0.0224</td><td>NSAID|non-steroidal anti-inflammatory drug</td></tr><tr><td>0.0193</td><td>Leg fat mass (right)</td></tr><tr><td>0.0167</td><td>Usual walking pace</td></tr><tr><td>0.0119</td><td>Z86 Personal history of certain other diseases</td></tr><tr><td>0.0118</td><td>Weight</td></tr><tr><td>0.0100</td><td>clarithromycin</td></tr><tr><td>0.0099</td><td>Arm predicted mass (left)</td></tr><tr><td>0.0085</td><td>Whole body fat mass</td></tr><tr><td>0.0071</td><td>Pulse pressure, combined automated + manual reading, adjusted by medication</td></tr><tr><td>0.0066</td><td>Leg fat mass (left)</td></tr><tr><td>0.0065</td><td>lansoprazole</td></tr><tr><td>0.0063</td><td>aspirin</td></tr><tr><td>0.0063</td><td>diclofenac</td></tr><tr><td>0.0061</td><td>Other mental disorder</td></tr></table>"
      ],
      "text/plain": [
       "<IPython.core.display.Markdown object>"
      ]
     },
     "metadata": {},
     "output_type": "display_data"
    },
    {
     "data": {
      "text/markdown": [
       "<span style='color:#c8635a'>**Raw Data**</span>"
      ],
      "text/plain": [
       "<IPython.core.display.Markdown object>"
      ]
     },
     "metadata": {},
     "output_type": "display_data"
    },
    {
     "data": {
      "text/markdown": [
       "<span style='color:None'>Top Factor: 75 (Contribution: 0.0839)</span>"
      ],
      "text/plain": [
       "<IPython.core.display.Markdown object>"
      ]
     },
     "metadata": {},
     "output_type": "display_data"
    },
    {
     "data": {
      "text/markdown": [
       "<table style={float:left; align:left;}><tr><td>0.0341</td><td>SHBG</td></tr><tr><td>0.0298</td><td>Pulse rate, automated reading</td></tr><tr><td>0.0129</td><td>Pulse rate</td></tr><tr><td>0.0122</td><td>Testosterone</td></tr><tr><td>0.0118</td><td>COVID-19 positive (controls include untested)</td></tr><tr><td>0.0118</td><td>COVID-19 positive (controls include untested), only patients from centers in England</td></tr><tr><td>0.0113</td><td>COVID-19 positive (controls include untested)</td></tr><tr><td>0.0112</td><td>COVID-19 positive (controls include untested), only patients from centers in England</td></tr><tr><td>0.0099</td><td>COVID-19 positive (controls only COVID-19 negative)</td></tr><tr><td>0.0097</td><td>Estimated glomerular filtration rate, serum creatinine + cystain C</td></tr><tr><td>0.0096</td><td>COVID-19 positive (controls only COVID-19 negative)</td></tr><tr><td>0.0090</td><td>Cystatin C</td></tr><tr><td>0.0090</td><td>Fasciitis</td></tr><tr><td>0.0089</td><td>Contracture of palmar fascia [Dupuytren's disease]</td></tr><tr><td>0.0088</td><td>Disorders of muscle, ligament, and fascia</td></tr></table>"
      ],
      "text/plain": [
       "<IPython.core.display.Markdown object>"
      ]
     },
     "metadata": {},
     "output_type": "display_data"
    }
   ],
   "source": [
    "pan_ukb_pleiotropy(1747)"
   ]
  },
  {
   "cell_type": "code",
   "execution_count": 107,
   "id": "1aa6c123-d5de-4222-abfc-91da7bc256f6",
   "metadata": {},
   "outputs": [
    {
     "data": {
      "text/markdown": [
       "<h2>Covid-19 Positive (Controls Only Covid-19 Negative)</h2>"
      ],
      "text/plain": [
       "<IPython.core.display.Markdown object>"
      ]
     },
     "metadata": {},
     "output_type": "display_data"
    },
    {
     "data": {
      "text/markdown": [
       "<span style='color:#c8635a'>**RPCA-IALM**</span>"
      ],
      "text/plain": [
       "<IPython.core.display.Markdown object>"
      ]
     },
     "metadata": {},
     "output_type": "display_data"
    },
    {
     "data": {
      "text/markdown": [
       "<span style='color:None'>Top Factor: 42 (Contribution: 0.4360)</span>"
      ],
      "text/plain": [
       "<IPython.core.display.Markdown object>"
      ]
     },
     "metadata": {},
     "output_type": "display_data"
    },
    {
     "data": {
      "text/markdown": [
       "<table style={float:left; align:left;}><tr><td>0.0801</td><td>COVID-19 positive (controls include untested)</td></tr><tr><td>0.0800</td><td>COVID-19 positive (controls include untested), only patients from centers in England</td></tr><tr><td>0.0792</td><td>COVID-19 positive (controls include untested)</td></tr><tr><td>0.0791</td><td>COVID-19 positive (controls include untested), only patients from centers in England</td></tr><tr><td>0.0557</td><td>COVID-19 positive (controls only COVID-19 negative)</td></tr><tr><td>0.0498</td><td>COVID-19 positive (controls only COVID-19 negative)</td></tr><tr><td>0.0135</td><td>Cholelithiasis</td></tr><tr><td>0.0132</td><td>Cholelithiasis and cholecystitis</td></tr><tr><td>0.0130</td><td>K80 Cholelithiasis</td></tr><tr><td>0.0094</td><td>Chronic dermatitis due to solar radiation</td></tr><tr><td>0.0093</td><td>L57 Skin changes due to chronic exposure to nonionising radiation</td></tr><tr><td>0.0082</td><td>Dermatitis due to solar radiation</td></tr><tr><td>0.0069</td><td>Actinic keratosis</td></tr><tr><td>0.0068</td><td>Breast cancer [female]</td></tr><tr><td>0.0066</td><td>Breast cancer</td></tr></table>"
      ],
      "text/plain": [
       "<IPython.core.display.Markdown object>"
      ]
     },
     "metadata": {},
     "output_type": "display_data"
    },
    {
     "data": {
      "text/markdown": [
       "<span style='color:#c8635a'>**NNM-Sparse-FW**</span>"
      ],
      "text/plain": [
       "<IPython.core.display.Markdown object>"
      ]
     },
     "metadata": {},
     "output_type": "display_data"
    },
    {
     "data": {
      "text/markdown": [
       "<span style='color:None'>Top Factor: 47 (Contribution: 0.0847)</span>"
      ],
      "text/plain": [
       "<IPython.core.display.Markdown object>"
      ]
     },
     "metadata": {},
     "output_type": "display_data"
    },
    {
     "data": {
      "text/markdown": [
       "<table style={float:left; align:left;}><tr><td>0.0245</td><td>Age first had sexual intercourse</td></tr><tr><td>0.0170</td><td>Forced expiratory volume in 1-second (FEV1), predicted</td></tr><tr><td>0.0135</td><td>ACE inhibitor|anti-hypertensive</td></tr><tr><td>0.0126</td><td>beta-lactam antibiotic|antibiotic</td></tr><tr><td>0.0115</td><td>Forced expiratory volume in 1-second (FEV1), Best measure</td></tr><tr><td>0.0115</td><td>Whole body fat-free mass</td></tr><tr><td>0.0112</td><td>Arm fat-free mass (left)</td></tr><tr><td>0.0096</td><td>Trunk fat percentage</td></tr><tr><td>0.0093</td><td>Waist circumference</td></tr><tr><td>0.0087</td><td>Leg predicted mass (left)</td></tr><tr><td>0.0085</td><td>Impedance of leg (right)</td></tr><tr><td>0.0081</td><td>Leg fat-free mass (left)</td></tr><tr><td>0.0070</td><td>Ankle spacing width</td></tr><tr><td>0.0069</td><td>Body fat percentage</td></tr><tr><td>0.0059</td><td>Cholesterol</td></tr></table>"
      ],
      "text/plain": [
       "<IPython.core.display.Markdown object>"
      ]
     },
     "metadata": {},
     "output_type": "display_data"
    },
    {
     "data": {
      "text/markdown": [
       "<span style='color:#c8635a'>**Raw Data**</span>"
      ],
      "text/plain": [
       "<IPython.core.display.Markdown object>"
      ]
     },
     "metadata": {},
     "output_type": "display_data"
    },
    {
     "data": {
      "text/markdown": [
       "<span style='color:None'>Top Factor: 67 (Contribution: 0.5227)</span>"
      ],
      "text/plain": [
       "<IPython.core.display.Markdown object>"
      ]
     },
     "metadata": {},
     "output_type": "display_data"
    },
    {
     "data": {
      "text/markdown": [
       "<table style={float:left; align:left;}><tr><td>0.0846</td><td>COVID-19 positive (controls include untested), only patients from centers in England</td></tr><tr><td>0.0846</td><td>COVID-19 positive (controls include untested)</td></tr><tr><td>0.0844</td><td>COVID-19 positive (controls include untested), only patients from centers in England</td></tr><tr><td>0.0843</td><td>COVID-19 positive (controls include untested)</td></tr><tr><td>0.0765</td><td>COVID-19 positive (controls only COVID-19 negative)</td></tr><tr><td>0.0720</td><td>COVID-19 positive (controls only COVID-19 negative)</td></tr><tr><td>0.0317</td><td>IGF-1</td></tr><tr><td>0.0114</td><td>Platelet distribution width</td></tr><tr><td>0.0088</td><td>Estimated glomerular filtration rate, serum creatinine + cystain C</td></tr><tr><td>0.0069</td><td>Cystatin C</td></tr><tr><td>0.0047</td><td>Systolic blood pressure, manual reading</td></tr><tr><td>0.0044</td><td>Systolic blood pressure, manual reading, adjusted by medication</td></tr><tr><td>0.0040</td><td>Mean arterial pressure, manual reading</td></tr><tr><td>0.0038</td><td>Estimated glomerular filtration rate, serum creatinine</td></tr><tr><td>0.0037</td><td>Creatinine</td></tr></table>"
      ],
      "text/plain": [
       "<IPython.core.display.Markdown object>"
      ]
     },
     "metadata": {},
     "output_type": "display_data"
    }
   ],
   "source": [
    "pan_ukb_pleiotropy(1677)"
   ]
  },
  {
   "cell_type": "markdown",
   "id": "446d7f79-e6bb-47ba-b72a-6c8f6c9f5b5f",
   "metadata": {},
   "source": [
    "# Neuropsychiatric Disorders"
   ]
  },
  {
   "cell_type": "code",
   "execution_count": 108,
   "id": "fd29cbd4-2711-4592-9579-dc2f27b825fd",
   "metadata": {},
   "outputs": [
    {
     "data": {
      "text/markdown": [
       "<h2>F05 Delirium, Not Induced By Alcohol And Other Psychoactive Substances</h2>"
      ],
      "text/plain": [
       "<IPython.core.display.Markdown object>"
      ]
     },
     "metadata": {},
     "output_type": "display_data"
    },
    {
     "data": {
      "text/markdown": [
       "<span style='color:#c8635a'>**RPCA-IALM**</span>"
      ],
      "text/plain": [
       "<IPython.core.display.Markdown object>"
      ]
     },
     "metadata": {},
     "output_type": "display_data"
    },
    {
     "data": {
      "text/markdown": [
       "<span style='color:None'>Top Factor: 99 (Contribution: 0.1305)</span>"
      ],
      "text/plain": [
       "<IPython.core.display.Markdown object>"
      ]
     },
     "metadata": {},
     "output_type": "display_data"
    },
    {
     "data": {
      "text/markdown": [
       "<table style={float:left; align:left;}><tr><td>0.0148</td><td>Cardiac arrest</td></tr><tr><td>0.0146</td><td>Cardiac arrest and ventricular fibrillation</td></tr><tr><td>0.0144</td><td>I46 Cardiac arrest</td></tr><tr><td>0.0130</td><td>Other disorders of pancreatic internal secretion</td></tr><tr><td>0.0125</td><td>Hypoglycemia</td></tr><tr><td>0.0122</td><td>E16 Other disorders of pancreatic internal secretion</td></tr><tr><td>0.0112</td><td>Obesity</td></tr><tr><td>0.0111</td><td>E66 Obesity</td></tr><tr><td>0.0104</td><td>E21 Hyperparathyroidism and other disorders of parathyroid gland</td></tr><tr><td>0.0104</td><td>G47 Sleep disorders</td></tr><tr><td>0.0103</td><td>Hyperparathyroidism</td></tr><tr><td>0.0101</td><td>Sleep disorders</td></tr><tr><td>0.0101</td><td>Overweight, obesity and other hyperalimentation</td></tr><tr><td>0.0090</td><td>Varicose veins of lower extremity</td></tr><tr><td>0.0088</td><td>Disorders of parathyroid gland</td></tr></table>"
      ],
      "text/plain": [
       "<IPython.core.display.Markdown object>"
      ]
     },
     "metadata": {},
     "output_type": "display_data"
    },
    {
     "data": {
      "text/markdown": [
       "<span style='color:#c8635a'>**NNM-Sparse-FW**</span>"
      ],
      "text/plain": [
       "<IPython.core.display.Markdown object>"
      ]
     },
     "metadata": {},
     "output_type": "display_data"
    },
    {
     "data": {
      "text/markdown": [
       "<span style='color:None'>Top Factor: 28 (Contribution: 0.0542)</span>"
      ],
      "text/plain": [
       "<IPython.core.display.Markdown object>"
      ]
     },
     "metadata": {},
     "output_type": "display_data"
    },
    {
     "data": {
      "text/markdown": [
       "<table style={float:left; align:left;}><tr><td>0.0267</td><td>Waist circumference</td></tr><tr><td>0.0242</td><td>Body fat percentage</td></tr><tr><td>0.0220</td><td>E66 Obesity</td></tr><tr><td>0.0212</td><td>Obesity</td></tr><tr><td>0.0160</td><td>Arm fat mass (left)</td></tr><tr><td>0.0151</td><td>Trunk fat percentage</td></tr><tr><td>0.0128</td><td>Leg fat percentage (left)</td></tr><tr><td>0.0121</td><td>Leg fat percentage (right)</td></tr><tr><td>0.0117</td><td>pheno 48 / pheno 49</td></tr><tr><td>0.0112</td><td>Disorders of lipoid metabolism</td></tr><tr><td>0.0108</td><td>Forced expiratory volume in 1-second (FEV1), predicted</td></tr><tr><td>0.0107</td><td>ACE inhibitor|anti-hypertensive</td></tr><tr><td>0.0104</td><td>Triglycerides</td></tr><tr><td>0.0092</td><td>Overweight, obesity and other hyperalimentation</td></tr><tr><td>0.0091</td><td>Leg fat-free mass (right)</td></tr></table>"
      ],
      "text/plain": [
       "<IPython.core.display.Markdown object>"
      ]
     },
     "metadata": {},
     "output_type": "display_data"
    },
    {
     "data": {
      "text/markdown": [
       "<span style='color:#c8635a'>**Raw Data**</span>"
      ],
      "text/plain": [
       "<IPython.core.display.Markdown object>"
      ]
     },
     "metadata": {},
     "output_type": "display_data"
    },
    {
     "data": {
      "text/markdown": [
       "<span style='color:None'>Top Factor: 33 (Contribution: 0.0945)</span>"
      ],
      "text/plain": [
       "<IPython.core.display.Markdown object>"
      ]
     },
     "metadata": {},
     "output_type": "display_data"
    },
    {
     "data": {
      "text/markdown": [
       "<table style={float:left; align:left;}><tr><td>0.1299</td><td>Monocyte percentage</td></tr><tr><td>0.0755</td><td>Monocyte count</td></tr><tr><td>0.0237</td><td>Lymphocyte count</td></tr><tr><td>0.0195</td><td>Eosinophill count</td></tr><tr><td>0.0162</td><td>Forced expiratory volume in 1-second (FEV1), Best measure</td></tr><tr><td>0.0155</td><td>Eosinophill percentage</td></tr><tr><td>0.0154</td><td>Forced expiratory volume in 1-second (FEV1)</td></tr><tr><td>0.0152</td><td>Lymphocyte percentage</td></tr><tr><td>0.0132</td><td>HDL cholesterol</td></tr><tr><td>0.0119</td><td>Forced expiratory volume in 1-second (FEV1), predicted percentage</td></tr><tr><td>0.0116</td><td>Apolipoprotein A</td></tr><tr><td>0.0102</td><td>Forced vital capacity (FVC), Best measure</td></tr><tr><td>0.0099</td><td>Forced vital capacity (FVC)</td></tr><tr><td>0.0082</td><td>Non-cancer illness code, self-reported</td></tr><tr><td>0.0075</td><td>FEV1/FVC ratio</td></tr></table>"
      ],
      "text/plain": [
       "<IPython.core.display.Markdown object>"
      ]
     },
     "metadata": {},
     "output_type": "display_data"
    },
    {
     "data": {
      "text/markdown": [
       "<h2>F10 Mental And Behavioural Disorders Due To Use Of Alcohol</h2>"
      ],
      "text/plain": [
       "<IPython.core.display.Markdown object>"
      ]
     },
     "metadata": {},
     "output_type": "display_data"
    },
    {
     "data": {
      "text/markdown": [
       "<span style='color:#c8635a'>**RPCA-IALM**</span>"
      ],
      "text/plain": [
       "<IPython.core.display.Markdown object>"
      ]
     },
     "metadata": {},
     "output_type": "display_data"
    },
    {
     "data": {
      "text/markdown": [
       "<span style='color:None'>Top Factor: 94 (Contribution: 0.0704)</span>"
      ],
      "text/plain": [
       "<IPython.core.display.Markdown object>"
      ]
     },
     "metadata": {},
     "output_type": "display_data"
    },
    {
     "data": {
      "text/markdown": [
       "<table style={float:left; align:left;}><tr><td>0.0258</td><td>Intra-ocular pressure, corneal-compensated (right)</td></tr><tr><td>0.0234</td><td>Intra-ocular pressure, corneal-compensated (left)</td></tr><tr><td>0.0195</td><td>Hypotension NOS</td></tr><tr><td>0.0195</td><td>I95 Hypotension</td></tr><tr><td>0.0191</td><td>H40 Glaucoma</td></tr><tr><td>0.0180</td><td>Glaucoma</td></tr><tr><td>0.0178</td><td>Open-angle glaucoma</td></tr><tr><td>0.0176</td><td>Primary open angle glaucoma</td></tr><tr><td>0.0155</td><td>Hypotension</td></tr><tr><td>0.0132</td><td>Corneal hysteresis (right)</td></tr><tr><td>0.0124</td><td>Intra-ocular pressure, Goldmann-correlated (right)</td></tr><tr><td>0.0124</td><td>Corneal hysteresis (left)</td></tr><tr><td>0.0111</td><td>Intra-ocular pressure, Goldmann-correlated (left)</td></tr><tr><td>0.0110</td><td>Inguinal hernia</td></tr><tr><td>0.0102</td><td>K40 Inguinal hernia</td></tr></table>"
      ],
      "text/plain": [
       "<IPython.core.display.Markdown object>"
      ]
     },
     "metadata": {},
     "output_type": "display_data"
    },
    {
     "data": {
      "text/markdown": [
       "<span style='color:#c8635a'>**NNM-Sparse-FW**</span>"
      ],
      "text/plain": [
       "<IPython.core.display.Markdown object>"
      ]
     },
     "metadata": {},
     "output_type": "display_data"
    },
    {
     "data": {
      "text/markdown": [
       "<span style='color:None'>Top Factor: 32 (Contribution: 0.1297)</span>"
      ],
      "text/plain": [
       "<IPython.core.display.Markdown object>"
      ]
     },
     "metadata": {},
     "output_type": "display_data"
    },
    {
     "data": {
      "text/markdown": [
       "<table style={float:left; align:left;}><tr><td>0.0387</td><td>Trunk fat mass</td></tr><tr><td>0.0221</td><td>Trunk fat-free mass</td></tr><tr><td>0.0160</td><td>Whole body fat mass</td></tr><tr><td>0.0147</td><td>NSAID|non-steroidal anti-inflammatory drug</td></tr><tr><td>0.0113</td><td>Ankle spacing width</td></tr><tr><td>0.0108</td><td>I25 Chronic ischaemic heart disease</td></tr><tr><td>0.0106</td><td>Multi-site chronic pain</td></tr><tr><td>0.0102</td><td>Comparative height size at age 10</td></tr><tr><td>0.0098</td><td>Leg predicted mass (right)</td></tr><tr><td>0.0094</td><td>Drive faster than motorway speed limit</td></tr><tr><td>0.0092</td><td>Hand grip strength (left)</td></tr><tr><td>0.0089</td><td>ibuprofen</td></tr><tr><td>0.0087</td><td>Impedance of leg (right)</td></tr><tr><td>0.0078</td><td>Hip circumference</td></tr><tr><td>0.0078</td><td>Diastolic blood pressure, combined automated + manual reading</td></tr></table>"
      ],
      "text/plain": [
       "<IPython.core.display.Markdown object>"
      ]
     },
     "metadata": {},
     "output_type": "display_data"
    },
    {
     "data": {
      "text/markdown": [
       "<span style='color:#c8635a'>**Raw Data**</span>"
      ],
      "text/plain": [
       "<IPython.core.display.Markdown object>"
      ]
     },
     "metadata": {},
     "output_type": "display_data"
    },
    {
     "data": {
      "text/markdown": [
       "<span style='color:None'>Top Factor: 56 (Contribution: 0.1128)</span>"
      ],
      "text/plain": [
       "<IPython.core.display.Markdown object>"
      ]
     },
     "metadata": {},
     "output_type": "display_data"
    },
    {
     "data": {
      "text/markdown": [
       "<table style={float:left; align:left;}><tr><td>0.0227</td><td>Alkaline phosphatase</td></tr><tr><td>0.0134</td><td>Red blood cell (erythrocyte) distribution width</td></tr><tr><td>0.0104</td><td>Albumin</td></tr><tr><td>0.0079</td><td>Alanine aminotransferase</td></tr><tr><td>0.0077</td><td>Estimated glomerular filtration rate, serum creatinine + cystain C</td></tr><tr><td>0.0072</td><td>Other disorders of bladder</td></tr><tr><td>0.0071</td><td>Aspartate aminotransferase</td></tr><tr><td>0.0071</td><td>Other retinal disorders</td></tr><tr><td>0.0065</td><td>Cystatin C</td></tr><tr><td>0.0064</td><td>N32 Other disorders of bladder</td></tr><tr><td>0.0062</td><td>Calcium</td></tr><tr><td>0.0061</td><td>Gamma glutamyltransferase</td></tr><tr><td>0.0057</td><td>Diabetic retinopathy</td></tr><tr><td>0.0057</td><td>Hereditary retinal dystrophies</td></tr><tr><td>0.0057</td><td>H36 Retinal disorders in diseases classified elsewhere</td></tr></table>"
      ],
      "text/plain": [
       "<IPython.core.display.Markdown object>"
      ]
     },
     "metadata": {},
     "output_type": "display_data"
    },
    {
     "data": {
      "text/markdown": [
       "<h2>F17 Mental And Behavioural Disorders Due To Use Of Tobacco</h2>"
      ],
      "text/plain": [
       "<IPython.core.display.Markdown object>"
      ]
     },
     "metadata": {},
     "output_type": "display_data"
    },
    {
     "data": {
      "text/markdown": [
       "<span style='color:#c8635a'>**RPCA-IALM**</span>"
      ],
      "text/plain": [
       "<IPython.core.display.Markdown object>"
      ]
     },
     "metadata": {},
     "output_type": "display_data"
    },
    {
     "data": {
      "text/markdown": [
       "<span style='color:None'>Top Factor: 51 (Contribution: 0.0921)</span>"
      ],
      "text/plain": [
       "<IPython.core.display.Markdown object>"
      ]
     },
     "metadata": {},
     "output_type": "display_data"
    },
    {
     "data": {
      "text/markdown": [
       "<table style={float:left; align:left;}><tr><td>0.0368</td><td>Albumin/Globulin ratio</td></tr><tr><td>0.0319</td><td>Non-albumin protein</td></tr><tr><td>0.0142</td><td>Lymphocyte count</td></tr><tr><td>0.0085</td><td>Total protein</td></tr><tr><td>0.0073</td><td>Lymphocyte percentage</td></tr><tr><td>0.0072</td><td>Albumin</td></tr><tr><td>0.0069</td><td>Neutrophill percentage</td></tr><tr><td>0.0067</td><td>Platelet count</td></tr><tr><td>0.0063</td><td>Past tobacco smoking</td></tr><tr><td>0.0062</td><td>Smoking status, ever vs never</td></tr><tr><td>0.0062</td><td>Forced expiratory volume in 1-second (FEV1)</td></tr><tr><td>0.0057</td><td>Cystitis</td></tr><tr><td>0.0055</td><td>Forced expiratory volume in 1-second (FEV1), Best measure</td></tr><tr><td>0.0053</td><td>Acute pulmonary heart disease</td></tr><tr><td>0.0053</td><td>Pulmonary embolism and infarction, acute</td></tr></table>"
      ],
      "text/plain": [
       "<IPython.core.display.Markdown object>"
      ]
     },
     "metadata": {},
     "output_type": "display_data"
    },
    {
     "data": {
      "text/markdown": [
       "<span style='color:#c8635a'>**NNM-Sparse-FW**</span>"
      ],
      "text/plain": [
       "<IPython.core.display.Markdown object>"
      ]
     },
     "metadata": {},
     "output_type": "display_data"
    },
    {
     "data": {
      "text/markdown": [
       "<span style='color:None'>Top Factor: 5 (Contribution: 0.0615)</span>"
      ],
      "text/plain": [
       "<IPython.core.display.Markdown object>"
      ]
     },
     "metadata": {},
     "output_type": "display_data"
    },
    {
     "data": {
      "text/markdown": [
       "<table style={float:left; align:left;}><tr><td>0.0297</td><td>Mean arterial pressure, combined automated + manual reading, adjusted by medication</td></tr><tr><td>0.0277</td><td>Mean arterial pressure, automated reading, adjusted by medication</td></tr><tr><td>0.0277</td><td>Systolic blood pressure, combined automated + manual reading, adjusted by medication</td></tr><tr><td>0.0263</td><td>Systolic blood pressure, automated reading, adjusted by medication</td></tr><tr><td>0.0218</td><td>Diastolic blood pressure, combined automated + manual reading, adjusted by medication</td></tr><tr><td>0.0211</td><td>Diastolic blood pressure, automated reading, adjusted by medication</td></tr><tr><td>0.0198</td><td>Mean arterial pressure, combined automated + manual reading</td></tr><tr><td>0.0194</td><td>Systolic blood pressure, combined automated + manual reading</td></tr><tr><td>0.0187</td><td>Mean arterial pressure, automated reading</td></tr><tr><td>0.0183</td><td>Systolic blood pressure, automated reading</td></tr><tr><td>0.0139</td><td>Diastolic blood pressure, combined automated + manual reading</td></tr><tr><td>0.0137</td><td>Non-cancer illness code, self-reported</td></tr><tr><td>0.0127</td><td>Diastolic blood pressure, automated reading</td></tr><tr><td>0.0116</td><td>Pulse pressure, combined automated + manual reading, adjusted by medication</td></tr><tr><td>0.0109</td><td>Pulse pressure, automated reading, adjusted by medication</td></tr></table>"
      ],
      "text/plain": [
       "<IPython.core.display.Markdown object>"
      ]
     },
     "metadata": {},
     "output_type": "display_data"
    },
    {
     "data": {
      "text/markdown": [
       "<span style='color:#c8635a'>**Raw Data**</span>"
      ],
      "text/plain": [
       "<IPython.core.display.Markdown object>"
      ]
     },
     "metadata": {},
     "output_type": "display_data"
    },
    {
     "data": {
      "text/markdown": [
       "<span style='color:None'>Top Factor: 38 (Contribution: 0.0717)</span>"
      ],
      "text/plain": [
       "<IPython.core.display.Markdown object>"
      ]
     },
     "metadata": {},
     "output_type": "display_data"
    },
    {
     "data": {
      "text/markdown": [
       "<table style={float:left; align:left;}><tr><td>0.0276</td><td>Corneal resistance factor (right)</td></tr><tr><td>0.0261</td><td>Corneal resistance factor (left)</td></tr><tr><td>0.0205</td><td>Urate</td></tr><tr><td>0.0165</td><td>Lipoprotein A</td></tr><tr><td>0.0159</td><td>Red blood cell (erythrocyte) distribution width</td></tr><tr><td>0.0155</td><td>Intra-ocular pressure, Goldmann-correlated (left)</td></tr><tr><td>0.0151</td><td>Alkaline phosphatase</td></tr><tr><td>0.0150</td><td>Intra-ocular pressure, Goldmann-correlated (right)</td></tr><tr><td>0.0148</td><td>Corneal hysteresis (right)</td></tr><tr><td>0.0137</td><td>Corneal hysteresis (left)</td></tr><tr><td>0.0133</td><td>Non-cancer illness code, self-reported</td></tr><tr><td>0.0112</td><td>Hypothyroidism NOS</td></tr><tr><td>0.0111</td><td>Hypothyroidism</td></tr><tr><td>0.0110</td><td>E03 Other hypothyroidism</td></tr><tr><td>0.0106</td><td>SHBG</td></tr></table>"
      ],
      "text/plain": [
       "<IPython.core.display.Markdown object>"
      ]
     },
     "metadata": {},
     "output_type": "display_data"
    },
    {
     "data": {
      "text/markdown": [
       "<h2>F31 Bipolar Affective Disorder</h2>"
      ],
      "text/plain": [
       "<IPython.core.display.Markdown object>"
      ]
     },
     "metadata": {},
     "output_type": "display_data"
    },
    {
     "data": {
      "text/markdown": [
       "<span style='color:#c8635a'>**RPCA-IALM**</span>"
      ],
      "text/plain": [
       "<IPython.core.display.Markdown object>"
      ]
     },
     "metadata": {},
     "output_type": "display_data"
    },
    {
     "data": {
      "text/markdown": [
       "<span style='color:None'>Top Factor: 92 (Contribution: 0.1087)</span>"
      ],
      "text/plain": [
       "<IPython.core.display.Markdown object>"
      ]
     },
     "metadata": {},
     "output_type": "display_data"
    },
    {
     "data": {
      "text/markdown": [
       "<table style={float:left; align:left;}><tr><td>0.0288</td><td>Varicose veins of lower extremity</td></tr><tr><td>0.0265</td><td>Varicose veins</td></tr><tr><td>0.0247</td><td>I83 Varicose veins of lower extremities</td></tr><tr><td>0.0180</td><td>Acquired foot deformities</td></tr><tr><td>0.0176</td><td>M20 Acquired deformities of fingers and toes</td></tr><tr><td>0.0154</td><td>Other non-epithelial cancer of skin</td></tr><tr><td>0.0148</td><td>C44 Other malignant neoplasms of skin</td></tr><tr><td>0.0143</td><td>Skin cancer</td></tr><tr><td>0.0118</td><td>Aortic aneurysm</td></tr><tr><td>0.0117</td><td>I71 Aortic aneurysm and dissection</td></tr><tr><td>0.0105</td><td>R06 Abnormalities of breathing</td></tr><tr><td>0.0103</td><td>Hallux valgus (Bunion)</td></tr><tr><td>0.0102</td><td>Respiratory abnormalities</td></tr><tr><td>0.0091</td><td>Macular degeneration (senile) of retina NOS</td></tr><tr><td>0.0090</td><td>Degeneration of macula and posterior pole of retina</td></tr></table>"
      ],
      "text/plain": [
       "<IPython.core.display.Markdown object>"
      ]
     },
     "metadata": {},
     "output_type": "display_data"
    },
    {
     "data": {
      "text/markdown": [
       "<span style='color:#c8635a'>**NNM-Sparse-FW**</span>"
      ],
      "text/plain": [
       "<IPython.core.display.Markdown object>"
      ]
     },
     "metadata": {},
     "output_type": "display_data"
    },
    {
     "data": {
      "text/markdown": [
       "<span style='color:None'>Top Factor: 23 (Contribution: 0.0730)</span>"
      ],
      "text/plain": [
       "<IPython.core.display.Markdown object>"
      ]
     },
     "metadata": {},
     "output_type": "display_data"
    },
    {
     "data": {
      "text/markdown": [
       "<table style={float:left; align:left;}><tr><td>0.0272</td><td>E66 Obesity</td></tr><tr><td>0.0271</td><td>Obesity</td></tr><tr><td>0.0186</td><td>Overweight, obesity and other hyperalimentation</td></tr><tr><td>0.0160</td><td>Body mass index (BMI)</td></tr><tr><td>0.0137</td><td>Ankle spacing width (right)</td></tr><tr><td>0.0113</td><td>Standing height</td></tr><tr><td>0.0086</td><td>Leg fat percentage (right)</td></tr><tr><td>0.0085</td><td>Ankle spacing width (left)</td></tr><tr><td>0.0075</td><td>Weight</td></tr><tr><td>0.0074</td><td>Pulse pressure, automated reading, adjusted by medication</td></tr><tr><td>0.0074</td><td>Pulse pressure, automated reading</td></tr><tr><td>0.0074</td><td>Pulse pressure, combined automated + manual reading</td></tr><tr><td>0.0065</td><td>proton pump inhibitor|PPI</td></tr><tr><td>0.0063</td><td>Weight</td></tr><tr><td>0.0062</td><td>calcium channel blocker|dihydropyridine|anti-hypertensive</td></tr></table>"
      ],
      "text/plain": [
       "<IPython.core.display.Markdown object>"
      ]
     },
     "metadata": {},
     "output_type": "display_data"
    },
    {
     "data": {
      "text/markdown": [
       "<span style='color:#c8635a'>**Raw Data**</span>"
      ],
      "text/plain": [
       "<IPython.core.display.Markdown object>"
      ]
     },
     "metadata": {},
     "output_type": "display_data"
    },
    {
     "data": {
      "text/markdown": [
       "<span style='color:None'>Top Factor: 45 (Contribution: 0.0787)</span>"
      ],
      "text/plain": [
       "<IPython.core.display.Markdown object>"
      ]
     },
     "metadata": {},
     "output_type": "display_data"
    },
    {
     "data": {
      "text/markdown": [
       "<table style={float:left; align:left;}><tr><td>0.0188</td><td>Mean carotid IMT (intima-medial thickness) at 210 degrees</td></tr><tr><td>0.0180</td><td>Mean carotid IMT (intima-medial thickness) at 240 degrees</td></tr><tr><td>0.0177</td><td>Lipoprotein A</td></tr><tr><td>0.0166</td><td>Mean carotid IMT (intima-medial thickness) at 120 degrees</td></tr><tr><td>0.0164</td><td>Mean carotid IMT (intima-medial thickness) at 150 degrees</td></tr><tr><td>0.0164</td><td>Maximum carotid IMT (intima-medial thickness) at 210 degrees</td></tr><tr><td>0.0158</td><td>Maximum carotid IMT (intima-medial thickness) at 240 degrees</td></tr><tr><td>0.0155</td><td>Minimum carotid IMT (intima-medial thickness) at 210 degrees</td></tr><tr><td>0.0145</td><td>Minimum carotid IMT (intima-medial thickness) at 240 degrees</td></tr><tr><td>0.0138</td><td>Minimum carotid IMT (intima-medial thickness) at 120 degrees</td></tr><tr><td>0.0138</td><td>Maximum carotid IMT (intima-medial thickness) at 120 degrees</td></tr><tr><td>0.0136</td><td>Maximum carotid IMT (intima-medial thickness) at 150 degrees</td></tr><tr><td>0.0132</td><td>Minimum carotid IMT (intima-medial thickness) at 150 degrees</td></tr><tr><td>0.0076</td><td>Urate</td></tr><tr><td>0.0068</td><td>Disorders of menstruation and other abnormal bleeding from female genital tract</td></tr></table>"
      ],
      "text/plain": [
       "<IPython.core.display.Markdown object>"
      ]
     },
     "metadata": {},
     "output_type": "display_data"
    },
    {
     "data": {
      "text/markdown": [
       "<h2>F32 Depressive Episode</h2>"
      ],
      "text/plain": [
       "<IPython.core.display.Markdown object>"
      ]
     },
     "metadata": {},
     "output_type": "display_data"
    },
    {
     "data": {
      "text/markdown": [
       "<span style='color:#c8635a'>**RPCA-IALM**</span>"
      ],
      "text/plain": [
       "<IPython.core.display.Markdown object>"
      ]
     },
     "metadata": {},
     "output_type": "display_data"
    },
    {
     "data": {
      "text/markdown": [
       "<span style='color:None'>Top Factor: 50 (Contribution: 0.1116)</span>"
      ],
      "text/plain": [
       "<IPython.core.display.Markdown object>"
      ]
     },
     "metadata": {},
     "output_type": "display_data"
    },
    {
     "data": {
      "text/markdown": [
       "<table style={float:left; align:left;}><tr><td>0.0225</td><td>I35 Nonrheumatic aortic valve disorders</td></tr><tr><td>0.0224</td><td>Nonrheumatic aortic valve disorders</td></tr><tr><td>0.0149</td><td>Late effects of cerebrovascular disease</td></tr><tr><td>0.0145</td><td>I69 Sequelae of cerebrovascular disease</td></tr><tr><td>0.0142</td><td>Cerebrovascular disease</td></tr><tr><td>0.0142</td><td>Congenital anomalies of great vessels</td></tr><tr><td>0.0131</td><td>Cardiac congenital anomalies</td></tr><tr><td>0.0123</td><td>Suicide or self-inflicted injury</td></tr><tr><td>0.0119</td><td>Heart valve disorders</td></tr><tr><td>0.0117</td><td>X61 Intentional self-poisoning by and exposure to antiepileptic, sedative-hypnotic, anti-Parkinsonism and psychotropic drugs, not elsewhere classified</td></tr><tr><td>0.0117</td><td>Hemiplegia</td></tr><tr><td>0.0115</td><td>G81 Hemiplegia</td></tr><tr><td>0.0114</td><td>Suicidal ideation or attempt</td></tr><tr><td>0.0114</td><td>T51 Toxic effect of alcohol</td></tr><tr><td>0.0114</td><td>Toxic effect of (non-ethyl) alcohol and petroleum and other solvents</td></tr></table>"
      ],
      "text/plain": [
       "<IPython.core.display.Markdown object>"
      ]
     },
     "metadata": {},
     "output_type": "display_data"
    },
    {
     "data": {
      "text/markdown": [
       "<span style='color:#c8635a'>**NNM-Sparse-FW**</span>"
      ],
      "text/plain": [
       "<IPython.core.display.Markdown object>"
      ]
     },
     "metadata": {},
     "output_type": "display_data"
    },
    {
     "data": {
      "text/markdown": [
       "<span style='color:None'>Top Factor: 5 (Contribution: 0.0612)</span>"
      ],
      "text/plain": [
       "<IPython.core.display.Markdown object>"
      ]
     },
     "metadata": {},
     "output_type": "display_data"
    },
    {
     "data": {
      "text/markdown": [
       "<table style={float:left; align:left;}><tr><td>0.0297</td><td>Mean arterial pressure, combined automated + manual reading, adjusted by medication</td></tr><tr><td>0.0277</td><td>Mean arterial pressure, automated reading, adjusted by medication</td></tr><tr><td>0.0277</td><td>Systolic blood pressure, combined automated + manual reading, adjusted by medication</td></tr><tr><td>0.0263</td><td>Systolic blood pressure, automated reading, adjusted by medication</td></tr><tr><td>0.0218</td><td>Diastolic blood pressure, combined automated + manual reading, adjusted by medication</td></tr><tr><td>0.0211</td><td>Diastolic blood pressure, automated reading, adjusted by medication</td></tr><tr><td>0.0198</td><td>Mean arterial pressure, combined automated + manual reading</td></tr><tr><td>0.0194</td><td>Systolic blood pressure, combined automated + manual reading</td></tr><tr><td>0.0187</td><td>Mean arterial pressure, automated reading</td></tr><tr><td>0.0183</td><td>Systolic blood pressure, automated reading</td></tr><tr><td>0.0139</td><td>Diastolic blood pressure, combined automated + manual reading</td></tr><tr><td>0.0137</td><td>Non-cancer illness code, self-reported</td></tr><tr><td>0.0127</td><td>Diastolic blood pressure, automated reading</td></tr><tr><td>0.0116</td><td>Pulse pressure, combined automated + manual reading, adjusted by medication</td></tr><tr><td>0.0109</td><td>Pulse pressure, automated reading, adjusted by medication</td></tr></table>"
      ],
      "text/plain": [
       "<IPython.core.display.Markdown object>"
      ]
     },
     "metadata": {},
     "output_type": "display_data"
    },
    {
     "data": {
      "text/markdown": [
       "<span style='color:#c8635a'>**Raw Data**</span>"
      ],
      "text/plain": [
       "<IPython.core.display.Markdown object>"
      ]
     },
     "metadata": {},
     "output_type": "display_data"
    },
    {
     "data": {
      "text/markdown": [
       "<span style='color:None'>Top Factor: 45 (Contribution: 0.0855)</span>"
      ],
      "text/plain": [
       "<IPython.core.display.Markdown object>"
      ]
     },
     "metadata": {},
     "output_type": "display_data"
    },
    {
     "data": {
      "text/markdown": [
       "<table style={float:left; align:left;}><tr><td>0.0188</td><td>Mean carotid IMT (intima-medial thickness) at 210 degrees</td></tr><tr><td>0.0180</td><td>Mean carotid IMT (intima-medial thickness) at 240 degrees</td></tr><tr><td>0.0177</td><td>Lipoprotein A</td></tr><tr><td>0.0166</td><td>Mean carotid IMT (intima-medial thickness) at 120 degrees</td></tr><tr><td>0.0164</td><td>Mean carotid IMT (intima-medial thickness) at 150 degrees</td></tr><tr><td>0.0164</td><td>Maximum carotid IMT (intima-medial thickness) at 210 degrees</td></tr><tr><td>0.0158</td><td>Maximum carotid IMT (intima-medial thickness) at 240 degrees</td></tr><tr><td>0.0155</td><td>Minimum carotid IMT (intima-medial thickness) at 210 degrees</td></tr><tr><td>0.0145</td><td>Minimum carotid IMT (intima-medial thickness) at 240 degrees</td></tr><tr><td>0.0138</td><td>Minimum carotid IMT (intima-medial thickness) at 120 degrees</td></tr><tr><td>0.0138</td><td>Maximum carotid IMT (intima-medial thickness) at 120 degrees</td></tr><tr><td>0.0136</td><td>Maximum carotid IMT (intima-medial thickness) at 150 degrees</td></tr><tr><td>0.0132</td><td>Minimum carotid IMT (intima-medial thickness) at 150 degrees</td></tr><tr><td>0.0076</td><td>Urate</td></tr><tr><td>0.0068</td><td>Disorders of menstruation and other abnormal bleeding from female genital tract</td></tr></table>"
      ],
      "text/plain": [
       "<IPython.core.display.Markdown object>"
      ]
     },
     "metadata": {},
     "output_type": "display_data"
    },
    {
     "data": {
      "text/markdown": [
       "<h2>F41 Other Anxiety Disorders</h2>"
      ],
      "text/plain": [
       "<IPython.core.display.Markdown object>"
      ]
     },
     "metadata": {},
     "output_type": "display_data"
    },
    {
     "data": {
      "text/markdown": [
       "<span style='color:#c8635a'>**RPCA-IALM**</span>"
      ],
      "text/plain": [
       "<IPython.core.display.Markdown object>"
      ]
     },
     "metadata": {},
     "output_type": "display_data"
    },
    {
     "data": {
      "text/markdown": [
       "<span style='color:None'>Top Factor: 100 (Contribution: 0.0925)</span>"
      ],
      "text/plain": [
       "<IPython.core.display.Markdown object>"
      ]
     },
     "metadata": {},
     "output_type": "display_data"
    },
    {
     "data": {
      "text/markdown": [
       "<table style={float:left; align:left;}><tr><td>0.0203</td><td>Varicose veins of lower extremity</td></tr><tr><td>0.0185</td><td>Varicose veins</td></tr><tr><td>0.0172</td><td>I83 Varicose veins of lower extremities</td></tr><tr><td>0.0169</td><td>Indirect bilirubin</td></tr><tr><td>0.0165</td><td>Total bilirubin</td></tr><tr><td>0.0130</td><td>Direct bilirubin</td></tr><tr><td>0.0102</td><td>Bacterial pneumonia</td></tr><tr><td>0.0102</td><td>Psoriasis</td></tr><tr><td>0.0099</td><td>Pneumococcal pneumonia</td></tr><tr><td>0.0097</td><td>Monocyte percentage</td></tr><tr><td>0.0096</td><td>L40 Psoriasis</td></tr><tr><td>0.0095</td><td>Pneumonia</td></tr><tr><td>0.0092</td><td>J18 Pneumonia, organism unspecified</td></tr><tr><td>0.0092</td><td>Psoriasis and related disorders</td></tr><tr><td>0.0078</td><td>Cardiac arrest</td></tr></table>"
      ],
      "text/plain": [
       "<IPython.core.display.Markdown object>"
      ]
     },
     "metadata": {},
     "output_type": "display_data"
    },
    {
     "data": {
      "text/markdown": [
       "<span style='color:#c8635a'>**NNM-Sparse-FW**</span>"
      ],
      "text/plain": [
       "<IPython.core.display.Markdown object>"
      ]
     },
     "metadata": {},
     "output_type": "display_data"
    },
    {
     "data": {
      "text/markdown": [
       "<span style='color:None'>Top Factor: 93 (Contribution: 0.0847)</span>"
      ],
      "text/plain": [
       "<IPython.core.display.Markdown object>"
      ]
     },
     "metadata": {},
     "output_type": "display_data"
    },
    {
     "data": {
      "text/markdown": [
       "<table style={float:left; align:left;}><tr><td>0.0244</td><td>Impedance of arm (right)</td></tr><tr><td>0.0191</td><td>Trunk fat mass</td></tr><tr><td>0.0179</td><td>E11 Non-insulin-dependent diabetes mellitus</td></tr><tr><td>0.0148</td><td>Impedance of leg (right)</td></tr><tr><td>0.0123</td><td>Type 2 diabetes</td></tr><tr><td>0.0104</td><td>Leg fat-free mass (left)</td></tr><tr><td>0.0102</td><td>Leg fat mass (left)</td></tr><tr><td>0.0100</td><td>Leg fat mass (right)</td></tr><tr><td>0.0100</td><td>doxycycline</td></tr><tr><td>0.0100</td><td>Whole body water mass</td></tr><tr><td>0.0090</td><td>Body mass index (BMI)</td></tr><tr><td>0.0087</td><td>Trunk fat percentage</td></tr><tr><td>0.0086</td><td>tetracycline antibiotic|antibiotic</td></tr><tr><td>0.0081</td><td>ramipril</td></tr><tr><td>0.0077</td><td>Cystatin C</td></tr></table>"
      ],
      "text/plain": [
       "<IPython.core.display.Markdown object>"
      ]
     },
     "metadata": {},
     "output_type": "display_data"
    },
    {
     "data": {
      "text/markdown": [
       "<span style='color:#c8635a'>**Raw Data**</span>"
      ],
      "text/plain": [
       "<IPython.core.display.Markdown object>"
      ]
     },
     "metadata": {},
     "output_type": "display_data"
    },
    {
     "data": {
      "text/markdown": [
       "<span style='color:None'>Top Factor: 53 (Contribution: 0.0682)</span>"
      ],
      "text/plain": [
       "<IPython.core.display.Markdown object>"
      ]
     },
     "metadata": {},
     "output_type": "display_data"
    },
    {
     "data": {
      "text/markdown": [
       "<table style={float:left; align:left;}><tr><td>0.0102</td><td>Corneal resistance factor (right)</td></tr><tr><td>0.0096</td><td>X61 Intentional self-poisoning by and exposure to antiepileptic, sedative-hypnotic, anti-Parkinsonism and psychotropic drugs, not elsewhere classified</td></tr><tr><td>0.0091</td><td>Corneal resistance factor (left)</td></tr><tr><td>0.0090</td><td>Poisoning by psychotropic agents</td></tr><tr><td>0.0085</td><td>SHBG</td></tr><tr><td>0.0083</td><td>T43 Poisoning by psychotropic drugs, not elsewhere classified</td></tr><tr><td>0.0083</td><td>Suicide or self-inflicted injury</td></tr><tr><td>0.0080</td><td>Suicidal ideation or attempt</td></tr><tr><td>0.0075</td><td>Home location - north co-ordinate (rounded)</td></tr><tr><td>0.0075</td><td>Home location at assessment - north co-ordinate (rounded)</td></tr><tr><td>0.0074</td><td>Toxic effect of (non-ethyl) alcohol and petroleum and other solvents</td></tr><tr><td>0.0073</td><td>T51 Toxic effect of alcohol</td></tr><tr><td>0.0073</td><td>T39 Poisoning by nonopioid analgesics, antipyretics and antirheumatics</td></tr><tr><td>0.0073</td><td>Corneal hysteresis (right)</td></tr><tr><td>0.0072</td><td>X60 Intentional self-poisoning by and exposure to nonopioid analgesics, antipyretics and antirheumatics</td></tr></table>"
      ],
      "text/plain": [
       "<IPython.core.display.Markdown object>"
      ]
     },
     "metadata": {},
     "output_type": "display_data"
    }
   ],
   "source": [
    "for z in range(52,58):\n",
    "    pan_ukb_pleiotropy(z)"
   ]
  },
  {
   "cell_type": "code",
   "execution_count": 109,
   "id": "02820fe0-6464-48c2-bc63-497c3bba23cb",
   "metadata": {},
   "outputs": [
    {
     "data": {
      "text/markdown": [
       "<h2>Other Mental Disorder</h2>"
      ],
      "text/plain": [
       "<IPython.core.display.Markdown object>"
      ]
     },
     "metadata": {},
     "output_type": "display_data"
    },
    {
     "data": {
      "text/markdown": [
       "<span style='color:#c8635a'>**RPCA-IALM**</span>"
      ],
      "text/plain": [
       "<IPython.core.display.Markdown object>"
      ]
     },
     "metadata": {},
     "output_type": "display_data"
    },
    {
     "data": {
      "text/markdown": [
       "<span style='color:None'>Top Factor: 6 (Contribution: 0.1623)</span>"
      ],
      "text/plain": [
       "<IPython.core.display.Markdown object>"
      ]
     },
     "metadata": {},
     "output_type": "display_data"
    },
    {
     "data": {
      "text/markdown": [
       "<table style={float:left; align:left;}><tr><td>0.0290</td><td>Trunk fat percentage</td></tr><tr><td>0.0231</td><td>Body fat percentage</td></tr><tr><td>0.0229</td><td>Impedance of whole body</td></tr><tr><td>0.0226</td><td>Impedance of arm (right)</td></tr><tr><td>0.0224</td><td>Impedance of arm (left)</td></tr><tr><td>0.0194</td><td>Trunk fat mass</td></tr><tr><td>0.0155</td><td>Arm fat percentage (left)</td></tr><tr><td>0.0154</td><td>Whole body fat mass</td></tr><tr><td>0.0153</td><td>Arm fat percentage (right)</td></tr><tr><td>0.0139</td><td>Leg fat percentage (right)</td></tr><tr><td>0.0133</td><td>Leg fat percentage (left)</td></tr><tr><td>0.0132</td><td>Impedance of leg (left)</td></tr><tr><td>0.0129</td><td>Impedance of leg (right)</td></tr><tr><td>0.0090</td><td>Leg fat mass (right)</td></tr><tr><td>0.0088</td><td>Arm fat mass (left)</td></tr></table>"
      ],
      "text/plain": [
       "<IPython.core.display.Markdown object>"
      ]
     },
     "metadata": {},
     "output_type": "display_data"
    },
    {
     "data": {
      "text/markdown": [
       "<span style='color:#c8635a'>**NNM-Sparse-FW**</span>"
      ],
      "text/plain": [
       "<IPython.core.display.Markdown object>"
      ]
     },
     "metadata": {},
     "output_type": "display_data"
    },
    {
     "data": {
      "text/markdown": [
       "<span style='color:None'>Top Factor: 82 (Contribution: 0.0722)</span>"
      ],
      "text/plain": [
       "<IPython.core.display.Markdown object>"
      ]
     },
     "metadata": {},
     "output_type": "display_data"
    },
    {
     "data": {
      "text/markdown": [
       "<table style={float:left; align:left;}><tr><td>0.0312</td><td>Body mass index (BMI)</td></tr><tr><td>0.0297</td><td>Leg predicted mass (left)</td></tr><tr><td>0.0226</td><td>Leg fat percentage (left)</td></tr><tr><td>0.0159</td><td>Arm fat mass (left)</td></tr><tr><td>0.0128</td><td>Body mass index (BMI)</td></tr><tr><td>0.0097</td><td>Whole body fat mass</td></tr><tr><td>0.0094</td><td>Diastolic blood pressure, automated reading, adjusted by medication</td></tr><tr><td>0.0088</td><td>Hand grip strength (left)</td></tr><tr><td>0.0082</td><td>aspirin</td></tr><tr><td>0.0082</td><td>Arm fat-free mass (left)</td></tr><tr><td>0.0081</td><td>SHBG</td></tr><tr><td>0.0073</td><td>Treatment/medication code</td></tr><tr><td>0.0072</td><td>I25 Chronic ischaemic heart disease</td></tr><tr><td>0.0069</td><td>corticosteroid</td></tr><tr><td>0.0068</td><td>C-reactive protein</td></tr></table>"
      ],
      "text/plain": [
       "<IPython.core.display.Markdown object>"
      ]
     },
     "metadata": {},
     "output_type": "display_data"
    },
    {
     "data": {
      "text/markdown": [
       "<span style='color:#c8635a'>**Raw Data**</span>"
      ],
      "text/plain": [
       "<IPython.core.display.Markdown object>"
      ]
     },
     "metadata": {},
     "output_type": "display_data"
    },
    {
     "data": {
      "text/markdown": [
       "<span style='color:None'>Top Factor: 10 (Contribution: 0.1058)</span>"
      ],
      "text/plain": [
       "<IPython.core.display.Markdown object>"
      ]
     },
     "metadata": {},
     "output_type": "display_data"
    },
    {
     "data": {
      "text/markdown": [
       "<table style={float:left; align:left;}><tr><td>0.0384</td><td>High light scatter reticulocyte percentage</td></tr><tr><td>0.0375</td><td>Mean corpuscular haemoglobin</td></tr><tr><td>0.0339</td><td>Mean corpuscular volume</td></tr><tr><td>0.0326</td><td>High light scatter reticulocyte count</td></tr><tr><td>0.0324</td><td>Reticulocyte percentage</td></tr><tr><td>0.0254</td><td>Reticulocyte count</td></tr><tr><td>0.0235</td><td>Impedance of whole body</td></tr><tr><td>0.0212</td><td>Impedance of arm (right)</td></tr><tr><td>0.0203</td><td>Impedance of arm (left)</td></tr><tr><td>0.0188</td><td>Immature reticulocyte fraction</td></tr><tr><td>0.0176</td><td>Impedance of leg (left)</td></tr><tr><td>0.0172</td><td>Impedance of leg (right)</td></tr><tr><td>0.0145</td><td>Trunk fat percentage</td></tr><tr><td>0.0140</td><td>Red blood cell (erythrocyte) distribution width</td></tr><tr><td>0.0121</td><td>Standing height</td></tr></table>"
      ],
      "text/plain": [
       "<IPython.core.display.Markdown object>"
      ]
     },
     "metadata": {},
     "output_type": "display_data"
    },
    {
     "data": {
      "text/markdown": [
       "<h2>Substance Addiction And Disorders</h2>"
      ],
      "text/plain": [
       "<IPython.core.display.Markdown object>"
      ]
     },
     "metadata": {},
     "output_type": "display_data"
    },
    {
     "data": {
      "text/markdown": [
       "<span style='color:#c8635a'>**RPCA-IALM**</span>"
      ],
      "text/plain": [
       "<IPython.core.display.Markdown object>"
      ]
     },
     "metadata": {},
     "output_type": "display_data"
    },
    {
     "data": {
      "text/markdown": [
       "<span style='color:None'>Top Factor: 94 (Contribution: 0.0746)</span>"
      ],
      "text/plain": [
       "<IPython.core.display.Markdown object>"
      ]
     },
     "metadata": {},
     "output_type": "display_data"
    },
    {
     "data": {
      "text/markdown": [
       "<table style={float:left; align:left;}><tr><td>0.0258</td><td>Intra-ocular pressure, corneal-compensated (right)</td></tr><tr><td>0.0234</td><td>Intra-ocular pressure, corneal-compensated (left)</td></tr><tr><td>0.0195</td><td>Hypotension NOS</td></tr><tr><td>0.0195</td><td>I95 Hypotension</td></tr><tr><td>0.0191</td><td>H40 Glaucoma</td></tr><tr><td>0.0180</td><td>Glaucoma</td></tr><tr><td>0.0178</td><td>Open-angle glaucoma</td></tr><tr><td>0.0176</td><td>Primary open angle glaucoma</td></tr><tr><td>0.0155</td><td>Hypotension</td></tr><tr><td>0.0132</td><td>Corneal hysteresis (right)</td></tr><tr><td>0.0124</td><td>Intra-ocular pressure, Goldmann-correlated (right)</td></tr><tr><td>0.0124</td><td>Corneal hysteresis (left)</td></tr><tr><td>0.0111</td><td>Intra-ocular pressure, Goldmann-correlated (left)</td></tr><tr><td>0.0110</td><td>Inguinal hernia</td></tr><tr><td>0.0102</td><td>K40 Inguinal hernia</td></tr></table>"
      ],
      "text/plain": [
       "<IPython.core.display.Markdown object>"
      ]
     },
     "metadata": {},
     "output_type": "display_data"
    },
    {
     "data": {
      "text/markdown": [
       "<span style='color:#c8635a'>**NNM-Sparse-FW**</span>"
      ],
      "text/plain": [
       "<IPython.core.display.Markdown object>"
      ]
     },
     "metadata": {},
     "output_type": "display_data"
    },
    {
     "data": {
      "text/markdown": [
       "<span style='color:None'>Top Factor: 32 (Contribution: 0.0623)</span>"
      ],
      "text/plain": [
       "<IPython.core.display.Markdown object>"
      ]
     },
     "metadata": {},
     "output_type": "display_data"
    },
    {
     "data": {
      "text/markdown": [
       "<table style={float:left; align:left;}><tr><td>0.0387</td><td>Trunk fat mass</td></tr><tr><td>0.0221</td><td>Trunk fat-free mass</td></tr><tr><td>0.0160</td><td>Whole body fat mass</td></tr><tr><td>0.0147</td><td>NSAID|non-steroidal anti-inflammatory drug</td></tr><tr><td>0.0113</td><td>Ankle spacing width</td></tr><tr><td>0.0108</td><td>I25 Chronic ischaemic heart disease</td></tr><tr><td>0.0106</td><td>Multi-site chronic pain</td></tr><tr><td>0.0102</td><td>Comparative height size at age 10</td></tr><tr><td>0.0098</td><td>Leg predicted mass (right)</td></tr><tr><td>0.0094</td><td>Drive faster than motorway speed limit</td></tr><tr><td>0.0092</td><td>Hand grip strength (left)</td></tr><tr><td>0.0089</td><td>ibuprofen</td></tr><tr><td>0.0087</td><td>Impedance of leg (right)</td></tr><tr><td>0.0078</td><td>Hip circumference</td></tr><tr><td>0.0078</td><td>Diastolic blood pressure, combined automated + manual reading</td></tr></table>"
      ],
      "text/plain": [
       "<IPython.core.display.Markdown object>"
      ]
     },
     "metadata": {},
     "output_type": "display_data"
    },
    {
     "data": {
      "text/markdown": [
       "<span style='color:#c8635a'>**Raw Data**</span>"
      ],
      "text/plain": [
       "<IPython.core.display.Markdown object>"
      ]
     },
     "metadata": {},
     "output_type": "display_data"
    },
    {
     "data": {
      "text/markdown": [
       "<span style='color:None'>Top Factor: 56 (Contribution: 0.1156)</span>"
      ],
      "text/plain": [
       "<IPython.core.display.Markdown object>"
      ]
     },
     "metadata": {},
     "output_type": "display_data"
    },
    {
     "data": {
      "text/markdown": [
       "<table style={float:left; align:left;}><tr><td>0.0227</td><td>Alkaline phosphatase</td></tr><tr><td>0.0134</td><td>Red blood cell (erythrocyte) distribution width</td></tr><tr><td>0.0104</td><td>Albumin</td></tr><tr><td>0.0079</td><td>Alanine aminotransferase</td></tr><tr><td>0.0077</td><td>Estimated glomerular filtration rate, serum creatinine + cystain C</td></tr><tr><td>0.0072</td><td>Other disorders of bladder</td></tr><tr><td>0.0071</td><td>Aspartate aminotransferase</td></tr><tr><td>0.0071</td><td>Other retinal disorders</td></tr><tr><td>0.0065</td><td>Cystatin C</td></tr><tr><td>0.0064</td><td>N32 Other disorders of bladder</td></tr><tr><td>0.0062</td><td>Calcium</td></tr><tr><td>0.0061</td><td>Gamma glutamyltransferase</td></tr><tr><td>0.0057</td><td>Diabetic retinopathy</td></tr><tr><td>0.0057</td><td>Hereditary retinal dystrophies</td></tr><tr><td>0.0057</td><td>H36 Retinal disorders in diseases classified elsewhere</td></tr></table>"
      ],
      "text/plain": [
       "<IPython.core.display.Markdown object>"
      ]
     },
     "metadata": {},
     "output_type": "display_data"
    },
    {
     "data": {
      "text/markdown": [
       "<h2>Alcohol-Related Disorders</h2>"
      ],
      "text/plain": [
       "<IPython.core.display.Markdown object>"
      ]
     },
     "metadata": {},
     "output_type": "display_data"
    },
    {
     "data": {
      "text/markdown": [
       "<span style='color:#c8635a'>**RPCA-IALM**</span>"
      ],
      "text/plain": [
       "<IPython.core.display.Markdown object>"
      ]
     },
     "metadata": {},
     "output_type": "display_data"
    },
    {
     "data": {
      "text/markdown": [
       "<span style='color:None'>Top Factor: 57 (Contribution: 0.0858)</span>"
      ],
      "text/plain": [
       "<IPython.core.display.Markdown object>"
      ]
     },
     "metadata": {},
     "output_type": "display_data"
    },
    {
     "data": {
      "text/markdown": [
       "<table style={float:left; align:left;}><tr><td>0.0175</td><td>J44 Other chronic obstructive pulmonary disease</td></tr><tr><td>0.0170</td><td>Obstructive chronic bronchitis</td></tr><tr><td>0.0160</td><td>Chronic bronchitis</td></tr><tr><td>0.0132</td><td>Pulmonary embolism and infarction, acute</td></tr><tr><td>0.0132</td><td>Acute pulmonary heart disease</td></tr><tr><td>0.0130</td><td>Chronic airway obstruction</td></tr><tr><td>0.0121</td><td>I26 Pulmonary embolism</td></tr><tr><td>0.0113</td><td>HDL cholesterol</td></tr><tr><td>0.0105</td><td>Apolipoprotein A</td></tr><tr><td>0.0093</td><td>Total thigh muscle volume</td></tr><tr><td>0.0082</td><td>Pulmonary heart disease</td></tr><tr><td>0.0075</td><td>Alcohol intake frequency.</td></tr><tr><td>0.0073</td><td>Posterior thigh lean muscle volume (right)</td></tr><tr><td>0.0072</td><td>Posterior thigh lean muscle volume (left)</td></tr><tr><td>0.0068</td><td>K57 Diverticular disease of intestine</td></tr></table>"
      ],
      "text/plain": [
       "<IPython.core.display.Markdown object>"
      ]
     },
     "metadata": {},
     "output_type": "display_data"
    },
    {
     "data": {
      "text/markdown": [
       "<span style='color:#c8635a'>**NNM-Sparse-FW**</span>"
      ],
      "text/plain": [
       "<IPython.core.display.Markdown object>"
      ]
     },
     "metadata": {},
     "output_type": "display_data"
    },
    {
     "data": {
      "text/markdown": [
       "<span style='color:None'>Top Factor: 5 (Contribution: 0.0513)</span>"
      ],
      "text/plain": [
       "<IPython.core.display.Markdown object>"
      ]
     },
     "metadata": {},
     "output_type": "display_data"
    },
    {
     "data": {
      "text/markdown": [
       "<table style={float:left; align:left;}><tr><td>0.0297</td><td>Mean arterial pressure, combined automated + manual reading, adjusted by medication</td></tr><tr><td>0.0277</td><td>Mean arterial pressure, automated reading, adjusted by medication</td></tr><tr><td>0.0277</td><td>Systolic blood pressure, combined automated + manual reading, adjusted by medication</td></tr><tr><td>0.0263</td><td>Systolic blood pressure, automated reading, adjusted by medication</td></tr><tr><td>0.0218</td><td>Diastolic blood pressure, combined automated + manual reading, adjusted by medication</td></tr><tr><td>0.0211</td><td>Diastolic blood pressure, automated reading, adjusted by medication</td></tr><tr><td>0.0198</td><td>Mean arterial pressure, combined automated + manual reading</td></tr><tr><td>0.0194</td><td>Systolic blood pressure, combined automated + manual reading</td></tr><tr><td>0.0187</td><td>Mean arterial pressure, automated reading</td></tr><tr><td>0.0183</td><td>Systolic blood pressure, automated reading</td></tr><tr><td>0.0139</td><td>Diastolic blood pressure, combined automated + manual reading</td></tr><tr><td>0.0137</td><td>Non-cancer illness code, self-reported</td></tr><tr><td>0.0127</td><td>Diastolic blood pressure, automated reading</td></tr><tr><td>0.0116</td><td>Pulse pressure, combined automated + manual reading, adjusted by medication</td></tr><tr><td>0.0109</td><td>Pulse pressure, automated reading, adjusted by medication</td></tr></table>"
      ],
      "text/plain": [
       "<IPython.core.display.Markdown object>"
      ]
     },
     "metadata": {},
     "output_type": "display_data"
    },
    {
     "data": {
      "text/markdown": [
       "<span style='color:#c8635a'>**Raw Data**</span>"
      ],
      "text/plain": [
       "<IPython.core.display.Markdown object>"
      ]
     },
     "metadata": {},
     "output_type": "display_data"
    },
    {
     "data": {
      "text/markdown": [
       "<span style='color:None'>Top Factor: 56 (Contribution: 0.1049)</span>"
      ],
      "text/plain": [
       "<IPython.core.display.Markdown object>"
      ]
     },
     "metadata": {},
     "output_type": "display_data"
    },
    {
     "data": {
      "text/markdown": [
       "<table style={float:left; align:left;}><tr><td>0.0227</td><td>Alkaline phosphatase</td></tr><tr><td>0.0134</td><td>Red blood cell (erythrocyte) distribution width</td></tr><tr><td>0.0104</td><td>Albumin</td></tr><tr><td>0.0079</td><td>Alanine aminotransferase</td></tr><tr><td>0.0077</td><td>Estimated glomerular filtration rate, serum creatinine + cystain C</td></tr><tr><td>0.0072</td><td>Other disorders of bladder</td></tr><tr><td>0.0071</td><td>Aspartate aminotransferase</td></tr><tr><td>0.0071</td><td>Other retinal disorders</td></tr><tr><td>0.0065</td><td>Cystatin C</td></tr><tr><td>0.0064</td><td>N32 Other disorders of bladder</td></tr><tr><td>0.0062</td><td>Calcium</td></tr><tr><td>0.0061</td><td>Gamma glutamyltransferase</td></tr><tr><td>0.0057</td><td>Diabetic retinopathy</td></tr><tr><td>0.0057</td><td>Hereditary retinal dystrophies</td></tr><tr><td>0.0057</td><td>H36 Retinal disorders in diseases classified elsewhere</td></tr></table>"
      ],
      "text/plain": [
       "<IPython.core.display.Markdown object>"
      ]
     },
     "metadata": {},
     "output_type": "display_data"
    },
    {
     "data": {
      "text/markdown": [
       "<h2>Alcoholism</h2>"
      ],
      "text/plain": [
       "<IPython.core.display.Markdown object>"
      ]
     },
     "metadata": {},
     "output_type": "display_data"
    },
    {
     "data": {
      "text/markdown": [
       "<span style='color:#c8635a'>**RPCA-IALM**</span>"
      ],
      "text/plain": [
       "<IPython.core.display.Markdown object>"
      ]
     },
     "metadata": {},
     "output_type": "display_data"
    },
    {
     "data": {
      "text/markdown": [
       "<span style='color:None'>Top Factor: 94 (Contribution: 0.0867)</span>"
      ],
      "text/plain": [
       "<IPython.core.display.Markdown object>"
      ]
     },
     "metadata": {},
     "output_type": "display_data"
    },
    {
     "data": {
      "text/markdown": [
       "<table style={float:left; align:left;}><tr><td>0.0258</td><td>Intra-ocular pressure, corneal-compensated (right)</td></tr><tr><td>0.0234</td><td>Intra-ocular pressure, corneal-compensated (left)</td></tr><tr><td>0.0195</td><td>Hypotension NOS</td></tr><tr><td>0.0195</td><td>I95 Hypotension</td></tr><tr><td>0.0191</td><td>H40 Glaucoma</td></tr><tr><td>0.0180</td><td>Glaucoma</td></tr><tr><td>0.0178</td><td>Open-angle glaucoma</td></tr><tr><td>0.0176</td><td>Primary open angle glaucoma</td></tr><tr><td>0.0155</td><td>Hypotension</td></tr><tr><td>0.0132</td><td>Corneal hysteresis (right)</td></tr><tr><td>0.0124</td><td>Intra-ocular pressure, Goldmann-correlated (right)</td></tr><tr><td>0.0124</td><td>Corneal hysteresis (left)</td></tr><tr><td>0.0111</td><td>Intra-ocular pressure, Goldmann-correlated (left)</td></tr><tr><td>0.0110</td><td>Inguinal hernia</td></tr><tr><td>0.0102</td><td>K40 Inguinal hernia</td></tr></table>"
      ],
      "text/plain": [
       "<IPython.core.display.Markdown object>"
      ]
     },
     "metadata": {},
     "output_type": "display_data"
    },
    {
     "data": {
      "text/markdown": [
       "<span style='color:#c8635a'>**NNM-Sparse-FW**</span>"
      ],
      "text/plain": [
       "<IPython.core.display.Markdown object>"
      ]
     },
     "metadata": {},
     "output_type": "display_data"
    },
    {
     "data": {
      "text/markdown": [
       "<span style='color:None'>Top Factor: 15 (Contribution: 0.0573)</span>"
      ],
      "text/plain": [
       "<IPython.core.display.Markdown object>"
      ]
     },
     "metadata": {},
     "output_type": "display_data"
    },
    {
     "data": {
      "text/markdown": [
       "<table style={float:left; align:left;}><tr><td>0.0670</td><td>Essential hypertension</td></tr><tr><td>0.0596</td><td>Hypertension</td></tr><tr><td>0.0278</td><td>E78 Disorders of lipoprotein metabolism and other lipidaemias</td></tr><tr><td>0.0271</td><td>Disorders of lipoid metabolism</td></tr><tr><td>0.0265</td><td>Hypercholesterolemia</td></tr><tr><td>0.0256</td><td>Hyperlipidemia</td></tr><tr><td>0.0252</td><td>Ischemic Heart Disease</td></tr><tr><td>0.0197</td><td>Other chronic ischemic heart disease, unspecified</td></tr><tr><td>0.0174</td><td>I25 Chronic ischaemic heart disease</td></tr><tr><td>0.0138</td><td>antipyretic</td></tr><tr><td>0.0138</td><td>paracetamol</td></tr><tr><td>0.0134</td><td>opioid analgesic|antipyretic</td></tr><tr><td>0.0130</td><td>Angina pectoris</td></tr><tr><td>0.0111</td><td>E11 Non-insulin-dependent diabetes mellitus</td></tr><tr><td>0.0100</td><td>Leg fat mass (left)</td></tr></table>"
      ],
      "text/plain": [
       "<IPython.core.display.Markdown object>"
      ]
     },
     "metadata": {},
     "output_type": "display_data"
    },
    {
     "data": {
      "text/markdown": [
       "<span style='color:#c8635a'>**Raw Data**</span>"
      ],
      "text/plain": [
       "<IPython.core.display.Markdown object>"
      ]
     },
     "metadata": {},
     "output_type": "display_data"
    },
    {
     "data": {
      "text/markdown": [
       "<span style='color:None'>Top Factor: 56 (Contribution: 0.0766)</span>"
      ],
      "text/plain": [
       "<IPython.core.display.Markdown object>"
      ]
     },
     "metadata": {},
     "output_type": "display_data"
    },
    {
     "data": {
      "text/markdown": [
       "<table style={float:left; align:left;}><tr><td>0.0227</td><td>Alkaline phosphatase</td></tr><tr><td>0.0134</td><td>Red blood cell (erythrocyte) distribution width</td></tr><tr><td>0.0104</td><td>Albumin</td></tr><tr><td>0.0079</td><td>Alanine aminotransferase</td></tr><tr><td>0.0077</td><td>Estimated glomerular filtration rate, serum creatinine + cystain C</td></tr><tr><td>0.0072</td><td>Other disorders of bladder</td></tr><tr><td>0.0071</td><td>Aspartate aminotransferase</td></tr><tr><td>0.0071</td><td>Other retinal disorders</td></tr><tr><td>0.0065</td><td>Cystatin C</td></tr><tr><td>0.0064</td><td>N32 Other disorders of bladder</td></tr><tr><td>0.0062</td><td>Calcium</td></tr><tr><td>0.0061</td><td>Gamma glutamyltransferase</td></tr><tr><td>0.0057</td><td>Diabetic retinopathy</td></tr><tr><td>0.0057</td><td>Hereditary retinal dystrophies</td></tr><tr><td>0.0057</td><td>H36 Retinal disorders in diseases classified elsewhere</td></tr></table>"
      ],
      "text/plain": [
       "<IPython.core.display.Markdown object>"
      ]
     },
     "metadata": {},
     "output_type": "display_data"
    },
    {
     "data": {
      "text/markdown": [
       "<h2>Alcoholic Liver Damage</h2>"
      ],
      "text/plain": [
       "<IPython.core.display.Markdown object>"
      ]
     },
     "metadata": {},
     "output_type": "display_data"
    },
    {
     "data": {
      "text/markdown": [
       "<span style='color:#c8635a'>**RPCA-IALM**</span>"
      ],
      "text/plain": [
       "<IPython.core.display.Markdown object>"
      ]
     },
     "metadata": {},
     "output_type": "display_data"
    },
    {
     "data": {
      "text/markdown": [
       "<span style='color:None'>Top Factor: 94 (Contribution: 0.0981)</span>"
      ],
      "text/plain": [
       "<IPython.core.display.Markdown object>"
      ]
     },
     "metadata": {},
     "output_type": "display_data"
    },
    {
     "data": {
      "text/markdown": [
       "<table style={float:left; align:left;}><tr><td>0.0258</td><td>Intra-ocular pressure, corneal-compensated (right)</td></tr><tr><td>0.0234</td><td>Intra-ocular pressure, corneal-compensated (left)</td></tr><tr><td>0.0195</td><td>Hypotension NOS</td></tr><tr><td>0.0195</td><td>I95 Hypotension</td></tr><tr><td>0.0191</td><td>H40 Glaucoma</td></tr><tr><td>0.0180</td><td>Glaucoma</td></tr><tr><td>0.0178</td><td>Open-angle glaucoma</td></tr><tr><td>0.0176</td><td>Primary open angle glaucoma</td></tr><tr><td>0.0155</td><td>Hypotension</td></tr><tr><td>0.0132</td><td>Corneal hysteresis (right)</td></tr><tr><td>0.0124</td><td>Intra-ocular pressure, Goldmann-correlated (right)</td></tr><tr><td>0.0124</td><td>Corneal hysteresis (left)</td></tr><tr><td>0.0111</td><td>Intra-ocular pressure, Goldmann-correlated (left)</td></tr><tr><td>0.0110</td><td>Inguinal hernia</td></tr><tr><td>0.0102</td><td>K40 Inguinal hernia</td></tr></table>"
      ],
      "text/plain": [
       "<IPython.core.display.Markdown object>"
      ]
     },
     "metadata": {},
     "output_type": "display_data"
    },
    {
     "data": {
      "text/markdown": [
       "<span style='color:#c8635a'>**NNM-Sparse-FW**</span>"
      ],
      "text/plain": [
       "<IPython.core.display.Markdown object>"
      ]
     },
     "metadata": {},
     "output_type": "display_data"
    },
    {
     "data": {
      "text/markdown": [
       "<span style='color:None'>Top Factor: 88 (Contribution: 0.0513)</span>"
      ],
      "text/plain": [
       "<IPython.core.display.Markdown object>"
      ]
     },
     "metadata": {},
     "output_type": "display_data"
    },
    {
     "data": {
      "text/markdown": [
       "<table style={float:left; align:left;}><tr><td>0.0319</td><td>Whole body fat-free mass</td></tr><tr><td>0.0251</td><td>Leg fat percentage (right)</td></tr><tr><td>0.0194</td><td>Hand grip strength (left)</td></tr><tr><td>0.0120</td><td>Leg predicted mass (right)</td></tr><tr><td>0.0118</td><td>Forced vital capacity (FVC), Best measure</td></tr><tr><td>0.0110</td><td>codine/paracetamol</td></tr><tr><td>0.0103</td><td>Arm fat-free mass (right)</td></tr><tr><td>0.0099</td><td>Mean arterial pressure, automated reading</td></tr><tr><td>0.0096</td><td>Trunk fat-free mass</td></tr><tr><td>0.0096</td><td>Peak expiratory flow (PEF)</td></tr><tr><td>0.0092</td><td>Trunk predicted mass</td></tr><tr><td>0.0090</td><td>Basal metabolic rate</td></tr><tr><td>0.0089</td><td>Diastolic blood pressure, combined automated + manual reading, adjusted by medication</td></tr><tr><td>0.0071</td><td>Arm fat mass (left)</td></tr><tr><td>0.0069</td><td>Age completed full time education</td></tr></table>"
      ],
      "text/plain": [
       "<IPython.core.display.Markdown object>"
      ]
     },
     "metadata": {},
     "output_type": "display_data"
    },
    {
     "data": {
      "text/markdown": [
       "<span style='color:#c8635a'>**Raw Data**</span>"
      ],
      "text/plain": [
       "<IPython.core.display.Markdown object>"
      ]
     },
     "metadata": {},
     "output_type": "display_data"
    },
    {
     "data": {
      "text/markdown": [
       "<span style='color:None'>Top Factor: 89 (Contribution: 0.1356)</span>"
      ],
      "text/plain": [
       "<IPython.core.display.Markdown object>"
      ]
     },
     "metadata": {},
     "output_type": "display_data"
    },
    {
     "data": {
      "text/markdown": [
       "<table style={float:left; align:left;}><tr><td>0.0327</td><td>Genital prolapse</td></tr><tr><td>0.0325</td><td>Prolapse of vaginal walls</td></tr><tr><td>0.0322</td><td>N81 Female genital prolapse</td></tr><tr><td>0.0185</td><td>Uterine/Uterovaginal prolapse</td></tr><tr><td>0.0143</td><td>Pulse rate, automated reading</td></tr><tr><td>0.0115</td><td>C-reactive protein</td></tr><tr><td>0.0084</td><td>Other vitamin B12 deficiency anemia</td></tr><tr><td>0.0084</td><td>Megaloblastic anemia</td></tr><tr><td>0.0084</td><td>Other deficiency anemia</td></tr><tr><td>0.0084</td><td>D51 Vitamin B12 deficiency anaemia</td></tr><tr><td>0.0077</td><td>Chronic liver disease and cirrhosis</td></tr><tr><td>0.0076</td><td>Pulse rate</td></tr><tr><td>0.0074</td><td>Gamma glutamyltransferase</td></tr><tr><td>0.0073</td><td>K76 Other diseases of liver</td></tr><tr><td>0.0072</td><td>Other disorders of liver</td></tr></table>"
      ],
      "text/plain": [
       "<IPython.core.display.Markdown object>"
      ]
     },
     "metadata": {},
     "output_type": "display_data"
    },
    {
     "data": {
      "text/markdown": [
       "<h2>Tobacco Use Disorder</h2>"
      ],
      "text/plain": [
       "<IPython.core.display.Markdown object>"
      ]
     },
     "metadata": {},
     "output_type": "display_data"
    },
    {
     "data": {
      "text/markdown": [
       "<span style='color:#c8635a'>**RPCA-IALM**</span>"
      ],
      "text/plain": [
       "<IPython.core.display.Markdown object>"
      ]
     },
     "metadata": {},
     "output_type": "display_data"
    },
    {
     "data": {
      "text/markdown": [
       "<span style='color:None'>Top Factor: 51 (Contribution: 0.0944)</span>"
      ],
      "text/plain": [
       "<IPython.core.display.Markdown object>"
      ]
     },
     "metadata": {},
     "output_type": "display_data"
    },
    {
     "data": {
      "text/markdown": [
       "<table style={float:left; align:left;}><tr><td>0.0368</td><td>Albumin/Globulin ratio</td></tr><tr><td>0.0319</td><td>Non-albumin protein</td></tr><tr><td>0.0142</td><td>Lymphocyte count</td></tr><tr><td>0.0085</td><td>Total protein</td></tr><tr><td>0.0073</td><td>Lymphocyte percentage</td></tr><tr><td>0.0072</td><td>Albumin</td></tr><tr><td>0.0069</td><td>Neutrophill percentage</td></tr><tr><td>0.0067</td><td>Platelet count</td></tr><tr><td>0.0063</td><td>Past tobacco smoking</td></tr><tr><td>0.0062</td><td>Smoking status, ever vs never</td></tr><tr><td>0.0062</td><td>Forced expiratory volume in 1-second (FEV1)</td></tr><tr><td>0.0057</td><td>Cystitis</td></tr><tr><td>0.0055</td><td>Forced expiratory volume in 1-second (FEV1), Best measure</td></tr><tr><td>0.0053</td><td>Acute pulmonary heart disease</td></tr><tr><td>0.0053</td><td>Pulmonary embolism and infarction, acute</td></tr></table>"
      ],
      "text/plain": [
       "<IPython.core.display.Markdown object>"
      ]
     },
     "metadata": {},
     "output_type": "display_data"
    },
    {
     "data": {
      "text/markdown": [
       "<span style='color:#c8635a'>**NNM-Sparse-FW**</span>"
      ],
      "text/plain": [
       "<IPython.core.display.Markdown object>"
      ]
     },
     "metadata": {},
     "output_type": "display_data"
    },
    {
     "data": {
      "text/markdown": [
       "<span style='color:None'>Top Factor: 42 (Contribution: 0.0911)</span>"
      ],
      "text/plain": [
       "<IPython.core.display.Markdown object>"
      ]
     },
     "metadata": {},
     "output_type": "display_data"
    },
    {
     "data": {
      "text/markdown": [
       "<table style={float:left; align:left;}><tr><td>0.0228</td><td>Leg fat mass (right)</td></tr><tr><td>0.0227</td><td>Arm predicted mass (left)</td></tr><tr><td>0.0162</td><td>Ankle spacing width (right)</td></tr><tr><td>0.0147</td><td>Hip circumference</td></tr><tr><td>0.0114</td><td>selective serotonin re-uptake inhibitor|SSRI</td></tr><tr><td>0.0110</td><td>Body mass index (BMI)</td></tr><tr><td>0.0108</td><td>Trunk predicted mass</td></tr><tr><td>0.0094</td><td>proton pump inhibitor|PPI</td></tr><tr><td>0.0091</td><td>beta-lactam antibiotic|antibiotic</td></tr><tr><td>0.0087</td><td>Impedance of leg (left)</td></tr><tr><td>0.0085</td><td>Sitting height</td></tr><tr><td>0.0073</td><td>Heel bone mineral density (BMD) T-score, automated (left)</td></tr><tr><td>0.0073</td><td>Heel quantitative ultrasound index (QUI), direct entry (left)</td></tr><tr><td>0.0071</td><td>Hypertension</td></tr><tr><td>0.0071</td><td>Body fat percentage</td></tr></table>"
      ],
      "text/plain": [
       "<IPython.core.display.Markdown object>"
      ]
     },
     "metadata": {},
     "output_type": "display_data"
    },
    {
     "data": {
      "text/markdown": [
       "<span style='color:#c8635a'>**Raw Data**</span>"
      ],
      "text/plain": [
       "<IPython.core.display.Markdown object>"
      ]
     },
     "metadata": {},
     "output_type": "display_data"
    },
    {
     "data": {
      "text/markdown": [
       "<span style='color:None'>Top Factor: 38 (Contribution: 0.0719)</span>"
      ],
      "text/plain": [
       "<IPython.core.display.Markdown object>"
      ]
     },
     "metadata": {},
     "output_type": "display_data"
    },
    {
     "data": {
      "text/markdown": [
       "<table style={float:left; align:left;}><tr><td>0.0276</td><td>Corneal resistance factor (right)</td></tr><tr><td>0.0261</td><td>Corneal resistance factor (left)</td></tr><tr><td>0.0205</td><td>Urate</td></tr><tr><td>0.0165</td><td>Lipoprotein A</td></tr><tr><td>0.0159</td><td>Red blood cell (erythrocyte) distribution width</td></tr><tr><td>0.0155</td><td>Intra-ocular pressure, Goldmann-correlated (left)</td></tr><tr><td>0.0151</td><td>Alkaline phosphatase</td></tr><tr><td>0.0150</td><td>Intra-ocular pressure, Goldmann-correlated (right)</td></tr><tr><td>0.0148</td><td>Corneal hysteresis (right)</td></tr><tr><td>0.0137</td><td>Corneal hysteresis (left)</td></tr><tr><td>0.0133</td><td>Non-cancer illness code, self-reported</td></tr><tr><td>0.0112</td><td>Hypothyroidism NOS</td></tr><tr><td>0.0111</td><td>Hypothyroidism</td></tr><tr><td>0.0110</td><td>E03 Other hypothyroidism</td></tr><tr><td>0.0106</td><td>SHBG</td></tr></table>"
      ],
      "text/plain": [
       "<IPython.core.display.Markdown object>"
      ]
     },
     "metadata": {},
     "output_type": "display_data"
    },
    {
     "data": {
      "text/markdown": [
       "<h2>Sleep Disorders</h2>"
      ],
      "text/plain": [
       "<IPython.core.display.Markdown object>"
      ]
     },
     "metadata": {},
     "output_type": "display_data"
    },
    {
     "data": {
      "text/markdown": [
       "<span style='color:#c8635a'>**RPCA-IALM**</span>"
      ],
      "text/plain": [
       "<IPython.core.display.Markdown object>"
      ]
     },
     "metadata": {},
     "output_type": "display_data"
    },
    {
     "data": {
      "text/markdown": [
       "<span style='color:None'>Top Factor: 86 (Contribution: 0.1209)</span>"
      ],
      "text/plain": [
       "<IPython.core.display.Markdown object>"
      ]
     },
     "metadata": {},
     "output_type": "display_data"
    },
    {
     "data": {
      "text/markdown": [
       "<table style={float:left; align:left;}><tr><td>0.0469</td><td>Acquired foot deformities</td></tr><tr><td>0.0468</td><td>M20 Acquired deformities of fingers and toes</td></tr><tr><td>0.0290</td><td>Hemoptysis</td></tr><tr><td>0.0286</td><td>R04 Haemorrhage from respiratory passages</td></tr><tr><td>0.0275</td><td>Obesity</td></tr><tr><td>0.0272</td><td>E66 Obesity</td></tr><tr><td>0.0272</td><td>Hallux valgus (Bunion)</td></tr><tr><td>0.0253</td><td>Acquired toe deformities</td></tr><tr><td>0.0248</td><td>Abnormal sputum</td></tr><tr><td>0.0247</td><td>Overweight, obesity and other hyperalimentation</td></tr><tr><td>0.0123</td><td>G47 Sleep disorders</td></tr><tr><td>0.0119</td><td>Sleep disorders</td></tr><tr><td>0.0111</td><td>Hammer toe (acquired)</td></tr><tr><td>0.0110</td><td>Epistaxis or throat hemorrhage</td></tr><tr><td>0.0095</td><td>Prostatitis</td></tr></table>"
      ],
      "text/plain": [
       "<IPython.core.display.Markdown object>"
      ]
     },
     "metadata": {},
     "output_type": "display_data"
    },
    {
     "data": {
      "text/markdown": [
       "<span style='color:#c8635a'>**NNM-Sparse-FW**</span>"
      ],
      "text/plain": [
       "<IPython.core.display.Markdown object>"
      ]
     },
     "metadata": {},
     "output_type": "display_data"
    },
    {
     "data": {
      "text/markdown": [
       "<span style='color:None'>Top Factor: 4 (Contribution: 0.0595)</span>"
      ],
      "text/plain": [
       "<IPython.core.display.Markdown object>"
      ]
     },
     "metadata": {},
     "output_type": "display_data"
    },
    {
     "data": {
      "text/markdown": [
       "<table style={float:left; align:left;}><tr><td>0.1274</td><td>Standing height</td></tr><tr><td>0.0721</td><td>Sitting height</td></tr><tr><td>0.0263</td><td>Seated height</td></tr><tr><td>0.0192</td><td>Comparative height size at age 10</td></tr><tr><td>0.0190</td><td>Trunk fat-free mass</td></tr><tr><td>0.0189</td><td>Trunk predicted mass</td></tr><tr><td>0.0134</td><td>Whole body fat-free mass</td></tr><tr><td>0.0117</td><td>Whole body water mass</td></tr><tr><td>0.0114</td><td>Waist circumference</td></tr><tr><td>0.0112</td><td>Leg fat mass (left)</td></tr><tr><td>0.0112</td><td>Arm fat mass (right)</td></tr><tr><td>0.0107</td><td>Leg fat mass (right)</td></tr><tr><td>0.0101</td><td>Arm fat mass (left)</td></tr><tr><td>0.0099</td><td>E66 Obesity</td></tr><tr><td>0.0099</td><td>Obesity</td></tr></table>"
      ],
      "text/plain": [
       "<IPython.core.display.Markdown object>"
      ]
     },
     "metadata": {},
     "output_type": "display_data"
    },
    {
     "data": {
      "text/markdown": [
       "<span style='color:#c8635a'>**Raw Data**</span>"
      ],
      "text/plain": [
       "<IPython.core.display.Markdown object>"
      ]
     },
     "metadata": {},
     "output_type": "display_data"
    },
    {
     "data": {
      "text/markdown": [
       "<span style='color:None'>Top Factor: 91 (Contribution: 0.1044)</span>"
      ],
      "text/plain": [
       "<IPython.core.display.Markdown object>"
      ]
     },
     "metadata": {},
     "output_type": "display_data"
    },
    {
     "data": {
      "text/markdown": [
       "<table style={float:left; align:left;}><tr><td>0.0136</td><td>Aspartate aminotransferase</td></tr><tr><td>0.0125</td><td>Platelet distribution width</td></tr><tr><td>0.0112</td><td>Alanine aminotransferase</td></tr><tr><td>0.0084</td><td>Inflammatory bowel disease and other gastroenteritis and colitis</td></tr><tr><td>0.0074</td><td>Spherical power (right)</td></tr><tr><td>0.0070</td><td>Genital prolapse</td></tr><tr><td>0.0070</td><td>Prolapse of vaginal walls</td></tr><tr><td>0.0069</td><td>Spherical power (left)</td></tr><tr><td>0.0068</td><td>N81 Female genital prolapse</td></tr><tr><td>0.0068</td><td>Open wounds of head; neck; and trunk</td></tr><tr><td>0.0063</td><td>C79 Secondary malignant neoplasm of other sites</td></tr><tr><td>0.0061</td><td>E87 Other disorders of fluid, electrolyte and acid-base balance</td></tr><tr><td>0.0061</td><td>Ulcerative colitis</td></tr><tr><td>0.0061</td><td>Electrolyte imbalance</td></tr><tr><td>0.0061</td><td>I77 Other disorders of arteries and arterioles</td></tr></table>"
      ],
      "text/plain": [
       "<IPython.core.display.Markdown object>"
      ]
     },
     "metadata": {},
     "output_type": "display_data"
    },
    {
     "data": {
      "text/markdown": [
       "<h2>Sleep Apnea</h2>"
      ],
      "text/plain": [
       "<IPython.core.display.Markdown object>"
      ]
     },
     "metadata": {},
     "output_type": "display_data"
    },
    {
     "data": {
      "text/markdown": [
       "<span style='color:#c8635a'>**RPCA-IALM**</span>"
      ],
      "text/plain": [
       "<IPython.core.display.Markdown object>"
      ]
     },
     "metadata": {},
     "output_type": "display_data"
    },
    {
     "data": {
      "text/markdown": [
       "<span style='color:None'>Top Factor: 86 (Contribution: 0.1234)</span>"
      ],
      "text/plain": [
       "<IPython.core.display.Markdown object>"
      ]
     },
     "metadata": {},
     "output_type": "display_data"
    },
    {
     "data": {
      "text/markdown": [
       "<table style={float:left; align:left;}><tr><td>0.0469</td><td>Acquired foot deformities</td></tr><tr><td>0.0468</td><td>M20 Acquired deformities of fingers and toes</td></tr><tr><td>0.0290</td><td>Hemoptysis</td></tr><tr><td>0.0286</td><td>R04 Haemorrhage from respiratory passages</td></tr><tr><td>0.0275</td><td>Obesity</td></tr><tr><td>0.0272</td><td>E66 Obesity</td></tr><tr><td>0.0272</td><td>Hallux valgus (Bunion)</td></tr><tr><td>0.0253</td><td>Acquired toe deformities</td></tr><tr><td>0.0248</td><td>Abnormal sputum</td></tr><tr><td>0.0247</td><td>Overweight, obesity and other hyperalimentation</td></tr><tr><td>0.0123</td><td>G47 Sleep disorders</td></tr><tr><td>0.0119</td><td>Sleep disorders</td></tr><tr><td>0.0111</td><td>Hammer toe (acquired)</td></tr><tr><td>0.0110</td><td>Epistaxis or throat hemorrhage</td></tr><tr><td>0.0095</td><td>Prostatitis</td></tr></table>"
      ],
      "text/plain": [
       "<IPython.core.display.Markdown object>"
      ]
     },
     "metadata": {},
     "output_type": "display_data"
    },
    {
     "data": {
      "text/markdown": [
       "<span style='color:#c8635a'>**NNM-Sparse-FW**</span>"
      ],
      "text/plain": [
       "<IPython.core.display.Markdown object>"
      ]
     },
     "metadata": {},
     "output_type": "display_data"
    },
    {
     "data": {
      "text/markdown": [
       "<span style='color:None'>Top Factor: 99 (Contribution: 0.0651)</span>"
      ],
      "text/plain": [
       "<IPython.core.display.Markdown object>"
      ]
     },
     "metadata": {},
     "output_type": "display_data"
    },
    {
     "data": {
      "text/markdown": [
       "<table style={float:left; align:left;}><tr><td>0.0275</td><td>Impedance of arm (right)</td></tr><tr><td>0.0160</td><td>proton pump inhibitor|PPI</td></tr><tr><td>0.0146</td><td>Whole body fat-free mass</td></tr><tr><td>0.0119</td><td>NSAID|non-steroidal anti-inflammatory drug</td></tr><tr><td>0.0113</td><td>Leg fat percentage (left)</td></tr><tr><td>0.0110</td><td>Forced expiratory volume in 1-second (FEV1), predicted</td></tr><tr><td>0.0089</td><td>corticosteroid</td></tr><tr><td>0.0087</td><td>anti-fungal</td></tr><tr><td>0.0078</td><td>Impedance of whole body</td></tr><tr><td>0.0077</td><td>Renal failure</td></tr><tr><td>0.0076</td><td>Ankle spacing width</td></tr><tr><td>0.0075</td><td>Waist circumference</td></tr><tr><td>0.0073</td><td>Hand grip strength (right)</td></tr><tr><td>0.0072</td><td>Mean arterial pressure, combined automated + manual reading</td></tr><tr><td>0.0069</td><td>doxycycline</td></tr></table>"
      ],
      "text/plain": [
       "<IPython.core.display.Markdown object>"
      ]
     },
     "metadata": {},
     "output_type": "display_data"
    },
    {
     "data": {
      "text/markdown": [
       "<span style='color:#c8635a'>**Raw Data**</span>"
      ],
      "text/plain": [
       "<IPython.core.display.Markdown object>"
      ]
     },
     "metadata": {},
     "output_type": "display_data"
    },
    {
     "data": {
      "text/markdown": [
       "<span style='color:None'>Top Factor: 91 (Contribution: 0.1055)</span>"
      ],
      "text/plain": [
       "<IPython.core.display.Markdown object>"
      ]
     },
     "metadata": {},
     "output_type": "display_data"
    },
    {
     "data": {
      "text/markdown": [
       "<table style={float:left; align:left;}><tr><td>0.0136</td><td>Aspartate aminotransferase</td></tr><tr><td>0.0125</td><td>Platelet distribution width</td></tr><tr><td>0.0112</td><td>Alanine aminotransferase</td></tr><tr><td>0.0084</td><td>Inflammatory bowel disease and other gastroenteritis and colitis</td></tr><tr><td>0.0074</td><td>Spherical power (right)</td></tr><tr><td>0.0070</td><td>Genital prolapse</td></tr><tr><td>0.0070</td><td>Prolapse of vaginal walls</td></tr><tr><td>0.0069</td><td>Spherical power (left)</td></tr><tr><td>0.0068</td><td>N81 Female genital prolapse</td></tr><tr><td>0.0068</td><td>Open wounds of head; neck; and trunk</td></tr><tr><td>0.0063</td><td>C79 Secondary malignant neoplasm of other sites</td></tr><tr><td>0.0061</td><td>E87 Other disorders of fluid, electrolyte and acid-base balance</td></tr><tr><td>0.0061</td><td>Ulcerative colitis</td></tr><tr><td>0.0061</td><td>Electrolyte imbalance</td></tr><tr><td>0.0061</td><td>I77 Other disorders of arteries and arterioles</td></tr></table>"
      ],
      "text/plain": [
       "<IPython.core.display.Markdown object>"
      ]
     },
     "metadata": {},
     "output_type": "display_data"
    },
    {
     "data": {
      "text/markdown": [
       "<h2>Other Cerebral Degenerations</h2>"
      ],
      "text/plain": [
       "<IPython.core.display.Markdown object>"
      ]
     },
     "metadata": {},
     "output_type": "display_data"
    },
    {
     "data": {
      "text/markdown": [
       "<span style='color:#c8635a'>**RPCA-IALM**</span>"
      ],
      "text/plain": [
       "<IPython.core.display.Markdown object>"
      ]
     },
     "metadata": {},
     "output_type": "display_data"
    },
    {
     "data": {
      "text/markdown": [
       "<span style='color:None'>Top Factor: 32 (Contribution: 0.0892)</span>"
      ],
      "text/plain": [
       "<IPython.core.display.Markdown object>"
      ]
     },
     "metadata": {},
     "output_type": "display_data"
    },
    {
     "data": {
      "text/markdown": [
       "<table style={float:left; align:left;}><tr><td>0.0219</td><td>Mean carotid IMT (intima-medial thickness) at 210 degrees</td></tr><tr><td>0.0207</td><td>Mean carotid IMT (intima-medial thickness) at 240 degrees</td></tr><tr><td>0.0195</td><td>Mean carotid IMT (intima-medial thickness) at 120 degrees</td></tr><tr><td>0.0187</td><td>Mean carotid IMT (intima-medial thickness) at 150 degrees</td></tr><tr><td>0.0165</td><td>Maximum carotid IMT (intima-medial thickness) at 210 degrees</td></tr><tr><td>0.0158</td><td>Maximum carotid IMT (intima-medial thickness) at 240 degrees</td></tr><tr><td>0.0151</td><td>Minimum carotid IMT (intima-medial thickness) at 210 degrees</td></tr><tr><td>0.0139</td><td>Minimum carotid IMT (intima-medial thickness) at 240 degrees</td></tr><tr><td>0.0138</td><td>Maximum carotid IMT (intima-medial thickness) at 120 degrees</td></tr><tr><td>0.0138</td><td>Minimum carotid IMT (intima-medial thickness) at 120 degrees</td></tr><tr><td>0.0133</td><td>Minimum carotid IMT (intima-medial thickness) at 150 degrees</td></tr><tr><td>0.0132</td><td>Maximum carotid IMT (intima-medial thickness) at 150 degrees</td></tr><tr><td>0.0097</td><td>Heart valve disorders</td></tr><tr><td>0.0093</td><td>Neutrophill percentage</td></tr><tr><td>0.0088</td><td>Nonrheumatic aortic valve disorders</td></tr></table>"
      ],
      "text/plain": [
       "<IPython.core.display.Markdown object>"
      ]
     },
     "metadata": {},
     "output_type": "display_data"
    },
    {
     "data": {
      "text/markdown": [
       "<span style='color:#c8635a'>**NNM-Sparse-FW**</span>"
      ],
      "text/plain": [
       "<IPython.core.display.Markdown object>"
      ]
     },
     "metadata": {},
     "output_type": "display_data"
    },
    {
     "data": {
      "text/markdown": [
       "<span style='color:None'>Top Factor: 76 (Contribution: 0.1215)</span>"
      ],
      "text/plain": [
       "<IPython.core.display.Markdown object>"
      ]
     },
     "metadata": {},
     "output_type": "display_data"
    },
    {
     "data": {
      "text/markdown": [
       "<table style={float:left; align:left;}><tr><td>0.0407</td><td>Arm fat-free mass (right)</td></tr><tr><td>0.0200</td><td>corticosteroid</td></tr><tr><td>0.0140</td><td>Arm fat-free mass (left)</td></tr><tr><td>0.0105</td><td>Ankle spacing width (left)</td></tr><tr><td>0.0103</td><td>Whole body fat-free mass</td></tr><tr><td>0.0098</td><td>Coronary atherosclerosis</td></tr><tr><td>0.0097</td><td>Body fat percentage</td></tr><tr><td>0.0096</td><td>clotrimazole</td></tr><tr><td>0.0096</td><td>Arm predicted mass (right)</td></tr><tr><td>0.0093</td><td>Leg predicted mass (right)</td></tr><tr><td>0.0080</td><td>Trunk fat mass</td></tr><tr><td>0.0079</td><td>Body mass index (BMI)</td></tr><tr><td>0.0072</td><td>Forced vital capacity (FVC), Best measure</td></tr><tr><td>0.0068</td><td>Whole body water mass</td></tr><tr><td>0.0067</td><td>Arm fat percentage (left)</td></tr></table>"
      ],
      "text/plain": [
       "<IPython.core.display.Markdown object>"
      ]
     },
     "metadata": {},
     "output_type": "display_data"
    },
    {
     "data": {
      "text/markdown": [
       "<span style='color:#c8635a'>**Raw Data**</span>"
      ],
      "text/plain": [
       "<IPython.core.display.Markdown object>"
      ]
     },
     "metadata": {},
     "output_type": "display_data"
    },
    {
     "data": {
      "text/markdown": [
       "<span style='color:None'>Top Factor: 61 (Contribution: 0.1172)</span>"
      ],
      "text/plain": [
       "<IPython.core.display.Markdown object>"
      ]
     },
     "metadata": {},
     "output_type": "display_data"
    },
    {
     "data": {
      "text/markdown": [
       "<table style={float:left; align:left;}><tr><td>0.0324</td><td>Heel bone mineral density (BMD)</td></tr><tr><td>0.0322</td><td>Heel bone mineral density (BMD) T-score, automated</td></tr><tr><td>0.0322</td><td>Heel quantitative ultrasound index (QUI), direct entry</td></tr><tr><td>0.0258</td><td>Heel Broadband ultrasound attenuation, direct entry</td></tr><tr><td>0.0139</td><td>Urate</td></tr><tr><td>0.0119</td><td>Heel bone mineral density (BMD) T-score, automated (left)</td></tr><tr><td>0.0119</td><td>Heel quantitative ultrasound index (QUI), direct entry (left)</td></tr><tr><td>0.0119</td><td>Heel broadband ultrasound attenuation (left)</td></tr><tr><td>0.0116</td><td>Heel bone mineral density (BMD) (left)</td></tr><tr><td>0.0115</td><td>Heel bone mineral density (BMD) T-score, automated (right)</td></tr><tr><td>0.0115</td><td>Heel quantitative ultrasound index (QUI), direct entry (right)</td></tr><tr><td>0.0115</td><td>Heel broadband ultrasound attenuation (right)</td></tr><tr><td>0.0114</td><td>Heel bone mineral density (BMD) (right)</td></tr><tr><td>0.0103</td><td>Cerebrovascular disease</td></tr><tr><td>0.0102</td><td>Creatinine</td></tr></table>"
      ],
      "text/plain": [
       "<IPython.core.display.Markdown object>"
      ]
     },
     "metadata": {},
     "output_type": "display_data"
    },
    {
     "data": {
      "text/markdown": [
       "<h2>Parkinson's Disease</h2>"
      ],
      "text/plain": [
       "<IPython.core.display.Markdown object>"
      ]
     },
     "metadata": {},
     "output_type": "display_data"
    },
    {
     "data": {
      "text/markdown": [
       "<span style='color:#c8635a'>**RPCA-IALM**</span>"
      ],
      "text/plain": [
       "<IPython.core.display.Markdown object>"
      ]
     },
     "metadata": {},
     "output_type": "display_data"
    },
    {
     "data": {
      "text/markdown": [
       "<span style='color:None'>Top Factor: 97 (Contribution: 0.0888)</span>"
      ],
      "text/plain": [
       "<IPython.core.display.Markdown object>"
      ]
     },
     "metadata": {},
     "output_type": "display_data"
    },
    {
     "data": {
      "text/markdown": [
       "<table style={float:left; align:left;}><tr><td>0.0441</td><td>Psoriasis</td></tr><tr><td>0.0425</td><td>L40 Psoriasis</td></tr><tr><td>0.0403</td><td>Psoriasis and related disorders</td></tr><tr><td>0.0187</td><td>Cardiac arrest</td></tr><tr><td>0.0184</td><td>Cardiac arrest and ventricular fibrillation</td></tr><tr><td>0.0181</td><td>I46 Cardiac arrest</td></tr><tr><td>0.0117</td><td>K90 Intestinal malabsorption</td></tr><tr><td>0.0114</td><td>Intestinal malabsorption (non-celiac)</td></tr><tr><td>0.0109</td><td>Obesity</td></tr><tr><td>0.0108</td><td>E66 Obesity</td></tr><tr><td>0.0097</td><td>Overweight, obesity and other hyperalimentation</td></tr><tr><td>0.0095</td><td>Aortic aneurysm</td></tr><tr><td>0.0094</td><td>I71 Aortic aneurysm and dissection</td></tr><tr><td>0.0090</td><td>Celiac disease</td></tr><tr><td>0.0085</td><td>Noninflammatory disorders of ovary, fallopian tube, and broad ligament</td></tr></table>"
      ],
      "text/plain": [
       "<IPython.core.display.Markdown object>"
      ]
     },
     "metadata": {},
     "output_type": "display_data"
    },
    {
     "data": {
      "text/markdown": [
       "<span style='color:#c8635a'>**NNM-Sparse-FW**</span>"
      ],
      "text/plain": [
       "<IPython.core.display.Markdown object>"
      ]
     },
     "metadata": {},
     "output_type": "display_data"
    },
    {
     "data": {
      "text/markdown": [
       "<span style='color:None'>Top Factor: 70 (Contribution: 0.0852)</span>"
      ],
      "text/plain": [
       "<IPython.core.display.Markdown object>"
      ]
     },
     "metadata": {},
     "output_type": "display_data"
    },
    {
     "data": {
      "text/markdown": [
       "<table style={float:left; align:left;}><tr><td>0.0262</td><td>Trunk fat percentage</td></tr><tr><td>0.0240</td><td>Whole body fat-free mass</td></tr><tr><td>0.0207</td><td>Leg predicted mass (left)</td></tr><tr><td>0.0201</td><td>Arm fat-free mass (left)</td></tr><tr><td>0.0172</td><td>Leg fat percentage (left)</td></tr><tr><td>0.0147</td><td>Leg fat mass (right)</td></tr><tr><td>0.0105</td><td>Leg fat mass (left)</td></tr><tr><td>0.0083</td><td>NSAID|non-steroidal anti-inflammatory drug</td></tr><tr><td>0.0079</td><td>Usual walking pace</td></tr><tr><td>0.0078</td><td>proton pump inhibitor|PPI</td></tr><tr><td>0.0073</td><td>Impedance of leg (left)</td></tr><tr><td>0.0071</td><td>Estimated glomerular filtration rate, serum creatinine + cystain C</td></tr><tr><td>0.0065</td><td>Arm fat mass (right)</td></tr><tr><td>0.0061</td><td>Diastolic blood pressure, combined automated + manual reading, adjusted by medication</td></tr><tr><td>0.0059</td><td>codine/paracetamol</td></tr></table>"
      ],
      "text/plain": [
       "<IPython.core.display.Markdown object>"
      ]
     },
     "metadata": {},
     "output_type": "display_data"
    },
    {
     "data": {
      "text/markdown": [
       "<span style='color:#c8635a'>**Raw Data**</span>"
      ],
      "text/plain": [
       "<IPython.core.display.Markdown object>"
      ]
     },
     "metadata": {},
     "output_type": "display_data"
    },
    {
     "data": {
      "text/markdown": [
       "<span style='color:None'>Top Factor: 92 (Contribution: 0.1208)</span>"
      ],
      "text/plain": [
       "<IPython.core.display.Markdown object>"
      ]
     },
     "metadata": {},
     "output_type": "display_data"
    },
    {
     "data": {
      "text/markdown": [
       "<table style={float:left; align:left;}><tr><td>0.0149</td><td>Urinary calculus</td></tr><tr><td>0.0149</td><td>N20 Calculus of kidney and ureter</td></tr><tr><td>0.0147</td><td>Maximum heart rate during fitness test</td></tr><tr><td>0.0146</td><td>ECG, load</td></tr><tr><td>0.0146</td><td>Maximum workload during fitness test</td></tr><tr><td>0.0139</td><td>Pulse rate, automated reading</td></tr><tr><td>0.0138</td><td>ECG, heart rate</td></tr><tr><td>0.0130</td><td>ECG, number of stages in a phase</td></tr><tr><td>0.0126</td><td>Number of trend entries</td></tr><tr><td>0.0117</td><td>ECG, phase time</td></tr><tr><td>0.0110</td><td>Calculus of ureter</td></tr><tr><td>0.0102</td><td>Processed meat intake</td></tr><tr><td>0.0101</td><td>Calculus of kidney</td></tr><tr><td>0.0088</td><td>Beef intake</td></tr><tr><td>0.0080</td><td>Lamb/mutton intake</td></tr></table>"
      ],
      "text/plain": [
       "<IPython.core.display.Markdown object>"
      ]
     },
     "metadata": {},
     "output_type": "display_data"
    },
    {
     "data": {
      "text/markdown": [
       "<h2>Extrapyramidal Disease And Abnormal Movement Disorders</h2>"
      ],
      "text/plain": [
       "<IPython.core.display.Markdown object>"
      ]
     },
     "metadata": {},
     "output_type": "display_data"
    },
    {
     "data": {
      "text/markdown": [
       "<span style='color:#c8635a'>**RPCA-IALM**</span>"
      ],
      "text/plain": [
       "<IPython.core.display.Markdown object>"
      ]
     },
     "metadata": {},
     "output_type": "display_data"
    },
    {
     "data": {
      "text/markdown": [
       "<span style='color:None'>Top Factor: 68 (Contribution: 0.0752)</span>"
      ],
      "text/plain": [
       "<IPython.core.display.Markdown object>"
      ]
     },
     "metadata": {},
     "output_type": "display_data"
    },
    {
     "data": {
      "text/markdown": [
       "<table style={float:left; align:left;}><tr><td>0.0221</td><td>Prolapse of vaginal walls</td></tr><tr><td>0.0212</td><td>Genital prolapse</td></tr><tr><td>0.0210</td><td>N81 Female genital prolapse</td></tr><tr><td>0.0119</td><td>Platelet count</td></tr><tr><td>0.0116</td><td>Albumin</td></tr><tr><td>0.0114</td><td>Primary/intrinsic cardiomyopathies</td></tr><tr><td>0.0114</td><td>I42 Cardiomyopathy</td></tr><tr><td>0.0106</td><td>Cardiomyopathy</td></tr><tr><td>0.0097</td><td>Saturated fat</td></tr><tr><td>0.0097</td><td>Lymphocyte count</td></tr><tr><td>0.0096</td><td>Eosinophill percentage</td></tr><tr><td>0.0089</td><td>Fat</td></tr><tr><td>0.0085</td><td>Polyp of corpus uteri</td></tr><tr><td>0.0085</td><td>Total thigh muscle volume</td></tr><tr><td>0.0084</td><td>N84 Polyp of female genital tract</td></tr></table>"
      ],
      "text/plain": [
       "<IPython.core.display.Markdown object>"
      ]
     },
     "metadata": {},
     "output_type": "display_data"
    },
    {
     "data": {
      "text/markdown": [
       "<span style='color:#c8635a'>**NNM-Sparse-FW**</span>"
      ],
      "text/plain": [
       "<IPython.core.display.Markdown object>"
      ]
     },
     "metadata": {},
     "output_type": "display_data"
    },
    {
     "data": {
      "text/markdown": [
       "<span style='color:None'>Top Factor: 95 (Contribution: 0.0865)</span>"
      ],
      "text/plain": [
       "<IPython.core.display.Markdown object>"
      ]
     },
     "metadata": {},
     "output_type": "display_data"
    },
    {
     "data": {
      "text/markdown": [
       "<table style={float:left; align:left;}><tr><td>0.0408</td><td>Trunk fat-free mass</td></tr><tr><td>0.0198</td><td>Trunk predicted mass</td></tr><tr><td>0.0149</td><td>Leg fat mass (right)</td></tr><tr><td>0.0139</td><td>Leg fat-free mass (right)</td></tr><tr><td>0.0126</td><td>tetracycline antibiotic|antibiotic</td></tr><tr><td>0.0112</td><td>E66 Obesity</td></tr><tr><td>0.0111</td><td>Impedance of leg (left)</td></tr><tr><td>0.0093</td><td>Reticulocyte percentage</td></tr><tr><td>0.0091</td><td>Body mass index (BMI)</td></tr><tr><td>0.0090</td><td>Arm predicted mass (right)</td></tr><tr><td>0.0087</td><td>selective serotonin re-uptake inhibitor|SSRI</td></tr><tr><td>0.0086</td><td>Non-cancer illness code, self-reported</td></tr><tr><td>0.0084</td><td>simvastatin</td></tr><tr><td>0.0078</td><td>Impedance of whole body</td></tr><tr><td>0.0072</td><td>High light scatter reticulocyte count</td></tr></table>"
      ],
      "text/plain": [
       "<IPython.core.display.Markdown object>"
      ]
     },
     "metadata": {},
     "output_type": "display_data"
    },
    {
     "data": {
      "text/markdown": [
       "<span style='color:#c8635a'>**Raw Data**</span>"
      ],
      "text/plain": [
       "<IPython.core.display.Markdown object>"
      ]
     },
     "metadata": {},
     "output_type": "display_data"
    },
    {
     "data": {
      "text/markdown": [
       "<span style='color:None'>Top Factor: 95 (Contribution: 0.0773)</span>"
      ],
      "text/plain": [
       "<IPython.core.display.Markdown object>"
      ]
     },
     "metadata": {},
     "output_type": "display_data"
    },
    {
     "data": {
      "text/markdown": [
       "<table style={float:left; align:left;}><tr><td>0.0487</td><td>Sebaceous cyst</td></tr><tr><td>0.0484</td><td>Diseases of sebaceous glands</td></tr><tr><td>0.0473</td><td>L72 Follicular cysts of skin and subcutaneous tissue</td></tr><tr><td>0.0373</td><td>Diseases of hair and hair follicles</td></tr><tr><td>0.0088</td><td>IGF-1</td></tr><tr><td>0.0086</td><td>Acquired foot deformities</td></tr><tr><td>0.0084</td><td>M20 Acquired deformities of fingers and toes</td></tr><tr><td>0.0078</td><td>Sodium in urine</td></tr><tr><td>0.0071</td><td>Acquired toe deformities</td></tr><tr><td>0.0068</td><td>FEV1/FVC ratio</td></tr><tr><td>0.0067</td><td>Urea</td></tr><tr><td>0.0067</td><td>Cancer of bladder</td></tr><tr><td>0.0065</td><td>C67 Malignant neoplasm of bladder</td></tr><tr><td>0.0065</td><td>Malignant neoplasm of bladder</td></tr><tr><td>0.0064</td><td>Cystitis</td></tr></table>"
      ],
      "text/plain": [
       "<IPython.core.display.Markdown object>"
      ]
     },
     "metadata": {},
     "output_type": "display_data"
    },
    {
     "data": {
      "text/markdown": [
       "<h2>Degenerative Disease Of The Spinal Cord</h2>"
      ],
      "text/plain": [
       "<IPython.core.display.Markdown object>"
      ]
     },
     "metadata": {},
     "output_type": "display_data"
    },
    {
     "data": {
      "text/markdown": [
       "<span style='color:#c8635a'>**RPCA-IALM**</span>"
      ],
      "text/plain": [
       "<IPython.core.display.Markdown object>"
      ]
     },
     "metadata": {},
     "output_type": "display_data"
    },
    {
     "data": {
      "text/markdown": [
       "<span style='color:None'>Top Factor: 62 (Contribution: 0.0881)</span>"
      ],
      "text/plain": [
       "<IPython.core.display.Markdown object>"
      ]
     },
     "metadata": {},
     "output_type": "display_data"
    },
    {
     "data": {
      "text/markdown": [
       "<table style={float:left; align:left;}><tr><td>0.0405</td><td>Other vitamin B12 deficiency anemia</td></tr><tr><td>0.0405</td><td>D51 Vitamin B12 deficiency anaemia</td></tr><tr><td>0.0340</td><td>Megaloblastic anemia</td></tr><tr><td>0.0315</td><td>Other deficiency anemia</td></tr><tr><td>0.0202</td><td>Intervertebral disc disorders</td></tr><tr><td>0.0195</td><td>G55 Nerve root and plexus compressions in diseases classified elsewhere</td></tr><tr><td>0.0189</td><td>Other and unspecified disc disorder</td></tr><tr><td>0.0181</td><td>Nerve root and plexus disorders</td></tr><tr><td>0.0163</td><td>Contracture of palmar fascia [Dupuytren's disease]</td></tr><tr><td>0.0157</td><td>Disorders of muscle, ligament, and fascia</td></tr><tr><td>0.0146</td><td>Fasciitis</td></tr><tr><td>0.0117</td><td>M51 Other intervertebral disk disorders</td></tr><tr><td>0.0103</td><td>M72 Fibroblastic disorders</td></tr><tr><td>0.0097</td><td>Non-albumin protein</td></tr><tr><td>0.0084</td><td>Eosinophill percentage</td></tr></table>"
      ],
      "text/plain": [
       "<IPython.core.display.Markdown object>"
      ]
     },
     "metadata": {},
     "output_type": "display_data"
    },
    {
     "data": {
      "text/markdown": [
       "<span style='color:#c8635a'>**NNM-Sparse-FW**</span>"
      ],
      "text/plain": [
       "<IPython.core.display.Markdown object>"
      ]
     },
     "metadata": {},
     "output_type": "display_data"
    },
    {
     "data": {
      "text/markdown": [
       "<span style='color:None'>Top Factor: 98 (Contribution: 0.0866)</span>"
      ],
      "text/plain": [
       "<IPython.core.display.Markdown object>"
      ]
     },
     "metadata": {},
     "output_type": "display_data"
    },
    {
     "data": {
      "text/markdown": [
       "<table style={float:left; align:left;}><tr><td>0.0240</td><td>Leg predicted mass (right)</td></tr><tr><td>0.0211</td><td>Arm fat percentage (right)</td></tr><tr><td>0.0197</td><td>Waist circumference</td></tr><tr><td>0.0146</td><td>Impedance of leg (left)</td></tr><tr><td>0.0115</td><td>Leg fat-free mass (left)</td></tr><tr><td>0.0113</td><td>Arm fat-free mass (left)</td></tr><tr><td>0.0112</td><td>Overall health rating</td></tr><tr><td>0.0108</td><td>opioid analgesic|antipyretic</td></tr><tr><td>0.0105</td><td>Leg fat mass (right)</td></tr><tr><td>0.0101</td><td>Arm fat percentage (left)</td></tr><tr><td>0.0089</td><td>antispasmodic</td></tr><tr><td>0.0088</td><td>Hip circumference</td></tr><tr><td>0.0085</td><td>Trunk predicted mass</td></tr><tr><td>0.0084</td><td>Arm predicted mass (left)</td></tr><tr><td>0.0082</td><td>Whole body fat-free mass</td></tr></table>"
      ],
      "text/plain": [
       "<IPython.core.display.Markdown object>"
      ]
     },
     "metadata": {},
     "output_type": "display_data"
    },
    {
     "data": {
      "text/markdown": [
       "<span style='color:#c8635a'>**Raw Data**</span>"
      ],
      "text/plain": [
       "<IPython.core.display.Markdown object>"
      ]
     },
     "metadata": {},
     "output_type": "display_data"
    },
    {
     "data": {
      "text/markdown": [
       "<span style='color:None'>Top Factor: 68 (Contribution: 0.0984)</span>"
      ],
      "text/plain": [
       "<IPython.core.display.Markdown object>"
      ]
     },
     "metadata": {},
     "output_type": "display_data"
    },
    {
     "data": {
      "text/markdown": [
       "<table style={float:left; align:left;}><tr><td>0.0098</td><td>Corneal hysteresis (right)</td></tr><tr><td>0.0095</td><td>Corneal hysteresis (left)</td></tr><tr><td>0.0094</td><td>Intra-ocular pressure, corneal-compensated (left)</td></tr><tr><td>0.0092</td><td>I35 Nonrheumatic aortic valve disorders</td></tr><tr><td>0.0092</td><td>Intra-ocular pressure, corneal-compensated (right)</td></tr><tr><td>0.0091</td><td>Nonrheumatic aortic valve disorders</td></tr><tr><td>0.0079</td><td>Alkaline phosphatase</td></tr><tr><td>0.0075</td><td>Congenital anomalies of great vessels</td></tr><tr><td>0.0075</td><td>Intervertebral disc disorders</td></tr><tr><td>0.0072</td><td>3mm strong meridian angle (left)</td></tr><tr><td>0.0072</td><td>Osteoporosis</td></tr><tr><td>0.0072</td><td>Osteoporosis NOS</td></tr><tr><td>0.0071</td><td>Aortic aneurysm</td></tr><tr><td>0.0070</td><td>I71 Aortic aneurysm and dissection</td></tr><tr><td>0.0070</td><td>Other and unspecified disc disorder</td></tr></table>"
      ],
      "text/plain": [
       "<IPython.core.display.Markdown object>"
      ]
     },
     "metadata": {},
     "output_type": "display_data"
    },
    {
     "data": {
      "text/markdown": [
       "<h2>Multiple Sclerosis</h2>"
      ],
      "text/plain": [
       "<IPython.core.display.Markdown object>"
      ]
     },
     "metadata": {},
     "output_type": "display_data"
    },
    {
     "data": {
      "text/markdown": [
       "<span style='color:#c8635a'>**RPCA-IALM**</span>"
      ],
      "text/plain": [
       "<IPython.core.display.Markdown object>"
      ]
     },
     "metadata": {},
     "output_type": "display_data"
    },
    {
     "data": {
      "text/markdown": [
       "<span style='color:None'>Top Factor: 74 (Contribution: 0.0911)</span>"
      ],
      "text/plain": [
       "<IPython.core.display.Markdown object>"
      ]
     },
     "metadata": {},
     "output_type": "display_data"
    },
    {
     "data": {
      "text/markdown": [
       "<table style={float:left; align:left;}><tr><td>0.0203</td><td>Inflammatory bowel disease and other gastroenteritis and colitis</td></tr><tr><td>0.0168</td><td>Ulcerative colitis</td></tr><tr><td>0.0164</td><td>K51 Ulcerative colitis</td></tr><tr><td>0.0120</td><td>Albumin</td></tr><tr><td>0.0119</td><td>Dental caries</td></tr><tr><td>0.0117</td><td>Total protein</td></tr><tr><td>0.0113</td><td>K02 Dental caries</td></tr><tr><td>0.0112</td><td>Diseases of hard tissues of teeth</td></tr><tr><td>0.0107</td><td>Aortic aneurysm</td></tr><tr><td>0.0103</td><td>I71 Aortic aneurysm and dissection</td></tr><tr><td>0.0096</td><td>Appendicitis</td></tr><tr><td>0.0095</td><td>Acute appendicitis</td></tr><tr><td>0.0093</td><td>Regional enteritis</td></tr><tr><td>0.0092</td><td>K50 Crohn's disease [regional enteritis]</td></tr><tr><td>0.0090</td><td>Platelet count</td></tr></table>"
      ],
      "text/plain": [
       "<IPython.core.display.Markdown object>"
      ]
     },
     "metadata": {},
     "output_type": "display_data"
    },
    {
     "data": {
      "text/markdown": [
       "<span style='color:#c8635a'>**NNM-Sparse-FW**</span>"
      ],
      "text/plain": [
       "<IPython.core.display.Markdown object>"
      ]
     },
     "metadata": {},
     "output_type": "display_data"
    },
    {
     "data": {
      "text/markdown": [
       "<span style='color:None'>Top Factor: 65 (Contribution: 0.0684)</span>"
      ],
      "text/plain": [
       "<IPython.core.display.Markdown object>"
      ]
     },
     "metadata": {},
     "output_type": "display_data"
    },
    {
     "data": {
      "text/markdown": [
       "<table style={float:left; align:left;}><tr><td>0.0205</td><td>Leg fat mass (left)</td></tr><tr><td>0.0158</td><td>Forced expiratory volume in 1-second (FEV1), predicted</td></tr><tr><td>0.0104</td><td>Impedance of whole body</td></tr><tr><td>0.0095</td><td>flucloxacillin</td></tr><tr><td>0.0082</td><td>Arm predicted mass (right)</td></tr><tr><td>0.0077</td><td>Arm fat percentage (left)</td></tr><tr><td>0.0076</td><td>Essential hypertension</td></tr><tr><td>0.0073</td><td>Overweight, obesity and other hyperalimentation</td></tr><tr><td>0.0073</td><td>Basal metabolic rate</td></tr><tr><td>0.0073</td><td>Sitting height</td></tr><tr><td>0.0073</td><td>bendroflumethiazide</td></tr><tr><td>0.0070</td><td>Forced expiratory volume in 1-second (FEV1), Best measure</td></tr><tr><td>0.0067</td><td>Trunk fat mass</td></tr><tr><td>0.0067</td><td>Leg fat-free mass (left)</td></tr><tr><td>0.0065</td><td>atorvastatin</td></tr></table>"
      ],
      "text/plain": [
       "<IPython.core.display.Markdown object>"
      ]
     },
     "metadata": {},
     "output_type": "display_data"
    },
    {
     "data": {
      "text/markdown": [
       "<span style='color:#c8635a'>**Raw Data**</span>"
      ],
      "text/plain": [
       "<IPython.core.display.Markdown object>"
      ]
     },
     "metadata": {},
     "output_type": "display_data"
    },
    {
     "data": {
      "text/markdown": [
       "<span style='color:None'>Top Factor: 77 (Contribution: 0.0818)</span>"
      ],
      "text/plain": [
       "<IPython.core.display.Markdown object>"
      ]
     },
     "metadata": {},
     "output_type": "display_data"
    },
    {
     "data": {
      "text/markdown": [
       "<table style={float:left; align:left;}><tr><td>0.0424</td><td>Contracture of palmar fascia [Dupuytren's disease]</td></tr><tr><td>0.0416</td><td>Disorders of muscle, ligament, and fascia</td></tr><tr><td>0.0413</td><td>Fasciitis</td></tr><tr><td>0.0344</td><td>M72 Fibroblastic disorders</td></tr><tr><td>0.0276</td><td>ECG, number of stages in a phase</td></tr><tr><td>0.0267</td><td>ECG, load</td></tr><tr><td>0.0264</td><td>Maximum workload during fitness test</td></tr><tr><td>0.0229</td><td>Number of trend entries</td></tr><tr><td>0.0226</td><td>ECG, phase time</td></tr><tr><td>0.0129</td><td>Corneal hysteresis (left)</td></tr><tr><td>0.0129</td><td>Corneal hysteresis (right)</td></tr><tr><td>0.0118</td><td>Duration of fitness test</td></tr><tr><td>0.0077</td><td>Getting up in morning</td></tr><tr><td>0.0075</td><td>Corneal resistance factor (left)</td></tr><tr><td>0.0073</td><td>Corneal resistance factor (right)</td></tr></table>"
      ],
      "text/plain": [
       "<IPython.core.display.Markdown object>"
      ]
     },
     "metadata": {},
     "output_type": "display_data"
    },
    {
     "data": {
      "text/markdown": [
       "<h2>Other Headache Syndromes</h2>"
      ],
      "text/plain": [
       "<IPython.core.display.Markdown object>"
      ]
     },
     "metadata": {},
     "output_type": "display_data"
    },
    {
     "data": {
      "text/markdown": [
       "<span style='color:#c8635a'>**RPCA-IALM**</span>"
      ],
      "text/plain": [
       "<IPython.core.display.Markdown object>"
      ]
     },
     "metadata": {},
     "output_type": "display_data"
    },
    {
     "data": {
      "text/markdown": [
       "<span style='color:None'>Top Factor: 92 (Contribution: 0.0529)</span>"
      ],
      "text/plain": [
       "<IPython.core.display.Markdown object>"
      ]
     },
     "metadata": {},
     "output_type": "display_data"
    },
    {
     "data": {
      "text/markdown": [
       "<table style={float:left; align:left;}><tr><td>0.0288</td><td>Varicose veins of lower extremity</td></tr><tr><td>0.0265</td><td>Varicose veins</td></tr><tr><td>0.0247</td><td>I83 Varicose veins of lower extremities</td></tr><tr><td>0.0180</td><td>Acquired foot deformities</td></tr><tr><td>0.0176</td><td>M20 Acquired deformities of fingers and toes</td></tr><tr><td>0.0154</td><td>Other non-epithelial cancer of skin</td></tr><tr><td>0.0148</td><td>C44 Other malignant neoplasms of skin</td></tr><tr><td>0.0143</td><td>Skin cancer</td></tr><tr><td>0.0118</td><td>Aortic aneurysm</td></tr><tr><td>0.0117</td><td>I71 Aortic aneurysm and dissection</td></tr><tr><td>0.0105</td><td>R06 Abnormalities of breathing</td></tr><tr><td>0.0103</td><td>Hallux valgus (Bunion)</td></tr><tr><td>0.0102</td><td>Respiratory abnormalities</td></tr><tr><td>0.0091</td><td>Macular degeneration (senile) of retina NOS</td></tr><tr><td>0.0090</td><td>Degeneration of macula and posterior pole of retina</td></tr></table>"
      ],
      "text/plain": [
       "<IPython.core.display.Markdown object>"
      ]
     },
     "metadata": {},
     "output_type": "display_data"
    },
    {
     "data": {
      "text/markdown": [
       "<span style='color:#c8635a'>**NNM-Sparse-FW**</span>"
      ],
      "text/plain": [
       "<IPython.core.display.Markdown object>"
      ]
     },
     "metadata": {},
     "output_type": "display_data"
    },
    {
     "data": {
      "text/markdown": [
       "<span style='color:None'>Top Factor: 48 (Contribution: 0.0612)</span>"
      ],
      "text/plain": [
       "<IPython.core.display.Markdown object>"
      ]
     },
     "metadata": {},
     "output_type": "display_data"
    },
    {
     "data": {
      "text/markdown": [
       "<table style={float:left; align:left;}><tr><td>0.0247</td><td>Weight</td></tr><tr><td>0.0190</td><td>Whole body water mass</td></tr><tr><td>0.0134</td><td>Trunk fat mass</td></tr><tr><td>0.0132</td><td>Age at first live birth</td></tr><tr><td>0.0128</td><td>Weight</td></tr><tr><td>0.0123</td><td>Arm fat-free mass (left)</td></tr><tr><td>0.0119</td><td>Overweight, obesity and other hyperalimentation</td></tr><tr><td>0.0112</td><td>Body mass index (BMI)</td></tr><tr><td>0.0108</td><td>Leg fat percentage (right)</td></tr><tr><td>0.0089</td><td>Hip circumference</td></tr><tr><td>0.0088</td><td>Leg fat-free mass (right)</td></tr><tr><td>0.0081</td><td>Trunk predicted mass</td></tr><tr><td>0.0064</td><td>aspirin</td></tr><tr><td>0.0064</td><td>Leg fat-free mass (left)</td></tr><tr><td>0.0063</td><td>sodium alginate / potassium bicarbonate</td></tr></table>"
      ],
      "text/plain": [
       "<IPython.core.display.Markdown object>"
      ]
     },
     "metadata": {},
     "output_type": "display_data"
    },
    {
     "data": {
      "text/markdown": [
       "<span style='color:#c8635a'>**Raw Data**</span>"
      ],
      "text/plain": [
       "<IPython.core.display.Markdown object>"
      ]
     },
     "metadata": {},
     "output_type": "display_data"
    },
    {
     "data": {
      "text/markdown": [
       "<span style='color:None'>Top Factor: 56 (Contribution: 0.1011)</span>"
      ],
      "text/plain": [
       "<IPython.core.display.Markdown object>"
      ]
     },
     "metadata": {},
     "output_type": "display_data"
    },
    {
     "data": {
      "text/markdown": [
       "<table style={float:left; align:left;}><tr><td>0.0227</td><td>Alkaline phosphatase</td></tr><tr><td>0.0134</td><td>Red blood cell (erythrocyte) distribution width</td></tr><tr><td>0.0104</td><td>Albumin</td></tr><tr><td>0.0079</td><td>Alanine aminotransferase</td></tr><tr><td>0.0077</td><td>Estimated glomerular filtration rate, serum creatinine + cystain C</td></tr><tr><td>0.0072</td><td>Other disorders of bladder</td></tr><tr><td>0.0071</td><td>Aspartate aminotransferase</td></tr><tr><td>0.0071</td><td>Other retinal disorders</td></tr><tr><td>0.0065</td><td>Cystatin C</td></tr><tr><td>0.0064</td><td>N32 Other disorders of bladder</td></tr><tr><td>0.0062</td><td>Calcium</td></tr><tr><td>0.0061</td><td>Gamma glutamyltransferase</td></tr><tr><td>0.0057</td><td>Diabetic retinopathy</td></tr><tr><td>0.0057</td><td>Hereditary retinal dystrophies</td></tr><tr><td>0.0057</td><td>H36 Retinal disorders in diseases classified elsewhere</td></tr></table>"
      ],
      "text/plain": [
       "<IPython.core.display.Markdown object>"
      ]
     },
     "metadata": {},
     "output_type": "display_data"
    },
    {
     "data": {
      "text/markdown": [
       "<h2>Migraine</h2>"
      ],
      "text/plain": [
       "<IPython.core.display.Markdown object>"
      ]
     },
     "metadata": {},
     "output_type": "display_data"
    },
    {
     "data": {
      "text/markdown": [
       "<span style='color:#c8635a'>**RPCA-IALM**</span>"
      ],
      "text/plain": [
       "<IPython.core.display.Markdown object>"
      ]
     },
     "metadata": {},
     "output_type": "display_data"
    },
    {
     "data": {
      "text/markdown": [
       "<span style='color:None'>Top Factor: 80 (Contribution: 0.0772)</span>"
      ],
      "text/plain": [
       "<IPython.core.display.Markdown object>"
      ]
     },
     "metadata": {},
     "output_type": "display_data"
    },
    {
     "data": {
      "text/markdown": [
       "<table style={float:left; align:left;}><tr><td>0.0312</td><td>Appendicitis</td></tr><tr><td>0.0307</td><td>Acute appendicitis</td></tr><tr><td>0.0287</td><td>Appendiceal conditions</td></tr><tr><td>0.0284</td><td>K35 Acute appendicitis</td></tr><tr><td>0.0208</td><td>Sebaceous cyst</td></tr><tr><td>0.0203</td><td>Diseases of sebaceous glands</td></tr><tr><td>0.0186</td><td>L72 Follicular cysts of skin and subcutaneous tissue</td></tr><tr><td>0.0140</td><td>Contracture of palmar fascia [Dupuytren's disease]</td></tr><tr><td>0.0134</td><td>Disorders of muscle, ligament, and fascia</td></tr><tr><td>0.0133</td><td>Iron deficiency anemias, unspecified or not due to blood loss</td></tr><tr><td>0.0133</td><td>Iron deficiency anemias</td></tr><tr><td>0.0121</td><td>Fasciitis</td></tr><tr><td>0.0118</td><td>D50 Iron deficiency anaemia</td></tr><tr><td>0.0115</td><td>Home location - north co-ordinate (rounded)</td></tr><tr><td>0.0113</td><td>Home location at assessment - north co-ordinate (rounded)</td></tr></table>"
      ],
      "text/plain": [
       "<IPython.core.display.Markdown object>"
      ]
     },
     "metadata": {},
     "output_type": "display_data"
    },
    {
     "data": {
      "text/markdown": [
       "<span style='color:#c8635a'>**NNM-Sparse-FW**</span>"
      ],
      "text/plain": [
       "<IPython.core.display.Markdown object>"
      ]
     },
     "metadata": {},
     "output_type": "display_data"
    },
    {
     "data": {
      "text/markdown": [
       "<span style='color:None'>Top Factor: 100 (Contribution: 0.0520)</span>"
      ],
      "text/plain": [
       "<IPython.core.display.Markdown object>"
      ]
     },
     "metadata": {},
     "output_type": "display_data"
    },
    {
     "data": {
      "text/markdown": [
       "<table style={float:left; align:left;}><tr><td>0.0150</td><td>Impedance of arm (left)</td></tr><tr><td>0.0145</td><td>Apolipoprotein A</td></tr><tr><td>0.0134</td><td>Overweight, obesity and other hyperalimentation</td></tr><tr><td>0.0119</td><td>Hand grip strength (right)</td></tr><tr><td>0.0117</td><td>Weight</td></tr><tr><td>0.0108</td><td>corticosteroid</td></tr><tr><td>0.0107</td><td>Impedance of leg (left)</td></tr><tr><td>0.0102</td><td>Leg predicted mass (right)</td></tr><tr><td>0.0096</td><td>Basal metabolic rate</td></tr><tr><td>0.0096</td><td>Maximum workload during fitness test</td></tr><tr><td>0.0094</td><td>Forced vital capacity (FVC)</td></tr><tr><td>0.0077</td><td>Ankle spacing width</td></tr><tr><td>0.0075</td><td>antispasmodic</td></tr><tr><td>0.0070</td><td>Peak expiratory flow (PEF)</td></tr><tr><td>0.0064</td><td>Renal failure</td></tr></table>"
      ],
      "text/plain": [
       "<IPython.core.display.Markdown object>"
      ]
     },
     "metadata": {},
     "output_type": "display_data"
    },
    {
     "data": {
      "text/markdown": [
       "<span style='color:#c8635a'>**Raw Data**</span>"
      ],
      "text/plain": [
       "<IPython.core.display.Markdown object>"
      ]
     },
     "metadata": {},
     "output_type": "display_data"
    },
    {
     "data": {
      "text/markdown": [
       "<span style='color:None'>Top Factor: 56 (Contribution: 0.0774)</span>"
      ],
      "text/plain": [
       "<IPython.core.display.Markdown object>"
      ]
     },
     "metadata": {},
     "output_type": "display_data"
    },
    {
     "data": {
      "text/markdown": [
       "<table style={float:left; align:left;}><tr><td>0.0227</td><td>Alkaline phosphatase</td></tr><tr><td>0.0134</td><td>Red blood cell (erythrocyte) distribution width</td></tr><tr><td>0.0104</td><td>Albumin</td></tr><tr><td>0.0079</td><td>Alanine aminotransferase</td></tr><tr><td>0.0077</td><td>Estimated glomerular filtration rate, serum creatinine + cystain C</td></tr><tr><td>0.0072</td><td>Other disorders of bladder</td></tr><tr><td>0.0071</td><td>Aspartate aminotransferase</td></tr><tr><td>0.0071</td><td>Other retinal disorders</td></tr><tr><td>0.0065</td><td>Cystatin C</td></tr><tr><td>0.0064</td><td>N32 Other disorders of bladder</td></tr><tr><td>0.0062</td><td>Calcium</td></tr><tr><td>0.0061</td><td>Gamma glutamyltransferase</td></tr><tr><td>0.0057</td><td>Diabetic retinopathy</td></tr><tr><td>0.0057</td><td>Hereditary retinal dystrophies</td></tr><tr><td>0.0057</td><td>H36 Retinal disorders in diseases classified elsewhere</td></tr></table>"
      ],
      "text/plain": [
       "<IPython.core.display.Markdown object>"
      ]
     },
     "metadata": {},
     "output_type": "display_data"
    },
    {
     "data": {
      "text/markdown": [
       "<h2>Hemiplegia</h2>"
      ],
      "text/plain": [
       "<IPython.core.display.Markdown object>"
      ]
     },
     "metadata": {},
     "output_type": "display_data"
    },
    {
     "data": {
      "text/markdown": [
       "<span style='color:#c8635a'>**RPCA-IALM**</span>"
      ],
      "text/plain": [
       "<IPython.core.display.Markdown object>"
      ]
     },
     "metadata": {},
     "output_type": "display_data"
    },
    {
     "data": {
      "text/markdown": [
       "<span style='color:None'>Top Factor: 50 (Contribution: 0.1700)</span>"
      ],
      "text/plain": [
       "<IPython.core.display.Markdown object>"
      ]
     },
     "metadata": {},
     "output_type": "display_data"
    },
    {
     "data": {
      "text/markdown": [
       "<table style={float:left; align:left;}><tr><td>0.0225</td><td>I35 Nonrheumatic aortic valve disorders</td></tr><tr><td>0.0224</td><td>Nonrheumatic aortic valve disorders</td></tr><tr><td>0.0149</td><td>Late effects of cerebrovascular disease</td></tr><tr><td>0.0145</td><td>I69 Sequelae of cerebrovascular disease</td></tr><tr><td>0.0142</td><td>Cerebrovascular disease</td></tr><tr><td>0.0142</td><td>Congenital anomalies of great vessels</td></tr><tr><td>0.0131</td><td>Cardiac congenital anomalies</td></tr><tr><td>0.0123</td><td>Suicide or self-inflicted injury</td></tr><tr><td>0.0119</td><td>Heart valve disorders</td></tr><tr><td>0.0117</td><td>X61 Intentional self-poisoning by and exposure to antiepileptic, sedative-hypnotic, anti-Parkinsonism and psychotropic drugs, not elsewhere classified</td></tr><tr><td>0.0117</td><td>Hemiplegia</td></tr><tr><td>0.0115</td><td>G81 Hemiplegia</td></tr><tr><td>0.0114</td><td>Suicidal ideation or attempt</td></tr><tr><td>0.0114</td><td>T51 Toxic effect of alcohol</td></tr><tr><td>0.0114</td><td>Toxic effect of (non-ethyl) alcohol and petroleum and other solvents</td></tr></table>"
      ],
      "text/plain": [
       "<IPython.core.display.Markdown object>"
      ]
     },
     "metadata": {},
     "output_type": "display_data"
    },
    {
     "data": {
      "text/markdown": [
       "<span style='color:#c8635a'>**NNM-Sparse-FW**</span>"
      ],
      "text/plain": [
       "<IPython.core.display.Markdown object>"
      ]
     },
     "metadata": {},
     "output_type": "display_data"
    },
    {
     "data": {
      "text/markdown": [
       "<span style='color:None'>Top Factor: 25 (Contribution: 0.0582)</span>"
      ],
      "text/plain": [
       "<IPython.core.display.Markdown object>"
      ]
     },
     "metadata": {},
     "output_type": "display_data"
    },
    {
     "data": {
      "text/markdown": [
       "<table style={float:left; align:left;}><tr><td>0.0297</td><td>Obesity</td></tr><tr><td>0.0293</td><td>E66 Obesity</td></tr><tr><td>0.0172</td><td>Overweight, obesity and other hyperalimentation</td></tr><tr><td>0.0159</td><td>Leg fat mass (left)</td></tr><tr><td>0.0155</td><td>Pulse pressure, automated reading, adjusted by medication</td></tr><tr><td>0.0134</td><td>Estimated glomerular filtration rate, serum creatinine + cystain C</td></tr><tr><td>0.0128</td><td>Seating box height</td></tr><tr><td>0.0127</td><td>Pulse pressure, combined automated + manual reading, adjusted by medication</td></tr><tr><td>0.0127</td><td>Coronary atherosclerosis</td></tr><tr><td>0.0118</td><td>Pulse pressure, combined automated + manual reading</td></tr><tr><td>0.0106</td><td>Sitting height</td></tr><tr><td>0.0105</td><td>HMG CoA reductase inhibitor|statin</td></tr><tr><td>0.0102</td><td>lansoprazole</td></tr><tr><td>0.0099</td><td>Trunk fat percentage</td></tr><tr><td>0.0095</td><td>Whole body fat mass</td></tr></table>"
      ],
      "text/plain": [
       "<IPython.core.display.Markdown object>"
      ]
     },
     "metadata": {},
     "output_type": "display_data"
    },
    {
     "data": {
      "text/markdown": [
       "<span style='color:#c8635a'>**Raw Data**</span>"
      ],
      "text/plain": [
       "<IPython.core.display.Markdown object>"
      ]
     },
     "metadata": {},
     "output_type": "display_data"
    },
    {
     "data": {
      "text/markdown": [
       "<span style='color:None'>Top Factor: 64 (Contribution: 0.2000)</span>"
      ],
      "text/plain": [
       "<IPython.core.display.Markdown object>"
      ]
     },
     "metadata": {},
     "output_type": "display_data"
    },
    {
     "data": {
      "text/markdown": [
       "<table style={float:left; align:left;}><tr><td>0.0165</td><td>Cerebrovascular disease</td></tr><tr><td>0.0127</td><td>SHBG</td></tr><tr><td>0.0124</td><td>Acute pulmonary heart disease</td></tr><tr><td>0.0124</td><td>Pulmonary embolism and infarction, acute</td></tr><tr><td>0.0123</td><td>I26 Pulmonary embolism</td></tr><tr><td>0.0113</td><td>Pulmonary heart disease</td></tr><tr><td>0.0104</td><td>Breast cancer [female]</td></tr><tr><td>0.0103</td><td>Late effects of cerebrovascular disease</td></tr><tr><td>0.0103</td><td>Breast cancer</td></tr><tr><td>0.0100</td><td>I69 Sequelae of cerebrovascular disease</td></tr><tr><td>0.0099</td><td>Cerebral ischemia</td></tr><tr><td>0.0097</td><td>Malignant neoplasm of female breast</td></tr><tr><td>0.0095</td><td>C50 Malignant neoplasm of breast</td></tr><tr><td>0.0093</td><td>Hemiplegia</td></tr><tr><td>0.0092</td><td>Occlusion of cerebral arteries</td></tr></table>"
      ],
      "text/plain": [
       "<IPython.core.display.Markdown object>"
      ]
     },
     "metadata": {},
     "output_type": "display_data"
    },
    {
     "data": {
      "text/markdown": [
       "<h2>Epilepsy, Recurrent Seizures, Convulsions</h2>"
      ],
      "text/plain": [
       "<IPython.core.display.Markdown object>"
      ]
     },
     "metadata": {},
     "output_type": "display_data"
    },
    {
     "data": {
      "text/markdown": [
       "<span style='color:#c8635a'>**RPCA-IALM**</span>"
      ],
      "text/plain": [
       "<IPython.core.display.Markdown object>"
      ]
     },
     "metadata": {},
     "output_type": "display_data"
    },
    {
     "data": {
      "text/markdown": [
       "<span style='color:None'>Top Factor: 98 (Contribution: 0.0502)</span>"
      ],
      "text/plain": [
       "<IPython.core.display.Markdown object>"
      ]
     },
     "metadata": {},
     "output_type": "display_data"
    },
    {
     "data": {
      "text/markdown": [
       "<table style={float:left; align:left;}><tr><td>0.0171</td><td>Platelet count</td></tr><tr><td>0.0121</td><td>Eosinophill count</td></tr><tr><td>0.0101</td><td>Polyp of corpus uteri</td></tr><tr><td>0.0099</td><td>R06 Abnormalities of breathing</td></tr><tr><td>0.0098</td><td>N84 Polyp of female genital tract</td></tr><tr><td>0.0097</td><td>Respiratory abnormalities</td></tr><tr><td>0.0093</td><td>Polyp of female genital organs</td></tr><tr><td>0.0091</td><td>I71 Aortic aneurysm and dissection</td></tr><tr><td>0.0089</td><td>Aortic aneurysm</td></tr><tr><td>0.0083</td><td>Platelet crit</td></tr><tr><td>0.0083</td><td>Eosinophill percentage</td></tr><tr><td>0.0074</td><td>Bundle branch block</td></tr><tr><td>0.0071</td><td>Purpura and other hemorrhagic conditions</td></tr><tr><td>0.0070</td><td>Cardiac conduction disorders</td></tr><tr><td>0.0070</td><td>D69 Purpura and other haemorrhagic conditions</td></tr></table>"
      ],
      "text/plain": [
       "<IPython.core.display.Markdown object>"
      ]
     },
     "metadata": {},
     "output_type": "display_data"
    },
    {
     "data": {
      "text/markdown": [
       "<span style='color:#c8635a'>**NNM-Sparse-FW**</span>"
      ],
      "text/plain": [
       "<IPython.core.display.Markdown object>"
      ]
     },
     "metadata": {},
     "output_type": "display_data"
    },
    {
     "data": {
      "text/markdown": [
       "<span style='color:None'>Top Factor: 96 (Contribution: 0.1166)</span>"
      ],
      "text/plain": [
       "<IPython.core.display.Markdown object>"
      ]
     },
     "metadata": {},
     "output_type": "display_data"
    },
    {
     "data": {
      "text/markdown": [
       "<table style={float:left; align:left;}><tr><td>0.0249</td><td>Ankle spacing width (right)</td></tr><tr><td>0.0187</td><td>Impedance of leg (left)</td></tr><tr><td>0.0154</td><td>proton pump inhibitor|PPI</td></tr><tr><td>0.0153</td><td>Angina pectoris</td></tr><tr><td>0.0143</td><td>Whole body fat-free mass</td></tr><tr><td>0.0134</td><td>Non-cancer illness code, self-reported</td></tr><tr><td>0.0127</td><td>benzodiazepine|sedative|anxiety</td></tr><tr><td>0.0115</td><td>Ischemic Heart Disease</td></tr><tr><td>0.0111</td><td>Sitting height</td></tr><tr><td>0.0088</td><td>Leg predicted mass (left)</td></tr><tr><td>0.0088</td><td>Seated height</td></tr><tr><td>0.0085</td><td>Leg fat mass (left)</td></tr><tr><td>0.0084</td><td>Peak expiratory flow (PEF)</td></tr><tr><td>0.0072</td><td>Arm predicted mass (right)</td></tr><tr><td>0.0070</td><td>Age at first live birth</td></tr></table>"
      ],
      "text/plain": [
       "<IPython.core.display.Markdown object>"
      ]
     },
     "metadata": {},
     "output_type": "display_data"
    },
    {
     "data": {
      "text/markdown": [
       "<span style='color:#c8635a'>**Raw Data**</span>"
      ],
      "text/plain": [
       "<IPython.core.display.Markdown object>"
      ]
     },
     "metadata": {},
     "output_type": "display_data"
    },
    {
     "data": {
      "text/markdown": [
       "<span style='color:None'>Top Factor: 64 (Contribution: 0.1090)</span>"
      ],
      "text/plain": [
       "<IPython.core.display.Markdown object>"
      ]
     },
     "metadata": {},
     "output_type": "display_data"
    },
    {
     "data": {
      "text/markdown": [
       "<table style={float:left; align:left;}><tr><td>0.0165</td><td>Cerebrovascular disease</td></tr><tr><td>0.0127</td><td>SHBG</td></tr><tr><td>0.0124</td><td>Acute pulmonary heart disease</td></tr><tr><td>0.0124</td><td>Pulmonary embolism and infarction, acute</td></tr><tr><td>0.0123</td><td>I26 Pulmonary embolism</td></tr><tr><td>0.0113</td><td>Pulmonary heart disease</td></tr><tr><td>0.0104</td><td>Breast cancer [female]</td></tr><tr><td>0.0103</td><td>Late effects of cerebrovascular disease</td></tr><tr><td>0.0103</td><td>Breast cancer</td></tr><tr><td>0.0100</td><td>I69 Sequelae of cerebrovascular disease</td></tr><tr><td>0.0099</td><td>Cerebral ischemia</td></tr><tr><td>0.0097</td><td>Malignant neoplasm of female breast</td></tr><tr><td>0.0095</td><td>C50 Malignant neoplasm of breast</td></tr><tr><td>0.0093</td><td>Hemiplegia</td></tr><tr><td>0.0092</td><td>Occlusion of cerebral arteries</td></tr></table>"
      ],
      "text/plain": [
       "<IPython.core.display.Markdown object>"
      ]
     },
     "metadata": {},
     "output_type": "display_data"
    },
    {
     "data": {
      "text/markdown": [
       "<h2>Epilepsy</h2>"
      ],
      "text/plain": [
       "<IPython.core.display.Markdown object>"
      ]
     },
     "metadata": {},
     "output_type": "display_data"
    },
    {
     "data": {
      "text/markdown": [
       "<span style='color:#c8635a'>**RPCA-IALM**</span>"
      ],
      "text/plain": [
       "<IPython.core.display.Markdown object>"
      ]
     },
     "metadata": {},
     "output_type": "display_data"
    },
    {
     "data": {
      "text/markdown": [
       "<span style='color:None'>Top Factor: 98 (Contribution: 0.0738)</span>"
      ],
      "text/plain": [
       "<IPython.core.display.Markdown object>"
      ]
     },
     "metadata": {},
     "output_type": "display_data"
    },
    {
     "data": {
      "text/markdown": [
       "<table style={float:left; align:left;}><tr><td>0.0171</td><td>Platelet count</td></tr><tr><td>0.0121</td><td>Eosinophill count</td></tr><tr><td>0.0101</td><td>Polyp of corpus uteri</td></tr><tr><td>0.0099</td><td>R06 Abnormalities of breathing</td></tr><tr><td>0.0098</td><td>N84 Polyp of female genital tract</td></tr><tr><td>0.0097</td><td>Respiratory abnormalities</td></tr><tr><td>0.0093</td><td>Polyp of female genital organs</td></tr><tr><td>0.0091</td><td>I71 Aortic aneurysm and dissection</td></tr><tr><td>0.0089</td><td>Aortic aneurysm</td></tr><tr><td>0.0083</td><td>Platelet crit</td></tr><tr><td>0.0083</td><td>Eosinophill percentage</td></tr><tr><td>0.0074</td><td>Bundle branch block</td></tr><tr><td>0.0071</td><td>Purpura and other hemorrhagic conditions</td></tr><tr><td>0.0070</td><td>Cardiac conduction disorders</td></tr><tr><td>0.0070</td><td>D69 Purpura and other haemorrhagic conditions</td></tr></table>"
      ],
      "text/plain": [
       "<IPython.core.display.Markdown object>"
      ]
     },
     "metadata": {},
     "output_type": "display_data"
    },
    {
     "data": {
      "text/markdown": [
       "<span style='color:#c8635a'>**NNM-Sparse-FW**</span>"
      ],
      "text/plain": [
       "<IPython.core.display.Markdown object>"
      ]
     },
     "metadata": {},
     "output_type": "display_data"
    },
    {
     "data": {
      "text/markdown": [
       "<span style='color:None'>Top Factor: 96 (Contribution: 0.1300)</span>"
      ],
      "text/plain": [
       "<IPython.core.display.Markdown object>"
      ]
     },
     "metadata": {},
     "output_type": "display_data"
    },
    {
     "data": {
      "text/markdown": [
       "<table style={float:left; align:left;}><tr><td>0.0249</td><td>Ankle spacing width (right)</td></tr><tr><td>0.0187</td><td>Impedance of leg (left)</td></tr><tr><td>0.0154</td><td>proton pump inhibitor|PPI</td></tr><tr><td>0.0153</td><td>Angina pectoris</td></tr><tr><td>0.0143</td><td>Whole body fat-free mass</td></tr><tr><td>0.0134</td><td>Non-cancer illness code, self-reported</td></tr><tr><td>0.0127</td><td>benzodiazepine|sedative|anxiety</td></tr><tr><td>0.0115</td><td>Ischemic Heart Disease</td></tr><tr><td>0.0111</td><td>Sitting height</td></tr><tr><td>0.0088</td><td>Leg predicted mass (left)</td></tr><tr><td>0.0088</td><td>Seated height</td></tr><tr><td>0.0085</td><td>Leg fat mass (left)</td></tr><tr><td>0.0084</td><td>Peak expiratory flow (PEF)</td></tr><tr><td>0.0072</td><td>Arm predicted mass (right)</td></tr><tr><td>0.0070</td><td>Age at first live birth</td></tr></table>"
      ],
      "text/plain": [
       "<IPython.core.display.Markdown object>"
      ]
     },
     "metadata": {},
     "output_type": "display_data"
    },
    {
     "data": {
      "text/markdown": [
       "<span style='color:#c8635a'>**Raw Data**</span>"
      ],
      "text/plain": [
       "<IPython.core.display.Markdown object>"
      ]
     },
     "metadata": {},
     "output_type": "display_data"
    },
    {
     "data": {
      "text/markdown": [
       "<span style='color:None'>Top Factor: 61 (Contribution: 0.0849)</span>"
      ],
      "text/plain": [
       "<IPython.core.display.Markdown object>"
      ]
     },
     "metadata": {},
     "output_type": "display_data"
    },
    {
     "data": {
      "text/markdown": [
       "<table style={float:left; align:left;}><tr><td>0.0324</td><td>Heel bone mineral density (BMD)</td></tr><tr><td>0.0322</td><td>Heel bone mineral density (BMD) T-score, automated</td></tr><tr><td>0.0322</td><td>Heel quantitative ultrasound index (QUI), direct entry</td></tr><tr><td>0.0258</td><td>Heel Broadband ultrasound attenuation, direct entry</td></tr><tr><td>0.0139</td><td>Urate</td></tr><tr><td>0.0119</td><td>Heel bone mineral density (BMD) T-score, automated (left)</td></tr><tr><td>0.0119</td><td>Heel quantitative ultrasound index (QUI), direct entry (left)</td></tr><tr><td>0.0119</td><td>Heel broadband ultrasound attenuation (left)</td></tr><tr><td>0.0116</td><td>Heel bone mineral density (BMD) (left)</td></tr><tr><td>0.0115</td><td>Heel bone mineral density (BMD) T-score, automated (right)</td></tr><tr><td>0.0115</td><td>Heel quantitative ultrasound index (QUI), direct entry (right)</td></tr><tr><td>0.0115</td><td>Heel broadband ultrasound attenuation (right)</td></tr><tr><td>0.0114</td><td>Heel bone mineral density (BMD) (right)</td></tr><tr><td>0.0103</td><td>Cerebrovascular disease</td></tr><tr><td>0.0102</td><td>Creatinine</td></tr></table>"
      ],
      "text/plain": [
       "<IPython.core.display.Markdown object>"
      ]
     },
     "metadata": {},
     "output_type": "display_data"
    }
   ],
   "source": [
    "for z in range(520,538):\n",
    "    pan_ukb_pleiotropy(z)"
   ]
  },
  {
   "cell_type": "code",
   "execution_count": null,
   "id": "6df971fb-33fe-4c0c-b7c7-29963b864142",
   "metadata": {},
   "outputs": [],
   "source": []
  },
  {
   "cell_type": "code",
   "execution_count": null,
   "id": "4afe044d-a43d-42d5-b6a9-2a86c49d2978",
   "metadata": {},
   "outputs": [],
   "source": []
  }
 ],
 "metadata": {
  "kernelspec": {
   "display_name": "Python 3 (ipykernel)",
   "language": "python",
   "name": "python3"
  },
  "language_info": {
   "codemirror_mode": {
    "name": "ipython",
    "version": 3
   },
   "file_extension": ".py",
   "mimetype": "text/x-python",
   "name": "python",
   "nbconvert_exporter": "python",
   "pygments_lexer": "ipython3",
   "version": "3.11.3"
  }
 },
 "nbformat": 4,
 "nbformat_minor": 5
}
