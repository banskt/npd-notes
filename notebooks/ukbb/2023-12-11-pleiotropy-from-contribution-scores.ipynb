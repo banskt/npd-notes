{
 "cells": [
  {
   "cell_type": "markdown",
   "id": "d320aaf6-870b-444f-891c-f6d9a45febdd",
   "metadata": {},
   "source": [
    "---\n",
    "title: \"Pan-UKB Pleitropy of Diseases v01\"\n",
    "author: \"Saikat Banerjee\"\n",
    "format:\n",
    "  html: default\n",
    "date: \"2023-12-11\"\n",
    "file-modified: \"2023-12-08\"\n",
    "abstract: \"We look at the pleiotropy of some common diseases from the Pan-UKB data.\"\n",
    "\n",
    "---"
   ]
  },
  {
   "cell_type": "markdown",
   "id": "089505f1-c092-4745-94cf-3f2dbd4fa2cc",
   "metadata": {},
   "source": [
    "# Getting Setup"
   ]
  },
  {
   "cell_type": "code",
   "execution_count": 1,
   "id": "a5623879-20b6-4919-a7bc-e37cf0f70fcb",
   "metadata": {},
   "outputs": [],
   "source": [
    "import numpy as np\n",
    "import pandas as pd\n",
    "import pickle\n",
    "\n",
    "import matplotlib.pyplot as plt\n",
    "from pymir import mpl_stylesheet\n",
    "from pymir import mpl_utils\n",
    "mpl_stylesheet.banskt_presentation(splinecolor = 'black', dpi = 120, colors = 'kelly')\n",
    "from matplotlib.gridspec import GridSpec\n",
    "\n",
    "from nnwmf.optimize import IALM\n",
    "from nnwmf.optimize import FrankWolfe, FrankWolfe_CV\n",
    "from nnwmf.utils import model_errors as merr\n",
    "\n",
    "import sys\n",
    "sys.path.append(\"../utils/\")\n",
    "import simulate as mpy_simulate"
   ]
  },
  {
   "cell_type": "markdown",
   "id": "199dd555-ba12-4ead-a305-59e47a9009dc",
   "metadata": {},
   "source": [
    "# Load data and results"
   ]
  },
  {
   "cell_type": "code",
   "execution_count": 2,
   "id": "3fcf38df-5c48-4969-a37d-43dcad063a88",
   "metadata": {},
   "outputs": [],
   "source": [
    "data_dir = \"/gpfs/commons/home/sbanerjee/work/npd/PanUKB/data\"\n",
    "result_dir = \"/gpfs/commons/home/sbanerjee/work/npd/PanUKB/nnwmf\"\n",
    "zscore_filename = f\"{data_dir}/GWAS_Zscore.tsv\"\n",
    "trait_filename = f\"{data_dir}/trait_manifest_TableS6_no_readme.tsv\"\n",
    "zscore_df = pd.read_csv(zscore_filename, sep = '\\t')\n",
    "trait_df = pd.read_csv(trait_filename, sep = '\\t')\n",
    "\n",
    "# remove extra columns from trait_df\n",
    "\n",
    "colnames = trait_df.columns.tolist()\n",
    "colnames[0] = \"zindex\"\n",
    "trait_df.columns = colnames\n",
    "trait_df_mod = trait_df.drop(labels = ['coding', 'modifier', 'coding_description', 'filename', 'aws_link'], axis=1)\n",
    "trait_df_mod['trait_name'] = trait_df_mod['description']\n",
    "trait_df_mod['trait_name'] = trait_df_mod['trait_name'].fillna(trait_df_mod['phenocode'])"
   ]
  },
  {
   "cell_type": "code",
   "execution_count": 3,
   "id": "873ac85a-4843-4414-8090-4302bf021648",
   "metadata": {},
   "outputs": [
    {
     "name": "stdout",
     "output_type": "stream",
     "text": [
      "We have 2483 samples (phenotypes) and 51399 features (variants)\n",
      "Fraction of Nan entries: 0.000\n"
     ]
    }
   ],
   "source": [
    "X_nan = np.array(zscore_df.loc[:, zscore_df.columns!='rsid']).T\n",
    "X_nan_cent = X_nan - np.nanmean(X_nan, axis = 0, keepdims = True)\n",
    "X_nan_mask = np.isnan(X_nan)\n",
    "X_cent = np.nan_to_num(X_nan_cent, copy = True, nan = 0.0)\n",
    "\n",
    "print (f\"We have {X_cent.shape[0]} samples (phenotypes) and {X_cent.shape[1]} features (variants)\")\n",
    "print (f\"Fraction of Nan entries: {np.sum(X_nan_mask) / np.prod(X_cent.shape):.3f}\")"
   ]
  },
  {
   "cell_type": "code",
   "execution_count": 4,
   "id": "eb76361d-645d-45c8-834e-29d6b74f529c",
   "metadata": {},
   "outputs": [],
   "source": [
    "mf_methods = ['ialm', 'nnm_sparse', 'tsvd']\n",
    "\n",
    "method_prefix = {\n",
    "    'ialm' : 'ialm_maxiter10000_admm',\n",
    "    'nnm_sparse' : 'nnm_sparse_maxiter1000'\n",
    "}\n",
    "\n",
    "method_names = {\n",
    "    'tsvd' : 'Raw Data',\n",
    "    'ialm' : 'RPCA-IALM',\n",
    "    'nnm'  : 'NNM-FW',\n",
    "    'nnm_weighted' : 'NNM-Weighted',\n",
    "    'nnm_sparse' : 'NNM-Sparse-FW',\n",
    "}\n",
    "\n",
    "with open (f\"{result_dir}/{method_prefix['ialm']}_progress.pkl\", 'rb') as handle:\n",
    "    ialm = pickle.load(handle)\n",
    "    \n",
    "with open (f\"{result_dir}/{method_prefix['nnm_sparse']}_progress.pkl\", 'rb') as handle:\n",
    "    nnm_sparse = pickle.load(handle)"
   ]
  },
  {
   "cell_type": "code",
   "execution_count": 5,
   "id": "810495f0-a013-410a-91a2-fe0ade3d87bc",
   "metadata": {},
   "outputs": [],
   "source": [
    "def get_principal_components(X):\n",
    "    X_cent = mpy_simulate.do_standardize(X, scale = False)\n",
    "    X_cent /= np.sqrt(np.prod(X_cent.shape))\n",
    "    U, S, Vt = np.linalg.svd(X_cent, full_matrices = False)\n",
    "    pcomps = U @ np.diag(S)\n",
    "    loadings = Vt.T @ np.diag(S)\n",
    "    return loadings, pcomps, S\n",
    "\n",
    "lowrank_X = dict()\n",
    "loadings  = dict()\n",
    "pcomps    = dict()\n",
    "eigenvals = dict()\n",
    "\n",
    "for m in mf_methods:\n",
    "    if m != 'tsvd':\n",
    "        with open (f\"{result_dir}/{method_prefix[m]}_lowrank_X.pkl\", 'rb') as handle:\n",
    "            lowrank_X[m] = pickle.load(handle)\n",
    "lowrank_X['tsvd'] = X_cent.copy()\n",
    "for m in mf_methods:\n",
    "    loadings[m], pcomps[m], eigenvals[m] = get_principal_components(lowrank_X[m])"
   ]
  },
  {
   "cell_type": "code",
   "execution_count": 6,
   "id": "cfe92aed-d99d-473c-995b-86618d38adeb",
   "metadata": {},
   "outputs": [],
   "source": [
    "def get_cos2_scores(pcomps):\n",
    "    ntrait, npcomp = pcomps.shape\n",
    "    x = np.zeros((ntrait, npcomp))\n",
    "    std_pcomps = pcomps / np.sqrt(np.var(pcomps[:,:], axis = 0))\n",
    "    for i in range(ntrait):\n",
    "        cos2_trait = np.array([np.square(std_pcomps[i, pcidx]) for pcidx in range(npcomp)])\n",
    "        x[i, :] = cos2_trait / np.sum(cos2_trait)\n",
    "    return x\n",
    "\n",
    "def get_contribution_scores(pcomps):\n",
    "    ntrait, npcomp = pcomps.shape\n",
    "    x = np.zeros((ntrait, npcomp))\n",
    "    std_pcomps = pcomps / np.sqrt(np.var(pcomps[:,:], axis = 0)).reshape(1, -1)\n",
    "    for i in range(npcomp):\n",
    "        trait_contr = np.array([np.square(std_pcomps[j, i]) for j in range(ntrait)])\n",
    "        x[:, i] = trait_contr / np.sum(trait_contr)\n",
    "    return x\n",
    "\n",
    "npcomp = 100\n",
    "cos2_scores = dict()\n",
    "for m in mf_methods:\n",
    "    cos2_scores[m] = get_cos2_scores(pcomps[m][:,:npcomp])\n",
    "\n",
    "trait_contributions = dict()\n",
    "for m in mf_methods:\n",
    "    trait_contributions[m] = get_contribution_scores(pcomps[m][:,:npcomp])"
   ]
  },
  {
   "cell_type": "markdown",
   "id": "76abdf16-f893-4b6e-b1f0-f05def79ea4c",
   "metadata": {},
   "source": [
    "# Pleiotropy\n",
    "\n",
    "In the following, we look at the pleiotropy of different diseases reported in the UKB project.\n",
    "Given a phenotype (focal trait), we find the hidden factor with the highest contribution to the focal trait. \n",
    "We then report the other phenotypes which contribute to that hidden factor. \n",
    "\n",
    "*Function* `pan_ukb_pleiotropy(trait_index)`\n",
    "\n",
    "**Input**: \n",
    "  - Index of the focal trait as found in the [manifest file](https://docs.google.com/spreadsheets/d/16OqNQf8cSk2szlmQWYlNOj30NHMjojyf).\n",
    "  - Number of pleiotropic traits to be reported (optional, default 15).\n",
    "\n",
    "**Output**: \n",
    "  - Index of the top hidden factor.\n",
    "  - Contribution of the hidden factor on the focal trait.\n",
    "  - List of pleiotropic traits, and their contributions to the hidden factor.\n",
    "  \n",
    "**Global Variables**: `trait_df_mod`, `mf_methods`, `cos2_scores`, `trait_contributions`, `method_names`"
   ]
  },
  {
   "cell_type": "code",
   "execution_count": 52,
   "id": "95a4e2f1-e5f3-4175-af69-7caeee43c0f6",
   "metadata": {},
   "outputs": [],
   "source": [
    "from IPython.display import Markdown, display\n",
    "\n",
    "import re\n",
    "def titlecase(s):\n",
    "    return re.sub(r\"[A-Za-z]+('[A-Za-z]+)?\", lambda mo: mo.group(0).capitalize(),s)\n",
    "\n",
    "def printmd(string, color = None):\n",
    "    colorstr = \"<span style='color:{}'>{}</span>\".format(color, string)\n",
    "    display(Markdown(colorstr))\n",
    "    \n",
    "def printheader(string):\n",
    "    headerstr=f\"<h2>{string}</h2>\"\n",
    "    display(Markdown(headerstr))\n",
    "\n",
    "def pan_ukb_pleiotropy(znum, num_trait = 15):\n",
    "    zindex = znum - 1\n",
    "    focal_trait_name = trait_df_mod.loc[zindex, 'trait_name']\n",
    "    printheader(titlecase(focal_trait_name))\n",
    "    for m in mf_methods:\n",
    "        printmd (f\"**{method_names[m]}**\", color = \"#c8635a\")\n",
    "        top_factor = np.argsort(cos2_scores[m][zindex,:])[::-1][0]\n",
    "        printmd(f\"Top Factor: {top_factor + 1} (Contribution: {cos2_scores[m][zindex,top_factor]:.4f})\")\n",
    "        top_traits = np.argsort(trait_contributions[m][:,top_factor])[::-1][:num_trait]\n",
    "        trait_names = trait_df_mod.loc[top_traits]['trait_name'].tolist()\n",
    "        for i, x in zip(top_traits, trait_names):\n",
    "            print(f\"    {trait_contributions[m][i, top_factor]:.4f}   {x}\")\n",
    "        print(f\"\")"
   ]
  },
  {
   "cell_type": "code",
   "execution_count": 43,
   "id": "a9709dc3-9ad2-4324-a45e-e9da1e0cc1f0",
   "metadata": {},
   "outputs": [
    {
     "data": {
      "text/markdown": [
       "<h2>Rheumatoid Arthritis</h2>"
      ],
      "text/plain": [
       "<IPython.core.display.Markdown object>"
      ]
     },
     "metadata": {},
     "output_type": "display_data"
    },
    {
     "data": {
      "text/markdown": [
       "<span style='color:#c8635a'>**RPCA-IALM**</span>"
      ],
      "text/plain": [
       "<IPython.core.display.Markdown object>"
      ]
     },
     "metadata": {},
     "output_type": "display_data"
    },
    {
     "data": {
      "text/markdown": [
       "<span style='color:None'>Top Factor: 47 (Contribution: 0.1697)</span>"
      ],
      "text/plain": [
       "<IPython.core.display.Markdown object>"
      ]
     },
     "metadata": {},
     "output_type": "display_data"
    },
    {
     "name": "stdout",
     "output_type": "stream",
     "text": [
      "    0.0236   methotrexate\n",
      "    0.0236   anti-metabolite\n",
      "    0.0167   folic acid supplement|Food Supplement\n",
      "    0.0167   folic acid\n",
      "    0.0146   Forced expiratory volume in 1-second (FEV1), Best measure\n",
      "    0.0141   Forced expiratory volume in 1-second (FEV1)\n",
      "    0.0131   Forced vital capacity (FVC), Best measure\n",
      "    0.0126   Forced vital capacity (FVC)\n",
      "    0.0113   anti-inflammatory\n",
      "    0.0113   sulfasalazine\n",
      "    0.0104   Rheumatoid arthritis\n",
      "    0.0097   Neutrophill percentage\n",
      "    0.0097   Rheumatoid arthritis and other inflammatory polyarthropathies\n",
      "    0.0095   Corneal resistance factor (left)\n",
      "    0.0093   Corneal resistance factor (right)\n",
      "\n"
     ]
    },
    {
     "data": {
      "text/markdown": [
       "<span style='color:#c8635a'>**NNM-Sparse-FW**</span>"
      ],
      "text/plain": [
       "<IPython.core.display.Markdown object>"
      ]
     },
     "metadata": {},
     "output_type": "display_data"
    },
    {
     "data": {
      "text/markdown": [
       "<span style='color:None'>Top Factor: 88 (Contribution: 0.0664)</span>"
      ],
      "text/plain": [
       "<IPython.core.display.Markdown object>"
      ]
     },
     "metadata": {},
     "output_type": "display_data"
    },
    {
     "name": "stdout",
     "output_type": "stream",
     "text": [
      "    0.0319   Whole body fat-free mass\n",
      "    0.0251   Leg fat percentage (right)\n",
      "    0.0194   Hand grip strength (left)\n",
      "    0.0120   Leg predicted mass (right)\n",
      "    0.0118   Forced vital capacity (FVC), Best measure\n",
      "    0.0110   codine/paracetamol\n",
      "    0.0103   Arm fat-free mass (right)\n",
      "    0.0099   Mean arterial pressure, automated reading\n",
      "    0.0096   Trunk fat-free mass\n",
      "    0.0096   Peak expiratory flow (PEF)\n",
      "    0.0092   Trunk predicted mass\n",
      "    0.0090   Basal metabolic rate\n",
      "    0.0089   Diastolic blood pressure, combined automated + manual reading, adjusted by medication\n",
      "    0.0071   Arm fat mass (left)\n",
      "    0.0069   Age completed full time education\n",
      "\n"
     ]
    },
    {
     "data": {
      "text/markdown": [
       "<span style='color:#c8635a'>**Raw Data**</span>"
      ],
      "text/plain": [
       "<IPython.core.display.Markdown object>"
      ]
     },
     "metadata": {},
     "output_type": "display_data"
    },
    {
     "data": {
      "text/markdown": [
       "<span style='color:None'>Top Factor: 73 (Contribution: 0.1319)</span>"
      ],
      "text/plain": [
       "<IPython.core.display.Markdown object>"
      ]
     },
     "metadata": {},
     "output_type": "display_data"
    },
    {
     "name": "stdout",
     "output_type": "stream",
     "text": [
      "    0.0213   I35 Nonrheumatic aortic valve disorders\n",
      "    0.0211   Nonrheumatic aortic valve disorders\n",
      "    0.0173   Congenital anomalies of great vessels\n",
      "    0.0157   Cardiac congenital anomalies\n",
      "    0.0147   Cardiac and circulatory congenital anomalies\n",
      "    0.0137   Albumin\n",
      "    0.0128   anti-metabolite\n",
      "    0.0128   methotrexate\n",
      "    0.0126   Heart valve disorders\n",
      "    0.0094   Aortic valve disease\n",
      "    0.0093   Rheumatoid arthritis\n",
      "    0.0090   Rheumatoid arthritis and other inflammatory polyarthropathies\n",
      "    0.0080   Osteoporosis\n",
      "    0.0080   Osteoporosis NOS\n",
      "    0.0080   Treatment/medication code\n",
      "\n"
     ]
    }
   ],
   "source": [
    "pan_ukb_pleiotropy(930)"
   ]
  },
  {
   "cell_type": "code",
   "execution_count": 47,
   "id": "982ed7f2-d32b-49f5-bfb4-6b7438a21131",
   "metadata": {},
   "outputs": [
    {
     "data": {
      "text/markdown": [
       "<h2>Cancer Of Prostate</h2>"
      ],
      "text/plain": [
       "<IPython.core.display.Markdown object>"
      ]
     },
     "metadata": {},
     "output_type": "display_data"
    },
    {
     "data": {
      "text/markdown": [
       "<span style='color:#c8635a'>**RPCA-IALM**</span>"
      ],
      "text/plain": [
       "<IPython.core.display.Markdown object>"
      ]
     },
     "metadata": {},
     "output_type": "display_data"
    },
    {
     "data": {
      "text/markdown": [
       "<span style='color:None'>Top Factor: 78 (Contribution: 0.0875)</span>"
      ],
      "text/plain": [
       "<IPython.core.display.Markdown object>"
      ]
     },
     "metadata": {},
     "output_type": "display_data"
    },
    {
     "name": "stdout",
     "output_type": "stream",
     "text": [
      "    0.0272   Contracture of palmar fascia [Dupuytren's disease]\n",
      "    0.0262   Disorders of muscle, ligament, and fascia\n",
      "    0.0243   Fasciitis\n",
      "    0.0186   Malignant neoplasm of bladder\n",
      "    0.0182   C67 Malignant neoplasm of bladder\n",
      "    0.0157   Cancer of bladder\n",
      "    0.0156   M72 Fibroblastic disorders\n",
      "    0.0131   K76 Other diseases of liver\n",
      "    0.0130   Other disorders of liver\n",
      "    0.0127   Sebaceous cyst\n",
      "    0.0125   Diseases of sebaceous glands\n",
      "    0.0114   Prostatitis\n",
      "    0.0112   Chronic liver disease and cirrhosis\n",
      "    0.0110   L72 Follicular cysts of skin and subcutaneous tissue\n",
      "    0.0107   Cancer of urinary organs (incl. kidney and bladder)\n",
      "\n"
     ]
    },
    {
     "data": {
      "text/markdown": [
       "<span style='color:#c8635a'>**NNM-Sparse-FW**</span>"
      ],
      "text/plain": [
       "<IPython.core.display.Markdown object>"
      ]
     },
     "metadata": {},
     "output_type": "display_data"
    },
    {
     "data": {
      "text/markdown": [
       "<span style='color:None'>Top Factor: 48 (Contribution: 0.0815)</span>"
      ],
      "text/plain": [
       "<IPython.core.display.Markdown object>"
      ]
     },
     "metadata": {},
     "output_type": "display_data"
    },
    {
     "name": "stdout",
     "output_type": "stream",
     "text": [
      "    0.0247   Weight\n",
      "    0.0190   Whole body water mass\n",
      "    0.0134   Trunk fat mass\n",
      "    0.0132   Age at first live birth\n",
      "    0.0128   Weight\n",
      "    0.0123   Arm fat-free mass (left)\n",
      "    0.0119   Overweight, obesity and other hyperalimentation\n",
      "    0.0112   Body mass index (BMI)\n",
      "    0.0108   Leg fat percentage (right)\n",
      "    0.0089   Hip circumference\n",
      "    0.0088   Leg fat-free mass (right)\n",
      "    0.0081   Trunk predicted mass\n",
      "    0.0064   aspirin\n",
      "    0.0064   Leg fat-free mass (left)\n",
      "    0.0063   sodium alginate / potassium bicarbonate\n",
      "\n"
     ]
    },
    {
     "data": {
      "text/markdown": [
       "<span style='color:#c8635a'>**Raw Data**</span>"
      ],
      "text/plain": [
       "<IPython.core.display.Markdown object>"
      ]
     },
     "metadata": {},
     "output_type": "display_data"
    },
    {
     "data": {
      "text/markdown": [
       "<span style='color:None'>Top Factor: 54 (Contribution: 0.0663)</span>"
      ],
      "text/plain": [
       "<IPython.core.display.Markdown object>"
      ]
     },
     "metadata": {},
     "output_type": "display_data"
    },
    {
     "name": "stdout",
     "output_type": "stream",
     "text": [
      "    0.0277   Albumin\n",
      "    0.0221   IGF-1\n",
      "    0.0168   Calcium\n",
      "    0.0163   Alkaline phosphatase\n",
      "    0.0114   Corneal resistance factor (left)\n",
      "    0.0106   Corneal resistance factor (right)\n",
      "    0.0098   Total protein\n",
      "    0.0089   Corneal hysteresis (left)\n",
      "    0.0079   Corneal hysteresis (right)\n",
      "    0.0065   Phosphate\n",
      "    0.0065   Home location - east co-ordinate (rounded)\n",
      "    0.0063   Urate\n",
      "    0.0062   Home location at assessment - east co-ordinate (rounded)\n",
      "    0.0060   Other disorders of bladder\n",
      "    0.0056   Albumin/Globulin ratio\n",
      "\n"
     ]
    }
   ],
   "source": [
    "pan_ukb_pleiotropy(420)"
   ]
  },
  {
   "cell_type": "code",
   "execution_count": 72,
   "id": "b257a0c8-c154-4592-a809-ee148e8b913f",
   "metadata": {},
   "outputs": [
    {
     "data": {
      "text/markdown": [
       "<h2>Breast Cancer</h2>"
      ],
      "text/plain": [
       "<IPython.core.display.Markdown object>"
      ]
     },
     "metadata": {},
     "output_type": "display_data"
    },
    {
     "data": {
      "text/markdown": [
       "<span style='color:#c8635a'>**RPCA-IALM**</span>"
      ],
      "text/plain": [
       "<IPython.core.display.Markdown object>"
      ]
     },
     "metadata": {},
     "output_type": "display_data"
    },
    {
     "data": {
      "text/markdown": [
       "<span style='color:None'>Top Factor: 25 (Contribution: 0.1298)</span>"
      ],
      "text/plain": [
       "<IPython.core.display.Markdown object>"
      ]
     },
     "metadata": {},
     "output_type": "display_data"
    },
    {
     "name": "stdout",
     "output_type": "stream",
     "text": [
      "    0.0221   Breast cancer [female]\n",
      "    0.0215   Breast cancer\n",
      "    0.0210   Malignant neoplasm of female breast\n",
      "    0.0200   C50 Malignant neoplasm of breast\n",
      "    0.0167   Arthropathy NOS\n",
      "    0.0167   Other arthropathies\n",
      "    0.0129   M17 Gonarthrosis [arthrosis of knee]\n",
      "    0.0110   Osteoarthrosis\n",
      "    0.0108   Unspecified monoarthritis\n",
      "    0.0098   Diseases of esophagus\n",
      "    0.0095   Diaphragmatic hernia\n",
      "    0.0093   Osteoarthritis; localized\n",
      "    0.0091   K44 Diaphragmatic hernia\n",
      "    0.0090   Esophagitis, GERD and related diseases\n",
      "    0.0088   Malignant neoplasm, other\n",
      "\n"
     ]
    },
    {
     "data": {
      "text/markdown": [
       "<span style='color:#c8635a'>**NNM-Sparse-FW**</span>"
      ],
      "text/plain": [
       "<IPython.core.display.Markdown object>"
      ]
     },
     "metadata": {},
     "output_type": "display_data"
    },
    {
     "data": {
      "text/markdown": [
       "<span style='color:None'>Top Factor: 66 (Contribution: 0.0840)</span>"
      ],
      "text/plain": [
       "<IPython.core.display.Markdown object>"
      ]
     },
     "metadata": {},
     "output_type": "display_data"
    },
    {
     "name": "stdout",
     "output_type": "stream",
     "text": [
      "    0.0300   Leg fat-free mass (right)\n",
      "    0.0273   Whole body fat-free mass\n",
      "    0.0264   Sitting height\n",
      "    0.0208   Arm fat-free mass (left)\n",
      "    0.0128   Impedance of leg (left)\n",
      "    0.0128   Body mass index (BMI)\n",
      "    0.0120   Arm predicted mass (right)\n",
      "    0.0109   Whole body water mass\n",
      "    0.0098   Type 2 diabetes\n",
      "    0.0097   Waist circumference\n",
      "    0.0097   Arm predicted mass (left)\n",
      "    0.0085   Arm fat-free mass (right)\n",
      "    0.0081   E66 Obesity\n",
      "    0.0078   Impedance of leg (right)\n",
      "    0.0074   lansoprazole\n",
      "\n"
     ]
    },
    {
     "data": {
      "text/markdown": [
       "<span style='color:#c8635a'>**Raw Data**</span>"
      ],
      "text/plain": [
       "<IPython.core.display.Markdown object>"
      ]
     },
     "metadata": {},
     "output_type": "display_data"
    },
    {
     "data": {
      "text/markdown": [
       "<span style='color:None'>Top Factor: 48 (Contribution: 0.0812)</span>"
      ],
      "text/plain": [
       "<IPython.core.display.Markdown object>"
      ]
     },
     "metadata": {},
     "output_type": "display_data"
    },
    {
     "name": "stdout",
     "output_type": "stream",
     "text": [
      "    0.0133   Urate\n",
      "    0.0109   Past tobacco smoking\n",
      "    0.0108   Breast cancer\n",
      "    0.0108   Breast cancer [female]\n",
      "    0.0101   Malignant neoplasm of female breast\n",
      "    0.0099   C50 Malignant neoplasm of breast\n",
      "    0.0099   Smoking status, ever vs never\n",
      "    0.0090   Age first had sexual intercourse\n",
      "    0.0086   Alkaline phosphatase\n",
      "    0.0075   Diseases of esophagus\n",
      "    0.0072   Gamma glutamyltransferase\n",
      "    0.0071   Aspartate aminotransferase\n",
      "    0.0070   Esophagitis, GERD and related diseases\n",
      "    0.0067   Duration to first press of snap-button in each round\n",
      "    0.0062   Estimated glomerular filtration rate, serum creatinine + cystain C\n",
      "\n"
     ]
    }
   ],
   "source": [
    "pan_ukb_pleiotropy(410)"
   ]
  },
  {
   "cell_type": "code",
   "execution_count": 49,
   "id": "b6cb0ec0-5779-4a5d-a1f1-e9cca4001b16",
   "metadata": {},
   "outputs": [
    {
     "data": {
      "text/markdown": [
       "<h2>Diabetes Mellitus</h2>"
      ],
      "text/plain": [
       "<IPython.core.display.Markdown object>"
      ]
     },
     "metadata": {},
     "output_type": "display_data"
    },
    {
     "data": {
      "text/markdown": [
       "<span style='color:#c8635a'>**RPCA-IALM**</span>"
      ],
      "text/plain": [
       "<IPython.core.display.Markdown object>"
      ]
     },
     "metadata": {},
     "output_type": "display_data"
    },
    {
     "data": {
      "text/markdown": [
       "<span style='color:None'>Top Factor: 19 (Contribution: 0.1403)</span>"
      ],
      "text/plain": [
       "<IPython.core.display.Markdown object>"
      ]
     },
     "metadata": {},
     "output_type": "display_data"
    },
    {
     "name": "stdout",
     "output_type": "stream",
     "text": [
      "    0.0364   Red blood cell (erythrocyte) count\n",
      "    0.0189   Glycated haemoglobin (HbA1c)\n",
      "    0.0178   Mean corpuscular volume\n",
      "    0.0159   Lymphocyte count\n",
      "    0.0150   Mean sphered cell volume\n",
      "    0.0146   Haemoglobin concentration\n",
      "    0.0137   Platelet count\n",
      "    0.0136   Haematocrit percentage\n",
      "    0.0132   Mean corpuscular haemoglobin\n",
      "    0.0128   Type 2 diabetes\n",
      "    0.0127   Non-albumin protein\n",
      "    0.0124   E11 Non-insulin-dependent diabetes mellitus\n",
      "    0.0119   Diabetes mellitus\n",
      "    0.0108   Platelet crit\n",
      "    0.0106   Neutrophill percentage\n",
      "\n"
     ]
    },
    {
     "data": {
      "text/markdown": [
       "<span style='color:#c8635a'>**NNM-Sparse-FW**</span>"
      ],
      "text/plain": [
       "<IPython.core.display.Markdown object>"
      ]
     },
     "metadata": {},
     "output_type": "display_data"
    },
    {
     "data": {
      "text/markdown": [
       "<span style='color:None'>Top Factor: 57 (Contribution: 0.0559)</span>"
      ],
      "text/plain": [
       "<IPython.core.display.Markdown object>"
      ]
     },
     "metadata": {},
     "output_type": "display_data"
    },
    {
     "name": "stdout",
     "output_type": "stream",
     "text": [
      "    0.0178   Arm fat-free mass (left)\n",
      "    0.0162   Trunk fat mass\n",
      "    0.0144   Body mass index (BMI)\n",
      "    0.0140   codine/paracetamol\n",
      "    0.0135   Type 2 diabetes\n",
      "    0.0131   Comparative height size at age 10\n",
      "    0.0107   tetracycline antibiotic|antibiotic\n",
      "    0.0095   Impedance of arm (right)\n",
      "    0.0092   Hip circumference\n",
      "    0.0092   Diabetes mellitus\n",
      "    0.0089   Forced expiratory volume in 1-second (FEV1), Best measure\n",
      "    0.0082   ACE inhibitor|anti-hypertensive\n",
      "    0.0077   Trunk fat-free mass\n",
      "    0.0069   trimethoprim\n",
      "    0.0069   Weight\n",
      "\n"
     ]
    },
    {
     "data": {
      "text/markdown": [
       "<span style='color:#c8635a'>**Raw Data**</span>"
      ],
      "text/plain": [
       "<IPython.core.display.Markdown object>"
      ]
     },
     "metadata": {},
     "output_type": "display_data"
    },
    {
     "data": {
      "text/markdown": [
       "<span style='color:None'>Top Factor: 26 (Contribution: 0.1503)</span>"
      ],
      "text/plain": [
       "<IPython.core.display.Markdown object>"
      ]
     },
     "metadata": {},
     "output_type": "display_data"
    },
    {
     "name": "stdout",
     "output_type": "stream",
     "text": [
      "    0.1042   HDL cholesterol\n",
      "    0.0898   Apolipoprotein A\n",
      "    0.0473   Glycated haemoglobin (HbA1c)\n",
      "    0.0273   Albumin/Globulin ratio\n",
      "    0.0231   Non-albumin protein\n",
      "    0.0208   Platelet crit\n",
      "    0.0192   Neutrophill percentage\n",
      "    0.0175   Neutrophill count\n",
      "    0.0154   Lymphocyte percentage\n",
      "    0.0138   IGF-1\n",
      "    0.0131   Gamma glutamyltransferase\n",
      "    0.0112   Type 2 diabetes\n",
      "    0.0111   Diabetes mellitus\n",
      "    0.0111   E11 Non-insulin-dependent diabetes mellitus\n",
      "    0.0109   Mean platelet (thrombocyte) volume\n",
      "\n"
     ]
    }
   ],
   "source": [
    "pan_ukb_pleiotropy(458)"
   ]
  },
  {
   "cell_type": "code",
   "execution_count": 53,
   "id": "8d6febf7-c709-4bef-a74d-39aa26a7e435",
   "metadata": {},
   "outputs": [
    {
     "data": {
      "text/markdown": [
       "<h2>Parkinson's Disease</h2>"
      ],
      "text/plain": [
       "<IPython.core.display.Markdown object>"
      ]
     },
     "metadata": {},
     "output_type": "display_data"
    },
    {
     "data": {
      "text/markdown": [
       "<span style='color:#c8635a'>**RPCA-IALM**</span>"
      ],
      "text/plain": [
       "<IPython.core.display.Markdown object>"
      ]
     },
     "metadata": {},
     "output_type": "display_data"
    },
    {
     "data": {
      "text/markdown": [
       "<span style='color:None'>Top Factor: 97 (Contribution: 0.0888)</span>"
      ],
      "text/plain": [
       "<IPython.core.display.Markdown object>"
      ]
     },
     "metadata": {},
     "output_type": "display_data"
    },
    {
     "name": "stdout",
     "output_type": "stream",
     "text": [
      "    0.0441   Psoriasis\n",
      "    0.0425   L40 Psoriasis\n",
      "    0.0403   Psoriasis and related disorders\n",
      "    0.0187   Cardiac arrest\n",
      "    0.0184   Cardiac arrest and ventricular fibrillation\n",
      "    0.0181   I46 Cardiac arrest\n",
      "    0.0117   K90 Intestinal malabsorption\n",
      "    0.0114   Intestinal malabsorption (non-celiac)\n",
      "    0.0109   Obesity\n",
      "    0.0108   E66 Obesity\n",
      "    0.0097   Overweight, obesity and other hyperalimentation\n",
      "    0.0095   Aortic aneurysm\n",
      "    0.0094   I71 Aortic aneurysm and dissection\n",
      "    0.0090   Celiac disease\n",
      "    0.0085   Noninflammatory disorders of ovary, fallopian tube, and broad ligament\n",
      "\n"
     ]
    },
    {
     "data": {
      "text/markdown": [
       "<span style='color:#c8635a'>**NNM-Sparse-FW**</span>"
      ],
      "text/plain": [
       "<IPython.core.display.Markdown object>"
      ]
     },
     "metadata": {},
     "output_type": "display_data"
    },
    {
     "data": {
      "text/markdown": [
       "<span style='color:None'>Top Factor: 70 (Contribution: 0.0852)</span>"
      ],
      "text/plain": [
       "<IPython.core.display.Markdown object>"
      ]
     },
     "metadata": {},
     "output_type": "display_data"
    },
    {
     "name": "stdout",
     "output_type": "stream",
     "text": [
      "    0.0262   Trunk fat percentage\n",
      "    0.0240   Whole body fat-free mass\n",
      "    0.0207   Leg predicted mass (left)\n",
      "    0.0201   Arm fat-free mass (left)\n",
      "    0.0172   Leg fat percentage (left)\n",
      "    0.0147   Leg fat mass (right)\n",
      "    0.0105   Leg fat mass (left)\n",
      "    0.0083   NSAID|non-steroidal anti-inflammatory drug\n",
      "    0.0079   Usual walking pace\n",
      "    0.0078   proton pump inhibitor|PPI\n",
      "    0.0073   Impedance of leg (left)\n",
      "    0.0071   Estimated glomerular filtration rate, serum creatinine + cystain C\n",
      "    0.0065   Arm fat mass (right)\n",
      "    0.0061   Diastolic blood pressure, combined automated + manual reading, adjusted by medication\n",
      "    0.0059   codine/paracetamol\n",
      "\n"
     ]
    },
    {
     "data": {
      "text/markdown": [
       "<span style='color:#c8635a'>**Raw Data**</span>"
      ],
      "text/plain": [
       "<IPython.core.display.Markdown object>"
      ]
     },
     "metadata": {},
     "output_type": "display_data"
    },
    {
     "data": {
      "text/markdown": [
       "<span style='color:None'>Top Factor: 92 (Contribution: 0.1208)</span>"
      ],
      "text/plain": [
       "<IPython.core.display.Markdown object>"
      ]
     },
     "metadata": {},
     "output_type": "display_data"
    },
    {
     "name": "stdout",
     "output_type": "stream",
     "text": [
      "    0.0149   Urinary calculus\n",
      "    0.0149   N20 Calculus of kidney and ureter\n",
      "    0.0147   Maximum heart rate during fitness test\n",
      "    0.0146   ECG, load\n",
      "    0.0146   Maximum workload during fitness test\n",
      "    0.0139   Pulse rate, automated reading\n",
      "    0.0138   ECG, heart rate\n",
      "    0.0130   ECG, number of stages in a phase\n",
      "    0.0126   Number of trend entries\n",
      "    0.0117   ECG, phase time\n",
      "    0.0110   Calculus of ureter\n",
      "    0.0102   Processed meat intake\n",
      "    0.0101   Calculus of kidney\n",
      "    0.0088   Beef intake\n",
      "    0.0080   Lamb/mutton intake\n",
      "\n"
     ]
    }
   ],
   "source": [
    "pan_ukb_pleiotropy(529)"
   ]
  },
  {
   "cell_type": "code",
   "execution_count": 55,
   "id": "d448099f-1118-41b3-85b2-05f5091a2c98",
   "metadata": {},
   "outputs": [
    {
     "data": {
      "text/markdown": [
       "<h2>Dementias</h2>"
      ],
      "text/plain": [
       "<IPython.core.display.Markdown object>"
      ]
     },
     "metadata": {},
     "output_type": "display_data"
    },
    {
     "data": {
      "text/markdown": [
       "<span style='color:#c8635a'>**RPCA-IALM**</span>"
      ],
      "text/plain": [
       "<IPython.core.display.Markdown object>"
      ]
     },
     "metadata": {},
     "output_type": "display_data"
    },
    {
     "data": {
      "text/markdown": [
       "<span style='color:None'>Top Factor: 99 (Contribution: 0.1643)</span>"
      ],
      "text/plain": [
       "<IPython.core.display.Markdown object>"
      ]
     },
     "metadata": {},
     "output_type": "display_data"
    },
    {
     "name": "stdout",
     "output_type": "stream",
     "text": [
      "    0.0148   Cardiac arrest\n",
      "    0.0146   Cardiac arrest and ventricular fibrillation\n",
      "    0.0144   I46 Cardiac arrest\n",
      "    0.0130   Other disorders of pancreatic internal secretion\n",
      "    0.0125   Hypoglycemia\n",
      "    0.0122   E16 Other disorders of pancreatic internal secretion\n",
      "    0.0112   Obesity\n",
      "    0.0111   E66 Obesity\n",
      "    0.0104   E21 Hyperparathyroidism and other disorders of parathyroid gland\n",
      "    0.0104   G47 Sleep disorders\n",
      "    0.0103   Hyperparathyroidism\n",
      "    0.0101   Sleep disorders\n",
      "    0.0101   Overweight, obesity and other hyperalimentation\n",
      "    0.0090   Varicose veins of lower extremity\n",
      "    0.0088   Disorders of parathyroid gland\n",
      "\n"
     ]
    },
    {
     "data": {
      "text/markdown": [
       "<span style='color:#c8635a'>**NNM-Sparse-FW**</span>"
      ],
      "text/plain": [
       "<IPython.core.display.Markdown object>"
      ]
     },
     "metadata": {},
     "output_type": "display_data"
    },
    {
     "data": {
      "text/markdown": [
       "<span style='color:None'>Top Factor: 74 (Contribution: 0.0601)</span>"
      ],
      "text/plain": [
       "<IPython.core.display.Markdown object>"
      ]
     },
     "metadata": {},
     "output_type": "display_data"
    },
    {
     "name": "stdout",
     "output_type": "stream",
     "text": [
      "    0.0203   Number of self-reported non-cancer illnesses\n",
      "    0.0169   Leg predicted mass (left)\n",
      "    0.0162   Waist circumference\n",
      "    0.0160   Hip circumference\n",
      "    0.0139   Mean arterial pressure, combined automated + manual reading\n",
      "    0.0136   Arm fat mass (left)\n",
      "    0.0130   Diastolic blood pressure, combined automated + manual reading\n",
      "    0.0129   NSAID|non-steroidal anti-inflammatory drug\n",
      "    0.0129   Arm fat-free mass (left)\n",
      "    0.0128   Systolic blood pressure, combined automated + manual reading, adjusted by medication\n",
      "    0.0128   Impedance of arm (left)\n",
      "    0.0109   Essential hypertension\n",
      "    0.0106   Body mass index (BMI)\n",
      "    0.0098   Diastolic blood pressure, combined automated + manual reading, adjusted by medication\n",
      "    0.0092   Peak expiratory flow (PEF)\n",
      "\n"
     ]
    },
    {
     "data": {
      "text/markdown": [
       "<span style='color:#c8635a'>**Raw Data**</span>"
      ],
      "text/plain": [
       "<IPython.core.display.Markdown object>"
      ]
     },
     "metadata": {},
     "output_type": "display_data"
    },
    {
     "data": {
      "text/markdown": [
       "<span style='color:None'>Top Factor: 61 (Contribution: 0.0862)</span>"
      ],
      "text/plain": [
       "<IPython.core.display.Markdown object>"
      ]
     },
     "metadata": {},
     "output_type": "display_data"
    },
    {
     "name": "stdout",
     "output_type": "stream",
     "text": [
      "    0.0324   Heel bone mineral density (BMD)\n",
      "    0.0322   Heel bone mineral density (BMD) T-score, automated\n",
      "    0.0322   Heel quantitative ultrasound index (QUI), direct entry\n",
      "    0.0258   Heel Broadband ultrasound attenuation, direct entry\n",
      "    0.0139   Urate\n",
      "    0.0119   Heel bone mineral density (BMD) T-score, automated (left)\n",
      "    0.0119   Heel quantitative ultrasound index (QUI), direct entry (left)\n",
      "    0.0119   Heel broadband ultrasound attenuation (left)\n",
      "    0.0116   Heel bone mineral density (BMD) (left)\n",
      "    0.0115   Heel bone mineral density (BMD) T-score, automated (right)\n",
      "    0.0115   Heel quantitative ultrasound index (QUI), direct entry (right)\n",
      "    0.0115   Heel broadband ultrasound attenuation (right)\n",
      "    0.0114   Heel bone mineral density (BMD) (right)\n",
      "    0.0103   Cerebrovascular disease\n",
      "    0.0102   Creatinine\n",
      "\n"
     ]
    }
   ],
   "source": [
    "pan_ukb_pleiotropy(504)"
   ]
  },
  {
   "cell_type": "code",
   "execution_count": 59,
   "id": "3c08d42a-59ad-41e9-83fc-046468500042",
   "metadata": {},
   "outputs": [
    {
     "data": {
      "text/markdown": [
       "<h2>G47 Sleep Disorders</h2>"
      ],
      "text/plain": [
       "<IPython.core.display.Markdown object>"
      ]
     },
     "metadata": {},
     "output_type": "display_data"
    },
    {
     "data": {
      "text/markdown": [
       "<span style='color:#c8635a'>**RPCA-IALM**</span>"
      ],
      "text/plain": [
       "<IPython.core.display.Markdown object>"
      ]
     },
     "metadata": {},
     "output_type": "display_data"
    },
    {
     "data": {
      "text/markdown": [
       "<span style='color:None'>Top Factor: 86 (Contribution: 0.1228)</span>"
      ],
      "text/plain": [
       "<IPython.core.display.Markdown object>"
      ]
     },
     "metadata": {},
     "output_type": "display_data"
    },
    {
     "name": "stdout",
     "output_type": "stream",
     "text": [
      "    0.0469   Acquired foot deformities\n",
      "    0.0468   M20 Acquired deformities of fingers and toes\n",
      "    0.0290   Hemoptysis\n",
      "    0.0286   R04 Haemorrhage from respiratory passages\n",
      "    0.0275   Obesity\n",
      "    0.0272   E66 Obesity\n",
      "    0.0272   Hallux valgus (Bunion)\n",
      "    0.0253   Acquired toe deformities\n",
      "    0.0248   Abnormal sputum\n",
      "    0.0247   Overweight, obesity and other hyperalimentation\n",
      "    0.0123   G47 Sleep disorders\n",
      "    0.0119   Sleep disorders\n",
      "    0.0111   Hammer toe (acquired)\n",
      "    0.0110   Epistaxis or throat hemorrhage\n",
      "    0.0095   Prostatitis\n",
      "\n"
     ]
    },
    {
     "data": {
      "text/markdown": [
       "<span style='color:#c8635a'>**NNM-Sparse-FW**</span>"
      ],
      "text/plain": [
       "<IPython.core.display.Markdown object>"
      ]
     },
     "metadata": {},
     "output_type": "display_data"
    },
    {
     "data": {
      "text/markdown": [
       "<span style='color:None'>Top Factor: 43 (Contribution: 0.0683)</span>"
      ],
      "text/plain": [
       "<IPython.core.display.Markdown object>"
      ]
     },
     "metadata": {},
     "output_type": "display_data"
    },
    {
     "name": "stdout",
     "output_type": "stream",
     "text": [
      "    0.0234   ACE inhibitor|anti-hypertensive\n",
      "    0.0141   High light scatter reticulocyte count\n",
      "    0.0133   Usual walking pace\n",
      "    0.0121   Weight\n",
      "    0.0119   Leg predicted mass (left)\n",
      "    0.0109   Trunk fat-free mass\n",
      "    0.0104   Estimated glomerular filtration rate, serum creatinine + cystain C\n",
      "    0.0100   Reticulocyte count\n",
      "    0.0092   Trunk fat percentage\n",
      "    0.0091   Waist circumference\n",
      "    0.0081   Age first had sexual intercourse\n",
      "    0.0077   Seated height\n",
      "    0.0066   Treatment/medication code\n",
      "    0.0064   Other arthropathies\n",
      "    0.0061   Ankle spacing width (right)\n",
      "\n"
     ]
    },
    {
     "data": {
      "text/markdown": [
       "<span style='color:#c8635a'>**Raw Data**</span>"
      ],
      "text/plain": [
       "<IPython.core.display.Markdown object>"
      ]
     },
     "metadata": {},
     "output_type": "display_data"
    },
    {
     "data": {
      "text/markdown": [
       "<span style='color:None'>Top Factor: 91 (Contribution: 0.1037)</span>"
      ],
      "text/plain": [
       "<IPython.core.display.Markdown object>"
      ]
     },
     "metadata": {},
     "output_type": "display_data"
    },
    {
     "name": "stdout",
     "output_type": "stream",
     "text": [
      "    0.0136   Aspartate aminotransferase\n",
      "    0.0125   Platelet distribution width\n",
      "    0.0112   Alanine aminotransferase\n",
      "    0.0084   Inflammatory bowel disease and other gastroenteritis and colitis\n",
      "    0.0074   Spherical power (right)\n",
      "    0.0070   Genital prolapse\n",
      "    0.0070   Prolapse of vaginal walls\n",
      "    0.0069   Spherical power (left)\n",
      "    0.0068   N81 Female genital prolapse\n",
      "    0.0068   Open wounds of head; neck; and trunk\n",
      "    0.0063   C79 Secondary malignant neoplasm of other sites\n",
      "    0.0061   E87 Other disorders of fluid, electrolyte and acid-base balance\n",
      "    0.0061   Ulcerative colitis\n",
      "    0.0061   Electrolyte imbalance\n",
      "    0.0061   I77 Other disorders of arteries and arterioles\n",
      "\n"
     ]
    }
   ],
   "source": [
    "pan_ukb_pleiotropy(61)"
   ]
  },
  {
   "cell_type": "code",
   "execution_count": 61,
   "id": "2c5a64bb-69e1-43cd-85c6-fde0e4fa7179",
   "metadata": {},
   "outputs": [
    {
     "data": {
      "text/markdown": [
       "<h2>G43 Migraine</h2>"
      ],
      "text/plain": [
       "<IPython.core.display.Markdown object>"
      ]
     },
     "metadata": {},
     "output_type": "display_data"
    },
    {
     "data": {
      "text/markdown": [
       "<span style='color:#c8635a'>**RPCA-IALM**</span>"
      ],
      "text/plain": [
       "<IPython.core.display.Markdown object>"
      ]
     },
     "metadata": {},
     "output_type": "display_data"
    },
    {
     "data": {
      "text/markdown": [
       "<span style='color:None'>Top Factor: 80 (Contribution: 0.0792)</span>"
      ],
      "text/plain": [
       "<IPython.core.display.Markdown object>"
      ]
     },
     "metadata": {},
     "output_type": "display_data"
    },
    {
     "name": "stdout",
     "output_type": "stream",
     "text": [
      "    0.0312   Appendicitis\n",
      "    0.0307   Acute appendicitis\n",
      "    0.0287   Appendiceal conditions\n",
      "    0.0284   K35 Acute appendicitis\n",
      "    0.0208   Sebaceous cyst\n",
      "    0.0203   Diseases of sebaceous glands\n",
      "    0.0186   L72 Follicular cysts of skin and subcutaneous tissue\n",
      "    0.0140   Contracture of palmar fascia [Dupuytren's disease]\n",
      "    0.0134   Disorders of muscle, ligament, and fascia\n",
      "    0.0133   Iron deficiency anemias, unspecified or not due to blood loss\n",
      "    0.0133   Iron deficiency anemias\n",
      "    0.0121   Fasciitis\n",
      "    0.0118   D50 Iron deficiency anaemia\n",
      "    0.0115   Home location - north co-ordinate (rounded)\n",
      "    0.0113   Home location at assessment - north co-ordinate (rounded)\n",
      "\n"
     ]
    },
    {
     "data": {
      "text/markdown": [
       "<span style='color:#c8635a'>**NNM-Sparse-FW**</span>"
      ],
      "text/plain": [
       "<IPython.core.display.Markdown object>"
      ]
     },
     "metadata": {},
     "output_type": "display_data"
    },
    {
     "data": {
      "text/markdown": [
       "<span style='color:None'>Top Factor: 46 (Contribution: 0.0576)</span>"
      ],
      "text/plain": [
       "<IPython.core.display.Markdown object>"
      ]
     },
     "metadata": {},
     "output_type": "display_data"
    },
    {
     "name": "stdout",
     "output_type": "stream",
     "text": [
      "    0.0320   Leg predicted mass (right)\n",
      "    0.0257   Whole body fat-free mass\n",
      "    0.0243   Leg fat-free mass (right)\n",
      "    0.0192   Body mass index (BMI)\n",
      "    0.0167   Leg fat mass (left)\n",
      "    0.0144   NSAID|non-steroidal anti-inflammatory drug\n",
      "    0.0120   simvastatin\n",
      "    0.0112   thiazide diuretic|diuretic\n",
      "    0.0109   aspirin\n",
      "    0.0092   lansoprazole\n",
      "    0.0091   ACE inhibitor|anti-hypertensive\n",
      "    0.0089   Diastolic blood pressure, automated reading\n",
      "    0.0085   Non-cancer illness code, self-reported\n",
      "    0.0070   bendroflumethiazide\n",
      "    0.0070   amoxicillin\n",
      "\n"
     ]
    },
    {
     "data": {
      "text/markdown": [
       "<span style='color:#c8635a'>**Raw Data**</span>"
      ],
      "text/plain": [
       "<IPython.core.display.Markdown object>"
      ]
     },
     "metadata": {},
     "output_type": "display_data"
    },
    {
     "data": {
      "text/markdown": [
       "<span style='color:None'>Top Factor: 56 (Contribution: 0.0733)</span>"
      ],
      "text/plain": [
       "<IPython.core.display.Markdown object>"
      ]
     },
     "metadata": {},
     "output_type": "display_data"
    },
    {
     "name": "stdout",
     "output_type": "stream",
     "text": [
      "    0.0227   Alkaline phosphatase\n",
      "    0.0134   Red blood cell (erythrocyte) distribution width\n",
      "    0.0104   Albumin\n",
      "    0.0079   Alanine aminotransferase\n",
      "    0.0077   Estimated glomerular filtration rate, serum creatinine + cystain C\n",
      "    0.0072   Other disorders of bladder\n",
      "    0.0071   Aspartate aminotransferase\n",
      "    0.0071   Other retinal disorders\n",
      "    0.0065   Cystatin C\n",
      "    0.0064   N32 Other disorders of bladder\n",
      "    0.0062   Calcium\n",
      "    0.0061   Gamma glutamyltransferase\n",
      "    0.0057   Diabetic retinopathy\n",
      "    0.0057   Hereditary retinal dystrophies\n",
      "    0.0057   H36 Retinal disorders in diseases classified elsewhere\n",
      "\n"
     ]
    }
   ],
   "source": [
    "pan_ukb_pleiotropy(59)"
   ]
  },
  {
   "cell_type": "code",
   "execution_count": 63,
   "id": "1cec6509-23b7-4ba2-9549-7dccb41aafa0",
   "metadata": {},
   "outputs": [
    {
     "data": {
      "text/markdown": [
       "<h2>Hypertension</h2>"
      ],
      "text/plain": [
       "<IPython.core.display.Markdown object>"
      ]
     },
     "metadata": {},
     "output_type": "display_data"
    },
    {
     "data": {
      "text/markdown": [
       "<span style='color:#c8635a'>**RPCA-IALM**</span>"
      ],
      "text/plain": [
       "<IPython.core.display.Markdown object>"
      ]
     },
     "metadata": {},
     "output_type": "display_data"
    },
    {
     "data": {
      "text/markdown": [
       "<span style='color:None'>Top Factor: 2 (Contribution: 0.0982)</span>"
      ],
      "text/plain": [
       "<IPython.core.display.Markdown object>"
      ]
     },
     "metadata": {},
     "output_type": "display_data"
    },
    {
     "name": "stdout",
     "output_type": "stream",
     "text": [
      "    0.0595   Standing height\n",
      "    0.0290   Sitting height\n",
      "    0.0227   Seated height\n",
      "    0.0197   Forced vital capacity (FVC)\n",
      "    0.0193   Forced vital capacity (FVC), Best measure\n",
      "    0.0169   Mean arterial pressure, combined automated + manual reading, adjusted by medication\n",
      "    0.0163   Systolic blood pressure, combined automated + manual reading, adjusted by medication\n",
      "    0.0157   Comparative height size at age 10\n",
      "    0.0157   Forced expiratory volume in 1-second (FEV1)\n",
      "    0.0156   Mean arterial pressure, automated reading, adjusted by medication\n",
      "    0.0152   Forced expiratory volume in 1-second (FEV1), predicted\n",
      "    0.0150   Forced expiratory volume in 1-second (FEV1), Best measure\n",
      "    0.0149   Systolic blood pressure, automated reading, adjusted by medication\n",
      "    0.0138   Trunk fat-free mass\n",
      "    0.0138   Trunk predicted mass\n",
      "\n"
     ]
    },
    {
     "data": {
      "text/markdown": [
       "<span style='color:#c8635a'>**NNM-Sparse-FW**</span>"
      ],
      "text/plain": [
       "<IPython.core.display.Markdown object>"
      ]
     },
     "metadata": {},
     "output_type": "display_data"
    },
    {
     "data": {
      "text/markdown": [
       "<span style='color:None'>Top Factor: 15 (Contribution: 0.1904)</span>"
      ],
      "text/plain": [
       "<IPython.core.display.Markdown object>"
      ]
     },
     "metadata": {},
     "output_type": "display_data"
    },
    {
     "name": "stdout",
     "output_type": "stream",
     "text": [
      "    0.0670   Essential hypertension\n",
      "    0.0596   Hypertension\n",
      "    0.0278   E78 Disorders of lipoprotein metabolism and other lipidaemias\n",
      "    0.0271   Disorders of lipoid metabolism\n",
      "    0.0265   Hypercholesterolemia\n",
      "    0.0256   Hyperlipidemia\n",
      "    0.0252   Ischemic Heart Disease\n",
      "    0.0197   Other chronic ischemic heart disease, unspecified\n",
      "    0.0174   I25 Chronic ischaemic heart disease\n",
      "    0.0138   antipyretic\n",
      "    0.0138   paracetamol\n",
      "    0.0134   opioid analgesic|antipyretic\n",
      "    0.0130   Angina pectoris\n",
      "    0.0111   E11 Non-insulin-dependent diabetes mellitus\n",
      "    0.0100   Leg fat mass (left)\n",
      "\n"
     ]
    },
    {
     "data": {
      "text/markdown": [
       "<span style='color:#c8635a'>**Raw Data**</span>"
      ],
      "text/plain": [
       "<IPython.core.display.Markdown object>"
      ]
     },
     "metadata": {},
     "output_type": "display_data"
    },
    {
     "data": {
      "text/markdown": [
       "<span style='color:None'>Top Factor: 3 (Contribution: 0.1210)</span>"
      ],
      "text/plain": [
       "<IPython.core.display.Markdown object>"
      ]
     },
     "metadata": {},
     "output_type": "display_data"
    },
    {
     "name": "stdout",
     "output_type": "stream",
     "text": [
      "    0.0461   Systolic blood pressure, combined automated + manual reading, adjusted by medication\n",
      "    0.0425   Systolic blood pressure, automated reading, adjusted by medication\n",
      "    0.0405   Mean arterial pressure, combined automated + manual reading, adjusted by medication\n",
      "    0.0373   Mean arterial pressure, automated reading, adjusted by medication\n",
      "    0.0353   Systolic blood pressure, combined automated + manual reading\n",
      "    0.0334   Systolic blood pressure, automated reading\n",
      "    0.0304   Pulse pressure, combined automated + manual reading, adjusted by medication\n",
      "    0.0288   Mean arterial pressure, combined automated + manual reading\n",
      "    0.0282   Pulse pressure, automated reading, adjusted by medication\n",
      "    0.0277   Diastolic blood pressure, combined automated + manual reading, adjusted by medication\n",
      "    0.0274   Mean arterial pressure, automated reading\n",
      "    0.0261   Diastolic blood pressure, automated reading, adjusted by medication\n",
      "    0.0246   Pulse pressure, combined automated + manual reading\n",
      "    0.0235   Pulse pressure, automated reading\n",
      "    0.0180   Diastolic blood pressure, combined automated + manual reading\n",
      "\n"
     ]
    }
   ],
   "source": [
    "pan_ukb_pleiotropy(591)"
   ]
  },
  {
   "cell_type": "code",
   "execution_count": 65,
   "id": "c71d71b7-bf9e-4e89-9cfc-51e14bef33f1",
   "metadata": {},
   "outputs": [
    {
     "data": {
      "text/markdown": [
       "<h2>Standing Height</h2>"
      ],
      "text/plain": [
       "<IPython.core.display.Markdown object>"
      ]
     },
     "metadata": {},
     "output_type": "display_data"
    },
    {
     "data": {
      "text/markdown": [
       "<span style='color:#c8635a'>**RPCA-IALM**</span>"
      ],
      "text/plain": [
       "<IPython.core.display.Markdown object>"
      ]
     },
     "metadata": {},
     "output_type": "display_data"
    },
    {
     "data": {
      "text/markdown": [
       "<span style='color:None'>Top Factor: 7 (Contribution: 0.2952)</span>"
      ],
      "text/plain": [
       "<IPython.core.display.Markdown object>"
      ]
     },
     "metadata": {},
     "output_type": "display_data"
    },
    {
     "name": "stdout",
     "output_type": "stream",
     "text": [
      "    0.0748   Impedance of whole body\n",
      "    0.0676   Standing height\n",
      "    0.0580   Impedance of arm (left)\n",
      "    0.0572   Impedance of arm (right)\n",
      "    0.0569   Impedance of leg (left)\n",
      "    0.0559   Impedance of leg (right)\n",
      "    0.0233   Sitting height\n",
      "    0.0217   Seated height\n",
      "    0.0181   Comparative height size at age 10\n",
      "    0.0144   Forced expiratory volume in 1-second (FEV1), predicted\n",
      "    0.0132   Trunk fat percentage\n",
      "    0.0101   Body mass index (BMI)\n",
      "    0.0098   Body mass index (BMI)\n",
      "    0.0095   Reticulocyte count\n",
      "    0.0094   Heel quantitative ultrasound index (QUI), direct entry (right)\n",
      "\n"
     ]
    },
    {
     "data": {
      "text/markdown": [
       "<span style='color:#c8635a'>**NNM-Sparse-FW**</span>"
      ],
      "text/plain": [
       "<IPython.core.display.Markdown object>"
      ]
     },
     "metadata": {},
     "output_type": "display_data"
    },
    {
     "data": {
      "text/markdown": [
       "<span style='color:None'>Top Factor: 4 (Contribution: 0.1740)</span>"
      ],
      "text/plain": [
       "<IPython.core.display.Markdown object>"
      ]
     },
     "metadata": {},
     "output_type": "display_data"
    },
    {
     "name": "stdout",
     "output_type": "stream",
     "text": [
      "    0.1274   Standing height\n",
      "    0.0721   Sitting height\n",
      "    0.0263   Seated height\n",
      "    0.0192   Comparative height size at age 10\n",
      "    0.0190   Trunk fat-free mass\n",
      "    0.0189   Trunk predicted mass\n",
      "    0.0134   Whole body fat-free mass\n",
      "    0.0117   Whole body water mass\n",
      "    0.0114   Waist circumference\n",
      "    0.0112   Leg fat mass (left)\n",
      "    0.0112   Arm fat mass (right)\n",
      "    0.0107   Leg fat mass (right)\n",
      "    0.0101   Arm fat mass (left)\n",
      "    0.0099   E66 Obesity\n",
      "    0.0099   Obesity\n",
      "\n"
     ]
    },
    {
     "data": {
      "text/markdown": [
       "<span style='color:#c8635a'>**Raw Data**</span>"
      ],
      "text/plain": [
       "<IPython.core.display.Markdown object>"
      ]
     },
     "metadata": {},
     "output_type": "display_data"
    },
    {
     "data": {
      "text/markdown": [
       "<span style='color:None'>Top Factor: 2 (Contribution: 0.2623)</span>"
      ],
      "text/plain": [
       "<IPython.core.display.Markdown object>"
      ]
     },
     "metadata": {},
     "output_type": "display_data"
    },
    {
     "name": "stdout",
     "output_type": "stream",
     "text": [
      "    0.0640   Standing height\n",
      "    0.0351   Sitting height\n",
      "    0.0250   Seated height\n",
      "    0.0206   Forced vital capacity (FVC)\n",
      "    0.0197   Forced vital capacity (FVC), Best measure\n",
      "    0.0186   Comparative height size at age 10\n",
      "    0.0170   Forced expiratory volume in 1-second (FEV1), predicted\n",
      "    0.0161   Forced expiratory volume in 1-second (FEV1)\n",
      "    0.0152   Forced expiratory volume in 1-second (FEV1), Best measure\n",
      "    0.0132   Mean arterial pressure, combined automated + manual reading, adjusted by medication\n",
      "    0.0126   Systolic blood pressure, combined automated + manual reading, adjusted by medication\n",
      "    0.0121   Mean arterial pressure, automated reading, adjusted by medication\n",
      "    0.0120   Leg fat percentage (left)\n",
      "    0.0120   Leg fat percentage (right)\n",
      "    0.0118   Trunk fat-free mass\n",
      "\n"
     ]
    }
   ],
   "source": [
    "pan_ukb_pleiotropy(2350)"
   ]
  },
  {
   "cell_type": "code",
   "execution_count": 69,
   "id": "f7b59d73-4a1e-41df-95f0-93d3da9da340",
   "metadata": {},
   "outputs": [
    {
     "data": {
      "text/markdown": [
       "<h2>Intake Of Sugar Added To Coffee</h2>"
      ],
      "text/plain": [
       "<IPython.core.display.Markdown object>"
      ]
     },
     "metadata": {},
     "output_type": "display_data"
    },
    {
     "data": {
      "text/markdown": [
       "<span style='color:#c8635a'>**RPCA-IALM**</span>"
      ],
      "text/plain": [
       "<IPython.core.display.Markdown object>"
      ]
     },
     "metadata": {},
     "output_type": "display_data"
    },
    {
     "data": {
      "text/markdown": [
       "<span style='color:None'>Top Factor: 52 (Contribution: 0.1127)</span>"
      ],
      "text/plain": [
       "<IPython.core.display.Markdown object>"
      ]
     },
     "metadata": {},
     "output_type": "display_data"
    },
    {
     "name": "stdout",
     "output_type": "stream",
     "text": [
      "    0.0152   Saturated fat\n",
      "    0.0138   Albumin\n",
      "    0.0124   Fat\n",
      "    0.0108   Osteoporosis\n",
      "    0.0108   Osteoporosis NOS\n",
      "    0.0093   Vitamin C\n",
      "    0.0086   Home location - north co-ordinate (rounded)\n",
      "    0.0084   methotrexate\n",
      "    0.0084   anti-metabolite\n",
      "    0.0081   Retinol\n",
      "    0.0079   Home location at assessment - north co-ordinate (rounded)\n",
      "    0.0072   Carotene\n",
      "    0.0071   Osteoporosis, osteopenia and pathological fracture\n",
      "    0.0069   xanthine oxidase inhibitor|anti-gout agent\n",
      "    0.0069   allopurinol\n",
      "\n"
     ]
    },
    {
     "data": {
      "text/markdown": [
       "<span style='color:#c8635a'>**NNM-Sparse-FW**</span>"
      ],
      "text/plain": [
       "<IPython.core.display.Markdown object>"
      ]
     },
     "metadata": {},
     "output_type": "display_data"
    },
    {
     "data": {
      "text/markdown": [
       "<span style='color:None'>Top Factor: 54 (Contribution: 0.0723)</span>"
      ],
      "text/plain": [
       "<IPython.core.display.Markdown object>"
      ]
     },
     "metadata": {},
     "output_type": "display_data"
    },
    {
     "name": "stdout",
     "output_type": "stream",
     "text": [
      "    0.0427   Whole body fat-free mass\n",
      "    0.0224   NSAID|non-steroidal anti-inflammatory drug\n",
      "    0.0193   Leg fat mass (right)\n",
      "    0.0167   Usual walking pace\n",
      "    0.0119   Z86 Personal history of certain other diseases\n",
      "    0.0118   Weight\n",
      "    0.0100   clarithromycin\n",
      "    0.0099   Arm predicted mass (left)\n",
      "    0.0085   Whole body fat mass\n",
      "    0.0071   Pulse pressure, combined automated + manual reading, adjusted by medication\n",
      "    0.0066   Leg fat mass (left)\n",
      "    0.0065   lansoprazole\n",
      "    0.0063   aspirin\n",
      "    0.0063   diclofenac\n",
      "    0.0061   Other mental disorder\n",
      "\n"
     ]
    },
    {
     "data": {
      "text/markdown": [
       "<span style='color:#c8635a'>**Raw Data**</span>"
      ],
      "text/plain": [
       "<IPython.core.display.Markdown object>"
      ]
     },
     "metadata": {},
     "output_type": "display_data"
    },
    {
     "data": {
      "text/markdown": [
       "<span style='color:None'>Top Factor: 75 (Contribution: 0.0839)</span>"
      ],
      "text/plain": [
       "<IPython.core.display.Markdown object>"
      ]
     },
     "metadata": {},
     "output_type": "display_data"
    },
    {
     "name": "stdout",
     "output_type": "stream",
     "text": [
      "    0.0341   SHBG\n",
      "    0.0298   Pulse rate, automated reading\n",
      "    0.0129   Pulse rate\n",
      "    0.0122   Testosterone\n",
      "    0.0118   COVID-19 positive (controls include untested)\n",
      "    0.0118   COVID-19 positive (controls include untested), only patients from centers in England\n",
      "    0.0113   COVID-19 positive (controls include untested)\n",
      "    0.0112   COVID-19 positive (controls include untested), only patients from centers in England\n",
      "    0.0099   COVID-19 positive (controls only COVID-19 negative)\n",
      "    0.0097   Estimated glomerular filtration rate, serum creatinine + cystain C\n",
      "    0.0096   COVID-19 positive (controls only COVID-19 negative)\n",
      "    0.0090   Cystatin C\n",
      "    0.0090   Fasciitis\n",
      "    0.0089   Contracture of palmar fascia [Dupuytren's disease]\n",
      "    0.0088   Disorders of muscle, ligament, and fascia\n",
      "\n"
     ]
    }
   ],
   "source": [
    "pan_ukb_pleiotropy(1747)"
   ]
  },
  {
   "cell_type": "code",
   "execution_count": 70,
   "id": "1aa6c123-d5de-4222-abfc-91da7bc256f6",
   "metadata": {},
   "outputs": [
    {
     "data": {
      "text/markdown": [
       "<h2>Covid-19 Positive (Controls Only Covid-19 Negative)</h2>"
      ],
      "text/plain": [
       "<IPython.core.display.Markdown object>"
      ]
     },
     "metadata": {},
     "output_type": "display_data"
    },
    {
     "data": {
      "text/markdown": [
       "<span style='color:#c8635a'>**RPCA-IALM**</span>"
      ],
      "text/plain": [
       "<IPython.core.display.Markdown object>"
      ]
     },
     "metadata": {},
     "output_type": "display_data"
    },
    {
     "data": {
      "text/markdown": [
       "<span style='color:None'>Top Factor: 42 (Contribution: 0.4360)</span>"
      ],
      "text/plain": [
       "<IPython.core.display.Markdown object>"
      ]
     },
     "metadata": {},
     "output_type": "display_data"
    },
    {
     "name": "stdout",
     "output_type": "stream",
     "text": [
      "    0.0801   COVID-19 positive (controls include untested)\n",
      "    0.0800   COVID-19 positive (controls include untested), only patients from centers in England\n",
      "    0.0792   COVID-19 positive (controls include untested)\n",
      "    0.0791   COVID-19 positive (controls include untested), only patients from centers in England\n",
      "    0.0557   COVID-19 positive (controls only COVID-19 negative)\n",
      "    0.0498   COVID-19 positive (controls only COVID-19 negative)\n",
      "    0.0135   Cholelithiasis\n",
      "    0.0132   Cholelithiasis and cholecystitis\n",
      "    0.0130   K80 Cholelithiasis\n",
      "    0.0094   Chronic dermatitis due to solar radiation\n",
      "    0.0093   L57 Skin changes due to chronic exposure to nonionising radiation\n",
      "    0.0082   Dermatitis due to solar radiation\n",
      "    0.0069   Actinic keratosis\n",
      "    0.0068   Breast cancer [female]\n",
      "    0.0066   Breast cancer\n",
      "\n"
     ]
    },
    {
     "data": {
      "text/markdown": [
       "<span style='color:#c8635a'>**NNM-Sparse-FW**</span>"
      ],
      "text/plain": [
       "<IPython.core.display.Markdown object>"
      ]
     },
     "metadata": {},
     "output_type": "display_data"
    },
    {
     "data": {
      "text/markdown": [
       "<span style='color:None'>Top Factor: 47 (Contribution: 0.0847)</span>"
      ],
      "text/plain": [
       "<IPython.core.display.Markdown object>"
      ]
     },
     "metadata": {},
     "output_type": "display_data"
    },
    {
     "name": "stdout",
     "output_type": "stream",
     "text": [
      "    0.0245   Age first had sexual intercourse\n",
      "    0.0170   Forced expiratory volume in 1-second (FEV1), predicted\n",
      "    0.0135   ACE inhibitor|anti-hypertensive\n",
      "    0.0126   beta-lactam antibiotic|antibiotic\n",
      "    0.0115   Forced expiratory volume in 1-second (FEV1), Best measure\n",
      "    0.0115   Whole body fat-free mass\n",
      "    0.0112   Arm fat-free mass (left)\n",
      "    0.0096   Trunk fat percentage\n",
      "    0.0093   Waist circumference\n",
      "    0.0087   Leg predicted mass (left)\n",
      "    0.0085   Impedance of leg (right)\n",
      "    0.0081   Leg fat-free mass (left)\n",
      "    0.0070   Ankle spacing width\n",
      "    0.0069   Body fat percentage\n",
      "    0.0059   Cholesterol\n",
      "\n"
     ]
    },
    {
     "data": {
      "text/markdown": [
       "<span style='color:#c8635a'>**Raw Data**</span>"
      ],
      "text/plain": [
       "<IPython.core.display.Markdown object>"
      ]
     },
     "metadata": {},
     "output_type": "display_data"
    },
    {
     "data": {
      "text/markdown": [
       "<span style='color:None'>Top Factor: 67 (Contribution: 0.5227)</span>"
      ],
      "text/plain": [
       "<IPython.core.display.Markdown object>"
      ]
     },
     "metadata": {},
     "output_type": "display_data"
    },
    {
     "name": "stdout",
     "output_type": "stream",
     "text": [
      "    0.0846   COVID-19 positive (controls include untested), only patients from centers in England\n",
      "    0.0846   COVID-19 positive (controls include untested)\n",
      "    0.0844   COVID-19 positive (controls include untested), only patients from centers in England\n",
      "    0.0843   COVID-19 positive (controls include untested)\n",
      "    0.0765   COVID-19 positive (controls only COVID-19 negative)\n",
      "    0.0720   COVID-19 positive (controls only COVID-19 negative)\n",
      "    0.0317   IGF-1\n",
      "    0.0114   Platelet distribution width\n",
      "    0.0088   Estimated glomerular filtration rate, serum creatinine + cystain C\n",
      "    0.0069   Cystatin C\n",
      "    0.0047   Systolic blood pressure, manual reading\n",
      "    0.0044   Systolic blood pressure, manual reading, adjusted by medication\n",
      "    0.0040   Mean arterial pressure, manual reading\n",
      "    0.0038   Estimated glomerular filtration rate, serum creatinine\n",
      "    0.0037   Creatinine\n",
      "\n"
     ]
    }
   ],
   "source": [
    "pan_ukb_pleiotropy(1677)"
   ]
  },
  {
   "cell_type": "markdown",
   "id": "446d7f79-e6bb-47ba-b72a-6c8f6c9f5b5f",
   "metadata": {},
   "source": [
    "# Neuropsychiatric Disorders"
   ]
  },
  {
   "cell_type": "code",
   "execution_count": 71,
   "id": "fd29cbd4-2711-4592-9579-dc2f27b825fd",
   "metadata": {},
   "outputs": [
    {
     "data": {
      "text/markdown": [
       "<h2>F05 Delirium, Not Induced By Alcohol And Other Psychoactive Substances</h2>"
      ],
      "text/plain": [
       "<IPython.core.display.Markdown object>"
      ]
     },
     "metadata": {},
     "output_type": "display_data"
    },
    {
     "data": {
      "text/markdown": [
       "<span style='color:#c8635a'>**RPCA-IALM**</span>"
      ],
      "text/plain": [
       "<IPython.core.display.Markdown object>"
      ]
     },
     "metadata": {},
     "output_type": "display_data"
    },
    {
     "data": {
      "text/markdown": [
       "<span style='color:None'>Top Factor: 99 (Contribution: 0.1305)</span>"
      ],
      "text/plain": [
       "<IPython.core.display.Markdown object>"
      ]
     },
     "metadata": {},
     "output_type": "display_data"
    },
    {
     "name": "stdout",
     "output_type": "stream",
     "text": [
      "    0.0148   Cardiac arrest\n",
      "    0.0146   Cardiac arrest and ventricular fibrillation\n",
      "    0.0144   I46 Cardiac arrest\n",
      "    0.0130   Other disorders of pancreatic internal secretion\n",
      "    0.0125   Hypoglycemia\n",
      "    0.0122   E16 Other disorders of pancreatic internal secretion\n",
      "    0.0112   Obesity\n",
      "    0.0111   E66 Obesity\n",
      "    0.0104   E21 Hyperparathyroidism and other disorders of parathyroid gland\n",
      "    0.0104   G47 Sleep disorders\n",
      "    0.0103   Hyperparathyroidism\n",
      "    0.0101   Sleep disorders\n",
      "    0.0101   Overweight, obesity and other hyperalimentation\n",
      "    0.0090   Varicose veins of lower extremity\n",
      "    0.0088   Disorders of parathyroid gland\n",
      "\n"
     ]
    },
    {
     "data": {
      "text/markdown": [
       "<span style='color:#c8635a'>**NNM-Sparse-FW**</span>"
      ],
      "text/plain": [
       "<IPython.core.display.Markdown object>"
      ]
     },
     "metadata": {},
     "output_type": "display_data"
    },
    {
     "data": {
      "text/markdown": [
       "<span style='color:None'>Top Factor: 28 (Contribution: 0.0542)</span>"
      ],
      "text/plain": [
       "<IPython.core.display.Markdown object>"
      ]
     },
     "metadata": {},
     "output_type": "display_data"
    },
    {
     "name": "stdout",
     "output_type": "stream",
     "text": [
      "    0.0267   Waist circumference\n",
      "    0.0242   Body fat percentage\n",
      "    0.0220   E66 Obesity\n",
      "    0.0212   Obesity\n",
      "    0.0160   Arm fat mass (left)\n",
      "    0.0151   Trunk fat percentage\n",
      "    0.0128   Leg fat percentage (left)\n",
      "    0.0121   Leg fat percentage (right)\n",
      "    0.0117   pheno 48 / pheno 49\n",
      "    0.0112   Disorders of lipoid metabolism\n",
      "    0.0108   Forced expiratory volume in 1-second (FEV1), predicted\n",
      "    0.0107   ACE inhibitor|anti-hypertensive\n",
      "    0.0104   Triglycerides\n",
      "    0.0092   Overweight, obesity and other hyperalimentation\n",
      "    0.0091   Leg fat-free mass (right)\n",
      "\n"
     ]
    },
    {
     "data": {
      "text/markdown": [
       "<span style='color:#c8635a'>**Raw Data**</span>"
      ],
      "text/plain": [
       "<IPython.core.display.Markdown object>"
      ]
     },
     "metadata": {},
     "output_type": "display_data"
    },
    {
     "data": {
      "text/markdown": [
       "<span style='color:None'>Top Factor: 33 (Contribution: 0.0945)</span>"
      ],
      "text/plain": [
       "<IPython.core.display.Markdown object>"
      ]
     },
     "metadata": {},
     "output_type": "display_data"
    },
    {
     "name": "stdout",
     "output_type": "stream",
     "text": [
      "    0.1299   Monocyte percentage\n",
      "    0.0755   Monocyte count\n",
      "    0.0237   Lymphocyte count\n",
      "    0.0195   Eosinophill count\n",
      "    0.0162   Forced expiratory volume in 1-second (FEV1), Best measure\n",
      "    0.0155   Eosinophill percentage\n",
      "    0.0154   Forced expiratory volume in 1-second (FEV1)\n",
      "    0.0152   Lymphocyte percentage\n",
      "    0.0132   HDL cholesterol\n",
      "    0.0119   Forced expiratory volume in 1-second (FEV1), predicted percentage\n",
      "    0.0116   Apolipoprotein A\n",
      "    0.0102   Forced vital capacity (FVC), Best measure\n",
      "    0.0099   Forced vital capacity (FVC)\n",
      "    0.0082   Non-cancer illness code, self-reported\n",
      "    0.0075   FEV1/FVC ratio\n",
      "\n"
     ]
    },
    {
     "data": {
      "text/markdown": [
       "<h2>F10 Mental And Behavioural Disorders Due To Use Of Alcohol</h2>"
      ],
      "text/plain": [
       "<IPython.core.display.Markdown object>"
      ]
     },
     "metadata": {},
     "output_type": "display_data"
    },
    {
     "data": {
      "text/markdown": [
       "<span style='color:#c8635a'>**RPCA-IALM**</span>"
      ],
      "text/plain": [
       "<IPython.core.display.Markdown object>"
      ]
     },
     "metadata": {},
     "output_type": "display_data"
    },
    {
     "data": {
      "text/markdown": [
       "<span style='color:None'>Top Factor: 94 (Contribution: 0.0704)</span>"
      ],
      "text/plain": [
       "<IPython.core.display.Markdown object>"
      ]
     },
     "metadata": {},
     "output_type": "display_data"
    },
    {
     "name": "stdout",
     "output_type": "stream",
     "text": [
      "    0.0258   Intra-ocular pressure, corneal-compensated (right)\n",
      "    0.0234   Intra-ocular pressure, corneal-compensated (left)\n",
      "    0.0195   Hypotension NOS\n",
      "    0.0195   I95 Hypotension\n",
      "    0.0191   H40 Glaucoma\n",
      "    0.0180   Glaucoma\n",
      "    0.0178   Open-angle glaucoma\n",
      "    0.0176   Primary open angle glaucoma\n",
      "    0.0155   Hypotension\n",
      "    0.0132   Corneal hysteresis (right)\n",
      "    0.0124   Intra-ocular pressure, Goldmann-correlated (right)\n",
      "    0.0124   Corneal hysteresis (left)\n",
      "    0.0111   Intra-ocular pressure, Goldmann-correlated (left)\n",
      "    0.0110   Inguinal hernia\n",
      "    0.0102   K40 Inguinal hernia\n",
      "\n"
     ]
    },
    {
     "data": {
      "text/markdown": [
       "<span style='color:#c8635a'>**NNM-Sparse-FW**</span>"
      ],
      "text/plain": [
       "<IPython.core.display.Markdown object>"
      ]
     },
     "metadata": {},
     "output_type": "display_data"
    },
    {
     "data": {
      "text/markdown": [
       "<span style='color:None'>Top Factor: 32 (Contribution: 0.1297)</span>"
      ],
      "text/plain": [
       "<IPython.core.display.Markdown object>"
      ]
     },
     "metadata": {},
     "output_type": "display_data"
    },
    {
     "name": "stdout",
     "output_type": "stream",
     "text": [
      "    0.0387   Trunk fat mass\n",
      "    0.0221   Trunk fat-free mass\n",
      "    0.0160   Whole body fat mass\n",
      "    0.0147   NSAID|non-steroidal anti-inflammatory drug\n",
      "    0.0113   Ankle spacing width\n",
      "    0.0108   I25 Chronic ischaemic heart disease\n",
      "    0.0106   Multi-site chronic pain\n",
      "    0.0102   Comparative height size at age 10\n",
      "    0.0098   Leg predicted mass (right)\n",
      "    0.0094   Drive faster than motorway speed limit\n",
      "    0.0092   Hand grip strength (left)\n",
      "    0.0089   ibuprofen\n",
      "    0.0087   Impedance of leg (right)\n",
      "    0.0078   Hip circumference\n",
      "    0.0078   Diastolic blood pressure, combined automated + manual reading\n",
      "\n"
     ]
    },
    {
     "data": {
      "text/markdown": [
       "<span style='color:#c8635a'>**Raw Data**</span>"
      ],
      "text/plain": [
       "<IPython.core.display.Markdown object>"
      ]
     },
     "metadata": {},
     "output_type": "display_data"
    },
    {
     "data": {
      "text/markdown": [
       "<span style='color:None'>Top Factor: 56 (Contribution: 0.1128)</span>"
      ],
      "text/plain": [
       "<IPython.core.display.Markdown object>"
      ]
     },
     "metadata": {},
     "output_type": "display_data"
    },
    {
     "name": "stdout",
     "output_type": "stream",
     "text": [
      "    0.0227   Alkaline phosphatase\n",
      "    0.0134   Red blood cell (erythrocyte) distribution width\n",
      "    0.0104   Albumin\n",
      "    0.0079   Alanine aminotransferase\n",
      "    0.0077   Estimated glomerular filtration rate, serum creatinine + cystain C\n",
      "    0.0072   Other disorders of bladder\n",
      "    0.0071   Aspartate aminotransferase\n",
      "    0.0071   Other retinal disorders\n",
      "    0.0065   Cystatin C\n",
      "    0.0064   N32 Other disorders of bladder\n",
      "    0.0062   Calcium\n",
      "    0.0061   Gamma glutamyltransferase\n",
      "    0.0057   Diabetic retinopathy\n",
      "    0.0057   Hereditary retinal dystrophies\n",
      "    0.0057   H36 Retinal disorders in diseases classified elsewhere\n",
      "\n"
     ]
    },
    {
     "data": {
      "text/markdown": [
       "<h2>F17 Mental And Behavioural Disorders Due To Use Of Tobacco</h2>"
      ],
      "text/plain": [
       "<IPython.core.display.Markdown object>"
      ]
     },
     "metadata": {},
     "output_type": "display_data"
    },
    {
     "data": {
      "text/markdown": [
       "<span style='color:#c8635a'>**RPCA-IALM**</span>"
      ],
      "text/plain": [
       "<IPython.core.display.Markdown object>"
      ]
     },
     "metadata": {},
     "output_type": "display_data"
    },
    {
     "data": {
      "text/markdown": [
       "<span style='color:None'>Top Factor: 51 (Contribution: 0.0921)</span>"
      ],
      "text/plain": [
       "<IPython.core.display.Markdown object>"
      ]
     },
     "metadata": {},
     "output_type": "display_data"
    },
    {
     "name": "stdout",
     "output_type": "stream",
     "text": [
      "    0.0368   Albumin/Globulin ratio\n",
      "    0.0319   Non-albumin protein\n",
      "    0.0142   Lymphocyte count\n",
      "    0.0085   Total protein\n",
      "    0.0073   Lymphocyte percentage\n",
      "    0.0072   Albumin\n",
      "    0.0069   Neutrophill percentage\n",
      "    0.0067   Platelet count\n",
      "    0.0063   Past tobacco smoking\n",
      "    0.0062   Smoking status, ever vs never\n",
      "    0.0062   Forced expiratory volume in 1-second (FEV1)\n",
      "    0.0057   Cystitis\n",
      "    0.0055   Forced expiratory volume in 1-second (FEV1), Best measure\n",
      "    0.0053   Acute pulmonary heart disease\n",
      "    0.0053   Pulmonary embolism and infarction, acute\n",
      "\n"
     ]
    },
    {
     "data": {
      "text/markdown": [
       "<span style='color:#c8635a'>**NNM-Sparse-FW**</span>"
      ],
      "text/plain": [
       "<IPython.core.display.Markdown object>"
      ]
     },
     "metadata": {},
     "output_type": "display_data"
    },
    {
     "data": {
      "text/markdown": [
       "<span style='color:None'>Top Factor: 5 (Contribution: 0.0615)</span>"
      ],
      "text/plain": [
       "<IPython.core.display.Markdown object>"
      ]
     },
     "metadata": {},
     "output_type": "display_data"
    },
    {
     "name": "stdout",
     "output_type": "stream",
     "text": [
      "    0.0297   Mean arterial pressure, combined automated + manual reading, adjusted by medication\n",
      "    0.0277   Mean arterial pressure, automated reading, adjusted by medication\n",
      "    0.0277   Systolic blood pressure, combined automated + manual reading, adjusted by medication\n",
      "    0.0263   Systolic blood pressure, automated reading, adjusted by medication\n",
      "    0.0218   Diastolic blood pressure, combined automated + manual reading, adjusted by medication\n",
      "    0.0211   Diastolic blood pressure, automated reading, adjusted by medication\n",
      "    0.0198   Mean arterial pressure, combined automated + manual reading\n",
      "    0.0194   Systolic blood pressure, combined automated + manual reading\n",
      "    0.0187   Mean arterial pressure, automated reading\n",
      "    0.0183   Systolic blood pressure, automated reading\n",
      "    0.0139   Diastolic blood pressure, combined automated + manual reading\n",
      "    0.0137   Non-cancer illness code, self-reported\n",
      "    0.0127   Diastolic blood pressure, automated reading\n",
      "    0.0116   Pulse pressure, combined automated + manual reading, adjusted by medication\n",
      "    0.0109   Pulse pressure, automated reading, adjusted by medication\n",
      "\n"
     ]
    },
    {
     "data": {
      "text/markdown": [
       "<span style='color:#c8635a'>**Raw Data**</span>"
      ],
      "text/plain": [
       "<IPython.core.display.Markdown object>"
      ]
     },
     "metadata": {},
     "output_type": "display_data"
    },
    {
     "data": {
      "text/markdown": [
       "<span style='color:None'>Top Factor: 38 (Contribution: 0.0717)</span>"
      ],
      "text/plain": [
       "<IPython.core.display.Markdown object>"
      ]
     },
     "metadata": {},
     "output_type": "display_data"
    },
    {
     "name": "stdout",
     "output_type": "stream",
     "text": [
      "    0.0276   Corneal resistance factor (right)\n",
      "    0.0261   Corneal resistance factor (left)\n",
      "    0.0205   Urate\n",
      "    0.0165   Lipoprotein A\n",
      "    0.0159   Red blood cell (erythrocyte) distribution width\n",
      "    0.0155   Intra-ocular pressure, Goldmann-correlated (left)\n",
      "    0.0151   Alkaline phosphatase\n",
      "    0.0150   Intra-ocular pressure, Goldmann-correlated (right)\n",
      "    0.0148   Corneal hysteresis (right)\n",
      "    0.0137   Corneal hysteresis (left)\n",
      "    0.0133   Non-cancer illness code, self-reported\n",
      "    0.0112   Hypothyroidism NOS\n",
      "    0.0111   Hypothyroidism\n",
      "    0.0110   E03 Other hypothyroidism\n",
      "    0.0106   SHBG\n",
      "\n"
     ]
    },
    {
     "data": {
      "text/markdown": [
       "<h2>F31 Bipolar Affective Disorder</h2>"
      ],
      "text/plain": [
       "<IPython.core.display.Markdown object>"
      ]
     },
     "metadata": {},
     "output_type": "display_data"
    },
    {
     "data": {
      "text/markdown": [
       "<span style='color:#c8635a'>**RPCA-IALM**</span>"
      ],
      "text/plain": [
       "<IPython.core.display.Markdown object>"
      ]
     },
     "metadata": {},
     "output_type": "display_data"
    },
    {
     "data": {
      "text/markdown": [
       "<span style='color:None'>Top Factor: 92 (Contribution: 0.1087)</span>"
      ],
      "text/plain": [
       "<IPython.core.display.Markdown object>"
      ]
     },
     "metadata": {},
     "output_type": "display_data"
    },
    {
     "name": "stdout",
     "output_type": "stream",
     "text": [
      "    0.0288   Varicose veins of lower extremity\n",
      "    0.0265   Varicose veins\n",
      "    0.0247   I83 Varicose veins of lower extremities\n",
      "    0.0180   Acquired foot deformities\n",
      "    0.0176   M20 Acquired deformities of fingers and toes\n",
      "    0.0154   Other non-epithelial cancer of skin\n",
      "    0.0148   C44 Other malignant neoplasms of skin\n",
      "    0.0143   Skin cancer\n",
      "    0.0118   Aortic aneurysm\n",
      "    0.0117   I71 Aortic aneurysm and dissection\n",
      "    0.0105   R06 Abnormalities of breathing\n",
      "    0.0103   Hallux valgus (Bunion)\n",
      "    0.0102   Respiratory abnormalities\n",
      "    0.0091   Macular degeneration (senile) of retina NOS\n",
      "    0.0090   Degeneration of macula and posterior pole of retina\n",
      "\n"
     ]
    },
    {
     "data": {
      "text/markdown": [
       "<span style='color:#c8635a'>**NNM-Sparse-FW**</span>"
      ],
      "text/plain": [
       "<IPython.core.display.Markdown object>"
      ]
     },
     "metadata": {},
     "output_type": "display_data"
    },
    {
     "data": {
      "text/markdown": [
       "<span style='color:None'>Top Factor: 23 (Contribution: 0.0730)</span>"
      ],
      "text/plain": [
       "<IPython.core.display.Markdown object>"
      ]
     },
     "metadata": {},
     "output_type": "display_data"
    },
    {
     "name": "stdout",
     "output_type": "stream",
     "text": [
      "    0.0272   E66 Obesity\n",
      "    0.0271   Obesity\n",
      "    0.0186   Overweight, obesity and other hyperalimentation\n",
      "    0.0160   Body mass index (BMI)\n",
      "    0.0137   Ankle spacing width (right)\n",
      "    0.0113   Standing height\n",
      "    0.0086   Leg fat percentage (right)\n",
      "    0.0085   Ankle spacing width (left)\n",
      "    0.0075   Weight\n",
      "    0.0074   Pulse pressure, automated reading, adjusted by medication\n",
      "    0.0074   Pulse pressure, automated reading\n",
      "    0.0074   Pulse pressure, combined automated + manual reading\n",
      "    0.0065   proton pump inhibitor|PPI\n",
      "    0.0063   Weight\n",
      "    0.0062   calcium channel blocker|dihydropyridine|anti-hypertensive\n",
      "\n"
     ]
    },
    {
     "data": {
      "text/markdown": [
       "<span style='color:#c8635a'>**Raw Data**</span>"
      ],
      "text/plain": [
       "<IPython.core.display.Markdown object>"
      ]
     },
     "metadata": {},
     "output_type": "display_data"
    },
    {
     "data": {
      "text/markdown": [
       "<span style='color:None'>Top Factor: 45 (Contribution: 0.0787)</span>"
      ],
      "text/plain": [
       "<IPython.core.display.Markdown object>"
      ]
     },
     "metadata": {},
     "output_type": "display_data"
    },
    {
     "name": "stdout",
     "output_type": "stream",
     "text": [
      "    0.0188   Mean carotid IMT (intima-medial thickness) at 210 degrees\n",
      "    0.0180   Mean carotid IMT (intima-medial thickness) at 240 degrees\n",
      "    0.0177   Lipoprotein A\n",
      "    0.0166   Mean carotid IMT (intima-medial thickness) at 120 degrees\n",
      "    0.0164   Mean carotid IMT (intima-medial thickness) at 150 degrees\n",
      "    0.0164   Maximum carotid IMT (intima-medial thickness) at 210 degrees\n",
      "    0.0158   Maximum carotid IMT (intima-medial thickness) at 240 degrees\n",
      "    0.0155   Minimum carotid IMT (intima-medial thickness) at 210 degrees\n",
      "    0.0145   Minimum carotid IMT (intima-medial thickness) at 240 degrees\n",
      "    0.0138   Minimum carotid IMT (intima-medial thickness) at 120 degrees\n",
      "    0.0138   Maximum carotid IMT (intima-medial thickness) at 120 degrees\n",
      "    0.0136   Maximum carotid IMT (intima-medial thickness) at 150 degrees\n",
      "    0.0132   Minimum carotid IMT (intima-medial thickness) at 150 degrees\n",
      "    0.0076   Urate\n",
      "    0.0068   Disorders of menstruation and other abnormal bleeding from female genital tract\n",
      "\n"
     ]
    },
    {
     "data": {
      "text/markdown": [
       "<h2>F32 Depressive Episode</h2>"
      ],
      "text/plain": [
       "<IPython.core.display.Markdown object>"
      ]
     },
     "metadata": {},
     "output_type": "display_data"
    },
    {
     "data": {
      "text/markdown": [
       "<span style='color:#c8635a'>**RPCA-IALM**</span>"
      ],
      "text/plain": [
       "<IPython.core.display.Markdown object>"
      ]
     },
     "metadata": {},
     "output_type": "display_data"
    },
    {
     "data": {
      "text/markdown": [
       "<span style='color:None'>Top Factor: 50 (Contribution: 0.1116)</span>"
      ],
      "text/plain": [
       "<IPython.core.display.Markdown object>"
      ]
     },
     "metadata": {},
     "output_type": "display_data"
    },
    {
     "name": "stdout",
     "output_type": "stream",
     "text": [
      "    0.0225   I35 Nonrheumatic aortic valve disorders\n",
      "    0.0224   Nonrheumatic aortic valve disorders\n",
      "    0.0149   Late effects of cerebrovascular disease\n",
      "    0.0145   I69 Sequelae of cerebrovascular disease\n",
      "    0.0142   Cerebrovascular disease\n",
      "    0.0142   Congenital anomalies of great vessels\n",
      "    0.0131   Cardiac congenital anomalies\n",
      "    0.0123   Suicide or self-inflicted injury\n",
      "    0.0119   Heart valve disorders\n",
      "    0.0117   X61 Intentional self-poisoning by and exposure to antiepileptic, sedative-hypnotic, anti-Parkinsonism and psychotropic drugs, not elsewhere classified\n",
      "    0.0117   Hemiplegia\n",
      "    0.0115   G81 Hemiplegia\n",
      "    0.0114   Suicidal ideation or attempt\n",
      "    0.0114   T51 Toxic effect of alcohol\n",
      "    0.0114   Toxic effect of (non-ethyl) alcohol and petroleum and other solvents\n",
      "\n"
     ]
    },
    {
     "data": {
      "text/markdown": [
       "<span style='color:#c8635a'>**NNM-Sparse-FW**</span>"
      ],
      "text/plain": [
       "<IPython.core.display.Markdown object>"
      ]
     },
     "metadata": {},
     "output_type": "display_data"
    },
    {
     "data": {
      "text/markdown": [
       "<span style='color:None'>Top Factor: 5 (Contribution: 0.0612)</span>"
      ],
      "text/plain": [
       "<IPython.core.display.Markdown object>"
      ]
     },
     "metadata": {},
     "output_type": "display_data"
    },
    {
     "name": "stdout",
     "output_type": "stream",
     "text": [
      "    0.0297   Mean arterial pressure, combined automated + manual reading, adjusted by medication\n",
      "    0.0277   Mean arterial pressure, automated reading, adjusted by medication\n",
      "    0.0277   Systolic blood pressure, combined automated + manual reading, adjusted by medication\n",
      "    0.0263   Systolic blood pressure, automated reading, adjusted by medication\n",
      "    0.0218   Diastolic blood pressure, combined automated + manual reading, adjusted by medication\n",
      "    0.0211   Diastolic blood pressure, automated reading, adjusted by medication\n",
      "    0.0198   Mean arterial pressure, combined automated + manual reading\n",
      "    0.0194   Systolic blood pressure, combined automated + manual reading\n",
      "    0.0187   Mean arterial pressure, automated reading\n",
      "    0.0183   Systolic blood pressure, automated reading\n",
      "    0.0139   Diastolic blood pressure, combined automated + manual reading\n",
      "    0.0137   Non-cancer illness code, self-reported\n",
      "    0.0127   Diastolic blood pressure, automated reading\n",
      "    0.0116   Pulse pressure, combined automated + manual reading, adjusted by medication\n",
      "    0.0109   Pulse pressure, automated reading, adjusted by medication\n",
      "\n"
     ]
    },
    {
     "data": {
      "text/markdown": [
       "<span style='color:#c8635a'>**Raw Data**</span>"
      ],
      "text/plain": [
       "<IPython.core.display.Markdown object>"
      ]
     },
     "metadata": {},
     "output_type": "display_data"
    },
    {
     "data": {
      "text/markdown": [
       "<span style='color:None'>Top Factor: 45 (Contribution: 0.0855)</span>"
      ],
      "text/plain": [
       "<IPython.core.display.Markdown object>"
      ]
     },
     "metadata": {},
     "output_type": "display_data"
    },
    {
     "name": "stdout",
     "output_type": "stream",
     "text": [
      "    0.0188   Mean carotid IMT (intima-medial thickness) at 210 degrees\n",
      "    0.0180   Mean carotid IMT (intima-medial thickness) at 240 degrees\n",
      "    0.0177   Lipoprotein A\n",
      "    0.0166   Mean carotid IMT (intima-medial thickness) at 120 degrees\n",
      "    0.0164   Mean carotid IMT (intima-medial thickness) at 150 degrees\n",
      "    0.0164   Maximum carotid IMT (intima-medial thickness) at 210 degrees\n",
      "    0.0158   Maximum carotid IMT (intima-medial thickness) at 240 degrees\n",
      "    0.0155   Minimum carotid IMT (intima-medial thickness) at 210 degrees\n",
      "    0.0145   Minimum carotid IMT (intima-medial thickness) at 240 degrees\n",
      "    0.0138   Minimum carotid IMT (intima-medial thickness) at 120 degrees\n",
      "    0.0138   Maximum carotid IMT (intima-medial thickness) at 120 degrees\n",
      "    0.0136   Maximum carotid IMT (intima-medial thickness) at 150 degrees\n",
      "    0.0132   Minimum carotid IMT (intima-medial thickness) at 150 degrees\n",
      "    0.0076   Urate\n",
      "    0.0068   Disorders of menstruation and other abnormal bleeding from female genital tract\n",
      "\n"
     ]
    },
    {
     "data": {
      "text/markdown": [
       "<h2>F41 Other Anxiety Disorders</h2>"
      ],
      "text/plain": [
       "<IPython.core.display.Markdown object>"
      ]
     },
     "metadata": {},
     "output_type": "display_data"
    },
    {
     "data": {
      "text/markdown": [
       "<span style='color:#c8635a'>**RPCA-IALM**</span>"
      ],
      "text/plain": [
       "<IPython.core.display.Markdown object>"
      ]
     },
     "metadata": {},
     "output_type": "display_data"
    },
    {
     "data": {
      "text/markdown": [
       "<span style='color:None'>Top Factor: 100 (Contribution: 0.0925)</span>"
      ],
      "text/plain": [
       "<IPython.core.display.Markdown object>"
      ]
     },
     "metadata": {},
     "output_type": "display_data"
    },
    {
     "name": "stdout",
     "output_type": "stream",
     "text": [
      "    0.0203   Varicose veins of lower extremity\n",
      "    0.0185   Varicose veins\n",
      "    0.0172   I83 Varicose veins of lower extremities\n",
      "    0.0169   Indirect bilirubin\n",
      "    0.0165   Total bilirubin\n",
      "    0.0130   Direct bilirubin\n",
      "    0.0102   Bacterial pneumonia\n",
      "    0.0102   Psoriasis\n",
      "    0.0099   Pneumococcal pneumonia\n",
      "    0.0097   Monocyte percentage\n",
      "    0.0096   L40 Psoriasis\n",
      "    0.0095   Pneumonia\n",
      "    0.0092   J18 Pneumonia, organism unspecified\n",
      "    0.0092   Psoriasis and related disorders\n",
      "    0.0078   Cardiac arrest\n",
      "\n"
     ]
    },
    {
     "data": {
      "text/markdown": [
       "<span style='color:#c8635a'>**NNM-Sparse-FW**</span>"
      ],
      "text/plain": [
       "<IPython.core.display.Markdown object>"
      ]
     },
     "metadata": {},
     "output_type": "display_data"
    },
    {
     "data": {
      "text/markdown": [
       "<span style='color:None'>Top Factor: 93 (Contribution: 0.0847)</span>"
      ],
      "text/plain": [
       "<IPython.core.display.Markdown object>"
      ]
     },
     "metadata": {},
     "output_type": "display_data"
    },
    {
     "name": "stdout",
     "output_type": "stream",
     "text": [
      "    0.0244   Impedance of arm (right)\n",
      "    0.0191   Trunk fat mass\n",
      "    0.0179   E11 Non-insulin-dependent diabetes mellitus\n",
      "    0.0148   Impedance of leg (right)\n",
      "    0.0123   Type 2 diabetes\n",
      "    0.0104   Leg fat-free mass (left)\n",
      "    0.0102   Leg fat mass (left)\n",
      "    0.0100   Leg fat mass (right)\n",
      "    0.0100   doxycycline\n",
      "    0.0100   Whole body water mass\n",
      "    0.0090   Body mass index (BMI)\n",
      "    0.0087   Trunk fat percentage\n",
      "    0.0086   tetracycline antibiotic|antibiotic\n",
      "    0.0081   ramipril\n",
      "    0.0077   Cystatin C\n",
      "\n"
     ]
    },
    {
     "data": {
      "text/markdown": [
       "<span style='color:#c8635a'>**Raw Data**</span>"
      ],
      "text/plain": [
       "<IPython.core.display.Markdown object>"
      ]
     },
     "metadata": {},
     "output_type": "display_data"
    },
    {
     "data": {
      "text/markdown": [
       "<span style='color:None'>Top Factor: 53 (Contribution: 0.0682)</span>"
      ],
      "text/plain": [
       "<IPython.core.display.Markdown object>"
      ]
     },
     "metadata": {},
     "output_type": "display_data"
    },
    {
     "name": "stdout",
     "output_type": "stream",
     "text": [
      "    0.0102   Corneal resistance factor (right)\n",
      "    0.0096   X61 Intentional self-poisoning by and exposure to antiepileptic, sedative-hypnotic, anti-Parkinsonism and psychotropic drugs, not elsewhere classified\n",
      "    0.0091   Corneal resistance factor (left)\n",
      "    0.0090   Poisoning by psychotropic agents\n",
      "    0.0085   SHBG\n",
      "    0.0083   T43 Poisoning by psychotropic drugs, not elsewhere classified\n",
      "    0.0083   Suicide or self-inflicted injury\n",
      "    0.0080   Suicidal ideation or attempt\n",
      "    0.0075   Home location - north co-ordinate (rounded)\n",
      "    0.0075   Home location at assessment - north co-ordinate (rounded)\n",
      "    0.0074   Toxic effect of (non-ethyl) alcohol and petroleum and other solvents\n",
      "    0.0073   T51 Toxic effect of alcohol\n",
      "    0.0073   T39 Poisoning by nonopioid analgesics, antipyretics and antirheumatics\n",
      "    0.0073   Corneal hysteresis (right)\n",
      "    0.0072   X60 Intentional self-poisoning by and exposure to nonopioid analgesics, antipyretics and antirheumatics\n",
      "\n"
     ]
    }
   ],
   "source": [
    "for z in range(52,58):\n",
    "    pan_ukb_pleiotropy(z)"
   ]
  },
  {
   "cell_type": "code",
   "execution_count": 73,
   "id": "02820fe0-6464-48c2-bc63-497c3bba23cb",
   "metadata": {},
   "outputs": [
    {
     "data": {
      "text/markdown": [
       "<h2>Other Mental Disorder</h2>"
      ],
      "text/plain": [
       "<IPython.core.display.Markdown object>"
      ]
     },
     "metadata": {},
     "output_type": "display_data"
    },
    {
     "data": {
      "text/markdown": [
       "<span style='color:#c8635a'>**RPCA-IALM**</span>"
      ],
      "text/plain": [
       "<IPython.core.display.Markdown object>"
      ]
     },
     "metadata": {},
     "output_type": "display_data"
    },
    {
     "data": {
      "text/markdown": [
       "<span style='color:None'>Top Factor: 6 (Contribution: 0.1623)</span>"
      ],
      "text/plain": [
       "<IPython.core.display.Markdown object>"
      ]
     },
     "metadata": {},
     "output_type": "display_data"
    },
    {
     "name": "stdout",
     "output_type": "stream",
     "text": [
      "    0.0290   Trunk fat percentage\n",
      "    0.0231   Body fat percentage\n",
      "    0.0229   Impedance of whole body\n",
      "    0.0226   Impedance of arm (right)\n",
      "    0.0224   Impedance of arm (left)\n",
      "    0.0194   Trunk fat mass\n",
      "    0.0155   Arm fat percentage (left)\n",
      "    0.0154   Whole body fat mass\n",
      "    0.0153   Arm fat percentage (right)\n",
      "    0.0139   Leg fat percentage (right)\n",
      "    0.0133   Leg fat percentage (left)\n",
      "    0.0132   Impedance of leg (left)\n",
      "    0.0129   Impedance of leg (right)\n",
      "    0.0090   Leg fat mass (right)\n",
      "    0.0088   Arm fat mass (left)\n",
      "\n"
     ]
    },
    {
     "data": {
      "text/markdown": [
       "<span style='color:#c8635a'>**NNM-Sparse-FW**</span>"
      ],
      "text/plain": [
       "<IPython.core.display.Markdown object>"
      ]
     },
     "metadata": {},
     "output_type": "display_data"
    },
    {
     "data": {
      "text/markdown": [
       "<span style='color:None'>Top Factor: 82 (Contribution: 0.0722)</span>"
      ],
      "text/plain": [
       "<IPython.core.display.Markdown object>"
      ]
     },
     "metadata": {},
     "output_type": "display_data"
    },
    {
     "name": "stdout",
     "output_type": "stream",
     "text": [
      "    0.0312   Body mass index (BMI)\n",
      "    0.0297   Leg predicted mass (left)\n",
      "    0.0226   Leg fat percentage (left)\n",
      "    0.0159   Arm fat mass (left)\n",
      "    0.0128   Body mass index (BMI)\n",
      "    0.0097   Whole body fat mass\n",
      "    0.0094   Diastolic blood pressure, automated reading, adjusted by medication\n",
      "    0.0088   Hand grip strength (left)\n",
      "    0.0082   aspirin\n",
      "    0.0082   Arm fat-free mass (left)\n",
      "    0.0081   SHBG\n",
      "    0.0073   Treatment/medication code\n",
      "    0.0072   I25 Chronic ischaemic heart disease\n",
      "    0.0069   corticosteroid\n",
      "    0.0068   C-reactive protein\n",
      "\n"
     ]
    },
    {
     "data": {
      "text/markdown": [
       "<span style='color:#c8635a'>**Raw Data**</span>"
      ],
      "text/plain": [
       "<IPython.core.display.Markdown object>"
      ]
     },
     "metadata": {},
     "output_type": "display_data"
    },
    {
     "data": {
      "text/markdown": [
       "<span style='color:None'>Top Factor: 10 (Contribution: 0.1058)</span>"
      ],
      "text/plain": [
       "<IPython.core.display.Markdown object>"
      ]
     },
     "metadata": {},
     "output_type": "display_data"
    },
    {
     "name": "stdout",
     "output_type": "stream",
     "text": [
      "    0.0384   High light scatter reticulocyte percentage\n",
      "    0.0375   Mean corpuscular haemoglobin\n",
      "    0.0339   Mean corpuscular volume\n",
      "    0.0326   High light scatter reticulocyte count\n",
      "    0.0324   Reticulocyte percentage\n",
      "    0.0254   Reticulocyte count\n",
      "    0.0235   Impedance of whole body\n",
      "    0.0212   Impedance of arm (right)\n",
      "    0.0203   Impedance of arm (left)\n",
      "    0.0188   Immature reticulocyte fraction\n",
      "    0.0176   Impedance of leg (left)\n",
      "    0.0172   Impedance of leg (right)\n",
      "    0.0145   Trunk fat percentage\n",
      "    0.0140   Red blood cell (erythrocyte) distribution width\n",
      "    0.0121   Standing height\n",
      "\n"
     ]
    },
    {
     "data": {
      "text/markdown": [
       "<h2>Substance Addiction And Disorders</h2>"
      ],
      "text/plain": [
       "<IPython.core.display.Markdown object>"
      ]
     },
     "metadata": {},
     "output_type": "display_data"
    },
    {
     "data": {
      "text/markdown": [
       "<span style='color:#c8635a'>**RPCA-IALM**</span>"
      ],
      "text/plain": [
       "<IPython.core.display.Markdown object>"
      ]
     },
     "metadata": {},
     "output_type": "display_data"
    },
    {
     "data": {
      "text/markdown": [
       "<span style='color:None'>Top Factor: 94 (Contribution: 0.0746)</span>"
      ],
      "text/plain": [
       "<IPython.core.display.Markdown object>"
      ]
     },
     "metadata": {},
     "output_type": "display_data"
    },
    {
     "name": "stdout",
     "output_type": "stream",
     "text": [
      "    0.0258   Intra-ocular pressure, corneal-compensated (right)\n",
      "    0.0234   Intra-ocular pressure, corneal-compensated (left)\n",
      "    0.0195   Hypotension NOS\n",
      "    0.0195   I95 Hypotension\n",
      "    0.0191   H40 Glaucoma\n",
      "    0.0180   Glaucoma\n",
      "    0.0178   Open-angle glaucoma\n",
      "    0.0176   Primary open angle glaucoma\n",
      "    0.0155   Hypotension\n",
      "    0.0132   Corneal hysteresis (right)\n",
      "    0.0124   Intra-ocular pressure, Goldmann-correlated (right)\n",
      "    0.0124   Corneal hysteresis (left)\n",
      "    0.0111   Intra-ocular pressure, Goldmann-correlated (left)\n",
      "    0.0110   Inguinal hernia\n",
      "    0.0102   K40 Inguinal hernia\n",
      "\n"
     ]
    },
    {
     "data": {
      "text/markdown": [
       "<span style='color:#c8635a'>**NNM-Sparse-FW**</span>"
      ],
      "text/plain": [
       "<IPython.core.display.Markdown object>"
      ]
     },
     "metadata": {},
     "output_type": "display_data"
    },
    {
     "data": {
      "text/markdown": [
       "<span style='color:None'>Top Factor: 32 (Contribution: 0.0623)</span>"
      ],
      "text/plain": [
       "<IPython.core.display.Markdown object>"
      ]
     },
     "metadata": {},
     "output_type": "display_data"
    },
    {
     "name": "stdout",
     "output_type": "stream",
     "text": [
      "    0.0387   Trunk fat mass\n",
      "    0.0221   Trunk fat-free mass\n",
      "    0.0160   Whole body fat mass\n",
      "    0.0147   NSAID|non-steroidal anti-inflammatory drug\n",
      "    0.0113   Ankle spacing width\n",
      "    0.0108   I25 Chronic ischaemic heart disease\n",
      "    0.0106   Multi-site chronic pain\n",
      "    0.0102   Comparative height size at age 10\n",
      "    0.0098   Leg predicted mass (right)\n",
      "    0.0094   Drive faster than motorway speed limit\n",
      "    0.0092   Hand grip strength (left)\n",
      "    0.0089   ibuprofen\n",
      "    0.0087   Impedance of leg (right)\n",
      "    0.0078   Hip circumference\n",
      "    0.0078   Diastolic blood pressure, combined automated + manual reading\n",
      "\n"
     ]
    },
    {
     "data": {
      "text/markdown": [
       "<span style='color:#c8635a'>**Raw Data**</span>"
      ],
      "text/plain": [
       "<IPython.core.display.Markdown object>"
      ]
     },
     "metadata": {},
     "output_type": "display_data"
    },
    {
     "data": {
      "text/markdown": [
       "<span style='color:None'>Top Factor: 56 (Contribution: 0.1156)</span>"
      ],
      "text/plain": [
       "<IPython.core.display.Markdown object>"
      ]
     },
     "metadata": {},
     "output_type": "display_data"
    },
    {
     "name": "stdout",
     "output_type": "stream",
     "text": [
      "    0.0227   Alkaline phosphatase\n",
      "    0.0134   Red blood cell (erythrocyte) distribution width\n",
      "    0.0104   Albumin\n",
      "    0.0079   Alanine aminotransferase\n",
      "    0.0077   Estimated glomerular filtration rate, serum creatinine + cystain C\n",
      "    0.0072   Other disorders of bladder\n",
      "    0.0071   Aspartate aminotransferase\n",
      "    0.0071   Other retinal disorders\n",
      "    0.0065   Cystatin C\n",
      "    0.0064   N32 Other disorders of bladder\n",
      "    0.0062   Calcium\n",
      "    0.0061   Gamma glutamyltransferase\n",
      "    0.0057   Diabetic retinopathy\n",
      "    0.0057   Hereditary retinal dystrophies\n",
      "    0.0057   H36 Retinal disorders in diseases classified elsewhere\n",
      "\n"
     ]
    },
    {
     "data": {
      "text/markdown": [
       "<h2>Alcohol-Related Disorders</h2>"
      ],
      "text/plain": [
       "<IPython.core.display.Markdown object>"
      ]
     },
     "metadata": {},
     "output_type": "display_data"
    },
    {
     "data": {
      "text/markdown": [
       "<span style='color:#c8635a'>**RPCA-IALM**</span>"
      ],
      "text/plain": [
       "<IPython.core.display.Markdown object>"
      ]
     },
     "metadata": {},
     "output_type": "display_data"
    },
    {
     "data": {
      "text/markdown": [
       "<span style='color:None'>Top Factor: 57 (Contribution: 0.0858)</span>"
      ],
      "text/plain": [
       "<IPython.core.display.Markdown object>"
      ]
     },
     "metadata": {},
     "output_type": "display_data"
    },
    {
     "name": "stdout",
     "output_type": "stream",
     "text": [
      "    0.0175   J44 Other chronic obstructive pulmonary disease\n",
      "    0.0170   Obstructive chronic bronchitis\n",
      "    0.0160   Chronic bronchitis\n",
      "    0.0132   Pulmonary embolism and infarction, acute\n",
      "    0.0132   Acute pulmonary heart disease\n",
      "    0.0130   Chronic airway obstruction\n",
      "    0.0121   I26 Pulmonary embolism\n",
      "    0.0113   HDL cholesterol\n",
      "    0.0105   Apolipoprotein A\n",
      "    0.0093   Total thigh muscle volume\n",
      "    0.0082   Pulmonary heart disease\n",
      "    0.0075   Alcohol intake frequency.\n",
      "    0.0073   Posterior thigh lean muscle volume (right)\n",
      "    0.0072   Posterior thigh lean muscle volume (left)\n",
      "    0.0068   K57 Diverticular disease of intestine\n",
      "\n"
     ]
    },
    {
     "data": {
      "text/markdown": [
       "<span style='color:#c8635a'>**NNM-Sparse-FW**</span>"
      ],
      "text/plain": [
       "<IPython.core.display.Markdown object>"
      ]
     },
     "metadata": {},
     "output_type": "display_data"
    },
    {
     "data": {
      "text/markdown": [
       "<span style='color:None'>Top Factor: 5 (Contribution: 0.0513)</span>"
      ],
      "text/plain": [
       "<IPython.core.display.Markdown object>"
      ]
     },
     "metadata": {},
     "output_type": "display_data"
    },
    {
     "name": "stdout",
     "output_type": "stream",
     "text": [
      "    0.0297   Mean arterial pressure, combined automated + manual reading, adjusted by medication\n",
      "    0.0277   Mean arterial pressure, automated reading, adjusted by medication\n",
      "    0.0277   Systolic blood pressure, combined automated + manual reading, adjusted by medication\n",
      "    0.0263   Systolic blood pressure, automated reading, adjusted by medication\n",
      "    0.0218   Diastolic blood pressure, combined automated + manual reading, adjusted by medication\n",
      "    0.0211   Diastolic blood pressure, automated reading, adjusted by medication\n",
      "    0.0198   Mean arterial pressure, combined automated + manual reading\n",
      "    0.0194   Systolic blood pressure, combined automated + manual reading\n",
      "    0.0187   Mean arterial pressure, automated reading\n",
      "    0.0183   Systolic blood pressure, automated reading\n",
      "    0.0139   Diastolic blood pressure, combined automated + manual reading\n",
      "    0.0137   Non-cancer illness code, self-reported\n",
      "    0.0127   Diastolic blood pressure, automated reading\n",
      "    0.0116   Pulse pressure, combined automated + manual reading, adjusted by medication\n",
      "    0.0109   Pulse pressure, automated reading, adjusted by medication\n",
      "\n"
     ]
    },
    {
     "data": {
      "text/markdown": [
       "<span style='color:#c8635a'>**Raw Data**</span>"
      ],
      "text/plain": [
       "<IPython.core.display.Markdown object>"
      ]
     },
     "metadata": {},
     "output_type": "display_data"
    },
    {
     "data": {
      "text/markdown": [
       "<span style='color:None'>Top Factor: 56 (Contribution: 0.1049)</span>"
      ],
      "text/plain": [
       "<IPython.core.display.Markdown object>"
      ]
     },
     "metadata": {},
     "output_type": "display_data"
    },
    {
     "name": "stdout",
     "output_type": "stream",
     "text": [
      "    0.0227   Alkaline phosphatase\n",
      "    0.0134   Red blood cell (erythrocyte) distribution width\n",
      "    0.0104   Albumin\n",
      "    0.0079   Alanine aminotransferase\n",
      "    0.0077   Estimated glomerular filtration rate, serum creatinine + cystain C\n",
      "    0.0072   Other disorders of bladder\n",
      "    0.0071   Aspartate aminotransferase\n",
      "    0.0071   Other retinal disorders\n",
      "    0.0065   Cystatin C\n",
      "    0.0064   N32 Other disorders of bladder\n",
      "    0.0062   Calcium\n",
      "    0.0061   Gamma glutamyltransferase\n",
      "    0.0057   Diabetic retinopathy\n",
      "    0.0057   Hereditary retinal dystrophies\n",
      "    0.0057   H36 Retinal disorders in diseases classified elsewhere\n",
      "\n"
     ]
    },
    {
     "data": {
      "text/markdown": [
       "<h2>Alcoholism</h2>"
      ],
      "text/plain": [
       "<IPython.core.display.Markdown object>"
      ]
     },
     "metadata": {},
     "output_type": "display_data"
    },
    {
     "data": {
      "text/markdown": [
       "<span style='color:#c8635a'>**RPCA-IALM**</span>"
      ],
      "text/plain": [
       "<IPython.core.display.Markdown object>"
      ]
     },
     "metadata": {},
     "output_type": "display_data"
    },
    {
     "data": {
      "text/markdown": [
       "<span style='color:None'>Top Factor: 94 (Contribution: 0.0867)</span>"
      ],
      "text/plain": [
       "<IPython.core.display.Markdown object>"
      ]
     },
     "metadata": {},
     "output_type": "display_data"
    },
    {
     "name": "stdout",
     "output_type": "stream",
     "text": [
      "    0.0258   Intra-ocular pressure, corneal-compensated (right)\n",
      "    0.0234   Intra-ocular pressure, corneal-compensated (left)\n",
      "    0.0195   Hypotension NOS\n",
      "    0.0195   I95 Hypotension\n",
      "    0.0191   H40 Glaucoma\n",
      "    0.0180   Glaucoma\n",
      "    0.0178   Open-angle glaucoma\n",
      "    0.0176   Primary open angle glaucoma\n",
      "    0.0155   Hypotension\n",
      "    0.0132   Corneal hysteresis (right)\n",
      "    0.0124   Intra-ocular pressure, Goldmann-correlated (right)\n",
      "    0.0124   Corneal hysteresis (left)\n",
      "    0.0111   Intra-ocular pressure, Goldmann-correlated (left)\n",
      "    0.0110   Inguinal hernia\n",
      "    0.0102   K40 Inguinal hernia\n",
      "\n"
     ]
    },
    {
     "data": {
      "text/markdown": [
       "<span style='color:#c8635a'>**NNM-Sparse-FW**</span>"
      ],
      "text/plain": [
       "<IPython.core.display.Markdown object>"
      ]
     },
     "metadata": {},
     "output_type": "display_data"
    },
    {
     "data": {
      "text/markdown": [
       "<span style='color:None'>Top Factor: 15 (Contribution: 0.0573)</span>"
      ],
      "text/plain": [
       "<IPython.core.display.Markdown object>"
      ]
     },
     "metadata": {},
     "output_type": "display_data"
    },
    {
     "name": "stdout",
     "output_type": "stream",
     "text": [
      "    0.0670   Essential hypertension\n",
      "    0.0596   Hypertension\n",
      "    0.0278   E78 Disorders of lipoprotein metabolism and other lipidaemias\n",
      "    0.0271   Disorders of lipoid metabolism\n",
      "    0.0265   Hypercholesterolemia\n",
      "    0.0256   Hyperlipidemia\n",
      "    0.0252   Ischemic Heart Disease\n",
      "    0.0197   Other chronic ischemic heart disease, unspecified\n",
      "    0.0174   I25 Chronic ischaemic heart disease\n",
      "    0.0138   antipyretic\n",
      "    0.0138   paracetamol\n",
      "    0.0134   opioid analgesic|antipyretic\n",
      "    0.0130   Angina pectoris\n",
      "    0.0111   E11 Non-insulin-dependent diabetes mellitus\n",
      "    0.0100   Leg fat mass (left)\n",
      "\n"
     ]
    },
    {
     "data": {
      "text/markdown": [
       "<span style='color:#c8635a'>**Raw Data**</span>"
      ],
      "text/plain": [
       "<IPython.core.display.Markdown object>"
      ]
     },
     "metadata": {},
     "output_type": "display_data"
    },
    {
     "data": {
      "text/markdown": [
       "<span style='color:None'>Top Factor: 56 (Contribution: 0.0766)</span>"
      ],
      "text/plain": [
       "<IPython.core.display.Markdown object>"
      ]
     },
     "metadata": {},
     "output_type": "display_data"
    },
    {
     "name": "stdout",
     "output_type": "stream",
     "text": [
      "    0.0227   Alkaline phosphatase\n",
      "    0.0134   Red blood cell (erythrocyte) distribution width\n",
      "    0.0104   Albumin\n",
      "    0.0079   Alanine aminotransferase\n",
      "    0.0077   Estimated glomerular filtration rate, serum creatinine + cystain C\n",
      "    0.0072   Other disorders of bladder\n",
      "    0.0071   Aspartate aminotransferase\n",
      "    0.0071   Other retinal disorders\n",
      "    0.0065   Cystatin C\n",
      "    0.0064   N32 Other disorders of bladder\n",
      "    0.0062   Calcium\n",
      "    0.0061   Gamma glutamyltransferase\n",
      "    0.0057   Diabetic retinopathy\n",
      "    0.0057   Hereditary retinal dystrophies\n",
      "    0.0057   H36 Retinal disorders in diseases classified elsewhere\n",
      "\n"
     ]
    },
    {
     "data": {
      "text/markdown": [
       "<h2>Alcoholic Liver Damage</h2>"
      ],
      "text/plain": [
       "<IPython.core.display.Markdown object>"
      ]
     },
     "metadata": {},
     "output_type": "display_data"
    },
    {
     "data": {
      "text/markdown": [
       "<span style='color:#c8635a'>**RPCA-IALM**</span>"
      ],
      "text/plain": [
       "<IPython.core.display.Markdown object>"
      ]
     },
     "metadata": {},
     "output_type": "display_data"
    },
    {
     "data": {
      "text/markdown": [
       "<span style='color:None'>Top Factor: 94 (Contribution: 0.0981)</span>"
      ],
      "text/plain": [
       "<IPython.core.display.Markdown object>"
      ]
     },
     "metadata": {},
     "output_type": "display_data"
    },
    {
     "name": "stdout",
     "output_type": "stream",
     "text": [
      "    0.0258   Intra-ocular pressure, corneal-compensated (right)\n",
      "    0.0234   Intra-ocular pressure, corneal-compensated (left)\n",
      "    0.0195   Hypotension NOS\n",
      "    0.0195   I95 Hypotension\n",
      "    0.0191   H40 Glaucoma\n",
      "    0.0180   Glaucoma\n",
      "    0.0178   Open-angle glaucoma\n",
      "    0.0176   Primary open angle glaucoma\n",
      "    0.0155   Hypotension\n",
      "    0.0132   Corneal hysteresis (right)\n",
      "    0.0124   Intra-ocular pressure, Goldmann-correlated (right)\n",
      "    0.0124   Corneal hysteresis (left)\n",
      "    0.0111   Intra-ocular pressure, Goldmann-correlated (left)\n",
      "    0.0110   Inguinal hernia\n",
      "    0.0102   K40 Inguinal hernia\n",
      "\n"
     ]
    },
    {
     "data": {
      "text/markdown": [
       "<span style='color:#c8635a'>**NNM-Sparse-FW**</span>"
      ],
      "text/plain": [
       "<IPython.core.display.Markdown object>"
      ]
     },
     "metadata": {},
     "output_type": "display_data"
    },
    {
     "data": {
      "text/markdown": [
       "<span style='color:None'>Top Factor: 88 (Contribution: 0.0513)</span>"
      ],
      "text/plain": [
       "<IPython.core.display.Markdown object>"
      ]
     },
     "metadata": {},
     "output_type": "display_data"
    },
    {
     "name": "stdout",
     "output_type": "stream",
     "text": [
      "    0.0319   Whole body fat-free mass\n",
      "    0.0251   Leg fat percentage (right)\n",
      "    0.0194   Hand grip strength (left)\n",
      "    0.0120   Leg predicted mass (right)\n",
      "    0.0118   Forced vital capacity (FVC), Best measure\n",
      "    0.0110   codine/paracetamol\n",
      "    0.0103   Arm fat-free mass (right)\n",
      "    0.0099   Mean arterial pressure, automated reading\n",
      "    0.0096   Trunk fat-free mass\n",
      "    0.0096   Peak expiratory flow (PEF)\n",
      "    0.0092   Trunk predicted mass\n",
      "    0.0090   Basal metabolic rate\n",
      "    0.0089   Diastolic blood pressure, combined automated + manual reading, adjusted by medication\n",
      "    0.0071   Arm fat mass (left)\n",
      "    0.0069   Age completed full time education\n",
      "\n"
     ]
    },
    {
     "data": {
      "text/markdown": [
       "<span style='color:#c8635a'>**Raw Data**</span>"
      ],
      "text/plain": [
       "<IPython.core.display.Markdown object>"
      ]
     },
     "metadata": {},
     "output_type": "display_data"
    },
    {
     "data": {
      "text/markdown": [
       "<span style='color:None'>Top Factor: 89 (Contribution: 0.1356)</span>"
      ],
      "text/plain": [
       "<IPython.core.display.Markdown object>"
      ]
     },
     "metadata": {},
     "output_type": "display_data"
    },
    {
     "name": "stdout",
     "output_type": "stream",
     "text": [
      "    0.0327   Genital prolapse\n",
      "    0.0325   Prolapse of vaginal walls\n",
      "    0.0322   N81 Female genital prolapse\n",
      "    0.0185   Uterine/Uterovaginal prolapse\n",
      "    0.0143   Pulse rate, automated reading\n",
      "    0.0115   C-reactive protein\n",
      "    0.0084   Other vitamin B12 deficiency anemia\n",
      "    0.0084   Megaloblastic anemia\n",
      "    0.0084   Other deficiency anemia\n",
      "    0.0084   D51 Vitamin B12 deficiency anaemia\n",
      "    0.0077   Chronic liver disease and cirrhosis\n",
      "    0.0076   Pulse rate\n",
      "    0.0074   Gamma glutamyltransferase\n",
      "    0.0073   K76 Other diseases of liver\n",
      "    0.0072   Other disorders of liver\n",
      "\n"
     ]
    },
    {
     "data": {
      "text/markdown": [
       "<h2>Tobacco Use Disorder</h2>"
      ],
      "text/plain": [
       "<IPython.core.display.Markdown object>"
      ]
     },
     "metadata": {},
     "output_type": "display_data"
    },
    {
     "data": {
      "text/markdown": [
       "<span style='color:#c8635a'>**RPCA-IALM**</span>"
      ],
      "text/plain": [
       "<IPython.core.display.Markdown object>"
      ]
     },
     "metadata": {},
     "output_type": "display_data"
    },
    {
     "data": {
      "text/markdown": [
       "<span style='color:None'>Top Factor: 51 (Contribution: 0.0944)</span>"
      ],
      "text/plain": [
       "<IPython.core.display.Markdown object>"
      ]
     },
     "metadata": {},
     "output_type": "display_data"
    },
    {
     "name": "stdout",
     "output_type": "stream",
     "text": [
      "    0.0368   Albumin/Globulin ratio\n",
      "    0.0319   Non-albumin protein\n",
      "    0.0142   Lymphocyte count\n",
      "    0.0085   Total protein\n",
      "    0.0073   Lymphocyte percentage\n",
      "    0.0072   Albumin\n",
      "    0.0069   Neutrophill percentage\n",
      "    0.0067   Platelet count\n",
      "    0.0063   Past tobacco smoking\n",
      "    0.0062   Smoking status, ever vs never\n",
      "    0.0062   Forced expiratory volume in 1-second (FEV1)\n",
      "    0.0057   Cystitis\n",
      "    0.0055   Forced expiratory volume in 1-second (FEV1), Best measure\n",
      "    0.0053   Acute pulmonary heart disease\n",
      "    0.0053   Pulmonary embolism and infarction, acute\n",
      "\n"
     ]
    },
    {
     "data": {
      "text/markdown": [
       "<span style='color:#c8635a'>**NNM-Sparse-FW**</span>"
      ],
      "text/plain": [
       "<IPython.core.display.Markdown object>"
      ]
     },
     "metadata": {},
     "output_type": "display_data"
    },
    {
     "data": {
      "text/markdown": [
       "<span style='color:None'>Top Factor: 42 (Contribution: 0.0911)</span>"
      ],
      "text/plain": [
       "<IPython.core.display.Markdown object>"
      ]
     },
     "metadata": {},
     "output_type": "display_data"
    },
    {
     "name": "stdout",
     "output_type": "stream",
     "text": [
      "    0.0228   Leg fat mass (right)\n",
      "    0.0227   Arm predicted mass (left)\n",
      "    0.0162   Ankle spacing width (right)\n",
      "    0.0147   Hip circumference\n",
      "    0.0114   selective serotonin re-uptake inhibitor|SSRI\n",
      "    0.0110   Body mass index (BMI)\n",
      "    0.0108   Trunk predicted mass\n",
      "    0.0094   proton pump inhibitor|PPI\n",
      "    0.0091   beta-lactam antibiotic|antibiotic\n",
      "    0.0087   Impedance of leg (left)\n",
      "    0.0085   Sitting height\n",
      "    0.0073   Heel bone mineral density (BMD) T-score, automated (left)\n",
      "    0.0073   Heel quantitative ultrasound index (QUI), direct entry (left)\n",
      "    0.0071   Hypertension\n",
      "    0.0071   Body fat percentage\n",
      "\n"
     ]
    },
    {
     "data": {
      "text/markdown": [
       "<span style='color:#c8635a'>**Raw Data**</span>"
      ],
      "text/plain": [
       "<IPython.core.display.Markdown object>"
      ]
     },
     "metadata": {},
     "output_type": "display_data"
    },
    {
     "data": {
      "text/markdown": [
       "<span style='color:None'>Top Factor: 38 (Contribution: 0.0719)</span>"
      ],
      "text/plain": [
       "<IPython.core.display.Markdown object>"
      ]
     },
     "metadata": {},
     "output_type": "display_data"
    },
    {
     "name": "stdout",
     "output_type": "stream",
     "text": [
      "    0.0276   Corneal resistance factor (right)\n",
      "    0.0261   Corneal resistance factor (left)\n",
      "    0.0205   Urate\n",
      "    0.0165   Lipoprotein A\n",
      "    0.0159   Red blood cell (erythrocyte) distribution width\n",
      "    0.0155   Intra-ocular pressure, Goldmann-correlated (left)\n",
      "    0.0151   Alkaline phosphatase\n",
      "    0.0150   Intra-ocular pressure, Goldmann-correlated (right)\n",
      "    0.0148   Corneal hysteresis (right)\n",
      "    0.0137   Corneal hysteresis (left)\n",
      "    0.0133   Non-cancer illness code, self-reported\n",
      "    0.0112   Hypothyroidism NOS\n",
      "    0.0111   Hypothyroidism\n",
      "    0.0110   E03 Other hypothyroidism\n",
      "    0.0106   SHBG\n",
      "\n"
     ]
    },
    {
     "data": {
      "text/markdown": [
       "<h2>Sleep Disorders</h2>"
      ],
      "text/plain": [
       "<IPython.core.display.Markdown object>"
      ]
     },
     "metadata": {},
     "output_type": "display_data"
    },
    {
     "data": {
      "text/markdown": [
       "<span style='color:#c8635a'>**RPCA-IALM**</span>"
      ],
      "text/plain": [
       "<IPython.core.display.Markdown object>"
      ]
     },
     "metadata": {},
     "output_type": "display_data"
    },
    {
     "data": {
      "text/markdown": [
       "<span style='color:None'>Top Factor: 86 (Contribution: 0.1209)</span>"
      ],
      "text/plain": [
       "<IPython.core.display.Markdown object>"
      ]
     },
     "metadata": {},
     "output_type": "display_data"
    },
    {
     "name": "stdout",
     "output_type": "stream",
     "text": [
      "    0.0469   Acquired foot deformities\n",
      "    0.0468   M20 Acquired deformities of fingers and toes\n",
      "    0.0290   Hemoptysis\n",
      "    0.0286   R04 Haemorrhage from respiratory passages\n",
      "    0.0275   Obesity\n",
      "    0.0272   E66 Obesity\n",
      "    0.0272   Hallux valgus (Bunion)\n",
      "    0.0253   Acquired toe deformities\n",
      "    0.0248   Abnormal sputum\n",
      "    0.0247   Overweight, obesity and other hyperalimentation\n",
      "    0.0123   G47 Sleep disorders\n",
      "    0.0119   Sleep disorders\n",
      "    0.0111   Hammer toe (acquired)\n",
      "    0.0110   Epistaxis or throat hemorrhage\n",
      "    0.0095   Prostatitis\n",
      "\n"
     ]
    },
    {
     "data": {
      "text/markdown": [
       "<span style='color:#c8635a'>**NNM-Sparse-FW**</span>"
      ],
      "text/plain": [
       "<IPython.core.display.Markdown object>"
      ]
     },
     "metadata": {},
     "output_type": "display_data"
    },
    {
     "data": {
      "text/markdown": [
       "<span style='color:None'>Top Factor: 4 (Contribution: 0.0595)</span>"
      ],
      "text/plain": [
       "<IPython.core.display.Markdown object>"
      ]
     },
     "metadata": {},
     "output_type": "display_data"
    },
    {
     "name": "stdout",
     "output_type": "stream",
     "text": [
      "    0.1274   Standing height\n",
      "    0.0721   Sitting height\n",
      "    0.0263   Seated height\n",
      "    0.0192   Comparative height size at age 10\n",
      "    0.0190   Trunk fat-free mass\n",
      "    0.0189   Trunk predicted mass\n",
      "    0.0134   Whole body fat-free mass\n",
      "    0.0117   Whole body water mass\n",
      "    0.0114   Waist circumference\n",
      "    0.0112   Leg fat mass (left)\n",
      "    0.0112   Arm fat mass (right)\n",
      "    0.0107   Leg fat mass (right)\n",
      "    0.0101   Arm fat mass (left)\n",
      "    0.0099   E66 Obesity\n",
      "    0.0099   Obesity\n",
      "\n"
     ]
    },
    {
     "data": {
      "text/markdown": [
       "<span style='color:#c8635a'>**Raw Data**</span>"
      ],
      "text/plain": [
       "<IPython.core.display.Markdown object>"
      ]
     },
     "metadata": {},
     "output_type": "display_data"
    },
    {
     "data": {
      "text/markdown": [
       "<span style='color:None'>Top Factor: 91 (Contribution: 0.1044)</span>"
      ],
      "text/plain": [
       "<IPython.core.display.Markdown object>"
      ]
     },
     "metadata": {},
     "output_type": "display_data"
    },
    {
     "name": "stdout",
     "output_type": "stream",
     "text": [
      "    0.0136   Aspartate aminotransferase\n",
      "    0.0125   Platelet distribution width\n",
      "    0.0112   Alanine aminotransferase\n",
      "    0.0084   Inflammatory bowel disease and other gastroenteritis and colitis\n",
      "    0.0074   Spherical power (right)\n",
      "    0.0070   Genital prolapse\n",
      "    0.0070   Prolapse of vaginal walls\n",
      "    0.0069   Spherical power (left)\n",
      "    0.0068   N81 Female genital prolapse\n",
      "    0.0068   Open wounds of head; neck; and trunk\n",
      "    0.0063   C79 Secondary malignant neoplasm of other sites\n",
      "    0.0061   E87 Other disorders of fluid, electrolyte and acid-base balance\n",
      "    0.0061   Ulcerative colitis\n",
      "    0.0061   Electrolyte imbalance\n",
      "    0.0061   I77 Other disorders of arteries and arterioles\n",
      "\n"
     ]
    },
    {
     "data": {
      "text/markdown": [
       "<h2>Sleep Apnea</h2>"
      ],
      "text/plain": [
       "<IPython.core.display.Markdown object>"
      ]
     },
     "metadata": {},
     "output_type": "display_data"
    },
    {
     "data": {
      "text/markdown": [
       "<span style='color:#c8635a'>**RPCA-IALM**</span>"
      ],
      "text/plain": [
       "<IPython.core.display.Markdown object>"
      ]
     },
     "metadata": {},
     "output_type": "display_data"
    },
    {
     "data": {
      "text/markdown": [
       "<span style='color:None'>Top Factor: 86 (Contribution: 0.1234)</span>"
      ],
      "text/plain": [
       "<IPython.core.display.Markdown object>"
      ]
     },
     "metadata": {},
     "output_type": "display_data"
    },
    {
     "name": "stdout",
     "output_type": "stream",
     "text": [
      "    0.0469   Acquired foot deformities\n",
      "    0.0468   M20 Acquired deformities of fingers and toes\n",
      "    0.0290   Hemoptysis\n",
      "    0.0286   R04 Haemorrhage from respiratory passages\n",
      "    0.0275   Obesity\n",
      "    0.0272   E66 Obesity\n",
      "    0.0272   Hallux valgus (Bunion)\n",
      "    0.0253   Acquired toe deformities\n",
      "    0.0248   Abnormal sputum\n",
      "    0.0247   Overweight, obesity and other hyperalimentation\n",
      "    0.0123   G47 Sleep disorders\n",
      "    0.0119   Sleep disorders\n",
      "    0.0111   Hammer toe (acquired)\n",
      "    0.0110   Epistaxis or throat hemorrhage\n",
      "    0.0095   Prostatitis\n",
      "\n"
     ]
    },
    {
     "data": {
      "text/markdown": [
       "<span style='color:#c8635a'>**NNM-Sparse-FW**</span>"
      ],
      "text/plain": [
       "<IPython.core.display.Markdown object>"
      ]
     },
     "metadata": {},
     "output_type": "display_data"
    },
    {
     "data": {
      "text/markdown": [
       "<span style='color:None'>Top Factor: 99 (Contribution: 0.0651)</span>"
      ],
      "text/plain": [
       "<IPython.core.display.Markdown object>"
      ]
     },
     "metadata": {},
     "output_type": "display_data"
    },
    {
     "name": "stdout",
     "output_type": "stream",
     "text": [
      "    0.0275   Impedance of arm (right)\n",
      "    0.0160   proton pump inhibitor|PPI\n",
      "    0.0146   Whole body fat-free mass\n",
      "    0.0119   NSAID|non-steroidal anti-inflammatory drug\n",
      "    0.0113   Leg fat percentage (left)\n",
      "    0.0110   Forced expiratory volume in 1-second (FEV1), predicted\n",
      "    0.0089   corticosteroid\n",
      "    0.0087   anti-fungal\n",
      "    0.0078   Impedance of whole body\n",
      "    0.0077   Renal failure\n",
      "    0.0076   Ankle spacing width\n",
      "    0.0075   Waist circumference\n",
      "    0.0073   Hand grip strength (right)\n",
      "    0.0072   Mean arterial pressure, combined automated + manual reading\n",
      "    0.0069   doxycycline\n",
      "\n"
     ]
    },
    {
     "data": {
      "text/markdown": [
       "<span style='color:#c8635a'>**Raw Data**</span>"
      ],
      "text/plain": [
       "<IPython.core.display.Markdown object>"
      ]
     },
     "metadata": {},
     "output_type": "display_data"
    },
    {
     "data": {
      "text/markdown": [
       "<span style='color:None'>Top Factor: 91 (Contribution: 0.1055)</span>"
      ],
      "text/plain": [
       "<IPython.core.display.Markdown object>"
      ]
     },
     "metadata": {},
     "output_type": "display_data"
    },
    {
     "name": "stdout",
     "output_type": "stream",
     "text": [
      "    0.0136   Aspartate aminotransferase\n",
      "    0.0125   Platelet distribution width\n",
      "    0.0112   Alanine aminotransferase\n",
      "    0.0084   Inflammatory bowel disease and other gastroenteritis and colitis\n",
      "    0.0074   Spherical power (right)\n",
      "    0.0070   Genital prolapse\n",
      "    0.0070   Prolapse of vaginal walls\n",
      "    0.0069   Spherical power (left)\n",
      "    0.0068   N81 Female genital prolapse\n",
      "    0.0068   Open wounds of head; neck; and trunk\n",
      "    0.0063   C79 Secondary malignant neoplasm of other sites\n",
      "    0.0061   E87 Other disorders of fluid, electrolyte and acid-base balance\n",
      "    0.0061   Ulcerative colitis\n",
      "    0.0061   Electrolyte imbalance\n",
      "    0.0061   I77 Other disorders of arteries and arterioles\n",
      "\n"
     ]
    },
    {
     "data": {
      "text/markdown": [
       "<h2>Other Cerebral Degenerations</h2>"
      ],
      "text/plain": [
       "<IPython.core.display.Markdown object>"
      ]
     },
     "metadata": {},
     "output_type": "display_data"
    },
    {
     "data": {
      "text/markdown": [
       "<span style='color:#c8635a'>**RPCA-IALM**</span>"
      ],
      "text/plain": [
       "<IPython.core.display.Markdown object>"
      ]
     },
     "metadata": {},
     "output_type": "display_data"
    },
    {
     "data": {
      "text/markdown": [
       "<span style='color:None'>Top Factor: 32 (Contribution: 0.0892)</span>"
      ],
      "text/plain": [
       "<IPython.core.display.Markdown object>"
      ]
     },
     "metadata": {},
     "output_type": "display_data"
    },
    {
     "name": "stdout",
     "output_type": "stream",
     "text": [
      "    0.0219   Mean carotid IMT (intima-medial thickness) at 210 degrees\n",
      "    0.0207   Mean carotid IMT (intima-medial thickness) at 240 degrees\n",
      "    0.0195   Mean carotid IMT (intima-medial thickness) at 120 degrees\n",
      "    0.0187   Mean carotid IMT (intima-medial thickness) at 150 degrees\n",
      "    0.0165   Maximum carotid IMT (intima-medial thickness) at 210 degrees\n",
      "    0.0158   Maximum carotid IMT (intima-medial thickness) at 240 degrees\n",
      "    0.0151   Minimum carotid IMT (intima-medial thickness) at 210 degrees\n",
      "    0.0139   Minimum carotid IMT (intima-medial thickness) at 240 degrees\n",
      "    0.0138   Maximum carotid IMT (intima-medial thickness) at 120 degrees\n",
      "    0.0138   Minimum carotid IMT (intima-medial thickness) at 120 degrees\n",
      "    0.0133   Minimum carotid IMT (intima-medial thickness) at 150 degrees\n",
      "    0.0132   Maximum carotid IMT (intima-medial thickness) at 150 degrees\n",
      "    0.0097   Heart valve disorders\n",
      "    0.0093   Neutrophill percentage\n",
      "    0.0088   Nonrheumatic aortic valve disorders\n",
      "\n"
     ]
    },
    {
     "data": {
      "text/markdown": [
       "<span style='color:#c8635a'>**NNM-Sparse-FW**</span>"
      ],
      "text/plain": [
       "<IPython.core.display.Markdown object>"
      ]
     },
     "metadata": {},
     "output_type": "display_data"
    },
    {
     "data": {
      "text/markdown": [
       "<span style='color:None'>Top Factor: 76 (Contribution: 0.1215)</span>"
      ],
      "text/plain": [
       "<IPython.core.display.Markdown object>"
      ]
     },
     "metadata": {},
     "output_type": "display_data"
    },
    {
     "name": "stdout",
     "output_type": "stream",
     "text": [
      "    0.0407   Arm fat-free mass (right)\n",
      "    0.0200   corticosteroid\n",
      "    0.0140   Arm fat-free mass (left)\n",
      "    0.0105   Ankle spacing width (left)\n",
      "    0.0103   Whole body fat-free mass\n",
      "    0.0098   Coronary atherosclerosis\n",
      "    0.0097   Body fat percentage\n",
      "    0.0096   clotrimazole\n",
      "    0.0096   Arm predicted mass (right)\n",
      "    0.0093   Leg predicted mass (right)\n",
      "    0.0080   Trunk fat mass\n",
      "    0.0079   Body mass index (BMI)\n",
      "    0.0072   Forced vital capacity (FVC), Best measure\n",
      "    0.0068   Whole body water mass\n",
      "    0.0067   Arm fat percentage (left)\n",
      "\n"
     ]
    },
    {
     "data": {
      "text/markdown": [
       "<span style='color:#c8635a'>**Raw Data**</span>"
      ],
      "text/plain": [
       "<IPython.core.display.Markdown object>"
      ]
     },
     "metadata": {},
     "output_type": "display_data"
    },
    {
     "data": {
      "text/markdown": [
       "<span style='color:None'>Top Factor: 61 (Contribution: 0.1172)</span>"
      ],
      "text/plain": [
       "<IPython.core.display.Markdown object>"
      ]
     },
     "metadata": {},
     "output_type": "display_data"
    },
    {
     "name": "stdout",
     "output_type": "stream",
     "text": [
      "    0.0324   Heel bone mineral density (BMD)\n",
      "    0.0322   Heel bone mineral density (BMD) T-score, automated\n",
      "    0.0322   Heel quantitative ultrasound index (QUI), direct entry\n",
      "    0.0258   Heel Broadband ultrasound attenuation, direct entry\n",
      "    0.0139   Urate\n",
      "    0.0119   Heel bone mineral density (BMD) T-score, automated (left)\n",
      "    0.0119   Heel quantitative ultrasound index (QUI), direct entry (left)\n",
      "    0.0119   Heel broadband ultrasound attenuation (left)\n",
      "    0.0116   Heel bone mineral density (BMD) (left)\n",
      "    0.0115   Heel bone mineral density (BMD) T-score, automated (right)\n",
      "    0.0115   Heel quantitative ultrasound index (QUI), direct entry (right)\n",
      "    0.0115   Heel broadband ultrasound attenuation (right)\n",
      "    0.0114   Heel bone mineral density (BMD) (right)\n",
      "    0.0103   Cerebrovascular disease\n",
      "    0.0102   Creatinine\n",
      "\n"
     ]
    },
    {
     "data": {
      "text/markdown": [
       "<h2>Parkinson's Disease</h2>"
      ],
      "text/plain": [
       "<IPython.core.display.Markdown object>"
      ]
     },
     "metadata": {},
     "output_type": "display_data"
    },
    {
     "data": {
      "text/markdown": [
       "<span style='color:#c8635a'>**RPCA-IALM**</span>"
      ],
      "text/plain": [
       "<IPython.core.display.Markdown object>"
      ]
     },
     "metadata": {},
     "output_type": "display_data"
    },
    {
     "data": {
      "text/markdown": [
       "<span style='color:None'>Top Factor: 97 (Contribution: 0.0888)</span>"
      ],
      "text/plain": [
       "<IPython.core.display.Markdown object>"
      ]
     },
     "metadata": {},
     "output_type": "display_data"
    },
    {
     "name": "stdout",
     "output_type": "stream",
     "text": [
      "    0.0441   Psoriasis\n",
      "    0.0425   L40 Psoriasis\n",
      "    0.0403   Psoriasis and related disorders\n",
      "    0.0187   Cardiac arrest\n",
      "    0.0184   Cardiac arrest and ventricular fibrillation\n",
      "    0.0181   I46 Cardiac arrest\n",
      "    0.0117   K90 Intestinal malabsorption\n",
      "    0.0114   Intestinal malabsorption (non-celiac)\n",
      "    0.0109   Obesity\n",
      "    0.0108   E66 Obesity\n",
      "    0.0097   Overweight, obesity and other hyperalimentation\n",
      "    0.0095   Aortic aneurysm\n",
      "    0.0094   I71 Aortic aneurysm and dissection\n",
      "    0.0090   Celiac disease\n",
      "    0.0085   Noninflammatory disorders of ovary, fallopian tube, and broad ligament\n",
      "\n"
     ]
    },
    {
     "data": {
      "text/markdown": [
       "<span style='color:#c8635a'>**NNM-Sparse-FW**</span>"
      ],
      "text/plain": [
       "<IPython.core.display.Markdown object>"
      ]
     },
     "metadata": {},
     "output_type": "display_data"
    },
    {
     "data": {
      "text/markdown": [
       "<span style='color:None'>Top Factor: 70 (Contribution: 0.0852)</span>"
      ],
      "text/plain": [
       "<IPython.core.display.Markdown object>"
      ]
     },
     "metadata": {},
     "output_type": "display_data"
    },
    {
     "name": "stdout",
     "output_type": "stream",
     "text": [
      "    0.0262   Trunk fat percentage\n",
      "    0.0240   Whole body fat-free mass\n",
      "    0.0207   Leg predicted mass (left)\n",
      "    0.0201   Arm fat-free mass (left)\n",
      "    0.0172   Leg fat percentage (left)\n",
      "    0.0147   Leg fat mass (right)\n",
      "    0.0105   Leg fat mass (left)\n",
      "    0.0083   NSAID|non-steroidal anti-inflammatory drug\n",
      "    0.0079   Usual walking pace\n",
      "    0.0078   proton pump inhibitor|PPI\n",
      "    0.0073   Impedance of leg (left)\n",
      "    0.0071   Estimated glomerular filtration rate, serum creatinine + cystain C\n",
      "    0.0065   Arm fat mass (right)\n",
      "    0.0061   Diastolic blood pressure, combined automated + manual reading, adjusted by medication\n",
      "    0.0059   codine/paracetamol\n",
      "\n"
     ]
    },
    {
     "data": {
      "text/markdown": [
       "<span style='color:#c8635a'>**Raw Data**</span>"
      ],
      "text/plain": [
       "<IPython.core.display.Markdown object>"
      ]
     },
     "metadata": {},
     "output_type": "display_data"
    },
    {
     "data": {
      "text/markdown": [
       "<span style='color:None'>Top Factor: 92 (Contribution: 0.1208)</span>"
      ],
      "text/plain": [
       "<IPython.core.display.Markdown object>"
      ]
     },
     "metadata": {},
     "output_type": "display_data"
    },
    {
     "name": "stdout",
     "output_type": "stream",
     "text": [
      "    0.0149   Urinary calculus\n",
      "    0.0149   N20 Calculus of kidney and ureter\n",
      "    0.0147   Maximum heart rate during fitness test\n",
      "    0.0146   ECG, load\n",
      "    0.0146   Maximum workload during fitness test\n",
      "    0.0139   Pulse rate, automated reading\n",
      "    0.0138   ECG, heart rate\n",
      "    0.0130   ECG, number of stages in a phase\n",
      "    0.0126   Number of trend entries\n",
      "    0.0117   ECG, phase time\n",
      "    0.0110   Calculus of ureter\n",
      "    0.0102   Processed meat intake\n",
      "    0.0101   Calculus of kidney\n",
      "    0.0088   Beef intake\n",
      "    0.0080   Lamb/mutton intake\n",
      "\n"
     ]
    },
    {
     "data": {
      "text/markdown": [
       "<h2>Extrapyramidal Disease And Abnormal Movement Disorders</h2>"
      ],
      "text/plain": [
       "<IPython.core.display.Markdown object>"
      ]
     },
     "metadata": {},
     "output_type": "display_data"
    },
    {
     "data": {
      "text/markdown": [
       "<span style='color:#c8635a'>**RPCA-IALM**</span>"
      ],
      "text/plain": [
       "<IPython.core.display.Markdown object>"
      ]
     },
     "metadata": {},
     "output_type": "display_data"
    },
    {
     "data": {
      "text/markdown": [
       "<span style='color:None'>Top Factor: 68 (Contribution: 0.0752)</span>"
      ],
      "text/plain": [
       "<IPython.core.display.Markdown object>"
      ]
     },
     "metadata": {},
     "output_type": "display_data"
    },
    {
     "name": "stdout",
     "output_type": "stream",
     "text": [
      "    0.0221   Prolapse of vaginal walls\n",
      "    0.0212   Genital prolapse\n",
      "    0.0210   N81 Female genital prolapse\n",
      "    0.0119   Platelet count\n",
      "    0.0116   Albumin\n",
      "    0.0114   Primary/intrinsic cardiomyopathies\n",
      "    0.0114   I42 Cardiomyopathy\n",
      "    0.0106   Cardiomyopathy\n",
      "    0.0097   Saturated fat\n",
      "    0.0097   Lymphocyte count\n",
      "    0.0096   Eosinophill percentage\n",
      "    0.0089   Fat\n",
      "    0.0085   Polyp of corpus uteri\n",
      "    0.0085   Total thigh muscle volume\n",
      "    0.0084   N84 Polyp of female genital tract\n",
      "\n"
     ]
    },
    {
     "data": {
      "text/markdown": [
       "<span style='color:#c8635a'>**NNM-Sparse-FW**</span>"
      ],
      "text/plain": [
       "<IPython.core.display.Markdown object>"
      ]
     },
     "metadata": {},
     "output_type": "display_data"
    },
    {
     "data": {
      "text/markdown": [
       "<span style='color:None'>Top Factor: 95 (Contribution: 0.0865)</span>"
      ],
      "text/plain": [
       "<IPython.core.display.Markdown object>"
      ]
     },
     "metadata": {},
     "output_type": "display_data"
    },
    {
     "name": "stdout",
     "output_type": "stream",
     "text": [
      "    0.0408   Trunk fat-free mass\n",
      "    0.0198   Trunk predicted mass\n",
      "    0.0149   Leg fat mass (right)\n",
      "    0.0139   Leg fat-free mass (right)\n",
      "    0.0126   tetracycline antibiotic|antibiotic\n",
      "    0.0112   E66 Obesity\n",
      "    0.0111   Impedance of leg (left)\n",
      "    0.0093   Reticulocyte percentage\n",
      "    0.0091   Body mass index (BMI)\n",
      "    0.0090   Arm predicted mass (right)\n",
      "    0.0087   selective serotonin re-uptake inhibitor|SSRI\n",
      "    0.0086   Non-cancer illness code, self-reported\n",
      "    0.0084   simvastatin\n",
      "    0.0078   Impedance of whole body\n",
      "    0.0072   High light scatter reticulocyte count\n",
      "\n"
     ]
    },
    {
     "data": {
      "text/markdown": [
       "<span style='color:#c8635a'>**Raw Data**</span>"
      ],
      "text/plain": [
       "<IPython.core.display.Markdown object>"
      ]
     },
     "metadata": {},
     "output_type": "display_data"
    },
    {
     "data": {
      "text/markdown": [
       "<span style='color:None'>Top Factor: 95 (Contribution: 0.0773)</span>"
      ],
      "text/plain": [
       "<IPython.core.display.Markdown object>"
      ]
     },
     "metadata": {},
     "output_type": "display_data"
    },
    {
     "name": "stdout",
     "output_type": "stream",
     "text": [
      "    0.0487   Sebaceous cyst\n",
      "    0.0484   Diseases of sebaceous glands\n",
      "    0.0473   L72 Follicular cysts of skin and subcutaneous tissue\n",
      "    0.0373   Diseases of hair and hair follicles\n",
      "    0.0088   IGF-1\n",
      "    0.0086   Acquired foot deformities\n",
      "    0.0084   M20 Acquired deformities of fingers and toes\n",
      "    0.0078   Sodium in urine\n",
      "    0.0071   Acquired toe deformities\n",
      "    0.0068   FEV1/FVC ratio\n",
      "    0.0067   Urea\n",
      "    0.0067   Cancer of bladder\n",
      "    0.0065   C67 Malignant neoplasm of bladder\n",
      "    0.0065   Malignant neoplasm of bladder\n",
      "    0.0064   Cystitis\n",
      "\n"
     ]
    },
    {
     "data": {
      "text/markdown": [
       "<h2>Degenerative Disease Of The Spinal Cord</h2>"
      ],
      "text/plain": [
       "<IPython.core.display.Markdown object>"
      ]
     },
     "metadata": {},
     "output_type": "display_data"
    },
    {
     "data": {
      "text/markdown": [
       "<span style='color:#c8635a'>**RPCA-IALM**</span>"
      ],
      "text/plain": [
       "<IPython.core.display.Markdown object>"
      ]
     },
     "metadata": {},
     "output_type": "display_data"
    },
    {
     "data": {
      "text/markdown": [
       "<span style='color:None'>Top Factor: 62 (Contribution: 0.0881)</span>"
      ],
      "text/plain": [
       "<IPython.core.display.Markdown object>"
      ]
     },
     "metadata": {},
     "output_type": "display_data"
    },
    {
     "name": "stdout",
     "output_type": "stream",
     "text": [
      "    0.0405   Other vitamin B12 deficiency anemia\n",
      "    0.0405   D51 Vitamin B12 deficiency anaemia\n",
      "    0.0340   Megaloblastic anemia\n",
      "    0.0315   Other deficiency anemia\n",
      "    0.0202   Intervertebral disc disorders\n",
      "    0.0195   G55 Nerve root and plexus compressions in diseases classified elsewhere\n",
      "    0.0189   Other and unspecified disc disorder\n",
      "    0.0181   Nerve root and plexus disorders\n",
      "    0.0163   Contracture of palmar fascia [Dupuytren's disease]\n",
      "    0.0157   Disorders of muscle, ligament, and fascia\n",
      "    0.0146   Fasciitis\n",
      "    0.0117   M51 Other intervertebral disk disorders\n",
      "    0.0103   M72 Fibroblastic disorders\n",
      "    0.0097   Non-albumin protein\n",
      "    0.0084   Eosinophill percentage\n",
      "\n"
     ]
    },
    {
     "data": {
      "text/markdown": [
       "<span style='color:#c8635a'>**NNM-Sparse-FW**</span>"
      ],
      "text/plain": [
       "<IPython.core.display.Markdown object>"
      ]
     },
     "metadata": {},
     "output_type": "display_data"
    },
    {
     "data": {
      "text/markdown": [
       "<span style='color:None'>Top Factor: 98 (Contribution: 0.0866)</span>"
      ],
      "text/plain": [
       "<IPython.core.display.Markdown object>"
      ]
     },
     "metadata": {},
     "output_type": "display_data"
    },
    {
     "name": "stdout",
     "output_type": "stream",
     "text": [
      "    0.0240   Leg predicted mass (right)\n",
      "    0.0211   Arm fat percentage (right)\n",
      "    0.0197   Waist circumference\n",
      "    0.0146   Impedance of leg (left)\n",
      "    0.0115   Leg fat-free mass (left)\n",
      "    0.0113   Arm fat-free mass (left)\n",
      "    0.0112   Overall health rating\n",
      "    0.0108   opioid analgesic|antipyretic\n",
      "    0.0105   Leg fat mass (right)\n",
      "    0.0101   Arm fat percentage (left)\n",
      "    0.0089   antispasmodic\n",
      "    0.0088   Hip circumference\n",
      "    0.0085   Trunk predicted mass\n",
      "    0.0084   Arm predicted mass (left)\n",
      "    0.0082   Whole body fat-free mass\n",
      "\n"
     ]
    },
    {
     "data": {
      "text/markdown": [
       "<span style='color:#c8635a'>**Raw Data**</span>"
      ],
      "text/plain": [
       "<IPython.core.display.Markdown object>"
      ]
     },
     "metadata": {},
     "output_type": "display_data"
    },
    {
     "data": {
      "text/markdown": [
       "<span style='color:None'>Top Factor: 68 (Contribution: 0.0984)</span>"
      ],
      "text/plain": [
       "<IPython.core.display.Markdown object>"
      ]
     },
     "metadata": {},
     "output_type": "display_data"
    },
    {
     "name": "stdout",
     "output_type": "stream",
     "text": [
      "    0.0098   Corneal hysteresis (right)\n",
      "    0.0095   Corneal hysteresis (left)\n",
      "    0.0094   Intra-ocular pressure, corneal-compensated (left)\n",
      "    0.0092   I35 Nonrheumatic aortic valve disorders\n",
      "    0.0092   Intra-ocular pressure, corneal-compensated (right)\n",
      "    0.0091   Nonrheumatic aortic valve disorders\n",
      "    0.0079   Alkaline phosphatase\n",
      "    0.0075   Congenital anomalies of great vessels\n",
      "    0.0075   Intervertebral disc disorders\n",
      "    0.0072   3mm strong meridian angle (left)\n",
      "    0.0072   Osteoporosis\n",
      "    0.0072   Osteoporosis NOS\n",
      "    0.0071   Aortic aneurysm\n",
      "    0.0070   I71 Aortic aneurysm and dissection\n",
      "    0.0070   Other and unspecified disc disorder\n",
      "\n"
     ]
    },
    {
     "data": {
      "text/markdown": [
       "<h2>Multiple Sclerosis</h2>"
      ],
      "text/plain": [
       "<IPython.core.display.Markdown object>"
      ]
     },
     "metadata": {},
     "output_type": "display_data"
    },
    {
     "data": {
      "text/markdown": [
       "<span style='color:#c8635a'>**RPCA-IALM**</span>"
      ],
      "text/plain": [
       "<IPython.core.display.Markdown object>"
      ]
     },
     "metadata": {},
     "output_type": "display_data"
    },
    {
     "data": {
      "text/markdown": [
       "<span style='color:None'>Top Factor: 74 (Contribution: 0.0911)</span>"
      ],
      "text/plain": [
       "<IPython.core.display.Markdown object>"
      ]
     },
     "metadata": {},
     "output_type": "display_data"
    },
    {
     "name": "stdout",
     "output_type": "stream",
     "text": [
      "    0.0203   Inflammatory bowel disease and other gastroenteritis and colitis\n",
      "    0.0168   Ulcerative colitis\n",
      "    0.0164   K51 Ulcerative colitis\n",
      "    0.0120   Albumin\n",
      "    0.0119   Dental caries\n",
      "    0.0117   Total protein\n",
      "    0.0113   K02 Dental caries\n",
      "    0.0112   Diseases of hard tissues of teeth\n",
      "    0.0107   Aortic aneurysm\n",
      "    0.0103   I71 Aortic aneurysm and dissection\n",
      "    0.0096   Appendicitis\n",
      "    0.0095   Acute appendicitis\n",
      "    0.0093   Regional enteritis\n",
      "    0.0092   K50 Crohn's disease [regional enteritis]\n",
      "    0.0090   Platelet count\n",
      "\n"
     ]
    },
    {
     "data": {
      "text/markdown": [
       "<span style='color:#c8635a'>**NNM-Sparse-FW**</span>"
      ],
      "text/plain": [
       "<IPython.core.display.Markdown object>"
      ]
     },
     "metadata": {},
     "output_type": "display_data"
    },
    {
     "data": {
      "text/markdown": [
       "<span style='color:None'>Top Factor: 65 (Contribution: 0.0684)</span>"
      ],
      "text/plain": [
       "<IPython.core.display.Markdown object>"
      ]
     },
     "metadata": {},
     "output_type": "display_data"
    },
    {
     "name": "stdout",
     "output_type": "stream",
     "text": [
      "    0.0205   Leg fat mass (left)\n",
      "    0.0158   Forced expiratory volume in 1-second (FEV1), predicted\n",
      "    0.0104   Impedance of whole body\n",
      "    0.0095   flucloxacillin\n",
      "    0.0082   Arm predicted mass (right)\n",
      "    0.0077   Arm fat percentage (left)\n",
      "    0.0076   Essential hypertension\n",
      "    0.0073   Overweight, obesity and other hyperalimentation\n",
      "    0.0073   Basal metabolic rate\n",
      "    0.0073   Sitting height\n",
      "    0.0073   bendroflumethiazide\n",
      "    0.0070   Forced expiratory volume in 1-second (FEV1), Best measure\n",
      "    0.0067   Trunk fat mass\n",
      "    0.0067   Leg fat-free mass (left)\n",
      "    0.0065   atorvastatin\n",
      "\n"
     ]
    },
    {
     "data": {
      "text/markdown": [
       "<span style='color:#c8635a'>**Raw Data**</span>"
      ],
      "text/plain": [
       "<IPython.core.display.Markdown object>"
      ]
     },
     "metadata": {},
     "output_type": "display_data"
    },
    {
     "data": {
      "text/markdown": [
       "<span style='color:None'>Top Factor: 77 (Contribution: 0.0818)</span>"
      ],
      "text/plain": [
       "<IPython.core.display.Markdown object>"
      ]
     },
     "metadata": {},
     "output_type": "display_data"
    },
    {
     "name": "stdout",
     "output_type": "stream",
     "text": [
      "    0.0424   Contracture of palmar fascia [Dupuytren's disease]\n",
      "    0.0416   Disorders of muscle, ligament, and fascia\n",
      "    0.0413   Fasciitis\n",
      "    0.0344   M72 Fibroblastic disorders\n",
      "    0.0276   ECG, number of stages in a phase\n",
      "    0.0267   ECG, load\n",
      "    0.0264   Maximum workload during fitness test\n",
      "    0.0229   Number of trend entries\n",
      "    0.0226   ECG, phase time\n",
      "    0.0129   Corneal hysteresis (left)\n",
      "    0.0129   Corneal hysteresis (right)\n",
      "    0.0118   Duration of fitness test\n",
      "    0.0077   Getting up in morning\n",
      "    0.0075   Corneal resistance factor (left)\n",
      "    0.0073   Corneal resistance factor (right)\n",
      "\n"
     ]
    },
    {
     "data": {
      "text/markdown": [
       "<h2>Other Headache Syndromes</h2>"
      ],
      "text/plain": [
       "<IPython.core.display.Markdown object>"
      ]
     },
     "metadata": {},
     "output_type": "display_data"
    },
    {
     "data": {
      "text/markdown": [
       "<span style='color:#c8635a'>**RPCA-IALM**</span>"
      ],
      "text/plain": [
       "<IPython.core.display.Markdown object>"
      ]
     },
     "metadata": {},
     "output_type": "display_data"
    },
    {
     "data": {
      "text/markdown": [
       "<span style='color:None'>Top Factor: 92 (Contribution: 0.0529)</span>"
      ],
      "text/plain": [
       "<IPython.core.display.Markdown object>"
      ]
     },
     "metadata": {},
     "output_type": "display_data"
    },
    {
     "name": "stdout",
     "output_type": "stream",
     "text": [
      "    0.0288   Varicose veins of lower extremity\n",
      "    0.0265   Varicose veins\n",
      "    0.0247   I83 Varicose veins of lower extremities\n",
      "    0.0180   Acquired foot deformities\n",
      "    0.0176   M20 Acquired deformities of fingers and toes\n",
      "    0.0154   Other non-epithelial cancer of skin\n",
      "    0.0148   C44 Other malignant neoplasms of skin\n",
      "    0.0143   Skin cancer\n",
      "    0.0118   Aortic aneurysm\n",
      "    0.0117   I71 Aortic aneurysm and dissection\n",
      "    0.0105   R06 Abnormalities of breathing\n",
      "    0.0103   Hallux valgus (Bunion)\n",
      "    0.0102   Respiratory abnormalities\n",
      "    0.0091   Macular degeneration (senile) of retina NOS\n",
      "    0.0090   Degeneration of macula and posterior pole of retina\n",
      "\n"
     ]
    },
    {
     "data": {
      "text/markdown": [
       "<span style='color:#c8635a'>**NNM-Sparse-FW**</span>"
      ],
      "text/plain": [
       "<IPython.core.display.Markdown object>"
      ]
     },
     "metadata": {},
     "output_type": "display_data"
    },
    {
     "data": {
      "text/markdown": [
       "<span style='color:None'>Top Factor: 48 (Contribution: 0.0612)</span>"
      ],
      "text/plain": [
       "<IPython.core.display.Markdown object>"
      ]
     },
     "metadata": {},
     "output_type": "display_data"
    },
    {
     "name": "stdout",
     "output_type": "stream",
     "text": [
      "    0.0247   Weight\n",
      "    0.0190   Whole body water mass\n",
      "    0.0134   Trunk fat mass\n",
      "    0.0132   Age at first live birth\n",
      "    0.0128   Weight\n",
      "    0.0123   Arm fat-free mass (left)\n",
      "    0.0119   Overweight, obesity and other hyperalimentation\n",
      "    0.0112   Body mass index (BMI)\n",
      "    0.0108   Leg fat percentage (right)\n",
      "    0.0089   Hip circumference\n",
      "    0.0088   Leg fat-free mass (right)\n",
      "    0.0081   Trunk predicted mass\n",
      "    0.0064   aspirin\n",
      "    0.0064   Leg fat-free mass (left)\n",
      "    0.0063   sodium alginate / potassium bicarbonate\n",
      "\n"
     ]
    },
    {
     "data": {
      "text/markdown": [
       "<span style='color:#c8635a'>**Raw Data**</span>"
      ],
      "text/plain": [
       "<IPython.core.display.Markdown object>"
      ]
     },
     "metadata": {},
     "output_type": "display_data"
    },
    {
     "data": {
      "text/markdown": [
       "<span style='color:None'>Top Factor: 56 (Contribution: 0.1011)</span>"
      ],
      "text/plain": [
       "<IPython.core.display.Markdown object>"
      ]
     },
     "metadata": {},
     "output_type": "display_data"
    },
    {
     "name": "stdout",
     "output_type": "stream",
     "text": [
      "    0.0227   Alkaline phosphatase\n",
      "    0.0134   Red blood cell (erythrocyte) distribution width\n",
      "    0.0104   Albumin\n",
      "    0.0079   Alanine aminotransferase\n",
      "    0.0077   Estimated glomerular filtration rate, serum creatinine + cystain C\n",
      "    0.0072   Other disorders of bladder\n",
      "    0.0071   Aspartate aminotransferase\n",
      "    0.0071   Other retinal disorders\n",
      "    0.0065   Cystatin C\n",
      "    0.0064   N32 Other disorders of bladder\n",
      "    0.0062   Calcium\n",
      "    0.0061   Gamma glutamyltransferase\n",
      "    0.0057   Diabetic retinopathy\n",
      "    0.0057   Hereditary retinal dystrophies\n",
      "    0.0057   H36 Retinal disorders in diseases classified elsewhere\n",
      "\n"
     ]
    },
    {
     "data": {
      "text/markdown": [
       "<h2>Migraine</h2>"
      ],
      "text/plain": [
       "<IPython.core.display.Markdown object>"
      ]
     },
     "metadata": {},
     "output_type": "display_data"
    },
    {
     "data": {
      "text/markdown": [
       "<span style='color:#c8635a'>**RPCA-IALM**</span>"
      ],
      "text/plain": [
       "<IPython.core.display.Markdown object>"
      ]
     },
     "metadata": {},
     "output_type": "display_data"
    },
    {
     "data": {
      "text/markdown": [
       "<span style='color:None'>Top Factor: 80 (Contribution: 0.0772)</span>"
      ],
      "text/plain": [
       "<IPython.core.display.Markdown object>"
      ]
     },
     "metadata": {},
     "output_type": "display_data"
    },
    {
     "name": "stdout",
     "output_type": "stream",
     "text": [
      "    0.0312   Appendicitis\n",
      "    0.0307   Acute appendicitis\n",
      "    0.0287   Appendiceal conditions\n",
      "    0.0284   K35 Acute appendicitis\n",
      "    0.0208   Sebaceous cyst\n",
      "    0.0203   Diseases of sebaceous glands\n",
      "    0.0186   L72 Follicular cysts of skin and subcutaneous tissue\n",
      "    0.0140   Contracture of palmar fascia [Dupuytren's disease]\n",
      "    0.0134   Disorders of muscle, ligament, and fascia\n",
      "    0.0133   Iron deficiency anemias, unspecified or not due to blood loss\n",
      "    0.0133   Iron deficiency anemias\n",
      "    0.0121   Fasciitis\n",
      "    0.0118   D50 Iron deficiency anaemia\n",
      "    0.0115   Home location - north co-ordinate (rounded)\n",
      "    0.0113   Home location at assessment - north co-ordinate (rounded)\n",
      "\n"
     ]
    },
    {
     "data": {
      "text/markdown": [
       "<span style='color:#c8635a'>**NNM-Sparse-FW**</span>"
      ],
      "text/plain": [
       "<IPython.core.display.Markdown object>"
      ]
     },
     "metadata": {},
     "output_type": "display_data"
    },
    {
     "data": {
      "text/markdown": [
       "<span style='color:None'>Top Factor: 100 (Contribution: 0.0520)</span>"
      ],
      "text/plain": [
       "<IPython.core.display.Markdown object>"
      ]
     },
     "metadata": {},
     "output_type": "display_data"
    },
    {
     "name": "stdout",
     "output_type": "stream",
     "text": [
      "    0.0150   Impedance of arm (left)\n",
      "    0.0145   Apolipoprotein A\n",
      "    0.0134   Overweight, obesity and other hyperalimentation\n",
      "    0.0119   Hand grip strength (right)\n",
      "    0.0117   Weight\n",
      "    0.0108   corticosteroid\n",
      "    0.0107   Impedance of leg (left)\n",
      "    0.0102   Leg predicted mass (right)\n",
      "    0.0096   Basal metabolic rate\n",
      "    0.0096   Maximum workload during fitness test\n",
      "    0.0094   Forced vital capacity (FVC)\n",
      "    0.0077   Ankle spacing width\n",
      "    0.0075   antispasmodic\n",
      "    0.0070   Peak expiratory flow (PEF)\n",
      "    0.0064   Renal failure\n",
      "\n"
     ]
    },
    {
     "data": {
      "text/markdown": [
       "<span style='color:#c8635a'>**Raw Data**</span>"
      ],
      "text/plain": [
       "<IPython.core.display.Markdown object>"
      ]
     },
     "metadata": {},
     "output_type": "display_data"
    },
    {
     "data": {
      "text/markdown": [
       "<span style='color:None'>Top Factor: 56 (Contribution: 0.0774)</span>"
      ],
      "text/plain": [
       "<IPython.core.display.Markdown object>"
      ]
     },
     "metadata": {},
     "output_type": "display_data"
    },
    {
     "name": "stdout",
     "output_type": "stream",
     "text": [
      "    0.0227   Alkaline phosphatase\n",
      "    0.0134   Red blood cell (erythrocyte) distribution width\n",
      "    0.0104   Albumin\n",
      "    0.0079   Alanine aminotransferase\n",
      "    0.0077   Estimated glomerular filtration rate, serum creatinine + cystain C\n",
      "    0.0072   Other disorders of bladder\n",
      "    0.0071   Aspartate aminotransferase\n",
      "    0.0071   Other retinal disorders\n",
      "    0.0065   Cystatin C\n",
      "    0.0064   N32 Other disorders of bladder\n",
      "    0.0062   Calcium\n",
      "    0.0061   Gamma glutamyltransferase\n",
      "    0.0057   Diabetic retinopathy\n",
      "    0.0057   Hereditary retinal dystrophies\n",
      "    0.0057   H36 Retinal disorders in diseases classified elsewhere\n",
      "\n"
     ]
    },
    {
     "data": {
      "text/markdown": [
       "<h2>Hemiplegia</h2>"
      ],
      "text/plain": [
       "<IPython.core.display.Markdown object>"
      ]
     },
     "metadata": {},
     "output_type": "display_data"
    },
    {
     "data": {
      "text/markdown": [
       "<span style='color:#c8635a'>**RPCA-IALM**</span>"
      ],
      "text/plain": [
       "<IPython.core.display.Markdown object>"
      ]
     },
     "metadata": {},
     "output_type": "display_data"
    },
    {
     "data": {
      "text/markdown": [
       "<span style='color:None'>Top Factor: 50 (Contribution: 0.1700)</span>"
      ],
      "text/plain": [
       "<IPython.core.display.Markdown object>"
      ]
     },
     "metadata": {},
     "output_type": "display_data"
    },
    {
     "name": "stdout",
     "output_type": "stream",
     "text": [
      "    0.0225   I35 Nonrheumatic aortic valve disorders\n",
      "    0.0224   Nonrheumatic aortic valve disorders\n",
      "    0.0149   Late effects of cerebrovascular disease\n",
      "    0.0145   I69 Sequelae of cerebrovascular disease\n",
      "    0.0142   Cerebrovascular disease\n",
      "    0.0142   Congenital anomalies of great vessels\n",
      "    0.0131   Cardiac congenital anomalies\n",
      "    0.0123   Suicide or self-inflicted injury\n",
      "    0.0119   Heart valve disorders\n",
      "    0.0117   X61 Intentional self-poisoning by and exposure to antiepileptic, sedative-hypnotic, anti-Parkinsonism and psychotropic drugs, not elsewhere classified\n",
      "    0.0117   Hemiplegia\n",
      "    0.0115   G81 Hemiplegia\n",
      "    0.0114   Suicidal ideation or attempt\n",
      "    0.0114   T51 Toxic effect of alcohol\n",
      "    0.0114   Toxic effect of (non-ethyl) alcohol and petroleum and other solvents\n",
      "\n"
     ]
    },
    {
     "data": {
      "text/markdown": [
       "<span style='color:#c8635a'>**NNM-Sparse-FW**</span>"
      ],
      "text/plain": [
       "<IPython.core.display.Markdown object>"
      ]
     },
     "metadata": {},
     "output_type": "display_data"
    },
    {
     "data": {
      "text/markdown": [
       "<span style='color:None'>Top Factor: 25 (Contribution: 0.0582)</span>"
      ],
      "text/plain": [
       "<IPython.core.display.Markdown object>"
      ]
     },
     "metadata": {},
     "output_type": "display_data"
    },
    {
     "name": "stdout",
     "output_type": "stream",
     "text": [
      "    0.0297   Obesity\n",
      "    0.0293   E66 Obesity\n",
      "    0.0172   Overweight, obesity and other hyperalimentation\n",
      "    0.0159   Leg fat mass (left)\n",
      "    0.0155   Pulse pressure, automated reading, adjusted by medication\n",
      "    0.0134   Estimated glomerular filtration rate, serum creatinine + cystain C\n",
      "    0.0128   Seating box height\n",
      "    0.0127   Pulse pressure, combined automated + manual reading, adjusted by medication\n",
      "    0.0127   Coronary atherosclerosis\n",
      "    0.0118   Pulse pressure, combined automated + manual reading\n",
      "    0.0106   Sitting height\n",
      "    0.0105   HMG CoA reductase inhibitor|statin\n",
      "    0.0102   lansoprazole\n",
      "    0.0099   Trunk fat percentage\n",
      "    0.0095   Whole body fat mass\n",
      "\n"
     ]
    },
    {
     "data": {
      "text/markdown": [
       "<span style='color:#c8635a'>**Raw Data**</span>"
      ],
      "text/plain": [
       "<IPython.core.display.Markdown object>"
      ]
     },
     "metadata": {},
     "output_type": "display_data"
    },
    {
     "data": {
      "text/markdown": [
       "<span style='color:None'>Top Factor: 64 (Contribution: 0.2000)</span>"
      ],
      "text/plain": [
       "<IPython.core.display.Markdown object>"
      ]
     },
     "metadata": {},
     "output_type": "display_data"
    },
    {
     "name": "stdout",
     "output_type": "stream",
     "text": [
      "    0.0165   Cerebrovascular disease\n",
      "    0.0127   SHBG\n",
      "    0.0124   Acute pulmonary heart disease\n",
      "    0.0124   Pulmonary embolism and infarction, acute\n",
      "    0.0123   I26 Pulmonary embolism\n",
      "    0.0113   Pulmonary heart disease\n",
      "    0.0104   Breast cancer [female]\n",
      "    0.0103   Late effects of cerebrovascular disease\n",
      "    0.0103   Breast cancer\n",
      "    0.0100   I69 Sequelae of cerebrovascular disease\n",
      "    0.0099   Cerebral ischemia\n",
      "    0.0097   Malignant neoplasm of female breast\n",
      "    0.0095   C50 Malignant neoplasm of breast\n",
      "    0.0093   Hemiplegia\n",
      "    0.0092   Occlusion of cerebral arteries\n",
      "\n"
     ]
    },
    {
     "data": {
      "text/markdown": [
       "<h2>Epilepsy, Recurrent Seizures, Convulsions</h2>"
      ],
      "text/plain": [
       "<IPython.core.display.Markdown object>"
      ]
     },
     "metadata": {},
     "output_type": "display_data"
    },
    {
     "data": {
      "text/markdown": [
       "<span style='color:#c8635a'>**RPCA-IALM**</span>"
      ],
      "text/plain": [
       "<IPython.core.display.Markdown object>"
      ]
     },
     "metadata": {},
     "output_type": "display_data"
    },
    {
     "data": {
      "text/markdown": [
       "<span style='color:None'>Top Factor: 98 (Contribution: 0.0502)</span>"
      ],
      "text/plain": [
       "<IPython.core.display.Markdown object>"
      ]
     },
     "metadata": {},
     "output_type": "display_data"
    },
    {
     "name": "stdout",
     "output_type": "stream",
     "text": [
      "    0.0171   Platelet count\n",
      "    0.0121   Eosinophill count\n",
      "    0.0101   Polyp of corpus uteri\n",
      "    0.0099   R06 Abnormalities of breathing\n",
      "    0.0098   N84 Polyp of female genital tract\n",
      "    0.0097   Respiratory abnormalities\n",
      "    0.0093   Polyp of female genital organs\n",
      "    0.0091   I71 Aortic aneurysm and dissection\n",
      "    0.0089   Aortic aneurysm\n",
      "    0.0083   Platelet crit\n",
      "    0.0083   Eosinophill percentage\n",
      "    0.0074   Bundle branch block\n",
      "    0.0071   Purpura and other hemorrhagic conditions\n",
      "    0.0070   Cardiac conduction disorders\n",
      "    0.0070   D69 Purpura and other haemorrhagic conditions\n",
      "\n"
     ]
    },
    {
     "data": {
      "text/markdown": [
       "<span style='color:#c8635a'>**NNM-Sparse-FW**</span>"
      ],
      "text/plain": [
       "<IPython.core.display.Markdown object>"
      ]
     },
     "metadata": {},
     "output_type": "display_data"
    },
    {
     "data": {
      "text/markdown": [
       "<span style='color:None'>Top Factor: 96 (Contribution: 0.1166)</span>"
      ],
      "text/plain": [
       "<IPython.core.display.Markdown object>"
      ]
     },
     "metadata": {},
     "output_type": "display_data"
    },
    {
     "name": "stdout",
     "output_type": "stream",
     "text": [
      "    0.0249   Ankle spacing width (right)\n",
      "    0.0187   Impedance of leg (left)\n",
      "    0.0154   proton pump inhibitor|PPI\n",
      "    0.0153   Angina pectoris\n",
      "    0.0143   Whole body fat-free mass\n",
      "    0.0134   Non-cancer illness code, self-reported\n",
      "    0.0127   benzodiazepine|sedative|anxiety\n",
      "    0.0115   Ischemic Heart Disease\n",
      "    0.0111   Sitting height\n",
      "    0.0088   Leg predicted mass (left)\n",
      "    0.0088   Seated height\n",
      "    0.0085   Leg fat mass (left)\n",
      "    0.0084   Peak expiratory flow (PEF)\n",
      "    0.0072   Arm predicted mass (right)\n",
      "    0.0070   Age at first live birth\n",
      "\n"
     ]
    },
    {
     "data": {
      "text/markdown": [
       "<span style='color:#c8635a'>**Raw Data**</span>"
      ],
      "text/plain": [
       "<IPython.core.display.Markdown object>"
      ]
     },
     "metadata": {},
     "output_type": "display_data"
    },
    {
     "data": {
      "text/markdown": [
       "<span style='color:None'>Top Factor: 64 (Contribution: 0.1090)</span>"
      ],
      "text/plain": [
       "<IPython.core.display.Markdown object>"
      ]
     },
     "metadata": {},
     "output_type": "display_data"
    },
    {
     "name": "stdout",
     "output_type": "stream",
     "text": [
      "    0.0165   Cerebrovascular disease\n",
      "    0.0127   SHBG\n",
      "    0.0124   Acute pulmonary heart disease\n",
      "    0.0124   Pulmonary embolism and infarction, acute\n",
      "    0.0123   I26 Pulmonary embolism\n",
      "    0.0113   Pulmonary heart disease\n",
      "    0.0104   Breast cancer [female]\n",
      "    0.0103   Late effects of cerebrovascular disease\n",
      "    0.0103   Breast cancer\n",
      "    0.0100   I69 Sequelae of cerebrovascular disease\n",
      "    0.0099   Cerebral ischemia\n",
      "    0.0097   Malignant neoplasm of female breast\n",
      "    0.0095   C50 Malignant neoplasm of breast\n",
      "    0.0093   Hemiplegia\n",
      "    0.0092   Occlusion of cerebral arteries\n",
      "\n"
     ]
    },
    {
     "data": {
      "text/markdown": [
       "<h2>Epilepsy</h2>"
      ],
      "text/plain": [
       "<IPython.core.display.Markdown object>"
      ]
     },
     "metadata": {},
     "output_type": "display_data"
    },
    {
     "data": {
      "text/markdown": [
       "<span style='color:#c8635a'>**RPCA-IALM**</span>"
      ],
      "text/plain": [
       "<IPython.core.display.Markdown object>"
      ]
     },
     "metadata": {},
     "output_type": "display_data"
    },
    {
     "data": {
      "text/markdown": [
       "<span style='color:None'>Top Factor: 98 (Contribution: 0.0738)</span>"
      ],
      "text/plain": [
       "<IPython.core.display.Markdown object>"
      ]
     },
     "metadata": {},
     "output_type": "display_data"
    },
    {
     "name": "stdout",
     "output_type": "stream",
     "text": [
      "    0.0171   Platelet count\n",
      "    0.0121   Eosinophill count\n",
      "    0.0101   Polyp of corpus uteri\n",
      "    0.0099   R06 Abnormalities of breathing\n",
      "    0.0098   N84 Polyp of female genital tract\n",
      "    0.0097   Respiratory abnormalities\n",
      "    0.0093   Polyp of female genital organs\n",
      "    0.0091   I71 Aortic aneurysm and dissection\n",
      "    0.0089   Aortic aneurysm\n",
      "    0.0083   Platelet crit\n",
      "    0.0083   Eosinophill percentage\n",
      "    0.0074   Bundle branch block\n",
      "    0.0071   Purpura and other hemorrhagic conditions\n",
      "    0.0070   Cardiac conduction disorders\n",
      "    0.0070   D69 Purpura and other haemorrhagic conditions\n",
      "\n"
     ]
    },
    {
     "data": {
      "text/markdown": [
       "<span style='color:#c8635a'>**NNM-Sparse-FW**</span>"
      ],
      "text/plain": [
       "<IPython.core.display.Markdown object>"
      ]
     },
     "metadata": {},
     "output_type": "display_data"
    },
    {
     "data": {
      "text/markdown": [
       "<span style='color:None'>Top Factor: 96 (Contribution: 0.1300)</span>"
      ],
      "text/plain": [
       "<IPython.core.display.Markdown object>"
      ]
     },
     "metadata": {},
     "output_type": "display_data"
    },
    {
     "name": "stdout",
     "output_type": "stream",
     "text": [
      "    0.0249   Ankle spacing width (right)\n",
      "    0.0187   Impedance of leg (left)\n",
      "    0.0154   proton pump inhibitor|PPI\n",
      "    0.0153   Angina pectoris\n",
      "    0.0143   Whole body fat-free mass\n",
      "    0.0134   Non-cancer illness code, self-reported\n",
      "    0.0127   benzodiazepine|sedative|anxiety\n",
      "    0.0115   Ischemic Heart Disease\n",
      "    0.0111   Sitting height\n",
      "    0.0088   Leg predicted mass (left)\n",
      "    0.0088   Seated height\n",
      "    0.0085   Leg fat mass (left)\n",
      "    0.0084   Peak expiratory flow (PEF)\n",
      "    0.0072   Arm predicted mass (right)\n",
      "    0.0070   Age at first live birth\n",
      "\n"
     ]
    },
    {
     "data": {
      "text/markdown": [
       "<span style='color:#c8635a'>**Raw Data**</span>"
      ],
      "text/plain": [
       "<IPython.core.display.Markdown object>"
      ]
     },
     "metadata": {},
     "output_type": "display_data"
    },
    {
     "data": {
      "text/markdown": [
       "<span style='color:None'>Top Factor: 61 (Contribution: 0.0849)</span>"
      ],
      "text/plain": [
       "<IPython.core.display.Markdown object>"
      ]
     },
     "metadata": {},
     "output_type": "display_data"
    },
    {
     "name": "stdout",
     "output_type": "stream",
     "text": [
      "    0.0324   Heel bone mineral density (BMD)\n",
      "    0.0322   Heel bone mineral density (BMD) T-score, automated\n",
      "    0.0322   Heel quantitative ultrasound index (QUI), direct entry\n",
      "    0.0258   Heel Broadband ultrasound attenuation, direct entry\n",
      "    0.0139   Urate\n",
      "    0.0119   Heel bone mineral density (BMD) T-score, automated (left)\n",
      "    0.0119   Heel quantitative ultrasound index (QUI), direct entry (left)\n",
      "    0.0119   Heel broadband ultrasound attenuation (left)\n",
      "    0.0116   Heel bone mineral density (BMD) (left)\n",
      "    0.0115   Heel bone mineral density (BMD) T-score, automated (right)\n",
      "    0.0115   Heel quantitative ultrasound index (QUI), direct entry (right)\n",
      "    0.0115   Heel broadband ultrasound attenuation (right)\n",
      "    0.0114   Heel bone mineral density (BMD) (right)\n",
      "    0.0103   Cerebrovascular disease\n",
      "    0.0102   Creatinine\n",
      "\n"
     ]
    }
   ],
   "source": [
    "for z in range(520,538):\n",
    "    pan_ukb_pleiotropy(z)"
   ]
  },
  {
   "cell_type": "code",
   "execution_count": null,
   "id": "6df971fb-33fe-4c0c-b7c7-29963b864142",
   "metadata": {},
   "outputs": [],
   "source": []
  }
 ],
 "metadata": {
  "kernelspec": {
   "display_name": "Python 3 (ipykernel)",
   "language": "python",
   "name": "python3"
  },
  "language_info": {
   "codemirror_mode": {
    "name": "ipython",
    "version": 3
   },
   "file_extension": ".py",
   "mimetype": "text/x-python",
   "name": "python",
   "nbconvert_exporter": "python",
   "pygments_lexer": "ipython3",
   "version": "3.11.3"
  }
 },
 "nbformat": 4,
 "nbformat_minor": 5
}
