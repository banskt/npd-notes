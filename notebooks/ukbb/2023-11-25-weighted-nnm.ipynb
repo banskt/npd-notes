{
 "cells": [
  {
   "cell_type": "code",
   "execution_count": 1,
   "id": "05d3e21a-d44a-4db0-a531-d43c8baeb3ae",
   "metadata": {},
   "outputs": [],
   "source": [
    "import numpy as np\n",
    "import pandas as pd\n",
    "import pickle\n",
    "\n",
    "import matplotlib.pyplot as plt\n",
    "from pymir import mpl_stylesheet\n",
    "from pymir import mpl_utils\n",
    "mpl_stylesheet.banskt_presentation(splinecolor = 'black', dpi = 120, colors = 'kelly')\n",
    "from matplotlib.gridspec import GridSpec\n",
    "\n",
    "from nnwmf.optimize import IALM\n",
    "from nnwmf.optimize import FrankWolfe, FrankWolfe_CV\n",
    "from nnwmf.utils import model_errors as merr\n",
    "\n",
    "import sys\n",
    "sys.path.append(\"../utils/\")\n",
    "import histogram as mpy_histogram\n",
    "import simulate as mpy_simulate\n",
    "import plot_functions as mpy_plotfn"
   ]
  },
  {
   "cell_type": "code",
   "execution_count": 2,
   "id": "2c6381e6-38af-46c8-8d66-f8c12c7a92c0",
   "metadata": {},
   "outputs": [],
   "source": [
    "data_dir = \"../data\"\n",
    "zscore_df_filename = f\"{data_dir}/ukbb_zscore_df2.pkl\"\n",
    "zscore_df = pd.read_pickle(zscore_df_filename)\n",
    "beta_df_filename = f\"{data_dir}/ukbb_beta_df2.pkl\"\n",
    "beta_df = pd.read_pickle(beta_df_filename)\n",
    "se_df_filename = f\"{data_dir}/ukbb_se_df2.pkl\"\n",
    "se_df = pd.read_pickle(se_df_filename)\n",
    "\n",
    "phenotype_metafile = \"/gpfs/commons/home/sbanerjee/work/npd/UKBB/npd_phenotypes_broad_categories.tsv\"\n",
    "phenotype_df = pd.read_csv(phenotype_metafile, sep=\"\\t\")\n",
    "\n",
    "n_signif_metafile = \"/gpfs/commons/home/sbanerjee/work/npd/UKBB/npd_n_signif.tsv\"\n",
    "n_signif_df = pd.read_csv(n_signif_metafile, sep=\"\\t\", header = None, names = ['phenotype', 'n_signif'])"
   ]
  },
  {
   "cell_type": "code",
   "execution_count": 3,
   "id": "16dd745e-b7be-4cd5-9ceb-aaab2cdb9e4a",
   "metadata": {},
   "outputs": [],
   "source": [
    "zscore_df = zscore_df.loc[:, n_signif_df.loc[n_signif_df['n_signif'] >= 4, 'phenotype']]\n",
    "beta_df   = beta_df.loc[:, n_signif_df.loc[n_signif_df['n_signif'] >= 4, 'phenotype']]\n",
    "se_df     = se_df.loc[:, n_signif_df.loc[n_signif_df['n_signif'] >= 4, 'phenotype']]"
   ]
  },
  {
   "cell_type": "code",
   "execution_count": 4,
   "id": "247d4c58-7614-436a-8491-96eb78a6494a",
   "metadata": {},
   "outputs": [],
   "source": [
    "phenotype_ids = list(zscore_df.columns)\n",
    "phenotype_names = [phenotype_df.loc[phenotype_df['Phenotype Code'] == x, 'Phenotype Name'].item() for x in phenotype_ids]\n",
    "phenotype_categories = [phenotype_df.loc[phenotype_df['Phenotype Code'] == x, 'Phenotype Class'].item() for x in phenotype_ids]\n",
    "unique_categories = list(set(phenotype_categories))\n",
    "\n",
    "trait_indices = [np.array([i for i, x in enumerate(phenotype_categories) if x == catg]) for catg in unique_categories]\n",
    "trait_colors  = {trait: color for trait, color in zip(unique_categories, (mpl_stylesheet.kelly_colors()))}"
   ]
  },
  {
   "cell_type": "code",
   "execution_count": 22,
   "id": "2472230d-8628-4ebb-8c27-e82735492f2c",
   "metadata": {},
   "outputs": [
    {
     "name": "stdout",
     "output_type": "stream",
     "text": [
      "We have 81 samples (phenotypes) and 3387 features (variants)\n",
      "Fraction of Nan entries: 0.000\n"
     ]
    }
   ],
   "source": [
    "X_nan = np.array(beta_df).T\n",
    "X_nan_cent = X_nan - np.nanmean(X_nan, axis = 0, keepdims = True)\n",
    "X_nan_mask = np.isnan(X_nan)\n",
    "X_cent = np.nan_to_num(X_nan_cent, copy = True, nan = 0.0)\n",
    "\n",
    "X_weights = 1/np.square(np.array(se_df)).T\n",
    "\n",
    "print (f\"We have {X_cent.shape[0]} samples (phenotypes) and {X_cent.shape[1]} features (variants)\")\n",
    "print (f\"Fraction of Nan entries: {np.sum(X_nan_mask) / np.prod(X_cent.shape):.3f}\")"
   ]
  },
  {
   "cell_type": "code",
   "execution_count": 25,
   "id": "06eaca9c-71b9-405f-8c3f-1843315e6d8f",
   "metadata": {},
   "outputs": [
    {
     "name": "stdout",
     "output_type": "stream",
     "text": [
      "2023-11-27 14:52:57,121 | nnwmf.optimize.frankwolfe                | INFO    | Iteration 0. Step size 0.000. Duality Gap 2.15562e+19\n",
      "2023-11-27 14:53:00,854 | nnwmf.optimize.frankwolfe                | INFO    | Iteration 100. Step size 0.000. Duality Gap 1.55525e+17\n",
      "2023-11-27 14:53:04,587 | nnwmf.optimize.frankwolfe                | INFO    | Iteration 200. Step size 0.000. Duality Gap 4.3933e+16\n",
      "2023-11-27 14:53:08,351 | nnwmf.optimize.frankwolfe                | INFO    | Iteration 300. Step size 0.000. Duality Gap 6.48602e+16\n",
      "2023-11-27 14:53:12,071 | nnwmf.optimize.frankwolfe                | INFO    | Iteration 400. Step size 0.000. Duality Gap 3.2847e+16\n",
      "2023-11-27 14:53:15,751 | nnwmf.optimize.frankwolfe                | INFO    | Iteration 500. Step size 0.000. Duality Gap 1.73102e+16\n",
      "2023-11-27 14:53:19,494 | nnwmf.optimize.frankwolfe                | INFO    | Iteration 600. Step size 0.000. Duality Gap 1.35282e+16\n",
      "2023-11-27 14:53:23,159 | nnwmf.optimize.frankwolfe                | INFO    | Iteration 700. Step size 0.000. Duality Gap 2.17447e+16\n",
      "2023-11-27 14:53:26,839 | nnwmf.optimize.frankwolfe                | INFO    | Iteration 800. Step size 0.000. Duality Gap 9.20949e+15\n",
      "2023-11-27 14:53:30,606 | nnwmf.optimize.frankwolfe                | INFO    | Iteration 900. Step size 0.000. Duality Gap 1.44776e+16\n"
     ]
    }
   ],
   "source": [
    "nnm_weighted = FrankWolfe(model = 'nnm', max_iter = 1000, svd_max_iter = 50, \n",
    "                        tol = 1e-8, step_tol = 1e-8, simplex_method = 'sort',\n",
    "                        show_progress = True, debug = True, print_skip = 100)\n",
    "nnm_weighted.fit(X_cent, 1024.0, weight = X_weights)"
   ]
  },
  {
   "cell_type": "code",
   "execution_count": 27,
   "id": "921aa3e9-269f-44f4-a6d0-3bcb37f16599",
   "metadata": {},
   "outputs": [],
   "source": [
    "with open (f\"{data_dir}/ukbb_npd_lowrank_X_nnm_weighted.pkl\", 'wb') as handle:\n",
    "    pickle.dump(nnm_weighted.X_, handle, protocol=pickle.HIGHEST_PROTOCOL)\n",
    "#with open (f\"{data_dir}/ukbb_npd_lowrank_E_nnm_weighted.pkl\", 'wb') as handle:\n",
    "#    pickle.dump(nnm_weighted.M_, handle, protocol=pickle.HIGHEST_PROTOCOL)"
   ]
  },
  {
   "cell_type": "code",
   "execution_count": null,
   "id": "7e700f6e-21d6-4169-b732-3d04d629c9a0",
   "metadata": {},
   "outputs": [],
   "source": []
  }
 ],
 "metadata": {
  "kernelspec": {
   "display_name": "Python 3 (ipykernel)",
   "language": "python",
   "name": "python3"
  },
  "language_info": {
   "codemirror_mode": {
    "name": "ipython",
    "version": 3
   },
   "file_extension": ".py",
   "mimetype": "text/x-python",
   "name": "python",
   "nbconvert_exporter": "python",
   "pygments_lexer": "ipython3",
   "version": "3.11.3"
  }
 },
 "nbformat": 4,
 "nbformat_minor": 5
}
