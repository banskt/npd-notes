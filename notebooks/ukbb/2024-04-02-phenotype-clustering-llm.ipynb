{
 "cells": [
  {
   "cell_type": "markdown",
   "id": "aeea2b2d-96c4-4609-9f88-3afe8dc50722",
   "metadata": {},
   "source": [
    "---\n",
    "title: \"Semantic clustering of PanUKB phenotypes\"\n",
    "author: \"Saikat Banerjee\"\n",
    "format:\n",
    "  html: default\n",
    "date: \"2024-04-02\"\n",
    "file-modified: \"2024-04-02\"\n",
    "abstract: \"We use pre-trained LLM models for clustering of PanUKB phenotypes\"\n",
    "\n",
    "---"
   ]
  },
  {
   "cell_type": "code",
   "execution_count": 2,
   "id": "cafaf5f0-6340-4dc7-80b8-58ec86dca64a",
   "metadata": {},
   "outputs": [],
   "source": [
    "import os\n",
    "import numpy as np\n",
    "import pandas as pd\n",
    "import pickle\n",
    "import re\n",
    "\n",
    "import matplotlib.pyplot as plt\n",
    "from pymir import mpl_stylesheet\n",
    "from pymir import mpl_utils\n",
    "\n",
    "mpl_stylesheet.banskt_presentation(splinecolor = 'black', dpi = 120)"
   ]
  },
  {
   "cell_type": "code",
   "execution_count": 3,
   "id": "9a04de0b-d0c9-4e40-9cc9-477ad019ac44",
   "metadata": {},
   "outputs": [],
   "source": [
    "import torch\n",
    "from transformers import AutoTokenizer, AutoModel\n",
    "from sentence_transformers import SentenceTransformer\n",
    "from sentence_transformers import util as st_util"
   ]
  },
  {
   "cell_type": "code",
   "execution_count": 4,
   "id": "98ec2c5e-9b45-4680-88f4-958009920360",
   "metadata": {},
   "outputs": [
    {
     "data": {
      "text/html": [
       "<div>\n",
       "<style scoped>\n",
       "    .dataframe tbody tr th:only-of-type {\n",
       "        vertical-align: middle;\n",
       "    }\n",
       "\n",
       "    .dataframe tbody tr th {\n",
       "        vertical-align: top;\n",
       "    }\n",
       "\n",
       "    .dataframe thead th {\n",
       "        text-align: right;\n",
       "    }\n",
       "</style>\n",
       "<table border=\"1\" class=\"dataframe\">\n",
       "  <thead>\n",
       "    <tr style=\"text-align: right;\">\n",
       "      <th></th>\n",
       "      <th>zindex</th>\n",
       "      <th>trait_type</th>\n",
       "      <th>phenocode</th>\n",
       "      <th>pheno_sex</th>\n",
       "      <th>coding</th>\n",
       "      <th>modifier</th>\n",
       "      <th>description</th>\n",
       "      <th>description_more</th>\n",
       "      <th>coding_description</th>\n",
       "      <th>category</th>\n",
       "      <th>BIN_QT</th>\n",
       "      <th>n_cases_EUR</th>\n",
       "      <th>n_controls_EUR</th>\n",
       "      <th>N</th>\n",
       "      <th>Neff</th>\n",
       "      <th>filename</th>\n",
       "      <th>aws_link</th>\n",
       "      <th>estimates.final.h2_observed</th>\n",
       "      <th>long_description</th>\n",
       "      <th>short_description</th>\n",
       "    </tr>\n",
       "  </thead>\n",
       "  <tbody>\n",
       "    <tr>\n",
       "      <th>0</th>\n",
       "      <td>1</td>\n",
       "      <td>icd10</td>\n",
       "      <td>A04</td>\n",
       "      <td>both_sexes</td>\n",
       "      <td>NaN</td>\n",
       "      <td>NaN</td>\n",
       "      <td>A04 Other bacterial intestinal infections</td>\n",
       "      <td>truncated: true</td>\n",
       "      <td>NaN</td>\n",
       "      <td>Chapter I Certain infectious and parasitic dis...</td>\n",
       "      <td>BIN</td>\n",
       "      <td>3088</td>\n",
       "      <td>417443.0</td>\n",
       "      <td>420531</td>\n",
       "      <td>6130.649032</td>\n",
       "      <td>icd10-A04-both_sexes.tsv.bgz</td>\n",
       "      <td>https://pan-ukb-us-east-1.s3.amazonaws.com/sum...</td>\n",
       "      <td>0.0033</td>\n",
       "      <td>A04 Other bacterial intestinal infections</td>\n",
       "      <td>A04 Bacterial intestinal infections</td>\n",
       "    </tr>\n",
       "    <tr>\n",
       "      <th>1</th>\n",
       "      <td>2</td>\n",
       "      <td>icd10</td>\n",
       "      <td>A08</td>\n",
       "      <td>both_sexes</td>\n",
       "      <td>NaN</td>\n",
       "      <td>NaN</td>\n",
       "      <td>A08 Viral and other specified intestinal infec...</td>\n",
       "      <td>truncated: true</td>\n",
       "      <td>NaN</td>\n",
       "      <td>Chapter I Certain infectious and parasitic dis...</td>\n",
       "      <td>BIN</td>\n",
       "      <td>1107</td>\n",
       "      <td>419424.0</td>\n",
       "      <td>420531</td>\n",
       "      <td>2208.171897</td>\n",
       "      <td>icd10-A08-both_sexes.tsv.bgz</td>\n",
       "      <td>https://pan-ukb-us-east-1.s3.amazonaws.com/sum...</td>\n",
       "      <td>0.0001</td>\n",
       "      <td>A08 Viral and other specified intestinal infec...</td>\n",
       "      <td>A08 Viral, other intestinal infections</td>\n",
       "    </tr>\n",
       "    <tr>\n",
       "      <th>2</th>\n",
       "      <td>3</td>\n",
       "      <td>icd10</td>\n",
       "      <td>A09</td>\n",
       "      <td>both_sexes</td>\n",
       "      <td>NaN</td>\n",
       "      <td>NaN</td>\n",
       "      <td>A09 Diarrhoea and gastro-enteritis of presumed...</td>\n",
       "      <td>truncated: true</td>\n",
       "      <td>NaN</td>\n",
       "      <td>Chapter I Certain infectious and parasitic dis...</td>\n",
       "      <td>BIN</td>\n",
       "      <td>9029</td>\n",
       "      <td>411502.0</td>\n",
       "      <td>420531</td>\n",
       "      <td>17670.286180</td>\n",
       "      <td>icd10-A09-both_sexes.tsv.bgz</td>\n",
       "      <td>https://pan-ukb-us-east-1.s3.amazonaws.com/sum...</td>\n",
       "      <td>0.0035</td>\n",
       "      <td>A09 Diarrhoea and gastro-enteritis of presumed...</td>\n",
       "      <td>A09 Diarrhoea, infectious gastro-enteritis</td>\n",
       "    </tr>\n",
       "    <tr>\n",
       "      <th>3</th>\n",
       "      <td>4</td>\n",
       "      <td>icd10</td>\n",
       "      <td>A41</td>\n",
       "      <td>both_sexes</td>\n",
       "      <td>NaN</td>\n",
       "      <td>NaN</td>\n",
       "      <td>A41 Other septicaemia</td>\n",
       "      <td>truncated: true</td>\n",
       "      <td>NaN</td>\n",
       "      <td>Chapter I Certain infectious and parasitic dis...</td>\n",
       "      <td>BIN</td>\n",
       "      <td>5512</td>\n",
       "      <td>415019.0</td>\n",
       "      <td>420531</td>\n",
       "      <td>10879.505810</td>\n",
       "      <td>icd10-A41-both_sexes.tsv.bgz</td>\n",
       "      <td>https://pan-ukb-us-east-1.s3.amazonaws.com/sum...</td>\n",
       "      <td>0.0011</td>\n",
       "      <td>A41 Other septicaemia</td>\n",
       "      <td>A41 Other septicaemia</td>\n",
       "    </tr>\n",
       "    <tr>\n",
       "      <th>4</th>\n",
       "      <td>5</td>\n",
       "      <td>icd10</td>\n",
       "      <td>B34</td>\n",
       "      <td>both_sexes</td>\n",
       "      <td>NaN</td>\n",
       "      <td>NaN</td>\n",
       "      <td>B34 Viral infection of unspecified site</td>\n",
       "      <td>truncated: true</td>\n",
       "      <td>NaN</td>\n",
       "      <td>Chapter I Certain infectious and parasitic dis...</td>\n",
       "      <td>BIN</td>\n",
       "      <td>2129</td>\n",
       "      <td>418402.0</td>\n",
       "      <td>420531</td>\n",
       "      <td>4236.443249</td>\n",
       "      <td>icd10-B34-both_sexes.tsv.bgz</td>\n",
       "      <td>https://pan-ukb-us-east-1.s3.amazonaws.com/sum...</td>\n",
       "      <td>0.0003</td>\n",
       "      <td>B34 Viral infection of unspecified site</td>\n",
       "      <td>B34 Viral infection of unspecified site</td>\n",
       "    </tr>\n",
       "    <tr>\n",
       "      <th>...</th>\n",
       "      <td>...</td>\n",
       "      <td>...</td>\n",
       "      <td>...</td>\n",
       "      <td>...</td>\n",
       "      <td>...</td>\n",
       "      <td>...</td>\n",
       "      <td>...</td>\n",
       "      <td>...</td>\n",
       "      <td>...</td>\n",
       "      <td>...</td>\n",
       "      <td>...</td>\n",
       "      <td>...</td>\n",
       "      <td>...</td>\n",
       "      <td>...</td>\n",
       "      <td>...</td>\n",
       "      <td>...</td>\n",
       "      <td>...</td>\n",
       "      <td>...</td>\n",
       "      <td>...</td>\n",
       "      <td>...</td>\n",
       "    </tr>\n",
       "    <tr>\n",
       "      <th>2478</th>\n",
       "      <td>2479</td>\n",
       "      <td>continuous</td>\n",
       "      <td>Smoking</td>\n",
       "      <td>both_sexes</td>\n",
       "      <td>NaN</td>\n",
       "      <td>Ever_Never</td>\n",
       "      <td>Smoking status, ever vs never</td>\n",
       "      <td>Ever (previous + current smoker) vs never base...</td>\n",
       "      <td>NaN</td>\n",
       "      <td>NaN</td>\n",
       "      <td>QT</td>\n",
       "      <td>418817</td>\n",
       "      <td>NaN</td>\n",
       "      <td>418817</td>\n",
       "      <td>418817.000000</td>\n",
       "      <td>continuous-Smoking-both_sexes-Ever_Never.tsv.bgz</td>\n",
       "      <td>https://pan-ukb-us-east-1.s3.amazonaws.com/sum...</td>\n",
       "      <td>0.1100</td>\n",
       "      <td>Smoking status, ever vs never</td>\n",
       "      <td>Smoking status, ever vs never</td>\n",
       "    </tr>\n",
       "    <tr>\n",
       "      <th>2479</th>\n",
       "      <td>2480</td>\n",
       "      <td>continuous</td>\n",
       "      <td>eGFR</td>\n",
       "      <td>both_sexes</td>\n",
       "      <td>NaN</td>\n",
       "      <td>irnt</td>\n",
       "      <td>Estimated glomerular filtration rate, serum cr...</td>\n",
       "      <td>eGFR based on serum creatinine (30700) using t...</td>\n",
       "      <td>NaN</td>\n",
       "      <td>NaN</td>\n",
       "      <td>QT</td>\n",
       "      <td>401867</td>\n",
       "      <td>NaN</td>\n",
       "      <td>401867</td>\n",
       "      <td>401867.000000</td>\n",
       "      <td>continuous-eGFR-both_sexes-irnt.tsv.bgz</td>\n",
       "      <td>https://pan-ukb-us-east-1.s3.amazonaws.com/sum...</td>\n",
       "      <td>0.2070</td>\n",
       "      <td>Estimated glomerular filtration rate, serum cr...</td>\n",
       "      <td>Estimated GFR, serum creatinine</td>\n",
       "    </tr>\n",
       "    <tr>\n",
       "      <th>2480</th>\n",
       "      <td>2481</td>\n",
       "      <td>continuous</td>\n",
       "      <td>eGFRcreacys</td>\n",
       "      <td>both_sexes</td>\n",
       "      <td>NaN</td>\n",
       "      <td>irnt</td>\n",
       "      <td>Estimated glomerular filtration rate, cystain C</td>\n",
       "      <td>eGFR based on cystain C (30720) using the CKD-...</td>\n",
       "      <td>NaN</td>\n",
       "      <td>NaN</td>\n",
       "      <td>QT</td>\n",
       "      <td>401570</td>\n",
       "      <td>NaN</td>\n",
       "      <td>401570</td>\n",
       "      <td>401570.000000</td>\n",
       "      <td>continuous-eGFRcreacys-both_sexes-irnt.tsv.bgz</td>\n",
       "      <td>https://pan-ukb-us-east-1.s3.amazonaws.com/sum...</td>\n",
       "      <td>0.2380</td>\n",
       "      <td>Estimated glomerular filtration rate, cystain C</td>\n",
       "      <td>Estimated GFR, cystain C</td>\n",
       "    </tr>\n",
       "    <tr>\n",
       "      <th>2481</th>\n",
       "      <td>2482</td>\n",
       "      <td>continuous</td>\n",
       "      <td>eGFRcys</td>\n",
       "      <td>both_sexes</td>\n",
       "      <td>NaN</td>\n",
       "      <td>irnt</td>\n",
       "      <td>Estimated glomerular filtration rate, serum cr...</td>\n",
       "      <td>eGFR based on serum creatinine (30700) and cys...</td>\n",
       "      <td>NaN</td>\n",
       "      <td>NaN</td>\n",
       "      <td>QT</td>\n",
       "      <td>402031</td>\n",
       "      <td>NaN</td>\n",
       "      <td>402031</td>\n",
       "      <td>402031.000000</td>\n",
       "      <td>continuous-eGFRcys-both_sexes-irnt.tsv.bgz</td>\n",
       "      <td>https://pan-ukb-us-east-1.s3.amazonaws.com/sum...</td>\n",
       "      <td>0.2240</td>\n",
       "      <td>Estimated glomerular filtration rate, serum cr...</td>\n",
       "      <td>Estimated GFR, serum creatinine + cystain C</td>\n",
       "    </tr>\n",
       "    <tr>\n",
       "      <th>2482</th>\n",
       "      <td>2483</td>\n",
       "      <td>continuous</td>\n",
       "      <td>whr</td>\n",
       "      <td>both_sexes</td>\n",
       "      <td>NaN</td>\n",
       "      <td>irnt</td>\n",
       "      <td>pheno 48 / pheno 49</td>\n",
       "      <td>NaN</td>\n",
       "      <td>NaN</td>\n",
       "      <td>NaN</td>\n",
       "      <td>QT</td>\n",
       "      <td>420531</td>\n",
       "      <td>NaN</td>\n",
       "      <td>420531</td>\n",
       "      <td>420531.000000</td>\n",
       "      <td>continuous-whr-both_sexes-irnt.tsv.bgz</td>\n",
       "      <td>https://pan-ukb-us-east-1.s3.amazonaws.com/sum...</td>\n",
       "      <td>0.1740</td>\n",
       "      <td>pheno 48 / pheno 49</td>\n",
       "      <td>Pheno 48 / pheno 49</td>\n",
       "    </tr>\n",
       "  </tbody>\n",
       "</table>\n",
       "<p>2483 rows × 20 columns</p>\n",
       "</div>"
      ],
      "text/plain": [
       "      zindex  trait_type    phenocode   pheno_sex coding    modifier   \n",
       "0          1       icd10          A04  both_sexes    NaN         NaN  \\\n",
       "1          2       icd10          A08  both_sexes    NaN         NaN   \n",
       "2          3       icd10          A09  both_sexes    NaN         NaN   \n",
       "3          4       icd10          A41  both_sexes    NaN         NaN   \n",
       "4          5       icd10          B34  both_sexes    NaN         NaN   \n",
       "...      ...         ...          ...         ...    ...         ...   \n",
       "2478    2479  continuous      Smoking  both_sexes    NaN  Ever_Never   \n",
       "2479    2480  continuous         eGFR  both_sexes    NaN        irnt   \n",
       "2480    2481  continuous  eGFRcreacys  both_sexes    NaN        irnt   \n",
       "2481    2482  continuous      eGFRcys  both_sexes    NaN        irnt   \n",
       "2482    2483  continuous          whr  both_sexes    NaN        irnt   \n",
       "\n",
       "                                            description   \n",
       "0             A04 Other bacterial intestinal infections  \\\n",
       "1     A08 Viral and other specified intestinal infec...   \n",
       "2     A09 Diarrhoea and gastro-enteritis of presumed...   \n",
       "3                                 A41 Other septicaemia   \n",
       "4               B34 Viral infection of unspecified site   \n",
       "...                                                 ...   \n",
       "2478                      Smoking status, ever vs never   \n",
       "2479  Estimated glomerular filtration rate, serum cr...   \n",
       "2480    Estimated glomerular filtration rate, cystain C   \n",
       "2481  Estimated glomerular filtration rate, serum cr...   \n",
       "2482                                pheno 48 / pheno 49   \n",
       "\n",
       "                                       description_more coding_description   \n",
       "0                                       truncated: true                NaN  \\\n",
       "1                                       truncated: true                NaN   \n",
       "2                                       truncated: true                NaN   \n",
       "3                                       truncated: true                NaN   \n",
       "4                                       truncated: true                NaN   \n",
       "...                                                 ...                ...   \n",
       "2478  Ever (previous + current smoker) vs never base...                NaN   \n",
       "2479  eGFR based on serum creatinine (30700) using t...                NaN   \n",
       "2480  eGFR based on cystain C (30720) using the CKD-...                NaN   \n",
       "2481  eGFR based on serum creatinine (30700) and cys...                NaN   \n",
       "2482                                                NaN                NaN   \n",
       "\n",
       "                                               category BIN_QT  n_cases_EUR   \n",
       "0     Chapter I Certain infectious and parasitic dis...    BIN         3088  \\\n",
       "1     Chapter I Certain infectious and parasitic dis...    BIN         1107   \n",
       "2     Chapter I Certain infectious and parasitic dis...    BIN         9029   \n",
       "3     Chapter I Certain infectious and parasitic dis...    BIN         5512   \n",
       "4     Chapter I Certain infectious and parasitic dis...    BIN         2129   \n",
       "...                                                 ...    ...          ...   \n",
       "2478                                                NaN     QT       418817   \n",
       "2479                                                NaN     QT       401867   \n",
       "2480                                                NaN     QT       401570   \n",
       "2481                                                NaN     QT       402031   \n",
       "2482                                                NaN     QT       420531   \n",
       "\n",
       "      n_controls_EUR       N           Neff   \n",
       "0           417443.0  420531    6130.649032  \\\n",
       "1           419424.0  420531    2208.171897   \n",
       "2           411502.0  420531   17670.286180   \n",
       "3           415019.0  420531   10879.505810   \n",
       "4           418402.0  420531    4236.443249   \n",
       "...              ...     ...            ...   \n",
       "2478             NaN  418817  418817.000000   \n",
       "2479             NaN  401867  401867.000000   \n",
       "2480             NaN  401570  401570.000000   \n",
       "2481             NaN  402031  402031.000000   \n",
       "2482             NaN  420531  420531.000000   \n",
       "\n",
       "                                              filename   \n",
       "0                         icd10-A04-both_sexes.tsv.bgz  \\\n",
       "1                         icd10-A08-both_sexes.tsv.bgz   \n",
       "2                         icd10-A09-both_sexes.tsv.bgz   \n",
       "3                         icd10-A41-both_sexes.tsv.bgz   \n",
       "4                         icd10-B34-both_sexes.tsv.bgz   \n",
       "...                                                ...   \n",
       "2478  continuous-Smoking-both_sexes-Ever_Never.tsv.bgz   \n",
       "2479           continuous-eGFR-both_sexes-irnt.tsv.bgz   \n",
       "2480    continuous-eGFRcreacys-both_sexes-irnt.tsv.bgz   \n",
       "2481        continuous-eGFRcys-both_sexes-irnt.tsv.bgz   \n",
       "2482            continuous-whr-both_sexes-irnt.tsv.bgz   \n",
       "\n",
       "                                               aws_link   \n",
       "0     https://pan-ukb-us-east-1.s3.amazonaws.com/sum...  \\\n",
       "1     https://pan-ukb-us-east-1.s3.amazonaws.com/sum...   \n",
       "2     https://pan-ukb-us-east-1.s3.amazonaws.com/sum...   \n",
       "3     https://pan-ukb-us-east-1.s3.amazonaws.com/sum...   \n",
       "4     https://pan-ukb-us-east-1.s3.amazonaws.com/sum...   \n",
       "...                                                 ...   \n",
       "2478  https://pan-ukb-us-east-1.s3.amazonaws.com/sum...   \n",
       "2479  https://pan-ukb-us-east-1.s3.amazonaws.com/sum...   \n",
       "2480  https://pan-ukb-us-east-1.s3.amazonaws.com/sum...   \n",
       "2481  https://pan-ukb-us-east-1.s3.amazonaws.com/sum...   \n",
       "2482  https://pan-ukb-us-east-1.s3.amazonaws.com/sum...   \n",
       "\n",
       "      estimates.final.h2_observed   \n",
       "0                          0.0033  \\\n",
       "1                          0.0001   \n",
       "2                          0.0035   \n",
       "3                          0.0011   \n",
       "4                          0.0003   \n",
       "...                           ...   \n",
       "2478                       0.1100   \n",
       "2479                       0.2070   \n",
       "2480                       0.2380   \n",
       "2481                       0.2240   \n",
       "2482                       0.1740   \n",
       "\n",
       "                                       long_description   \n",
       "0             A04 Other bacterial intestinal infections  \\\n",
       "1     A08 Viral and other specified intestinal infec...   \n",
       "2     A09 Diarrhoea and gastro-enteritis of presumed...   \n",
       "3                                 A41 Other septicaemia   \n",
       "4               B34 Viral infection of unspecified site   \n",
       "...                                                 ...   \n",
       "2478                      Smoking status, ever vs never   \n",
       "2479  Estimated glomerular filtration rate, serum cr...   \n",
       "2480    Estimated glomerular filtration rate, cystain C   \n",
       "2481  Estimated glomerular filtration rate, serum cr...   \n",
       "2482                                pheno 48 / pheno 49   \n",
       "\n",
       "                                short_description  \n",
       "0             A04 Bacterial intestinal infections  \n",
       "1          A08 Viral, other intestinal infections  \n",
       "2      A09 Diarrhoea, infectious gastro-enteritis  \n",
       "3                           A41 Other septicaemia  \n",
       "4         B34 Viral infection of unspecified site  \n",
       "...                                           ...  \n",
       "2478                Smoking status, ever vs never  \n",
       "2479              Estimated GFR, serum creatinine  \n",
       "2480                     Estimated GFR, cystain C  \n",
       "2481  Estimated GFR, serum creatinine + cystain C  \n",
       "2482                          Pheno 48 / pheno 49  \n",
       "\n",
       "[2483 rows x 20 columns]"
      ]
     },
     "execution_count": 4,
     "metadata": {},
     "output_type": "execute_result"
    }
   ],
   "source": [
    "data_dir = \"/gpfs/commons/home/sbanerjee/work/npd/PanUKB/data\"\n",
    "trait_df  = pd.read_pickle(os.path.join(data_dir, f\"modselect/traits_all_with_desc.pkl\"))\n",
    "trait_df"
   ]
  },
  {
   "cell_type": "markdown",
   "id": "e445dde5-920f-42a0-8784-4f984d1cee10",
   "metadata": {},
   "source": [
    "# Phenotype Description to Sentences\n",
    "\n",
    "First we convert all descriptions to sentences, which will be used for embedding."
   ]
  },
  {
   "cell_type": "code",
   "execution_count": 5,
   "id": "913f996f-ebaf-4d86-8b02-b19ccb58d7bb",
   "metadata": {},
   "outputs": [],
   "source": [
    "long_desc  = trait_df['long_description'].tolist()"
   ]
  },
  {
   "cell_type": "markdown",
   "id": "d38eee63-0e43-496c-8d29-df3bec0944cb",
   "metadata": {},
   "source": [
    "# Get embedding from sentences\n",
    "\n",
    "I decided to use [Sentence Transformer](https://www.sbert.net/) for clustering the long description of the phenotypes. \n",
    "This is an ideal usecase for LLM models. \n",
    "\n",
    "Several pre-trained models are available on [Hugginface](https://huggingface.co/). Any pre-trained models can be loaded. Some of them are trained for Sentence Transformer, as you can search [here](https://huggingface.co/models?library=sentence-transformers&sort=trending). I found a few which are trained on medical data.\n",
    "1. https://huggingface.co/menadsa/S-Bio_ClinicalBERT\n",
    "2. https://huggingface.co/ls-da3m0ns/bge_large_medical"
   ]
  },
  {
   "cell_type": "code",
   "execution_count": 6,
   "id": "8fa509cd-ed24-4a2b-9359-35a226ebe586",
   "metadata": {},
   "outputs": [],
   "source": [
    "#Mean Pooling - Take attention mask into account for correct averaging\n",
    "def mean_pooling(model_output, attention_mask):\n",
    "    token_embeddings = model_output[0] #First element of model_output contains all token embeddings\n",
    "    input_mask_expanded = attention_mask.unsqueeze(-1).expand(token_embeddings.size()).float()\n",
    "    return torch.sum(token_embeddings * input_mask_expanded, 1) / torch.clamp(input_mask_expanded.sum(1), min=1e-9)\n",
    "\n",
    "def get_embeddings(sentences, model_name, use_pooling = False):\n",
    "    \n",
    "    if use_pooling:\n",
    "        # Load model from HuggingFace Hub\n",
    "        tokenizer = AutoTokenizer.from_pretrained(model_name)\n",
    "        model = AutoModel.from_pretrained(model_name)\n",
    "        \n",
    "        # Tokenize sentences\n",
    "        encoded_input = tokenizer(sentences, padding=True, truncation=True, return_tensors='pt')\n",
    "\n",
    "        # Compute token embeddings\n",
    "        with torch.no_grad():\n",
    "            model_output = model(**encoded_input)\n",
    "\n",
    "        # Perform pooling. In this case, mean pooling.\n",
    "        sentence_embeddings = mean_pooling(model_output, encoded_input['attention_mask'])\n",
    "    else:\n",
    "        model = SentenceTransformer(model_name)\n",
    "        sentence_embeddings = model.encode(sentences, batch_size=64, show_progress_bar=True, convert_to_tensor=True)\n",
    "        \n",
    "    return sentence_embeddings"
   ]
  },
  {
   "cell_type": "code",
   "execution_count": 7,
   "id": "5f98ebd6-6680-4243-be6d-dfef71e2f2b2",
   "metadata": {},
   "outputs": [],
   "source": [
    "model_names = {\n",
    "    \"ls-da3m0ns/bge_large_medical\" : \"SentenceTransformer\",\n",
    "    \"medicalai/ClinicalBERT\" : \"Transformer\",\n",
    "    \"emilyalsentzer/Bio_ClinicalBERT\" : \"Transformer\"\n",
    "}"
   ]
  },
  {
   "cell_type": "code",
   "execution_count": 8,
   "id": "275d4462-3f0c-427b-ab42-b994f1656b88",
   "metadata": {},
   "outputs": [
    {
     "data": {
      "application/vnd.jupyter.widget-view+json": {
       "model_id": "a39cd50a3e7e4d8e88662943fcac7383",
       "version_major": 2,
       "version_minor": 0
      },
      "text/plain": [
       "modules.json:   0%|          | 0.00/349 [00:00<?, ?B/s]"
      ]
     },
     "metadata": {},
     "output_type": "display_data"
    },
    {
     "data": {
      "application/vnd.jupyter.widget-view+json": {
       "model_id": "433be5531fa643d493243f239c3f1ff4",
       "version_major": 2,
       "version_minor": 0
      },
      "text/plain": [
       "config_sentence_transformers.json:   0%|          | 0.00/172 [00:00<?, ?B/s]"
      ]
     },
     "metadata": {},
     "output_type": "display_data"
    },
    {
     "data": {
      "application/vnd.jupyter.widget-view+json": {
       "model_id": "3f6ad5079bdf4fcdb040701a63a9438a",
       "version_major": 2,
       "version_minor": 0
      },
      "text/plain": [
       "README.md:   0%|          | 0.00/2.57k [00:00<?, ?B/s]"
      ]
     },
     "metadata": {},
     "output_type": "display_data"
    },
    {
     "data": {
      "application/vnd.jupyter.widget-view+json": {
       "model_id": "25dd6980cdab44798c537f4f78041ccc",
       "version_major": 2,
       "version_minor": 0
      },
      "text/plain": [
       "sentence_bert_config.json:   0%|          | 0.00/52.0 [00:00<?, ?B/s]"
      ]
     },
     "metadata": {},
     "output_type": "display_data"
    },
    {
     "data": {
      "application/vnd.jupyter.widget-view+json": {
       "model_id": "ca0a7d08a730437f9ad06034b078ae41",
       "version_major": 2,
       "version_minor": 0
      },
      "text/plain": [
       "config.json:   0%|          | 0.00/742 [00:00<?, ?B/s]"
      ]
     },
     "metadata": {},
     "output_type": "display_data"
    },
    {
     "data": {
      "application/vnd.jupyter.widget-view+json": {
       "model_id": "adb5fc88491d42f1992934dd27ab8919",
       "version_major": 2,
       "version_minor": 0
      },
      "text/plain": [
       "model.safetensors:   0%|          | 0.00/1.34G [00:00<?, ?B/s]"
      ]
     },
     "metadata": {},
     "output_type": "display_data"
    },
    {
     "data": {
      "application/vnd.jupyter.widget-view+json": {
       "model_id": "2fed66d9415f4412a8ed447704e1474f",
       "version_major": 2,
       "version_minor": 0
      },
      "text/plain": [
       "tokenizer_config.json:   0%|          | 0.00/1.43k [00:00<?, ?B/s]"
      ]
     },
     "metadata": {},
     "output_type": "display_data"
    },
    {
     "data": {
      "application/vnd.jupyter.widget-view+json": {
       "model_id": "32c2a5338a454f3290d406f0f1731baf",
       "version_major": 2,
       "version_minor": 0
      },
      "text/plain": [
       "vocab.txt:   0%|          | 0.00/232k [00:00<?, ?B/s]"
      ]
     },
     "metadata": {},
     "output_type": "display_data"
    },
    {
     "data": {
      "application/vnd.jupyter.widget-view+json": {
       "model_id": "af41d2b699574e388300184b1f7eefe6",
       "version_major": 2,
       "version_minor": 0
      },
      "text/plain": [
       "tokenizer.json:   0%|          | 0.00/712k [00:00<?, ?B/s]"
      ]
     },
     "metadata": {},
     "output_type": "display_data"
    },
    {
     "data": {
      "application/vnd.jupyter.widget-view+json": {
       "model_id": "8f76a0c3049440d28b26f5724d52550e",
       "version_major": 2,
       "version_minor": 0
      },
      "text/plain": [
       "special_tokens_map.json:   0%|          | 0.00/695 [00:00<?, ?B/s]"
      ]
     },
     "metadata": {},
     "output_type": "display_data"
    },
    {
     "data": {
      "application/vnd.jupyter.widget-view+json": {
       "model_id": "38508d10d37e4e479fafb01bd6b3e79d",
       "version_major": 2,
       "version_minor": 0
      },
      "text/plain": [
       "1_Pooling/config.json:   0%|          | 0.00/297 [00:00<?, ?B/s]"
      ]
     },
     "metadata": {},
     "output_type": "display_data"
    },
    {
     "data": {
      "application/vnd.jupyter.widget-view+json": {
       "model_id": "000eaebda2af48de85be8a8e3b07d4fd",
       "version_major": 2,
       "version_minor": 0
      },
      "text/plain": [
       "Batches:   0%|          | 0/39 [00:00<?, ?it/s]"
      ]
     },
     "metadata": {},
     "output_type": "display_data"
    },
    {
     "data": {
      "application/vnd.jupyter.widget-view+json": {
       "model_id": "b0c8a132e97b4b389818f410957db618",
       "version_major": 2,
       "version_minor": 0
      },
      "text/plain": [
       "tokenizer_config.json:   0%|          | 0.00/62.0 [00:00<?, ?B/s]"
      ]
     },
     "metadata": {},
     "output_type": "display_data"
    },
    {
     "data": {
      "application/vnd.jupyter.widget-view+json": {
       "model_id": "3a57e151789045b7b2851c4edce0498c",
       "version_major": 2,
       "version_minor": 0
      },
      "text/plain": [
       "config.json:   0%|          | 0.00/466 [00:00<?, ?B/s]"
      ]
     },
     "metadata": {},
     "output_type": "display_data"
    },
    {
     "data": {
      "application/vnd.jupyter.widget-view+json": {
       "model_id": "8be99a4cfc75465180ca76b18a83093c",
       "version_major": 2,
       "version_minor": 0
      },
      "text/plain": [
       "vocab.txt:   0%|          | 0.00/996k [00:00<?, ?B/s]"
      ]
     },
     "metadata": {},
     "output_type": "display_data"
    },
    {
     "data": {
      "application/vnd.jupyter.widget-view+json": {
       "model_id": "c3501a6e426b4dc4b3399e6899df5dbe",
       "version_major": 2,
       "version_minor": 0
      },
      "text/plain": [
       "special_tokens_map.json:   0%|          | 0.00/112 [00:00<?, ?B/s]"
      ]
     },
     "metadata": {},
     "output_type": "display_data"
    },
    {
     "data": {
      "application/vnd.jupyter.widget-view+json": {
       "model_id": "39e38a2f27da4a91b1e3c877032feaa0",
       "version_major": 2,
       "version_minor": 0
      },
      "text/plain": [
       "pytorch_model.bin:   0%|          | 0.00/542M [00:00<?, ?B/s]"
      ]
     },
     "metadata": {},
     "output_type": "display_data"
    },
    {
     "name": "stderr",
     "output_type": "stream",
     "text": [
      "Asking to truncate to max_length but no maximum length is provided and the model has no predefined maximum length. Default to no truncation.\n"
     ]
    },
    {
     "data": {
      "application/vnd.jupyter.widget-view+json": {
       "model_id": "4b2136c65e6240bea151c921fe12f8fa",
       "version_major": 2,
       "version_minor": 0
      },
      "text/plain": [
       "config.json:   0%|          | 0.00/385 [00:00<?, ?B/s]"
      ]
     },
     "metadata": {},
     "output_type": "display_data"
    },
    {
     "data": {
      "application/vnd.jupyter.widget-view+json": {
       "model_id": "b094d9d5ec304e9bb053016df4653302",
       "version_major": 2,
       "version_minor": 0
      },
      "text/plain": [
       "vocab.txt:   0%|          | 0.00/213k [00:00<?, ?B/s]"
      ]
     },
     "metadata": {},
     "output_type": "display_data"
    },
    {
     "data": {
      "application/vnd.jupyter.widget-view+json": {
       "model_id": "f9b960ff7cd94830b78775c3b60a3bea",
       "version_major": 2,
       "version_minor": 0
      },
      "text/plain": [
       "pytorch_model.bin:   0%|          | 0.00/436M [00:00<?, ?B/s]"
      ]
     },
     "metadata": {},
     "output_type": "display_data"
    },
    {
     "name": "stderr",
     "output_type": "stream",
     "text": [
      "Asking to truncate to max_length but no maximum length is provided and the model has no predefined maximum length. Default to no truncation.\n"
     ]
    }
   ],
   "source": [
    "embeddings = dict()\n",
    "for model_name, model_type in model_names.items():\n",
    "    use_pooling = False if model_type == \"SentenceTransformer\" else True\n",
    "    embeddings[model_name] = get_embeddings(long_desc, model_name, use_pooling = use_pooling)"
   ]
  },
  {
   "cell_type": "markdown",
   "id": "000ed60c-db24-496c-af13-0a9223eee0c8",
   "metadata": {},
   "source": [
    "# Compute clusters from embeddings\n",
    "\n",
    "We can either use K-Means clustering or community detection"
   ]
  },
  {
   "cell_type": "code",
   "execution_count": 22,
   "id": "982455c0-8218-4c98-aa71-ad6c50b55537",
   "metadata": {},
   "outputs": [],
   "source": [
    "from sklearn.cluster import AgglomerativeClustering\n",
    "\n",
    "def compute_clusters_kmeans(embeddings, n_clusters = 30):\n",
    "    # Perform kmean clustering\n",
    "    clustering_model = AgglomerativeClustering(n_clusters = n_clusters)  # , affinity='cosine', linkage='average', distance_threshold=0.4)\n",
    "    clustering_model.fit(embeddings)\n",
    "    cluster_assignment = clustering_model.labels_\n",
    "    phenotype_clusters = [list(np.where(cluster_assignment == i)[0]) for i in range(np.max(cluster_assignment) + 1)]\n",
    "    return phenotype_clusters\n",
    "\n",
    "def compute_cluster_community(embeddings, n_size = 10, n_clusters = 30, thres_step = 0.05):\n",
    "    threshold = 1.0\n",
    "    clusters = st_util.community_detection(embeddings, min_community_size = n_size, threshold = threshold)\n",
    "    while len(clusters) < n_clusters:\n",
    "        threshold -= thres_step\n",
    "        clusters = st_util.community_detection(embeddings, min_community_size = n_size, threshold = threshold)\n",
    "    return clusters, threshold"
   ]
  },
  {
   "cell_type": "code",
   "execution_count": 25,
   "id": "3d5c09be-a5ef-4d2d-80aa-86699831fcf1",
   "metadata": {},
   "outputs": [
    {
     "name": "stdout",
     "output_type": "stream",
     "text": [
      "ls-da3m0ns/bge_large_medical\n",
      "\tCommunity: 21 clusters | auto threshold = 0.70\n",
      "\tKMeans: [128, 177, 117, 184, 188, 75, 99, 148, 438, 98, 56, 24, 150, 189, 85, 154, 50, 35, 45, 43]\n",
      "\n",
      "medicalai/ClinicalBERT\n",
      "\tCommunity: 20 clusters | auto threshold = 0.83\n",
      "\tKMeans: [263, 125, 238, 117, 141, 72, 117, 144, 260, 38, 94, 188, 268, 127, 21, 54, 72, 45, 56, 43]\n",
      "\n",
      "emilyalsentzer/Bio_ClinicalBERT\n",
      "\tCommunity: 29 clusters | auto threshold = 0.93\n",
      "\tKMeans: [68, 345, 334, 210, 77, 170, 147, 47, 93, 115, 76, 34, 69, 119, 163, 109, 31, 55, 106, 115]\n",
      "\n"
     ]
    }
   ],
   "source": [
    "clusters_community = dict()\n",
    "clusters_kmeans = dict()\n",
    "for model_name in model_names.keys():\n",
    "    clusters_community[model_name], threshold = compute_cluster_community(embeddings[model_name], thres_step = 0.01, n_clusters = 20)\n",
    "    clusters_kmeans[model_name] = compute_clusters_kmeans(embeddings[model_name], n_clusters = 20)\n",
    "    \n",
    "    kmeans_sizes = \", \".join([f\"{len(x)}\" for x in clusters_kmeans[model_name]])\n",
    "    print (f\"{model_name}\\n\\tCommunity: {len(clusters_community[model_name])} clusters | auto threshold = {threshold:.2f}\\n\\tKMeans: [{kmeans_sizes}]\\n\")"
   ]
  },
  {
   "cell_type": "code",
   "execution_count": 26,
   "id": "a70ec01b-7270-4c73-b156-e72d4119a879",
   "metadata": {},
   "outputs": [
    {
     "name": "stdout",
     "output_type": "stream",
     "text": [
      "Model name: ls-da3m0ns/bge_large_medical\n",
      "\n",
      "Cluster 1, #32 Elements \n",
      "\t Other fruit intake\n",
      "\t Mixed fruit intake\n",
      "\t Other sweets intake\n",
      "\t ...\n",
      "\t Grapefruit juice intake\n",
      "\t Other cheese intake\n",
      "\t Side salad intake\n",
      "\n",
      "Cluster 2, #30 Elements \n",
      "\t 6mm cylindrical power angle (left)\n",
      "\t 6mm cylindrical power angle (right)\n",
      "\t 3mm cylindrical power angle (left)\n",
      "\t ...\n",
      "\t 3mm strong meridian angle (right)\n",
      "\t 3mm weak meridian angle (right)\n",
      "\t 6mm regularity index (right)\n",
      "\n",
      "Cluster 3, #26 Elements \n",
      "\t Systolic blood pressure, automated reading\n",
      "\t Systolic blood pressure, combined automated + manual reading\n",
      "\t Systolic blood pressure, automated reading, adjusted by medication\n",
      "\t ...\n",
      "\t Pulse pressure, manual reading, adjusted by medication\n",
      "\t Mean arterial pressure, manual reading, adjusted by medication\n",
      "\t Elevated blood pressure reading without diagnosis of hypertension\n",
      "\n",
      "Cluster 19, #10 Elements \n",
      "\t Heart valve disorders\n",
      "\t Rheumatic disease of the heart valves\n",
      "\t Aortic valve disease\n",
      "\t ...\n",
      "\t I35 Nonrheumatic aortic valve disorders\n",
      "\t Heart valve replaced\n",
      "\t heart valve problem/heart murmur self-reported\n",
      "\n",
      "Cluster 20, #10 Elements \n",
      "\t Other arthropathies\n",
      "\t Other disorders of synovium, tendon, and bursa\n",
      "\t Other disorders of bone and cartilage\n",
      "\t ...\n",
      "\t Other acquired musculoskeletal deformity\n",
      "\t Other disorders of soft tissues\n",
      "\t Gout and other crystal arthropathies\n",
      "\n",
      "Cluster 21, #10 Elements \n",
      "\t Duration of vigorous activity\n",
      "\t Time spent doing vigorous physical activity\n",
      "\t Duration of moderate activity\n",
      "\t ...\n",
      "\t Duration walking for pleasure\n",
      "\t Number of days/week of moderate physical activity 10+ minutes\n",
      "\t Time spent doing light physical activity\n",
      "---------------------\n",
      "\n",
      "Model name: medicalai/ClinicalBERT\n",
      "\n",
      "Cluster 1, #79 Elements \n",
      "\t Tea intake\n",
      "\t Green tea intake\n",
      "\t Other tea intake\n",
      "\t ...\n",
      "\t White rice intake\n",
      "\t Cereal bar intake\n",
      "\t Wholemeal pasta intake\n",
      "\n",
      "Cluster 2, #25 Elements \n",
      "\t Malignant neoplasm of uterus\n",
      "\t Malignant neoplasm of bladder\n",
      "\t Malignant neoplasm of ovary\n",
      "\t ...\n",
      "\t Z80 Family history of malignant neoplasm\n",
      "\t C44 Other malignant neoplasms of skin\n",
      "\t C79 Secondary malignant neoplasm of other sites\n",
      "\n",
      "Cluster 3, #20 Elements \n",
      "\t 3mm strong meridian angle (left)\n",
      "\t 3mm strong meridian angle (right)\n",
      "\t 3mm weak meridian angle (left)\n",
      "\t ...\n",
      "\t 3mm asymmetry angle (left)\n",
      "\t 6mm asymmetry angle (right)\n",
      "\t 3mm asymmetry index (right)\n",
      "\n",
      "Cluster 18, #10 Elements \n",
      "\t 3mm cylindrical power angle (left)\n",
      "\t 3mm cylindrical power angle (right)\n",
      "\t 6mm cylindrical power angle (left)\n",
      "\t ...\n",
      "\t 6mm cylindrical power (left)\n",
      "\t Cylindrical power (left)\n",
      "\t Cylindrical power (right)\n",
      "\n",
      "Cluster 19, #10 Elements \n",
      "\t White wine intake\n",
      "\t Red wine intake\n",
      "\t Rose wine intake\n",
      "\t ...\n",
      "\t Average monthly champagne plus white wine intake\n",
      "\t Average weekly champagne plus white wine intake\n",
      "\t Average weekly fortified wine intake\n",
      "\n",
      "Cluster 20, #10 Elements \n",
      "\t Fracture of neck of femur\n",
      "\t Fracture of unspecified part of femur\n",
      "\t Fracture of ankle and foot\n",
      "\t ...\n",
      "\t Fracture of tibia and fibula\n",
      "\t Fracture of radius and ulna\n",
      "\t Fracture of humerus\n",
      "---------------------\n",
      "\n",
      "Model name: emilyalsentzer/Bio_ClinicalBERT\n",
      "\n",
      "Cluster 1, #95 Elements \n",
      "\t White fish intake\n",
      "\t White rice intake\n",
      "\t Brown rice intake\n",
      "\t ...\n",
      "\t Avocado intake\n",
      "\t Bran cereal intake\n",
      "\t Bread intake\n",
      "\n",
      "Cluster 2, #46 Elements \n",
      "\t Secondary malignant neoplasm of digestive systems\n",
      "\t C78 Secondary malignant neoplasm of respiratory and digestive organs\n",
      "\t Secondary malignant neoplasm of liver\n",
      "\t ...\n",
      "\t D12 Benign neoplasm of colon, rectum, anus and anal canal\n",
      "\t Malignant neoplasm, other\n",
      "\t Malignant neoplasm of rectum, rectosigmoid junction, and anus\n",
      "\n",
      "Cluster 3, #43 Elements \n",
      "\t chronic sinusitis self-reported\n",
      "\t nasal/sinus disorder self-reported\n",
      "\t chronic fatigue syndrome self-reported\n",
      "\t ...\n",
      "\t hayfever/allergic rhinitis self-reported\n",
      "\t thyroid problem (not cancer) self-reported\n",
      "\t malignant melanoma self-reported\n",
      "\n",
      "Cluster 27, #10 Elements \n",
      "\t folic acid\n",
      "\t zinc product medication\n",
      "\t lactulose product medication\n",
      "\t ...\n",
      "\t gamolenic acid\n",
      "\t vitamin c product medication\n",
      "\t vitamin c product medication\n",
      "\n",
      "Cluster 28, #10 Elements \n",
      "\t Other disorders of prostate\n",
      "\t Other disorders of bladder\n",
      "\t Inflammatory diseases of prostate\n",
      "\t ...\n",
      "\t Other disorders of eye\n",
      "\t Cancer of prostate\n",
      "\t Other disorders of eyelids\n",
      "\n",
      "Cluster 29, #10 Elements \n",
      "\t H35 Other retinal disorders\n",
      "\t H26 Other cataract\n",
      "\t Other retinal disorders\n",
      "\t ...\n",
      "\t H53 Visual disturbances\n",
      "\t H36 Retinal disorders in diseases classified elsewhere\n",
      "\t H61 Other disorders of external ear\n",
      "---------------------\n",
      "\n"
     ]
    }
   ],
   "source": [
    "for m, citems in clusters_community.items():\n",
    "    \n",
    "    print (f\"Model name: {m}\")\n",
    "    \n",
    "    nc = len(citems)\n",
    "    \n",
    "    # The top 3 and bottom 3 elements for the top 3 and bottom 3 clusters\n",
    "    for i in list(range(3)) + list(range(nc))[-3:]:\n",
    "        cluster = citems[i]\n",
    "        print(\"\\nCluster {}, #{} Elements \".format(i + 1, len(cluster)))\n",
    "        for sentence_id in cluster[0:3]:\n",
    "            print(\"\\t\", long_desc[sentence_id])\n",
    "        print(\"\\t\", \"...\")\n",
    "        for sentence_id in cluster[-3:]:\n",
    "            print(\"\\t\", long_desc[sentence_id])\n",
    "    print (\"---------------------\")\n",
    "    print ()"
   ]
  },
  {
   "cell_type": "markdown",
   "id": "68da0eb3-cf18-42a4-be47-de7eb76a9f6c",
   "metadata": {},
   "source": [
    "# Save the clusters"
   ]
  },
  {
   "cell_type": "code",
   "execution_count": 31,
   "id": "a4a37a5f-8963-4c3b-be66-e77410153e5e",
   "metadata": {},
   "outputs": [],
   "source": [
    "def save_cluster_list(filepath, clusters):\n",
    "    dirname = os.path.dirname(filepath)\n",
    "    if not os.path.exists(dirname):\n",
    "        os.makedirs(dirname)\n",
    "    with open(filepath, \"wb\") as fh:\n",
    "        pickle.dump(clusters, fh, protocol=pickle.HIGHEST_PROTOCOL)\n",
    "        \n",
    "outdir = \"/gpfs/commons/home/sbanerjee/work/npd/PanUKB/results/llm\"\n",
    "\n",
    "for method, clusters in clusters_community.items():\n",
    "    m_filename = os.path.join(outdir, f\"{method}/community_clusters.pkl\")\n",
    "    save_cluster_list(m_filename, clusters)\n",
    "    \n",
    "for method, clusters in clusters_kmeans.items():\n",
    "    m_filename = os.path.join(outdir, f\"{method}/kmeans_clusters.pkl\")\n",
    "    save_cluster_list(m_filename, clusters)"
   ]
  }
 ],
 "metadata": {
  "kernelspec": {
   "display_name": "Python 3 (ipykernel)",
   "language": "python",
   "name": "python3"
  },
  "language_info": {
   "codemirror_mode": {
    "name": "ipython",
    "version": 3
   },
   "file_extension": ".py",
   "mimetype": "text/x-python",
   "name": "python",
   "nbconvert_exporter": "python",
   "pygments_lexer": "ipython3",
   "version": "3.11.3"
  }
 },
 "nbformat": 4,
 "nbformat_minor": 5
}
