{
 "cells": [
  {
   "cell_type": "code",
   "execution_count": 1,
   "id": "26d785b4-f5e9-4b5d-8406-f1751c71c7d0",
   "metadata": {},
   "outputs": [],
   "source": [
    "import os\n",
    "import re\n",
    "import numpy as np\n",
    "import pandas as pd\n",
    "import pickle\n",
    "\n",
    "import matplotlib.pyplot as plt\n",
    "from pymir import mpl_stylesheet\n",
    "from pymir import mpl_utils\n",
    "mpl_stylesheet.banskt_presentation(splinecolor = 'black', dpi = 120, colors = 'kelly')"
   ]
  },
  {
   "cell_type": "code",
   "execution_count": 2,
   "id": "2cda188b-0be0-436a-afa5-32004011672a",
   "metadata": {},
   "outputs": [],
   "source": [
    "data_dir = \"/gpfs/commons/home/sbanerjee/work/npd/PanUKB/data\"\n",
    "result_dir = \"/gpfs/commons/home/sbanerjee/work/npd/PanUKB/results/nnsparsh/noRx\"\n",
    "# h2_cut = 0.1\n",
    "# pval_cut = 5e-8\n",
    "\n",
    "zscore_df = pd.read_pickle(os.path.join(data_dir, f\"modselect/zscore_noRx.pkl\"))\n",
    "# trait_df  = pd.read_pickle(os.path.join(data_dir, f\"modselect/traits_noRx.pkl\"))\n",
    "trait_df  = pd.read_pickle(os.path.join(data_dir, f\"modselect/traits_all_with_desc.pkl\"))\n",
    "\n",
    "variant_filename = f\"{data_dir}/allvar.pruned.closesttss.hugo\"\n",
    "variant_df = pd.read_csv(variant_filename, sep = '\\t')"
   ]
  },
  {
   "cell_type": "code",
   "execution_count": 3,
   "id": "34822ef7-8c64-4cca-bef1-15029a77ec1b",
   "metadata": {},
   "outputs": [],
   "source": [
    "def do_standardize(Z, axis = 0, center = True, scale = True):\n",
    "    '''\n",
    "    Standardize (divide by standard deviation)\n",
    "    and/or center (subtract mean) of a given numpy array Z\n",
    "\n",
    "    axis: the direction along which the std / mean is aggregated.\n",
    "        In other words, this axis is collapsed. For example,\n",
    "        axis = 0, means the rows will aggregated (collapsed).\n",
    "        In the output, the mean will be zero and std will be 1\n",
    "        along the remaining axes.\n",
    "        For a 2D array (matrix), use axis = 0 for column standardization\n",
    "        (with mean = 0 and std = 1 along the columns, axis = 1).\n",
    "        Simularly, use axis = 1 for row standardization\n",
    "        (with mean = 0 and std = 1 along the rows, axis = 0).\n",
    "\n",
    "    center: whether or not to subtract mean.\n",
    "\n",
    "    scale: whether or not to divide by std.\n",
    "    '''\n",
    "    if scale:\n",
    "        Znew = Z / np.std(Z, axis = axis, keepdims = True)\n",
    "    else:\n",
    "        Znew = Z.copy()\n",
    "\n",
    "    if center:\n",
    "        Znew = Znew - np.mean(Znew, axis = axis, keepdims = True)\n",
    "\n",
    "    return Znew\n",
    "\n",
    "def get_principal_components(X):\n",
    "    X_cent = do_standardize(X, scale = False)\n",
    "    X_cent /= np.sqrt(np.prod(X_cent.shape))\n",
    "    U, S, Vt = np.linalg.svd(X_cent, full_matrices = False)\n",
    "    loadings = U @ np.diag(S)\n",
    "    factors  = Vt.T\n",
    "    return U, S, loadings, factors\n",
    "\n",
    "def compute_cos(xmat):\n",
    "    xmat2 = xmat ** 2\n",
    "    return xmat2 / np.sum(xmat2, axis = 1, keepdims = True)\n",
    "\n",
    "def compute_contribution(xmat):\n",
    "    xmat2 = xmat ** 2\n",
    "    return xmat2 / np.sum(xmat2, axis = 0, keepdims = True)"
   ]
  },
  {
   "cell_type": "code",
   "execution_count": 4,
   "id": "43f2dbd4-80db-4d88-a559-564805888a65",
   "metadata": {},
   "outputs": [],
   "source": [
    "res_filename = os.path.join(result_dir, \"nnm_model_r65536_iter1000.pkl\")\n",
    "with (open(res_filename, \"rb\")) as fh:\n",
    "    nnm_model = pickle.load(fh)\n",
    "    \n",
    "res_filename = os.path.join(result_dir, \"nnm_sparse_model_r65536_iter1000.pkl\")\n",
    "with (open(res_filename, \"rb\")) as fh:\n",
    "    nnm_sparse_model = pickle.load(fh)\n",
    "\n",
    "res_filename = os.path.join(result_dir, \"rpca_model.pkl\")\n",
    "with (open(res_filename, \"rb\")) as fh:\n",
    "    rpca_model = pickle.load(fh)"
   ]
  },
  {
   "cell_type": "code",
   "execution_count": 5,
   "id": "3b7bc3e7-7a87-4c1b-8a7f-9ddd5d65325e",
   "metadata": {},
   "outputs": [],
   "source": [
    "nnm_lowX = nnm_model['X_']\n",
    "nnm_sparse_lowX = nnm_sparse_model['X_']\n",
    "rpca_lowX = rpca_model['L_']\n",
    "X = np.array(zscore_df.values.T)\n",
    "X_cent = X - np.mean(X, axis = 0, keepdims = True)"
   ]
  },
  {
   "cell_type": "code",
   "execution_count": 6,
   "id": "7734034d-257b-45e5-9747-65ff407729df",
   "metadata": {},
   "outputs": [],
   "source": [
    "U_nnm, S_nnm, loadings_nnm, factors_nnm = get_principal_components(nnm_lowX)\n",
    "U_nnm_sparse, S_nnm_sparse, loadings_nnm_sparse, factors_nnm_sparse = get_principal_components(nnm_sparse_lowX)\n",
    "U_rpca, S_rpca, loadings_rpca, factors_rpca = get_principal_components(rpca_lowX)\n",
    "\n",
    "cos2_pheno_nnm   = compute_cos(loadings_nnm)\n",
    "cos2_variant_nnm = compute_cos(factors_nnm)\n",
    "contribution_pheno_nnm   = compute_contribution(loadings_nnm)\n",
    "contribution_variant_nnm = compute_contribution(factors_nnm)\n",
    "\n",
    "cos2_pheno_nnm_sparse   = compute_cos(loadings_nnm_sparse)\n",
    "cos2_variant_nnm_sparse = compute_cos(factors_nnm_sparse)\n",
    "contribution_pheno_nnm_sparse   = compute_contribution(loadings_nnm_sparse)\n",
    "contribution_variant_nnm_sparse = compute_contribution(factors_nnm_sparse)\n",
    "\n",
    "cos2_pheno_rpca   = compute_cos(loadings_rpca)\n",
    "cos2_variant_rpca = compute_cos(factors_rpca)\n",
    "contribution_pheno_rpca   = compute_contribution(loadings_rpca)\n",
    "contribution_variant_rpca = compute_contribution(factors_rpca)"
   ]
  },
  {
   "cell_type": "code",
   "execution_count": 7,
   "id": "9749904a-59c3-40d5-937d-5f681f52415d",
   "metadata": {},
   "outputs": [
    {
     "data": {
      "text/plain": [
       "(2110, 2110)"
      ]
     },
     "execution_count": 7,
     "metadata": {},
     "output_type": "execute_result"
    }
   ],
   "source": [
    "loadings_rpca.shape"
   ]
  },
  {
   "cell_type": "code",
   "execution_count": 8,
   "id": "652fce44-0572-4358-b2af-6fd15f6830c4",
   "metadata": {},
   "outputs": [
    {
     "data": {
      "text/plain": [
       "(51368, 2110)"
      ]
     },
     "execution_count": 8,
     "metadata": {},
     "output_type": "execute_result"
    }
   ],
   "source": [
    "factors_rpca.shape"
   ]
  },
  {
   "cell_type": "code",
   "execution_count": 12,
   "id": "a9da7e88-d7c7-4f19-9cd9-6f7b33d03b02",
   "metadata": {},
   "outputs": [
    {
     "data": {
      "text/plain": [
       "(2110, 51368)"
      ]
     },
     "execution_count": 12,
     "metadata": {},
     "output_type": "execute_result"
    }
   ],
   "source": [
    "X_cent.shape"
   ]
  },
  {
   "cell_type": "code",
   "execution_count": 14,
   "id": "b158ba5a-8c09-4f01-8f39-266447d1a4d3",
   "metadata": {},
   "outputs": [],
   "source": [
    "nsample_filename = \"/gpfs/commons/home/sbanerjee/work/npd/PanUKB/data/phe2483.SampleN.tsv\"\n",
    "nsample_df = pd.read_csv(nsample_filename, sep = '\\t')"
   ]
  },
  {
   "cell_type": "code",
   "execution_count": 24,
   "id": "351e5cff-7caf-4b6c-9624-dd7054e52702",
   "metadata": {},
   "outputs": [
    {
     "name": "stdout",
     "output_type": "stream",
     "text": [
      "<class 'pandas.core.frame.DataFrame'>\n",
      "Index: 2110 entries, 0 to 2482\n",
      "Data columns (total 20 columns):\n",
      " #   Column                       Non-Null Count  Dtype  \n",
      "---  ------                       --------------  -----  \n",
      " 0   zindex                       2110 non-null   int64  \n",
      " 1   trait_type                   2110 non-null   object \n",
      " 2   phenocode                    2110 non-null   object \n",
      " 3   pheno_sex                    2110 non-null   object \n",
      " 4   coding                       267 non-null    object \n",
      " 5   modifier                     394 non-null    object \n",
      " 6   description                  2110 non-null   object \n",
      " 7   description_more             1408 non-null   object \n",
      " 8   coding_description           261 non-null    object \n",
      " 9   category                     2072 non-null   object \n",
      " 10  BIN_QT                       2110 non-null   object \n",
      " 11  n_cases_EUR                  2110 non-null   int64  \n",
      " 12  n_controls_EUR               1304 non-null   float64\n",
      " 13  N                            2110 non-null   int64  \n",
      " 14  Neff                         2110 non-null   float64\n",
      " 15  filename                     2110 non-null   object \n",
      " 16  aws_link                     2110 non-null   object \n",
      " 17  estimates.final.h2_observed  2106 non-null   float64\n",
      " 18  long_description             2110 non-null   object \n",
      " 19  short_description            2110 non-null   object \n",
      "dtypes: float64(3), int64(3), object(14)\n",
      "memory usage: 346.2+ KB\n"
     ]
    }
   ],
   "source": [
    "pheno_zindex = [int(x[1:]) for x in zscore_df.columns]\n",
    "trait_df_noRx = trait_df.loc[trait_df['zindex'].isin(pheno_zindex)]\n",
    "nsample_df_noRx = nsample_df.loc[trait_df_noRx.index]\n",
    "trait_df_noRx.info()"
   ]
  },
  {
   "cell_type": "code",
   "execution_count": 23,
   "id": "b8d5ec7c-9e3c-4fce-ad4d-99b6c6acaaab",
   "metadata": {},
   "outputs": [
    {
     "data": {
      "text/html": [
       "<div>\n",
       "<style scoped>\n",
       "    .dataframe tbody tr th:only-of-type {\n",
       "        vertical-align: middle;\n",
       "    }\n",
       "\n",
       "    .dataframe tbody tr th {\n",
       "        vertical-align: top;\n",
       "    }\n",
       "\n",
       "    .dataframe thead th {\n",
       "        text-align: right;\n",
       "    }\n",
       "</style>\n",
       "<table border=\"1\" class=\"dataframe\">\n",
       "  <thead>\n",
       "    <tr style=\"text-align: right;\">\n",
       "      <th></th>\n",
       "      <th>N</th>\n",
       "    </tr>\n",
       "  </thead>\n",
       "  <tbody>\n",
       "    <tr>\n",
       "      <th>0</th>\n",
       "      <td>420531</td>\n",
       "    </tr>\n",
       "    <tr>\n",
       "      <th>1</th>\n",
       "      <td>420531</td>\n",
       "    </tr>\n",
       "    <tr>\n",
       "      <th>2</th>\n",
       "      <td>420531</td>\n",
       "    </tr>\n",
       "    <tr>\n",
       "      <th>3</th>\n",
       "      <td>420531</td>\n",
       "    </tr>\n",
       "    <tr>\n",
       "      <th>4</th>\n",
       "      <td>420531</td>\n",
       "    </tr>\n",
       "    <tr>\n",
       "      <th>...</th>\n",
       "      <td>...</td>\n",
       "    </tr>\n",
       "    <tr>\n",
       "      <th>2478</th>\n",
       "      <td>418817</td>\n",
       "    </tr>\n",
       "    <tr>\n",
       "      <th>2479</th>\n",
       "      <td>401867</td>\n",
       "    </tr>\n",
       "    <tr>\n",
       "      <th>2480</th>\n",
       "      <td>401570</td>\n",
       "    </tr>\n",
       "    <tr>\n",
       "      <th>2481</th>\n",
       "      <td>402031</td>\n",
       "    </tr>\n",
       "    <tr>\n",
       "      <th>2482</th>\n",
       "      <td>420531</td>\n",
       "    </tr>\n",
       "  </tbody>\n",
       "</table>\n",
       "<p>2110 rows × 1 columns</p>\n",
       "</div>"
      ],
      "text/plain": [
       "           N\n",
       "0     420531\n",
       "1     420531\n",
       "2     420531\n",
       "3     420531\n",
       "4     420531\n",
       "...      ...\n",
       "2478  418817\n",
       "2479  401867\n",
       "2480  401570\n",
       "2481  402031\n",
       "2482  420531\n",
       "\n",
       "[2110 rows x 1 columns]"
      ]
     },
     "execution_count": 23,
     "metadata": {},
     "output_type": "execute_result"
    }
   ],
   "source": []
  },
  {
   "cell_type": "code",
   "execution_count": 51,
   "id": "b064bd5d-9b72-4ca4-bda8-948b61a322b7",
   "metadata": {},
   "outputs": [],
   "source": [
    "pseudoN = np.sum(cos2_pheno_rpca[:, :400] * nsample_df_noRx.to_numpy(), axis = 0, keepdims = True)"
   ]
  },
  {
   "cell_type": "code",
   "execution_count": 52,
   "id": "a186c14b-eb54-4493-9107-9b10fee21578",
   "metadata": {},
   "outputs": [
    {
     "data": {
      "text/plain": [
       "(1, 400)"
      ]
     },
     "execution_count": 52,
     "metadata": {},
     "output_type": "execute_result"
    }
   ],
   "source": [
    "pseudoN.shape"
   ]
  },
  {
   "cell_type": "code",
   "execution_count": 57,
   "id": "ae93d797-7eb7-4831-bfaa-8bb2552b964f",
   "metadata": {},
   "outputs": [
    {
     "data": {
      "text/plain": [
       "array([  5.77979753,   3.66005027,   9.91770097, ...,   1.87431437,\n",
       "       -16.99218782,  -2.04344847])"
      ]
     },
     "execution_count": 57,
     "metadata": {},
     "output_type": "execute_result"
    }
   ],
   "source": [
    "np.array(factors_rpca[:, :400] * np.sqrt(pseudoN))[:, 0]"
   ]
  },
  {
   "cell_type": "code",
   "execution_count": 71,
   "id": "c93f5087-c224-4ddb-b498-72efdb33173c",
   "metadata": {},
   "outputs": [],
   "source": [
    "def create_sumstat(cos2_pheno, factors):\n",
    "    pseudoN = np.sum(cos2_pheno * nsample_df_noRx.to_numpy(), axis = 0, keepdims = True)\n",
    "    pseudoZ = factors * np.sqrt(pseudoN)\n",
    "    return pseudoZ, pseudoN # p x k, n x 1\n",
    "\n",
    "sumstat, pseudoN = create_sumstat(cos2_pheno_rpca, factors_rpca)\n",
    "varinfo = variant_df.loc[zscore_df.index][[\"SNP\", \"chr\", \"pos\", \"ref\", \"alt\"]].rename(columns = {\"chr\": \"CHR\", \"pos\": \"BP\", \"ref\": \"A1\", \"alt\": \"A2\"})"
   ]
  },
  {
   "cell_type": "code",
   "execution_count": 76,
   "id": "617bb78c-a366-4f53-9e2f-f4208ea056c4",
   "metadata": {},
   "outputs": [
    {
     "data": {
      "text/plain": [
       "(1, 2110)"
      ]
     },
     "execution_count": 76,
     "metadata": {},
     "output_type": "execute_result"
    }
   ],
   "source": [
    "pseudoN.shape"
   ]
  },
  {
   "cell_type": "code",
   "execution_count": 83,
   "id": "387c518d-a514-4196-894f-7328c53de45a",
   "metadata": {},
   "outputs": [],
   "source": [
    "out_dir = \"/gpfs/commons/home/sbanerjee/npddata/panukb/results/ldsc/rpca/sumstats\"\n",
    "for k in range(10):\n",
    "    varinfo_k = varinfo.copy()\n",
    "    varinfo_k[\"Z\"] = sumstat[:, k]\n",
    "    varinfo_k[\"N\"] = pseudoN[0, k]\n",
    "    outfilename = os.path.join(out_dir, f\"factor_{k}.gz\")\n",
    "    varinfo_k.to_csv(outfilename, sep = \"\\t\", header = True, index = False)"
   ]
  },
  {
   "cell_type": "code",
   "execution_count": null,
   "id": "b55df14d-a8f9-4ef7-b73f-bdff0e2ebcb5",
   "metadata": {},
   "outputs": [],
   "source": []
  },
  {
   "cell_type": "code",
   "execution_count": null,
   "id": "86346165-f8e7-42a4-914b-0cf3cb13df08",
   "metadata": {},
   "outputs": [],
   "source": [
    "# Create sumstat\n",
    "Z = W[[factor]] * sqrt(Fn[[factor]])\n",
    "N = Fn[[factor]]\n"
   ]
  },
  {
   "cell_type": "markdown",
   "id": "58806773-815e-40ef-98bc-8bcb69055031",
   "metadata": {},
   "source": [
    "create_file <- function(fac, Fn, W, snpinfo){\n",
    "\n",
    "  sumstats <- snpinfo %>% mutate(Z = W[[fac]] * sqrt(Fn[[fac]]),\n",
    "                                 N = Fn[[fac]])\n",
    "\n",
    "  return(sumstats)\n",
    "}\n",
    "\n",
    "############# write out file for each line of param file #############\n",
    "\n",
    "for (fac in 1:K){\n",
    "\n",
    "  if (isTRUE(pseudoN)){\n",
    "    dat <- create_file(fac, Fn, l2_mat, snpinfo)\n",
    "  }\n",
    "\n",
    "  outname <- ifelse(method == \"vb\",\n",
    "                    paste0(method, \".scale\", vbscale, \".K\", K, \".F\", fac, \".pseudoN\", pseudoN, \".wt_cosine.gz\"),\n",
    "                    paste0(method, \".scale\", svdscale, \".K\", K, \".F\", fac, \".pseudoN\", pseudoN, \".gz\"))\n",
    "\n",
    "  if (sum(dat$Z < 0.001 * max(dat$N)) == nrow(dat)){\n",
    "    dat %>% write_tsv(paste0(outpath, outname))\n",
    "    print(paste0(\"Finished: \", fac))\n",
    "  }else{\n",
    "    print(\"has outlier Z that will be removed from ldsc\")\n",
    "  }\n",
    "}"
   ]
  }
 ],
 "metadata": {
  "kernelspec": {
   "display_name": "Python 3 (ipykernel)",
   "language": "python",
   "name": "python3"
  },
  "language_info": {
   "codemirror_mode": {
    "name": "ipython",
    "version": 3
   },
   "file_extension": ".py",
   "mimetype": "text/x-python",
   "name": "python",
   "nbconvert_exporter": "python",
   "pygments_lexer": "ipython3",
   "version": "3.11.3"
  }
 },
 "nbformat": 4,
 "nbformat_minor": 5
}
