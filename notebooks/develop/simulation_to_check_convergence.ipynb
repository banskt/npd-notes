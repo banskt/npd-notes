{
 "cells": [
  {
   "cell_type": "code",
   "execution_count": 1,
   "id": "9a0490e5-5a5c-4373-9a4a-62f730e97350",
   "metadata": {},
   "outputs": [],
   "source": [
    "import numpy as np\n",
    "import sys\n",
    "sys.path.append(\"/gpfs/commons/home/sbanerjee/work/npd/lrma-dsc/dsc/functions\")\n",
    "import simulate as dsc_simulate"
   ]
  },
  {
   "cell_type": "code",
   "execution_count": 2,
   "id": "c737a740-72b9-4282-8fe5-13a1b719fea4",
   "metadata": {},
   "outputs": [],
   "source": [
    "n = 200\n",
    "p = 2000\n",
    "k = 10\n",
    "Q = 3\n",
    "h2 = 0.2\n",
    "h2_shared_frac = 0.5\n",
    "aq = 0.6\n",
    "a0 = 0.2\n",
    "nsample_min = 10000\n",
    "nsample_max = 40000\n",
    "sharing_proportion = 1.0\n",
    "\n",
    "# g2 = h2 * h2_shared_frac\n",
    "# nsample = np.random.uniform(nsample_min, nsample_max, n)\n",
    "# Z, effect_size_obs, effect_size_true, L, F, M, C = dsc_simulate.effect_size(\n",
    "#         n, p, k, Q, h2, g2, aq, a0, nsample,\n",
    "#         sharing_proportion = sharing_proportion,\n",
    "#         cov_design = 'blockdiag', shuffle = False,\n",
    "#         seed = 42)"
   ]
  },
  {
   "cell_type": "code",
   "execution_count": 20,
   "id": "09d19f1c-0f27-4c8e-89bf-0cc05c364188",
   "metadata": {},
   "outputs": [],
   "source": [
    "import os\n",
    "import pickle\n",
    "dsc_outdir = \"/gpfs/commons/home/sbanerjee/simdata/low_rank_matrix_approximation_numerical_experiments/blockdiag_noisy/blockdiag\"\n",
    "res1_file = os.path.join(dsc_outdir, \"blockdiag_1.pkl\")\n",
    "res2_file = os.path.join(dsc_outdir, \"blockdiag_2.pkl\")\n",
    "\n",
    "with open(res1_file, \"rb\") as mfile:\n",
    "    res1 = pickle.load(mfile)\n",
    "with open(res2_file, \"rb\") as mfile:\n",
    "    res2 = pickle.load(mfile) "
   ]
  },
  {
   "cell_type": "code",
   "execution_count": 21,
   "id": "c417a203-17dd-4858-a6a5-f829dadec747",
   "metadata": {},
   "outputs": [
    {
     "name": "stdout",
     "output_type": "stream",
     "text": [
      "Z: False\n",
      "effect_size_obs: False\n",
      "effect_size_true: True\n",
      "Ltrue: True\n",
      "Ftrue: True\n",
      "Mtrue: True\n",
      "nsample: False\n"
     ]
    }
   ],
   "source": [
    "for key in res1.keys():\n",
    "    if isinstance(res1[key], np.ndarray):\n",
    "        comparison = np.allclose(res1[key], res2[key])\n",
    "        print(f\"{key}: {comparison}\")"
   ]
  },
  {
   "cell_type": "code",
   "execution_count": 22,
   "id": "d7785b94-67d4-48ad-98f2-d97f1eeed641",
   "metadata": {},
   "outputs": [
    {
     "data": {
      "text/plain": [
       "0.02077895292996536"
      ]
     },
     "execution_count": 22,
     "metadata": {},
     "output_type": "execute_result"
    }
   ],
   "source": [
    "np.mean(np.sqrt((1 - np.square(res2['effect_size_true'])) / res2['nsample'].reshape(n, 1)))"
   ]
  },
  {
   "cell_type": "code",
   "execution_count": 23,
   "id": "52ca0a12-3f11-4fe9-a4a0-bd4716febb67",
   "metadata": {},
   "outputs": [
    {
     "data": {
      "text/plain": [
       "array([[2.73366517e-04, 1.94104798e-07, 8.73845964e-05, ...,\n",
       "        2.68909771e-05, 1.04011891e-04, 1.41983024e-05],\n",
       "       [7.36908388e-06, 1.76203721e-04, 3.50717785e-04, ...,\n",
       "        3.43376434e-05, 3.17389963e-04, 2.20700460e-06],\n",
       "       [1.39320843e-04, 2.25208778e-05, 7.48225455e-05, ...,\n",
       "        1.43003713e-04, 4.46896134e-07, 1.18080057e-03],\n",
       "       ...,\n",
       "       [3.02149377e-05, 6.85450093e-07, 1.33135279e-04, ...,\n",
       "        3.61860644e-05, 2.57074419e-04, 8.11587310e-05],\n",
       "       [5.60207352e-05, 4.21368977e-05, 1.58877695e-04, ...,\n",
       "        5.78509721e-05, 4.24575647e-04, 1.85678567e-05],\n",
       "       [3.55925103e-05, 3.09511162e-07, 2.31819884e-05, ...,\n",
       "        6.67794263e-06, 1.92757451e-05, 1.69333081e-06]])"
      ]
     },
     "execution_count": 23,
     "metadata": {},
     "output_type": "execute_result"
    }
   ],
   "source": [
    "np.square(res1['effect_size_true'])"
   ]
  },
  {
   "cell_type": "code",
   "execution_count": null,
   "id": "84228d76-dc1d-4d30-a9ba-b46d3631aca6",
   "metadata": {},
   "outputs": [],
   "source": []
  }
 ],
 "metadata": {
  "kernelspec": {
   "display_name": "Python 3 (ipykernel)",
   "language": "python",
   "name": "python3"
  },
  "language_info": {
   "codemirror_mode": {
    "name": "ipython",
    "version": 3
   },
   "file_extension": ".py",
   "mimetype": "text/x-python",
   "name": "python",
   "nbconvert_exporter": "python",
   "pygments_lexer": "ipython3",
   "version": "3.11.3"
  }
 },
 "nbformat": 4,
 "nbformat_minor": 5
}
