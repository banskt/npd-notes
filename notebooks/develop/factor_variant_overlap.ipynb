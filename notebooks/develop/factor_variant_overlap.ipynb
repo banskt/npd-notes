{
 "cells": [
  {
   "cell_type": "code",
   "execution_count": 1,
   "id": "d2e7d75b-0ce0-4988-b88c-78b421ceb46c",
   "metadata": {},
   "outputs": [],
   "source": [
    "import numpy as np\n",
    "import pandas as pd"
   ]
  },
  {
   "cell_type": "code",
   "execution_count": 2,
   "id": "b81089a7-0600-41b0-8c3a-66d3d044f50a",
   "metadata": {},
   "outputs": [
    {
     "data": {
      "text/plain": [
       "7857"
      ]
     },
     "execution_count": 2,
     "metadata": {},
     "output_type": "execute_result"
    }
   ],
   "source": [
    "6985 + 872"
   ]
  },
  {
   "cell_type": "code",
   "execution_count": 7,
   "id": "db4126c0-f34d-426b-a952-4e063a21aa67",
   "metadata": {},
   "outputs": [],
   "source": [
    "nfactor = 2110\n",
    "select_factors = np.linspace(5, nfactor - 5, num = 8, dtype = int)"
   ]
  },
  {
   "cell_type": "code",
   "execution_count": null,
   "id": "04cd6fb1-7a79-4ee0-af4f-c6397c559dd9",
   "metadata": {},
   "outputs": [],
   "source": []
  }
 ],
 "metadata": {
  "kernelspec": {
   "display_name": "Python 3 (ipykernel)",
   "language": "python",
   "name": "python3"
  },
  "language_info": {
   "codemirror_mode": {
    "name": "ipython",
    "version": 3
   },
   "file_extension": ".py",
   "mimetype": "text/x-python",
   "name": "python",
   "nbconvert_exporter": "python",
   "pygments_lexer": "ipython3",
   "version": "3.11.3"
  }
 },
 "nbformat": 4,
 "nbformat_minor": 5
}
