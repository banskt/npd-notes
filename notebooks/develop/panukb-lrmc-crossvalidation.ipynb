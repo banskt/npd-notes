{
 "cells": [
  {
   "cell_type": "code",
   "execution_count": 1,
   "id": "6615c192-991e-4315-9cbd-90e1a0e9b7e9",
   "metadata": {},
   "outputs": [],
   "source": [
    "import numpy as np\n",
    "import pandas as pd\n",
    "import os"
   ]
  },
  {
   "cell_type": "code",
   "execution_count": 2,
   "id": "c3d9b9f2-8d48-45a7-ae25-d3ff3522b0d6",
   "metadata": {},
   "outputs": [],
   "source": [
    "import sys\n",
    "sys.path.append(\"/gpfs/commons/home/sbanerjee/work/npd/lrma-dsc/dsc/functions\")\n",
    "import simulate as dsc_simulate"
   ]
  },
  {
   "cell_type": "code",
   "execution_count": 3,
   "id": "202bfb1d-b77b-4016-958e-8aeb0fe6035a",
   "metadata": {},
   "outputs": [],
   "source": [
    "data_dir = \"/gpfs/commons/home/sbanerjee/work/npd/PanUKB/data\"\n",
    "zscore_df = pd.read_pickle(os.path.join(data_dir, f\"modselect/zscore_noRx.pkl\"))"
   ]
  },
  {
   "cell_type": "code",
   "execution_count": 4,
   "id": "93192b72-0e93-4cfc-ae45-ce819a9c738e",
   "metadata": {},
   "outputs": [],
   "source": [
    "X = np.array(zscore_df.values.T)\n",
    "Ztrue = X - np.mean(X, axis = 0, keepdims = True)"
   ]
  },
  {
   "cell_type": "code",
   "execution_count": 5,
   "id": "2d0e0943-e90f-45d3-add0-d014ed9f8d4a",
   "metadata": {},
   "outputs": [],
   "source": [
    "mask_ratio = 0.2\n",
    "Zmask = dsc_simulate.generate_mask(X.shape[0], X.shape[1], mask_ratio)\n",
    "Z = dsc_simulate.generate_masked_input(Ztrue, Zmask)"
   ]
  },
  {
   "cell_type": "code",
   "execution_count": 6,
   "id": "248bf478-d534-4474-ba85-39c2f6c8529d",
   "metadata": {},
   "outputs": [
    {
     "data": {
      "text/plain": [
       "(2110, 51368)"
      ]
     },
     "execution_count": 6,
     "metadata": {},
     "output_type": "execute_result"
    }
   ],
   "source": [
    "Z.shape"
   ]
  },
  {
   "cell_type": "code",
   "execution_count": 9,
   "id": "9ec173b8-5011-4bf1-9743-6e84303d1043",
   "metadata": {},
   "outputs": [
    {
     "data": {
      "text/plain": [
       "array([[-0.85061846,  0.39508954, -1.77324203, ...,  0.64890079,\n",
       "         1.59639086,  0.69026144],\n",
       "       [ 0.61475513,  1.1604626 , -0.20645511, ...,  0.49504822,\n",
       "         1.306907  , -0.28729541],\n",
       "       [ 0.76398184,  0.50904104,  0.3150178 , ...,  0.62372307,\n",
       "        -1.34546056, -0.79042181],\n",
       "       ...,\n",
       "       [-4.24003393, -5.31716186, -2.22136784, ..., -1.44154209,\n",
       "         1.68784194, -0.00811659],\n",
       "       [-4.64879786, -6.61521401, -3.25765615, ..., -1.30312517,\n",
       "         1.81307603,  0.09153624],\n",
       "       [ 3.00581218,  3.81444145,  4.47445101, ...,  2.30903555,\n",
       "         2.37319293, -0.78436375]])"
      ]
     },
     "execution_count": 9,
     "metadata": {},
     "output_type": "execute_result"
    }
   ],
   "source": [
    "Ztrue"
   ]
  },
  {
   "cell_type": "code",
   "execution_count": 20,
   "id": "c66eca2d-43f0-4bd3-a463-8685fbe7f49c",
   "metadata": {},
   "outputs": [],
   "source": [
    "cv_input_data_file = os.path.join(data_dir, f\"cv_input/zscore_noRx.npy\")\n",
    "with open(cv_input_data_file, 'wb') as f:\n",
    "    np.save(f, Ztrue, allow_pickle=True)\n",
    "    np.save(f, Z, allow_pickle=True)\n",
    "    np.save(f, Zmask, allow_pickle=True)"
   ]
  },
  {
   "cell_type": "code",
   "execution_count": 21,
   "id": "68a5688d-7e00-4d4d-808f-8be35b298069",
   "metadata": {},
   "outputs": [],
   "source": [
    "with open(cv_input_data_file, 'rb') as f:\n",
    "    Atrue = np.load(f)\n",
    "    A = np.load(f)\n",
    "    Amask = np.load(f)"
   ]
  },
  {
   "cell_type": "code",
   "execution_count": 24,
   "id": "4970da3a-d748-4fd4-9cc8-025ccf1ac9d2",
   "metadata": {},
   "outputs": [
    {
     "data": {
      "text/plain": [
       "True"
      ]
     },
     "execution_count": 24,
     "metadata": {},
     "output_type": "execute_result"
    }
   ],
   "source": [
    "np.allclose(Z, A, equal_nan = True)"
   ]
  },
  {
   "cell_type": "code",
   "execution_count": 26,
   "id": "9f9c7b1b-7987-4638-9dc9-a8e81b704fe5",
   "metadata": {},
   "outputs": [],
   "source": [
    "from nnwmf.optimize import IALM\n",
    "from nnwmf.optimize import FrankWolfe, FrankWolfe_CV\n",
    "nnmcv = FrankWolfe_CV(kfolds = 2, model = 'nnm', max_iter = 100)\n",
    "nucnormY = np.linalg.norm(Ztrue, 'nuc')\n",
    "rseq = nnmcv._generate_rseq(nucnormY)"
   ]
  },
  {
   "cell_type": "code",
   "execution_count": 29,
   "id": "5fc8047e-ac03-4e84-96b0-cb1bc27d4bce",
   "metadata": {},
   "outputs": [],
   "source": [
    "rseq_file = \"/gpfs/commons/home/sbanerjee/work/npd/PanUKB/jobs/cross_validation/rseq.txt\"\n",
    "np.savetxt(rseq_file, rseq, fmt = \"%g\")"
   ]
  },
  {
   "cell_type": "code",
   "execution_count": 72,
   "id": "4fa21686-bf6f-4e71-b72b-47695f0a25eb",
   "metadata": {},
   "outputs": [],
   "source": [
    "import pickle\n",
    "res_file = \"/gpfs/commons/home/sbanerjee/npddata/panukb/cross_validation/noRx/nnm_model_r4096.pkl\"\n",
    "with open(res_file, \"rb\") as mfile:\n",
    "    model = pickle.load(mfile)"
   ]
  },
  {
   "cell_type": "code",
   "execution_count": 64,
   "id": "c977fa12-4535-4a8e-b782-df92eed73d6f",
   "metadata": {},
   "outputs": [
    {
     "data": {
      "text/plain": [
       "dict_keys(['max_iter_', 'model_', 'svd_method_', 'svd_max_iter_', 'simplex_method_', 'stop_criteria_', 'tol_', 'step_size_tol_', 'fxrel_tol_', 'show_progress_', 'prog_step_skip_', 'suppress_warnings_', 'is_benchmark_', 'benchmark_method_', 'Y_', 'mask_', 'weight_', 'weight_mask_', 'rank_', 'fx_list_', 'dg_list_', 'st_list_', 'cpu_time_', 'convergence_msg_', 'X_'])"
      ]
     },
     "execution_count": 64,
     "metadata": {},
     "output_type": "execute_result"
    }
   ],
   "source": [
    "model.keys()"
   ]
  },
  {
   "cell_type": "code",
   "execution_count": 65,
   "id": "4a1b3556-acbd-4c3b-896e-db13f552c242",
   "metadata": {},
   "outputs": [
    {
     "data": {
      "text/plain": [
       "array([[False, False, False, ...,  True, False,  True],\n",
       "       [ True, False,  True, ..., False, False, False],\n",
       "       [ True,  True, False, ..., False, False, False],\n",
       "       ...,\n",
       "       [False, False, False, ..., False, False, False],\n",
       "       [False, False, False, ..., False, False, False],\n",
       "       [False, False, False, ..., False, False, False]])"
      ]
     },
     "execution_count": 65,
     "metadata": {},
     "output_type": "execute_result"
    }
   ],
   "source": [
    "model['mask_']"
   ]
  },
  {
   "cell_type": "code",
   "execution_count": 73,
   "id": "e9458dfb-8f91-4c1f-b500-c0ed707deebb",
   "metadata": {},
   "outputs": [
    {
     "data": {
      "text/plain": [
       "array([-0.01863855,  0.01805154, -0.01264652, ..., -0.03469477,\n",
       "       -0.1126403 ,  0.33159743])"
      ]
     },
     "execution_count": 73,
     "metadata": {},
     "output_type": "execute_result"
    }
   ],
   "source": [
    "model['X_'][model['mask_']]"
   ]
  },
  {
   "cell_type": "code",
   "execution_count": 67,
   "id": "38b138be-36b4-4cac-aa5d-4d5f5677b0db",
   "metadata": {},
   "outputs": [],
   "source": [
    "def get_masked_rmse(original, recovered, mask = None):\n",
    "    if mask is None: mask = np.ones_like(original)\n",
    "    n = np.sum(mask)\n",
    "    mse = np.nansum(np.square((original - recovered) * mask)) / n\n",
    "    return np.sqrt(mse)"
   ]
  },
  {
   "cell_type": "code",
   "execution_count": 77,
   "id": "df8ae71c-07ee-4300-b17d-097f598f62ca",
   "metadata": {},
   "outputs": [
    {
     "data": {
      "text/plain": [
       "1.5584433818025651"
      ]
     },
     "execution_count": 77,
     "metadata": {},
     "output_type": "execute_result"
    }
   ],
   "source": [
    "get_masked_rmse(Ztrue, np.ones_like(Ztrue), Zmask)"
   ]
  },
  {
   "cell_type": "code",
   "execution_count": 78,
   "id": "90da6180-b2d2-44f1-b681-a4d3bd373134",
   "metadata": {},
   "outputs": [
    {
     "data": {
      "text/plain": [
       "1.195272107881818"
      ]
     },
     "execution_count": 78,
     "metadata": {},
     "output_type": "execute_result"
    }
   ],
   "source": [
    "get_masked_rmse(Ztrue, np.zeros_like(Ztrue), Zmask)"
   ]
  },
  {
   "cell_type": "code",
   "execution_count": 74,
   "id": "aa95c228-a8f4-4c29-93e8-3c0cd13bd7ea",
   "metadata": {},
   "outputs": [
    {
     "data": {
      "text/plain": [
       "1.1401398084902823"
      ]
     },
     "execution_count": 74,
     "metadata": {},
     "output_type": "execute_result"
    }
   ],
   "source": [
    "get_masked_rmse(Ztrue, model['X_'], Zmask)"
   ]
  },
  {
   "cell_type": "code",
   "execution_count": 75,
   "id": "8d1a3dd0-b61f-4c64-800f-2848d2f63ace",
   "metadata": {},
   "outputs": [
    {
     "data": {
      "text/plain": [
       "1.1384288245272913"
      ]
     },
     "execution_count": 75,
     "metadata": {},
     "output_type": "execute_result"
    }
   ],
   "source": [
    "get_masked_rmse(Ztrue, model['X_'], ~Zmask)"
   ]
  },
  {
   "cell_type": "code",
   "execution_count": 76,
   "id": "76714df1-0fe6-4ddf-94a6-8a098110dc41",
   "metadata": {},
   "outputs": [
    {
     "data": {
      "text/plain": [
       "1.6929665463055956"
      ]
     },
     "execution_count": 76,
     "metadata": {},
     "output_type": "execute_result"
    }
   ],
   "source": [
    "Zshuffle = Ztrue.copy()\n",
    "np.random.shuffle(Zshuffle)\n",
    "get_masked_rmse(Ztrue, Zshuffle)"
   ]
  },
  {
   "cell_type": "code",
   "execution_count": 71,
   "id": "309b6f6f-2307-4df1-a503-4de7cf3e1e15",
   "metadata": {},
   "outputs": [
    {
     "data": {
      "text/plain": [
       "array([[-0.00000000e+00, -0.00000000e+00, -0.00000000e+00, ...,\n",
       "        -1.78566264e-06,  0.00000000e+00,  1.18711646e-06],\n",
       "       [-4.65860387e-06, -0.00000000e+00, -6.04423556e-06, ...,\n",
       "        -0.00000000e+00,  0.00000000e+00,  0.00000000e+00],\n",
       "       [-1.99896368e-06, -1.85699379e-06, -0.00000000e+00, ...,\n",
       "        -0.00000000e+00,  0.00000000e+00,  0.00000000e+00],\n",
       "       ...,\n",
       "       [-0.00000000e+00, -0.00000000e+00, -0.00000000e+00, ...,\n",
       "        -0.00000000e+00,  0.00000000e+00,  0.00000000e+00],\n",
       "       [-0.00000000e+00, -0.00000000e+00, -0.00000000e+00, ...,\n",
       "        -0.00000000e+00,  0.00000000e+00,  0.00000000e+00],\n",
       "       [ 0.00000000e+00,  0.00000000e+00,  0.00000000e+00, ...,\n",
       "         0.00000000e+00, -0.00000000e+00, -0.00000000e+00]])"
      ]
     },
     "execution_count": 71,
     "metadata": {},
     "output_type": "execute_result"
    }
   ],
   "source": [
    "model['X_'] * Zmask"
   ]
  },
  {
   "cell_type": "code",
   "execution_count": 49,
   "id": "d5401931-424f-4765-85f6-5eddf6e0ddd5",
   "metadata": {},
   "outputs": [
    {
     "data": {
      "text/plain": [
       "array([[False, False, False, ...,  True, False,  True],\n",
       "       [ True, False,  True, ..., False, False, False],\n",
       "       [ True,  True, False, ..., False, False, False],\n",
       "       ...,\n",
       "       [False, False, False, ..., False, False, False],\n",
       "       [False, False, False, ..., False, False, False],\n",
       "       [False, False, False, ..., False, False, False]])"
      ]
     },
     "execution_count": 49,
     "metadata": {},
     "output_type": "execute_result"
    }
   ],
   "source": [
    "Zmask"
   ]
  },
  {
   "cell_type": "code",
   "execution_count": null,
   "id": "6e3205f1-1567-4432-b034-bd638a8b2260",
   "metadata": {},
   "outputs": [],
   "source": []
  },
  {
   "cell_type": "code",
   "execution_count": 6,
   "id": "357bb543-a305-42db-9a75-49e3f8fc033b",
   "metadata": {},
   "outputs": [],
   "source": [
    "from nnwmf.optimize import IALM\n",
    "from nnwmf.optimize import FrankWolfe, FrankWolfe_CV\n",
    "\n",
    "def do_center_nan(X, mask = None):\n",
    "    '''\n",
    "    X may contain NaN values.\n",
    "    If mask is not None, set mask to NaN.\n",
    "    '''\n",
    "    X_nan = X.copy()\n",
    "    if mask is not None:\n",
    "        X_nan[mask] = np.nan\n",
    "    X_mask = np.isnan(X_nan)\n",
    "    X_cent = X_nan - np.nanmean(X_nan, axis = 0, keepdims = True)\n",
    "    # X_cent = np.nan_to_num(X_cent, copy = True, nan = 0.0)\n",
    "    return X_cent, X_mask\n",
    "\n",
    "def nnm(Y, max_iter = 1000, mask = None):\n",
    "    Y_cent, Y_mask  = do_center_nan(Y, mask = mask)\n",
    "    nnmcv = FrankWolfe_CV(kfolds = 2, model = 'nnm')\n",
    "    nnmcv.fit(Y_nan)\n",
    "    rank = nnmcv._optimized_rank()\n",
    "    nnm = FrankWolfe(model = 'nnm', max_iter = max_iter, svd_max_iter = 50, show_progress = False, debug = False)\n",
    "    nnm.fit(Y_cent, rank, mask = mask)\n",
    "    nnm_dict = class_to_dict(nnm)\n",
    "    nnm_dict[\"train_error\"] = nnmcv.train_error_\n",
    "    nnm_dict[\"test_error\"] = nnmcv.test_error_\n",
    "    return nnm.X, nnm_dict"
   ]
  },
  {
   "cell_type": "code",
   "execution_count": 7,
   "id": "07e17754-95b4-4abd-9568-b933d128c62e",
   "metadata": {},
   "outputs": [],
   "source": [
    "Y_cent, Y_mask  = do_center_nan(Z, mask = Zmask)"
   ]
  },
  {
   "cell_type": "markdown",
   "id": "e3fbbda6-1035-492c-ad24-7b6bac09fc24",
   "metadata": {},
   "source": [
    "We do not want the CV to know the masked values. After training, we will compare the accuracy of predicting the masked values."
   ]
  },
  {
   "cell_type": "code",
   "execution_count": 8,
   "id": "83cef6c4-7f74-4e34-b0bd-9ecfe3e85e15",
   "metadata": {},
   "outputs": [
    {
     "data": {
      "text/plain": [
       "0.2"
      ]
     },
     "execution_count": 8,
     "metadata": {},
     "output_type": "execute_result"
    }
   ],
   "source": [
    "np.sum(Y_mask) / np.prod(Y_mask.shape)"
   ]
  },
  {
   "cell_type": "code",
   "execution_count": 9,
   "id": "d118d9e6-f697-4d25-bc8f-99cbf2a01744",
   "metadata": {},
   "outputs": [
    {
     "data": {
      "text/plain": [
       "True"
      ]
     },
     "execution_count": 9,
     "metadata": {},
     "output_type": "execute_result"
    }
   ],
   "source": [
    "np.allclose(Y_cent, Z, equal_nan = True)"
   ]
  },
  {
   "cell_type": "code",
   "execution_count": 10,
   "id": "904d7c6c-9191-4bfd-bd81-e685e91aa1cf",
   "metadata": {},
   "outputs": [],
   "source": [
    "nnmcv = FrankWolfe_CV(kfolds = 2, model = 'nnm', max_iter = 100)"
   ]
  },
  {
   "cell_type": "code",
   "execution_count": 11,
   "id": "d3cb5b76-680c-42b5-b576-b09f544f9198",
   "metadata": {},
   "outputs": [],
   "source": [
    "Y_cent_zero = np.nan_to_num(Y_cent, nan = 0.0)\n",
    "nucnormY = np.linalg.norm(Y_cent_zero, 'nuc')"
   ]
  },
  {
   "cell_type": "code",
   "execution_count": 12,
   "id": "921c960d-693a-4370-9b22-1d4e62ce3aee",
   "metadata": {},
   "outputs": [
    {
     "data": {
      "text/plain": [
       "432478.86445869633"
      ]
     },
     "execution_count": 12,
     "metadata": {},
     "output_type": "execute_result"
    }
   ],
   "source": [
    "nucnormY"
   ]
  },
  {
   "cell_type": "code",
   "execution_count": 13,
   "id": "0a8c38be-8eca-4509-a411-8a6c318f8e6f",
   "metadata": {},
   "outputs": [],
   "source": [
    "rseq = nnmcv._generate_rseq(nucnormY)"
   ]
  },
  {
   "cell_type": "code",
   "execution_count": 20,
   "id": "24d6feaa-b7c1-4a27-8cc2-c11a8e53f9e1",
   "metadata": {},
   "outputs": [],
   "source": [
    "nnmcv.fit(Y_cent[:100, :2000], rseq = rseq)"
   ]
  },
  {
   "cell_type": "code",
   "execution_count": 21,
   "id": "de95cb5f-6b0d-4eec-a88b-85d6bc6d07bf",
   "metadata": {},
   "outputs": [
    {
     "data": {
      "text/plain": [
       "<nnwmf.optimize.frankwolfe_cv.FrankWolfe_CV at 0x7faa8633e090>"
      ]
     },
     "execution_count": 21,
     "metadata": {},
     "output_type": "execute_result"
    }
   ],
   "source": [
    "nnmcv"
   ]
  },
  {
   "cell_type": "code",
   "execution_count": 22,
   "id": "e0190b63-eb7d-4254-8fcc-f758bcab7411",
   "metadata": {},
   "outputs": [],
   "source": [
    "property_list = [ x for x in vars(nnmcv).keys() if x not in [\"logger_\", \"nnm_\"] ]"
   ]
  },
  {
   "cell_type": "code",
   "execution_count": 23,
   "id": "871f756a-dd2d-4a6f-bcfc-78311b07fa23",
   "metadata": {},
   "outputs": [
    {
     "data": {
      "text/plain": [
       "['kfolds_',\n",
       " 'do_shuffle_',\n",
       " 'test_size_',\n",
       " 'return_fits_',\n",
       " 'do_chain_initialize_',\n",
       " 'do_reverse_path_',\n",
       " 'kwargs_',\n",
       " 'is_debug_',\n",
       " 'train_error_',\n",
       " 'test_error_',\n",
       " 'fold_labels_']"
      ]
     },
     "execution_count": 23,
     "metadata": {},
     "output_type": "execute_result"
    }
   ],
   "source": [
    "property_list"
   ]
  },
  {
   "cell_type": "code",
   "execution_count": 24,
   "id": "7ef77182-582a-4399-8fa4-9e5f9524d6c4",
   "metadata": {},
   "outputs": [
    {
     "data": {
      "text/plain": [
       "{1.0: [1.0230127342605657, 1.022351730725972],\n",
       " 2.0: [1.0224644841725752, 1.0218000255475013],\n",
       " 4.0: [1.0213982836003426, 1.0207255578515169],\n",
       " 8.0: [1.0193410384261383, 1.0186485976839488],\n",
       " 16.0: [1.0154624569574233, 1.0147930642536858],\n",
       " 32.0: [1.0081555538994766, 1.0075015574928594],\n",
       " 64.0: [0.9946049589353289, 0.9940010292114604],\n",
       " 128.0: [0.9693370402552203, 0.9686281683766891],\n",
       " 256.0: [0.923229476081756, 0.9223724136119501],\n",
       " 512.0: [0.8431255196164988, 0.8421861988768187],\n",
       " 1024.0: [0.7158642569610191, 0.714864360139593],\n",
       " 2048.0: [0.5401219187821557, 0.5392288475975265],\n",
       " 4096.0: [0.3396963457635498, 0.3388246789288757],\n",
       " 8192.0: [0.3182982560701147, 0.31960697103158603],\n",
       " 16384.0: [0.31565975520059864, 0.3170197509845071],\n",
       " 32768.0: [0.3128111690691166, 0.3141097106116839],\n",
       " 65536.0: [0.3097279195714216, 0.31107523201378673],\n",
       " 131072.0: [0.30673700154099715, 0.3080209891377426],\n",
       " 262144.0: [0.303657905385584, 0.30488513264113276],\n",
       " 524288.0: [0.3005838445204732, 0.30173514366304577]}"
      ]
     },
     "execution_count": 24,
     "metadata": {},
     "output_type": "execute_result"
    }
   ],
   "source": [
    "nnmcv.train_error_"
   ]
  },
  {
   "cell_type": "code",
   "execution_count": 25,
   "id": "7433721c-c25a-4e01-9432-66fc9edfd3a7",
   "metadata": {},
   "outputs": [
    {
     "data": {
      "text/plain": [
       "{1.0: [1.0226770367804123, 1.0233049898362747],\n",
       " 2.0: [1.0224379488173183, 1.02305329092544],\n",
       " 4.0: [1.0219864187996635, 1.0225529371158433],\n",
       " 8.0: [1.021098123143363, 1.0216468909517626],\n",
       " 16.0: [1.019688812440919, 1.0202453123890118],\n",
       " 32.0: [1.017565762894877, 1.0179647472164948],\n",
       " 64.0: [1.0148020028924771, 1.0151284948688857],\n",
       " 128.0: [1.0120328166082362, 1.0118761635993958],\n",
       " 256.0: [1.0087210277901801, 1.0080821880791744],\n",
       " 512.0: [1.006427288353525, 1.005055054008481],\n",
       " 1024.0: [1.0059670149417996, 1.003855751358362],\n",
       " 2048.0: [1.0065642399885821, 1.0047850631391877],\n",
       " 4096.0: [1.0059385586090575, 1.0042638948731373],\n",
       " 8192.0: [1.0068334283194753, 1.0045704902134889],\n",
       " 16384.0: [1.00700284341479, 1.004738126749744],\n",
       " 32768.0: [1.0070721683509762, 1.0048512798559956],\n",
       " 65536.0: [1.0071411345796781, 1.0049030793148739],\n",
       " 131072.0: [1.0072017065661, 1.0050226132923779],\n",
       " 262144.0: [1.007458652805853, 1.0052434076570862],\n",
       " 524288.0: [1.0077489647384095, 1.005297710649436]}"
      ]
     },
     "execution_count": 25,
     "metadata": {},
     "output_type": "execute_result"
    }
   ],
   "source": [
    "nnmcv.test_error_"
   ]
  },
  {
   "cell_type": "code",
   "execution_count": 34,
   "id": "d948687a-067b-4a99-84c9-6d90a650f80e",
   "metadata": {},
   "outputs": [
    {
     "data": {
      "text/plain": [
       "1024.0"
      ]
     },
     "execution_count": 34,
     "metadata": {},
     "output_type": "execute_result"
    }
   ],
   "source": [
    "nnmcv._optimized_rank()"
   ]
  },
  {
   "cell_type": "code",
   "execution_count": 27,
   "id": "70837788-db39-4c66-aa91-48b4a5b23bf6",
   "metadata": {},
   "outputs": [
    {
     "data": {
      "text/plain": [
       "(100, 2000)"
      ]
     },
     "execution_count": 27,
     "metadata": {},
     "output_type": "execute_result"
    }
   ],
   "source": [
    "nnmcv.fold_labels_.shape"
   ]
  },
  {
   "cell_type": "code",
   "execution_count": 28,
   "id": "94102c3a-b160-4ba1-b199-8bf246c2e3d2",
   "metadata": {},
   "outputs": [],
   "source": [
    "k = 0\n",
    "test_mask = nnmcv.fold_labels_ == k + 1\n",
    "Y_test  = nnmcv._generate_masked_input(Y_cent[:100, :2000], test_mask)\n",
    "Y_train = nnmcv._generate_masked_input(Y_cent[:100, :2000], ~test_mask)"
   ]
  },
  {
   "cell_type": "code",
   "execution_count": 29,
   "id": "1c66d216-6901-4db6-adfd-fb9326b84860",
   "metadata": {},
   "outputs": [
    {
     "data": {
      "text/plain": [
       "120205"
      ]
     },
     "execution_count": 29,
     "metadata": {},
     "output_type": "execute_result"
    }
   ],
   "source": [
    "np.sum(np.isnan(Y_test))"
   ]
  },
  {
   "cell_type": "code",
   "execution_count": 30,
   "id": "0334156f-a54e-4345-a41b-6a2994819fb8",
   "metadata": {},
   "outputs": [
    {
     "data": {
      "text/plain": [
       "119810"
      ]
     },
     "execution_count": 30,
     "metadata": {},
     "output_type": "execute_result"
    }
   ],
   "source": [
    "np.sum(np.isnan(Y_train))"
   ]
  },
  {
   "cell_type": "code",
   "execution_count": 31,
   "id": "48771833-fca9-45b5-80e2-b03a313ee384",
   "metadata": {},
   "outputs": [
    {
     "data": {
      "text/plain": [
       "array([[ 5.56978992e-05,  5.33634087e-04,  4.70633870e-04, ...,\n",
       "        -7.20409447e-05, -8.84159877e-05, -3.40204302e-04],\n",
       "       [ 3.21970668e-06,  3.08883050e-05,  2.73383332e-05, ...,\n",
       "        -4.25033691e-06, -5.24284694e-06, -1.97329412e-05],\n",
       "       [ 1.47032604e-05,  1.40785130e-04,  1.23962861e-04, ...,\n",
       "        -1.88386291e-05, -2.30656965e-05, -8.96686082e-05],\n",
       "       ...,\n",
       "       [-3.71035600e-05, -3.56364206e-04, -3.16380857e-04, ...,\n",
       "         4.98464624e-05,  6.17470754e-05,  2.28074692e-04],\n",
       "       [ 8.25397356e-05,  7.89707107e-04,  6.93876276e-04, ...,\n",
       "        -1.04449455e-04, -1.27481216e-04, -5.02356739e-04],\n",
       "       [-2.15238132e-04, -2.05968833e-03, -1.81063948e-03, ...,\n",
       "         2.73165200e-04,  3.33649058e-04,  1.31060891e-03]])"
      ]
     },
     "execution_count": 31,
     "metadata": {},
     "output_type": "execute_result"
    }
   ],
   "source": [
    "nnmcv.nnm_[1.0][0].X"
   ]
  },
  {
   "cell_type": "code",
   "execution_count": 32,
   "id": "c39579ed-588c-4224-a8c4-2bdabdd2e95c",
   "metadata": {},
   "outputs": [
    {
     "data": {
      "text/plain": [
       "25.251514871592754"
      ]
     },
     "execution_count": 32,
     "metadata": {},
     "output_type": "execute_result"
    }
   ],
   "source": [
    "from nnwmf.utils import model_errors as merr\n",
    "merr.get(Y_test, nnmcv.nnm_[1.0][0].X, method = 'psnr')"
   ]
  },
  {
   "cell_type": "code",
   "execution_count": null,
   "id": "b21ada54-04f1-44ea-86d2-64b84cd98945",
   "metadata": {},
   "outputs": [],
   "source": [
    "cvlmb, cvrmse = rpca_lambda_cv(Z, Zmask, Ztrue, max_iter = max_iter)\n",
    "_lmbopt = cvlmb[np.argmin(cvrmse)]\n",
    "X, M, model = rpca(Z, mask = Zmask, max_iter = max_iter, lmb = _lmbopt)"
   ]
  },
  {
   "cell_type": "code",
   "execution_count": 43,
   "id": "f32742ac-7d73-4dbb-8713-d9d1fa05d72d",
   "metadata": {},
   "outputs": [],
   "source": [
    "ncvseq = 2\n",
    "lmb_min = 0.5 / np.sqrt(np.max(Y_cent.shape))\n",
    "lmb_max = 1.0 / np.sqrt(np.min(Y_cent.shape))\n",
    "lmb_seq = np.logspace(np.log10(lmb_min), np.log10(lmb_max), ncvseq)\n",
    "rmse_seq = [0. for i in range(ncvseq)]"
   ]
  },
  {
   "cell_type": "code",
   "execution_count": 44,
   "id": "0566589d-6737-48a0-9221-1f42b27e0646",
   "metadata": {},
   "outputs": [
    {
     "data": {
      "text/plain": [
       "array([0.00220609, 0.02177002])"
      ]
     },
     "execution_count": 44,
     "metadata": {},
     "output_type": "execute_result"
    }
   ],
   "source": [
    "lmb_seq"
   ]
  },
  {
   "cell_type": "code",
   "execution_count": 46,
   "id": "063fd6df-5a05-46b3-a56f-4f4d83e8a1ed",
   "metadata": {},
   "outputs": [
    {
     "name": "stdout",
     "output_type": "stream",
     "text": [
      "2024-09-12 14:55:22,986 | nnwmf.optimize.inexact_alm               | DEBUG   | Fit RPCA using IALM (mu update admm, lamba = 0.0022)\n",
      "2024-09-12 14:55:53,004 | nnwmf.optimize.inexact_alm               | INFO    | Iteration 0. Primal residual 0.944597. Dual residual 0.000108596\n",
      "2024-09-12 14:57:03,872 | nnwmf.optimize.inexact_alm               | DEBUG   | Fit RPCA using IALM (mu update admm, lamba = 0.0218)\n",
      "2024-09-12 14:57:34,133 | nnwmf.optimize.inexact_alm               | INFO    | Iteration 0. Primal residual 0.975676. Dual residual 4.48568e-05\n"
     ]
    }
   ],
   "source": [
    "def get_masked_rmse(original, recovered, mask = None):\n",
    "    if mask is None: mask = np.ones_like(original)\n",
    "    n = np.sum(mask)\n",
    "    mse = np.nansum(np.square((original - recovered) * mask)) / n\n",
    "    return np.sqrt(mse)\n",
    "\n",
    "max_iter = 5\n",
    "Z_nan_zero = np.nan_to_num(Z, copy = True, nan = 0.0) \n",
    "for i in range(ncvseq):\n",
    "    model = IALM(max_iter = max_iter, mu_update_method='admm', show_progress = True, print_skip = 100)\n",
    "    model.fit(Z_nan_zero, mask = Zmask, lmb = lmb_seq[i])\n",
    "    rmse_seq[i] = get_masked_rmse(Ztrue, model.L_, mask = Zmask)"
   ]
  },
  {
   "cell_type": "code",
   "execution_count": 47,
   "id": "2a8b2121-5f1d-47bf-845f-82b79af1f1a5",
   "metadata": {},
   "outputs": [
    {
     "data": {
      "text/plain": [
       "[1.1688295974564777, 1.0243196057425614]"
      ]
     },
     "execution_count": 47,
     "metadata": {},
     "output_type": "execute_result"
    }
   ],
   "source": [
    "rmse_seq"
   ]
  },
  {
   "cell_type": "code",
   "execution_count": null,
   "id": "c14798f6-1073-4ba5-8418-a7fe9ff3871b",
   "metadata": {},
   "outputs": [],
   "source": []
  }
 ],
 "metadata": {
  "kernelspec": {
   "display_name": "Python 3 (ipykernel)",
   "language": "python",
   "name": "python3"
  },
  "language_info": {
   "codemirror_mode": {
    "name": "ipython",
    "version": 3
   },
   "file_extension": ".py",
   "mimetype": "text/x-python",
   "name": "python",
   "nbconvert_exporter": "python",
   "pygments_lexer": "ipython3",
   "version": "3.11.3"
  }
 },
 "nbformat": 4,
 "nbformat_minor": 5
}
