{
 "cells": [
  {
   "cell_type": "markdown",
   "id": "79be2919-054e-4a87-bc00-64e92c557d65",
   "metadata": {},
   "source": [
    "---\n",
    "title: \"Poster for ProbGen24, Vienna\"\n",
    "author: \"Saikat Banerjee\"\n",
    "format:\n",
    "  html: default\n",
    "date: \"2024-04-08\"\n",
    "file-modified: \"2024-04-08\"\n",
    "abstract: \"High quality plots used in the poster for ProbGen24, using NYGC color palette.\"\n",
    "\n",
    "---"
   ]
  },
  {
   "cell_type": "markdown",
   "id": "f61a3928-3d88-405b-a807-b40d2aca02a3",
   "metadata": {},
   "source": [
    "# Setup"
   ]
  },
  {
   "cell_type": "code",
   "execution_count": 1,
   "id": "bc4453a6-f734-487e-a6fa-b09bf88027a5",
   "metadata": {},
   "outputs": [],
   "source": [
    "import numpy as np\n",
    "import pandas as pd\n",
    "import pickle\n",
    "import sys\n",
    "import os\n",
    "import dsc\n",
    "from dsc.query_engine import Query_Processor as dscQP\n",
    "from dsc import dsc_io\n",
    "\n",
    "import matplotlib\n",
    "import matplotlib.pyplot as plt\n",
    "from pymir import mpl_stylesheet\n",
    "from pymir import mpl_utils"
   ]
  },
  {
   "cell_type": "code",
   "execution_count": 3,
   "id": "8f205396-fe1a-485f-ac04-a334e73afab9",
   "metadata": {},
   "outputs": [],
   "source": [
    "# NYGC Color Palette\n",
    "nygc_colors = {\n",
    "    'brown': '#7F0814',\n",
    "    'darkred': '#d42e12',\n",
    "    'orange': '#F37239',\n",
    "    'darkyellow': '#F79320',\n",
    "    'yellow': '#FFE438',\n",
    "    'darkblue': '#003059',\n",
    "    'blue': '#266DB6',\n",
    "    'lightblue': '#A3D5ED',\n",
    "    'darkgreen': '#006838',\n",
    "    'green': '#0A8A42',\n",
    "    'lightgreen': '#74B74A',\n",
    "    'yellowgreen': '#BAD75F',\n",
    "    'darkgray': '#1A1A1A',\n",
    "    'gray': '#666666',\n",
    "    'lightgray': '#CCCCCC',\n",
    "    'khaki': '#ADA194',\n",
    "    'darkkhaki': '#5E514D',\n",
    "}\n",
    "\n",
    "# Style sheet for NYGC poster\n",
    "mpl_stylesheet.banskt_presentation(dpi = 300, fontsize = 28, \n",
    "    splinecolor = nygc_colors['darkgray'], black = nygc_colors['darkgray'])"
   ]
  },
  {
   "cell_type": "code",
   "execution_count": null,
   "id": "6d1a242c-2f64-48f4-a018-dd914c2ae717",
   "metadata": {},
   "outputs": [],
   "source": []
  }
 ],
 "metadata": {
  "kernelspec": {
   "display_name": "Python 3 (ipykernel)",
   "language": "python",
   "name": "python3"
  },
  "language_info": {
   "codemirror_mode": {
    "name": "ipython",
    "version": 3
   },
   "file_extension": ".py",
   "mimetype": "text/x-python",
   "name": "python",
   "nbconvert_exporter": "python",
   "pygments_lexer": "ipython3",
   "version": "3.11.3"
  }
 },
 "nbformat": 4,
 "nbformat_minor": 5
}
