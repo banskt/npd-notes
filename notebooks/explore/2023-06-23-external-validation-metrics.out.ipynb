{
  "cells": [
    {
      "cell_type": "markdown",
      "metadata": {},
      "source": [
        "# Metrices for evaluating clusters given true labels\n",
        "\n",
        "Saikat Banerjee  \n",
        "2023-06-23\n",
        "\n",
        "We explore different external validation metrics to measure the quality\n",
        "of clustering results. These external indices measure the agreement\n",
        "between the predicted partition and the known partition.\n",
        "\n",
        "# About\n",
        "\n",
        "There are many aspects of “rightness” for clustering. Broadly, there are\n",
        "two kinds of validity indices to measure the quality of clustering\n",
        "results: external indices and internal indices. An external index is a\n",
        "measure of agreement between two partitions where the first partition is\n",
        "the a priori known clustering structure, and the second results from the\n",
        "clustering procedure. Internal indices are used to measure the goodness\n",
        "of a clustering structure without external information. For external\n",
        "indices, we evaluate the results of a clustering algorithm based on a\n",
        "known cluster structure of a data set (or cluster labels). Here, we look\n",
        "at several possible external validation metrics.\n",
        "\n",
        "# Getting set up"
      ],
      "id": "056206b5-d4fb-4a16-98cb-fd9e1833a197"
    },
    {
      "cell_type": "code",
      "execution_count": 2,
      "metadata": {},
      "outputs": [],
      "source": [
        "import numpy as np\n",
        "import pandas as pd\n",
        "\n",
        "from sklearn import model_selection as skmodel\n",
        "from sklearn import metrics as skmetrics\n",
        "\n",
        "import matplotlib.pyplot as plt\n",
        "from pymir import mpl_stylesheet\n",
        "from pymir import mpl_utils\n",
        "\n",
        "mpl_stylesheet.banskt_presentation(splinecolor = 'black', dpi = 120, colors = 'kelly')"
      ],
      "id": "9d3fdca5-edc5-4b1d-b13a-203143196f04"
    },
    {
      "cell_type": "code",
      "execution_count": 3,
      "metadata": {},
      "outputs": [],
      "source": [
        "data_dir = \"../data\"\n",
        "beta_df_filename   = f\"{data_dir}/beta_df.pkl\"\n",
        "prec_df_filename   = f\"{data_dir}/prec_df.pkl\"\n",
        "se_df_filename     = f\"{data_dir}/se_df.pkl\"\n",
        "zscore_df_filename = f\"{data_dir}/zscore_df.pkl\"\n",
        "\n",
        "'''\n",
        "Data Frames for beta, precision, standard error and zscore.\n",
        "'''\n",
        "\n",
        "beta_df   = pd.read_pickle(beta_df_filename)\n",
        "prec_df   = pd.read_pickle(prec_df_filename)\n",
        "se_df     = pd.read_pickle(se_df_filename)\n",
        "zscore_df = pd.read_pickle(zscore_df_filename)\n",
        "\n",
        "trait_df = pd.read_csv(f\"{data_dir}/trait_meta.csv\")\n",
        "phenotype_dict = trait_df.set_index('ID')['Broad'].to_dict()"
      ],
      "id": "852829c2-9cbb-425c-b51e-d8d0be584c45"
    },
    {
      "cell_type": "code",
      "execution_count": 4,
      "metadata": {},
      "outputs": [
        {
          "output_type": "stream",
          "name": "stdout",
          "text": [
            "We have 69 samples (phenotypes) and 10068 features (variants)"
          ]
        }
      ],
      "source": [
        "'''\n",
        "X matrix (n_samples x n_features) -- obtain from Z-scores\n",
        "'''\n",
        "select_ids = beta_df.columns\n",
        "X = np.array(zscore_df[select_ids]).T # contain NaN values\n",
        "colmeans = np.nanmean(X, axis = 0, keepdims = True)\n",
        "Xcent = X - colmeans # contain NaN values\n",
        "Xcent = np.nan_to_num(X, nan=0) # remove NaN values\n",
        "\n",
        "'''\n",
        "Y vector (n_samples) -- contain class labels\n",
        "'''\n",
        "\n",
        "labels = [phenotype_dict[x] for x in select_ids]\n",
        "unique_labels = list(set(labels))\n",
        "encoding = {x:i for i, x in enumerate(unique_labels)}\n",
        "Ylabels = np.array([encoding[x] for x in labels])\n",
        "\n",
        "print (f\"We have {Xcent.shape[0]} samples (phenotypes) and {Xcent.shape[1]} features (variants)\")"
      ],
      "id": "4be23156-8c52-457c-a46a-77005df90e78"
    },
    {
      "cell_type": "markdown",
      "metadata": {},
      "source": [
        "# Sample counts of input data"
      ],
      "id": "17017253-7b86-422e-bb6b-a997557ee1f6"
    },
    {
      "cell_type": "code",
      "execution_count": 5,
      "metadata": {},
      "outputs": [
        {
          "output_type": "stream",
          "name": "stdout",
          "text": [
            "Count   Phenotype\n",
            "-----   ---------\n",
            "7   Sleep\n",
            "3   SZ\n",
            "2   ASD\n",
            "2   Migraine\n",
            "2   ADHD\n",
            "1   OCD\n",
            "8   Depression\n",
            "2   Intel/education\n",
            "11  Epilepsy\n",
            "10  Other psych\n",
            "7   Cognition\n",
            "6   BD\n",
            "8   Neurodegenerative"
          ]
        }
      ],
      "source": [
        "sample_counts = {label : (Ylabels == idx).sum() for label, idx in encoding.items()}\n",
        "print (f\"Count   Phenotype\")\n",
        "print (f\"-----   ---------\")\n",
        "for phenotype, count in sample_counts.items():\n",
        "    print (f\"{count}\\t{phenotype}\")"
      ],
      "id": "3eac6035-5f24-4cab-bc97-4a97b8c7b5f9"
    },
    {
      "cell_type": "markdown",
      "metadata": {},
      "source": [
        "# Split into training and test data"
      ],
      "id": "840c4111-3ede-46c5-82ac-4e88b634ee42"
    },
    {
      "cell_type": "code",
      "execution_count": 6,
      "metadata": {},
      "outputs": [
        {
          "output_type": "stream",
          "name": "stdout",
          "text": [
            "Train   Test    Phenotype\n",
            "-----   ----    ---------\n",
            "7   0   Sleep\n",
            "2   1   SZ\n",
            "0   2   ASD\n",
            "1   1   Migraine\n",
            "1   1   ADHD\n",
            "0   1   OCD\n",
            "5   3   Depression\n",
            "1   1   Intel/education\n",
            "9   2   Epilepsy\n",
            "5   5   Other psych\n",
            "4   3   Cognition\n",
            "6   0   BD\n",
            "5   3   Neurodegenerative"
          ]
        }
      ],
      "source": [
        "from sklearn import model_selection as skmodel\n",
        "\n",
        "'''\n",
        "One-liner to split:\n",
        "# X_train, X_test, y_train, y_test = skmodel.train_test_split(X, Ylabels, test_size = 0.33)\n",
        "but it does not return the index for the training and test data,\n",
        "so I use a little more verbose solution\n",
        "'''\n",
        "itrain, itest = skmodel.train_test_split(np.arange(Ylabels.shape[0]), test_size = 0.33)\n",
        "X_train = X[itrain, :]\n",
        "X_test  = X[itest, :]\n",
        "y_train = Ylabels[itrain]\n",
        "y_test  = Ylabels[itest]\n",
        "\n",
        "print (f\"Train   Test    Phenotype\")\n",
        "print (f\"-----   ----    ---------\")\n",
        "for phenotype, idx in encoding.items():\n",
        "    train_count = np.sum(y_train == idx)\n",
        "    test_count  = np.sum(y_test  == idx)\n",
        "    print (f\"{train_count}\\t{test_count}\\t{phenotype}\")"
      ],
      "id": "51cf9fec-d1b3-4ad8-897f-2af463cfcf23"
    },
    {
      "cell_type": "markdown",
      "metadata": {},
      "source": [
        "# Clustering from distance matrix\n",
        "\n",
        "We want to cluster the samples based on the Euclidean distance between\n",
        "them, obtained from the feature matrix. There are hundreds of algorithms\n",
        "to choose from, for example: - Hierarchical clustering in it’s myriad of\n",
        "variants. Cut the dendrogram as desired, e.g., to get k clusters - PAM,\n",
        "the closest match to k-means on a distance matrix (minimizes the average\n",
        "distance from the cluster center) - Spectral clustering - DBSCAN -\n",
        "OPTICS - HDBSCAN\\* - Affinity Propagation\n",
        "\n",
        "Available Software in Python: -\n",
        "[pyclustering](https://pyclustering.github.io) for fast Python\n",
        "implementation of different algorithms. They have nice documentation and\n",
        "examples. -\n",
        "[sklearn.cluster](https://scikit-learn.org/stable/modules/clustering.html) -\n",
        "[HDBSCAN\\*](https://hdbscan.readthedocs.io/en/latest/index.html)\n",
        "provides a very nice documentation for comparing different algorithms\n",
        "(albeit a bit biased, highlighting their own strength). -\n",
        "[scipy.cluster](https://docs.scipy.org/doc/scipy/reference/cluster.html)\n",
        "provides the `hierarchy` module which has functions for hierarchical and\n",
        "agglomerative clustering."
      ],
      "id": "afaf64f2-ba10-4340-933b-99e9d7bac6a3"
    },
    {
      "cell_type": "code",
      "execution_count": 7,
      "metadata": {},
      "outputs": [],
      "source": [
        "distance_matrix = skmetrics.pairwise.pairwise_distances(Xcent, metric='euclidean')"
      ],
      "id": "7c0e83d9-444c-4349-b57e-2cb2c5dfb27a"
    },
    {
      "cell_type": "code",
      "execution_count": 9,
      "metadata": {},
      "outputs": [],
      "source": [
        "from sklearn.cluster import AgglomerativeClustering\n",
        "\n",
        "model = AgglomerativeClustering(n_clusters = len(unique_labels), linkage = 'average', metric = 'precomputed')\n",
        "Y_pred = model.fit_predict(distance_matrix)\n",
        "#km = KMeans(n_clusters = len(unique_labels), random_state = 0, n_init=\"auto\")\n",
        "#km.fit(Xcent)\n",
        "#Y_pred = km.labels_"
      ],
      "id": "250a814e-f74a-4179-9530-a9a9c7b26bf7"
    },
    {
      "cell_type": "code",
      "execution_count": 10,
      "metadata": {},
      "outputs": [],
      "source": [
        "Y_random = np.random.choice(len(unique_labels), size=Ylabels.shape[0], replace=True)"
      ],
      "id": "3a9c5f83-f818-4ea6-9843-e0e34859b8b7"
    },
    {
      "cell_type": "markdown",
      "metadata": {},
      "source": [
        "# Comparison Metrics\n",
        "\n",
        "We can use several external validation techniques to assess the quality\n",
        "or “correctness” of the clusters since we have manually assigned the\n",
        "cluster labels. For example, we can use adjusted rand index, adjusted\n",
        "mutual information, homogeneity/completeness/v-measure, Fowlkes-Mallows\n",
        "score.\n",
        "\n",
        "### Adjusted Rand Index"
      ],
      "id": "c90aa6ec-8d87-44a0-b649-44b695a2b34d"
    },
    {
      "cell_type": "code",
      "execution_count": 11,
      "metadata": {},
      "outputs": [
        {
          "output_type": "stream",
          "name": "stdout",
          "text": [
            "Random: -0.01573\n",
            "Predicted: 0.15229"
          ]
        }
      ],
      "source": [
        "print (f\"Random: {skmetrics.adjusted_rand_score(Ylabels, Y_random):.5f}\")\n",
        "print (f\"Predicted: {skmetrics.adjusted_rand_score(Ylabels, Y_pred):.5f}\")"
      ],
      "id": "cb8a8ece-0d35-4ac6-a14f-496f4fa405e1"
    },
    {
      "cell_type": "markdown",
      "metadata": {},
      "source": [
        "### Adjusted Mutual Information"
      ],
      "id": "e96afbc7-6c0a-490e-af85-194db0018904"
    },
    {
      "cell_type": "code",
      "execution_count": 12,
      "metadata": {},
      "outputs": [
        {
          "output_type": "stream",
          "name": "stdout",
          "text": [
            "Random: -0.02511\n",
            "Predicted: 0.36902"
          ]
        }
      ],
      "source": [
        "print (f\"Random: {skmetrics.adjusted_mutual_info_score(Ylabels, Y_random):.5f}\")\n",
        "print (f\"Predicted: {skmetrics.adjusted_mutual_info_score(Ylabels, Y_pred):.5f}\")"
      ],
      "id": "e45dc60a-0802-4c8b-870b-68b1b3336ee6"
    },
    {
      "cell_type": "markdown",
      "metadata": {},
      "source": [
        "### Homogeneity and V-measure\n",
        "\n",
        "Rosenberg and Hirschberg (2007) define the following two desirable\n",
        "objectives for any cluster assignment: - **homogeneity**: each cluster\n",
        "contains only members of a single class. - **completeness**: all members\n",
        "of a given class are assigned to the same cluster.\n",
        "\n",
        "We turn those concept as scores `homogeneity_score` and\n",
        "`completeness_score`. Both are bounded below by 0.0 and above by 1.0\n",
        "(higher is better). Their harmonic mean called V-measure is computed by\n",
        "`v_measure_score`.\n",
        "\n",
        "**Note.** `v_measure_score` is symmetric: it can be used to evaluate the\n",
        "agreement of two independent assignments on the same dataset. This is\n",
        "not the case for `completeness_score` and `homogeneity_score`: both are\n",
        "bound by the relationship:\n",
        "\n",
        "    homogeneity_score(a, b) == completeness_score(b, a)"
      ],
      "id": "be282f90-f31f-455c-93e0-6ff1b480c32b"
    },
    {
      "cell_type": "code",
      "execution_count": 13,
      "metadata": {},
      "outputs": [
        {
          "output_type": "stream",
          "name": "stdout",
          "text": [
            "        Homogeneity     Completeness    V-Measure\n",
            "Random:    0.36793  0.35036     0.35893\n",
            "Predicted: 0.47942  0.70042     0.56922"
          ]
        }
      ],
      "source": [
        "print (f\"        Homogeneity \\tCompleteness \\tV-Measure\")\n",
        "\n",
        "hcv_random = skmetrics.homogeneity_completeness_v_measure(Ylabels, Y_random)\n",
        "hcv_pred   = skmetrics.homogeneity_completeness_v_measure(Ylabels, Y_pred)\n",
        "\n",
        "print (\"Random:    \" + ' \\t'.join([f\"{x:.5f}\" for x in hcv_random]))\n",
        "print (\"Predicted: \" + ' \\t'.join([f\"{x:.5f}\" for x in hcv_pred]))"
      ],
      "id": "0c40857f-64d7-4554-926a-62276be0d1a6"
    },
    {
      "cell_type": "markdown",
      "metadata": {},
      "source": [
        "### Fowlkes-Mallows scores\n",
        "\n",
        "FMI is defined as the geometric mean of the pairwise precision and\n",
        "recall."
      ],
      "id": "5df0bdbd-935b-444f-81fb-bf7fcbfe1399"
    },
    {
      "cell_type": "code",
      "execution_count": 14,
      "metadata": {},
      "outputs": [
        {
          "output_type": "stream",
          "name": "stdout",
          "text": [
            "Random: 0.07035\n",
            "Random: 0.34056"
          ]
        }
      ],
      "source": [
        "print (f\"Random: {skmetrics.fowlkes_mallows_score(Ylabels, Y_random):.5f}\")\n",
        "print (f\"Random: {skmetrics.fowlkes_mallows_score(Ylabels, Y_pred):.5f}\")"
      ],
      "id": "55dd5ec8-cc43-4c21-93f6-d1e1806b2505"
    },
    {
      "cell_type": "markdown",
      "metadata": {},
      "source": [
        "# Does distance matrix from truncated SVD improve score?"
      ],
      "id": "fcebca60-f307-442a-ace0-997c324e2860"
    },
    {
      "cell_type": "code",
      "execution_count": 15,
      "metadata": {},
      "outputs": [
        {
          "output_type": "display_data",
          "metadata": {},
          "data": {
            "text/plain": [
              "0.3878603292380521"
            ]
          }
        }
      ],
      "source": [
        "K = 20\n",
        "\n",
        "U, S, Vt = np.linalg.svd(Xcent, full_matrices=False)\n",
        "pcomp_tsvd = U[:, :K] @ np.diag(S[:K])\n",
        "\n",
        "distance_matrix_tsvd = skmetrics.pairwise.pairwise_distances(pcomp_tsvd, metric='euclidean')\n",
        "\n",
        "model = AgglomerativeClustering(n_clusters = len(unique_labels), linkage = 'average', metric = 'precomputed')\n",
        "Y_pred_tsvd = model.fit_predict(distance_matrix_tsvd)\n",
        "\n",
        "skmetrics.adjusted_mutual_info_score(Ylabels, Y_pred_tsvd)"
      ],
      "id": "9a851488-83a8-4bba-a53c-f51dc06c7d75"
    },
    {
      "cell_type": "markdown",
      "metadata": {},
      "source": [
        "# Further Reading\n",
        "\n",
        "-   [Scikit: Clustering Performance\n",
        "    Evaluation](https://scikit-learn.org/stable/modules/clustering.html#clustering-performance-evaluation)\n",
        "-   [How to compare a clustering algorithm partition to a “ground\n",
        "    truth”?](https://stats.stackexchange.com/questions/260229)"
      ],
      "id": "87296a48-37ae-4371-8976-ac0990b75fee"
    }
  ],
  "nbformat": 4,
  "nbformat_minor": 5,
  "metadata": {
    "kernelspec": {
      "name": "python3",
      "display_name": "Python 3 (ipykernel)",
      "language": "python"
    },
    "language_info": {
      "name": "python",
      "codemirror_mode": {
        "name": "ipython",
        "version": "3"
      },
      "file_extension": ".py",
      "mimetype": "text/x-python",
      "nbconvert_exporter": "python",
      "pygments_lexer": "ipython3",
      "version": "3.11.3"
    }
  }
}