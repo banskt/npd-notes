{
 "cells": [
  {
   "cell_type": "markdown",
   "id": "bee5fe7b-50eb-4455-af0c-5ccdbfe671df",
   "metadata": {},
   "source": [
    "# About\n",
    "\n",
    "Comparison of different algorithms for projection on $\\ell_1$ ball.\n"
   ]
  },
  {
   "cell_type": "code",
   "execution_count": 1,
   "id": "8e350a2a-6022-4017-a755-44a930096346",
   "metadata": {},
   "outputs": [],
   "source": [
    "import numpy as np\n",
    "import pandas as pd\n",
    "\n",
    "import matplotlib.pyplot as plt\n",
    "from pymir import mpl_stylesheet\n",
    "from pymir import mpl_utils\n",
    "\n",
    "mpl_stylesheet.banskt_presentation(splinecolor = 'black', dpi = 120, colors = 'kelly')\n",
    "\n",
    "import sys\n",
    "sys.path.append(\"../utils/\")\n",
    "import histogram as mpy_histogram\n",
    "import simulate as mpy_simulate\n",
    "import plot_functions as mpy_plotfn"
   ]
  },
  {
   "cell_type": "code",
   "execution_count": 2,
   "id": "6dbb1889-cad3-4d66-9a3f-5871630e94c6",
   "metadata": {},
   "outputs": [],
   "source": [
    "v_orig = np.random.normal(0, 1, 10)"
   ]
  },
  {
   "cell_type": "code",
   "execution_count": 4,
   "id": "0235adc4-6427-43d8-87c9-de5a7f4940c0",
   "metadata": {},
   "outputs": [],
   "source": [
    "# def proj_l1ball_sort(y, a):\n",
    "#     if np.sum(y) == a and np.alltrue(y >= 0):\n",
    "#         return y\n",
    "#     yabs = np.abs(y)\n",
    "#     u = np.sort(yabs)[::-1]\n",
    "#     ukvals = (np.cumsum(u) - a) / np.arange(1, y.shape[0] + 1)\n",
    "#     K = np.max(np.where(ukvals < u))\n",
    "#     tau = ukvals[K]\n",
    "#     x = np.sign(y) * np.clip(yabs - tau, a_min=0, a_max=None)\n",
    "#     return x\n",
    "\n",
    "def proj_simplex_sort(y, a = 1.0):\n",
    "    if np.sum(y) == a and np.alltrue(y >= 0):\n",
    "        return y\n",
    "    u = np.sort(y)[::-1]\n",
    "    ukvals = (np.cumsum(u) - a) / np.arange(1, y.shape[0] + 1)\n",
    "    K = np.nonzero(ukvals < u)[0][-1]\n",
    "    tau = ukvals[K]\n",
    "    x = np.clip(y - tau, a_min=0, a_max=None)\n",
    "    return x\n",
    "\n",
    "def proj_l1ball_sort(y, a = 1.0):\n",
    "    return np.sign(y) * proj_simplex_sort(np.abs(y), a = a)\n",
    "\n",
    "def l1_norm(x):\n",
    "    return np.sum(np.abs(x))"
   ]
  },
  {
   "cell_type": "code",
   "execution_count": 5,
   "id": "17b8c89b-d2f6-40d0-984e-c4eb12e55a0e",
   "metadata": {},
   "outputs": [
    {
     "data": {
      "text/plain": [
       "1.0"
      ]
     },
     "execution_count": 5,
     "metadata": {},
     "output_type": "execute_result"
    }
   ],
   "source": [
    "l1_norm(proj_l1ball_sort(v_orig, 1.0))"
   ]
  },
  {
   "cell_type": "code",
   "execution_count": 6,
   "id": "678dd456-4a24-4198-afcb-5aa85382fcf1",
   "metadata": {},
   "outputs": [
    {
     "data": {
      "text/plain": [
       "7.817970379144475"
      ]
     },
     "execution_count": 6,
     "metadata": {},
     "output_type": "execute_result"
    }
   ],
   "source": [
    "l1_norm(v_orig)"
   ]
  },
  {
   "cell_type": "code",
   "execution_count": 7,
   "id": "e67ad275-1bc8-4e65-80e4-ba94c49da801",
   "metadata": {},
   "outputs": [
    {
     "data": {
      "text/plain": [
       "array([-0.00168506, -0.        ,  0.        ,  0.        ,  0.        ,\n",
       "       -0.        ,  0.        ,  0.        ,  0.        ,  0.99831494])"
      ]
     },
     "execution_count": 7,
     "metadata": {},
     "output_type": "execute_result"
    }
   ],
   "source": [
    "proj_l1ball_sort(v_orig, 1.0)"
   ]
  },
  {
   "cell_type": "code",
   "execution_count": 9,
   "id": "73469991-c772-4ef1-b1a4-68ffa675b146",
   "metadata": {},
   "outputs": [
    {
     "data": {
      "text/plain": [
       "array([-0.00168506, -0.        ,  0.        ,  0.        ,  0.        ,\n",
       "       -0.        ,  0.        ,  0.        ,  0.        ,  0.99831494])"
      ]
     },
     "execution_count": 9,
     "metadata": {},
     "output_type": "execute_result"
    }
   ],
   "source": [
    "def proj_simplex_michelot(y, a = 1.0):\n",
    "    auxv = y.copy()\n",
    "    N = y.shape[0]\n",
    "    rho = (np.sum(y) - a) / N\n",
    "    istep = 0\n",
    "    vnorm_last = l1_norm(auxv)\n",
    "    while True:\n",
    "        istep += 1\n",
    "        allowed = auxv > rho\n",
    "        auxv = auxv[allowed]\n",
    "        nv = np.sum(allowed)\n",
    "        vnorm = l1_norm(auxv)\n",
    "        if vnorm == vnorm_last:\n",
    "            break\n",
    "        rho = (np.sum(auxv) - a) / nv\n",
    "        vnorm_last = vnorm\n",
    "    x = np.clip(y - rho, a_min = 0, a_max = None)\n",
    "    return x\n",
    "    \n",
    "def proj_l1_michelot(y, a = 1.0):\n",
    "    return np.sign(y) * proj_simplex_michelot(np.abs(y), a)\n",
    "\n",
    "proj_l1_michelot(v_orig)"
   ]
  },
  {
   "cell_type": "code",
   "execution_count": 10,
   "id": "54d4f115-b4c8-441e-b879-2956f521be0a",
   "metadata": {},
   "outputs": [
    {
     "data": {
      "text/plain": [
       "array([-0.00168506, -0.        ,  0.        ,  0.        ,  0.        ,\n",
       "       -0.        ,  0.        ,  0.        ,  0.        ,  0.99831494])"
      ]
     },
     "execution_count": 10,
     "metadata": {},
     "output_type": "execute_result"
    }
   ],
   "source": [
    "def proj_simplex_condat(y, a = 1.0):\n",
    "    auxv = np.array([y[0]])\n",
    "    vtilde = np.array([])\n",
    "    rho = y[0] - a\n",
    "    N = y.shape[0]\n",
    "    # Step 2\n",
    "    for i in range(1, N):\n",
    "        if y[i] > rho:\n",
    "            rho += (y[i] - rho) / (auxv.shape[0] + 1)\n",
    "            if rho > (y[i] - a):\n",
    "                auxv = np.append(auxv, y[i])\n",
    "            else:\n",
    "                vtilde = np.append(vtilde, auxv)\n",
    "                auxv = np.array([y[i]])\n",
    "                rho = y[i] - a\n",
    "    # Step 3\n",
    "    if vtilde.shape[0] > 0:\n",
    "        for v in vtilde:\n",
    "            if v > rho:\n",
    "                auxv = np.append(auxv, v)\n",
    "                rho += (v - rho) / (auxv.shape[0])                \n",
    "    # Step 4\n",
    "    nv_last = auxv.shape[0]\n",
    "    istep = 0\n",
    "    while True:\n",
    "        istep += 1\n",
    "        to_remove = list()\n",
    "        nv_ = auxv.shape[0]\n",
    "        for i, v in enumerate(auxv):\n",
    "            if v <= rho:\n",
    "                to_remove.append(i)\n",
    "                nv_ = nv_ - 1\n",
    "                rho += (rho - v) / nv_\n",
    "        auxv = np.delete(auxv, to_remove)\n",
    "        nv = auxv.shape[0]\n",
    "        assert nv == nv_\n",
    "        if nv == nv_last:\n",
    "            break\n",
    "        nv_last = nv\n",
    "    # Step 5\n",
    "    x = np.clip(y - rho, a_min=0, a_max=None)\n",
    "    return x\n",
    "\n",
    "def proj_l1_condat(y, a = 1.0):\n",
    "    return np.sign(y) * proj_simplex_condat(np.abs(y), a)\n",
    "\n",
    "proj_l1_condat(v_orig)"
   ]
  },
  {
   "cell_type": "code",
   "execution_count": 11,
   "id": "f67e8eb3-790f-4eb9-829a-faa709b2cea5",
   "metadata": {},
   "outputs": [
    {
     "name": "stdout",
     "output_type": "stream",
     "text": [
      "84.8 µs ± 2.24 µs per loop (mean ± std. dev. of 7 runs, 10,000 loops each)\n"
     ]
    }
   ],
   "source": [
    "%%timeit\n",
    "\n",
    "proj_l1_condat(v_orig)"
   ]
  },
  {
   "cell_type": "code",
   "execution_count": 12,
   "id": "5425b1fb-590a-4a82-975d-5668199a5a7f",
   "metadata": {},
   "outputs": [
    {
     "name": "stdout",
     "output_type": "stream",
     "text": [
      "56.4 µs ± 1.21 µs per loop (mean ± std. dev. of 7 runs, 10,000 loops each)\n"
     ]
    }
   ],
   "source": [
    "%%timeit\n",
    "proj_l1ball_sort(v_orig)"
   ]
  },
  {
   "cell_type": "code",
   "execution_count": 13,
   "id": "63015e5e-b76b-4923-bca5-fd9aa19339f8",
   "metadata": {},
   "outputs": [],
   "source": [
    "v_orig2 = np.random.normal(0, 1, 100000)"
   ]
  },
  {
   "cell_type": "code",
   "execution_count": 14,
   "id": "0d499368-641c-4678-8317-b7b45cb8b962",
   "metadata": {},
   "outputs": [
    {
     "name": "stdout",
     "output_type": "stream",
     "text": [
      "29.1 ms ± 0 ns per loop (mean ± std. dev. of 1 run, 1 loop each)\n"
     ]
    }
   ],
   "source": [
    "%%timeit -n 1 -r 1\n",
    "proj_l1_condat(v_orig2)"
   ]
  },
  {
   "cell_type": "code",
   "execution_count": 15,
   "id": "389fcb12-5c78-4817-8c20-f0a724b1617f",
   "metadata": {},
   "outputs": [
    {
     "name": "stdout",
     "output_type": "stream",
     "text": [
      "12.6 ms ± 0 ns per loop (mean ± std. dev. of 1 run, 1 loop each)\n"
     ]
    }
   ],
   "source": [
    "%%timeit -n 1 -r 1\n",
    "proj_l1ball_sort(v_orig2)"
   ]
  },
  {
   "cell_type": "code",
   "execution_count": null,
   "id": "e166a454-aab6-4ae5-a92b-ff2977bf4f48",
   "metadata": {},
   "outputs": [],
   "source": []
  }
 ],
 "metadata": {
  "kernelspec": {
   "display_name": "Python 3 (ipykernel)",
   "language": "python",
   "name": "python3"
  },
  "language_info": {
   "codemirror_mode": {
    "name": "ipython",
    "version": 3
   },
   "file_extension": ".py",
   "mimetype": "text/x-python",
   "name": "python",
   "nbconvert_exporter": "python",
   "pygments_lexer": "ipython3",
   "version": "3.11.3"
  }
 },
 "nbformat": 4,
 "nbformat_minor": 5
}
